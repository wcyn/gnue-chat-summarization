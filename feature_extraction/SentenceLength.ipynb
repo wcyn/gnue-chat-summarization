{
 "cells": [
  {
   "cell_type": "markdown",
   "metadata": {},
   "source": [
    "## Obtain Sentence Length in terms of words\n",
    "\n",
    "For each chat message, calculate the number of words, disregarding any group of characters made up of only punctuation marks. eg. emojis and lone question marks"
   ]
  },
  {
   "cell_type": "code",
   "execution_count": 21,
   "metadata": {},
   "outputs": [],
   "source": [
    "import gzip\n",
    "import string\n",
    "\n",
    "from os.path import join"
   ]
  },
  {
   "cell_type": "code",
   "execution_count": 19,
   "metadata": {},
   "outputs": [],
   "source": [
    "PUNCTUATION_SET = set(string.punctuation)\n",
    "CHAT_LOG_FILE = \"gnue_irc_chat_logs.tsv.gz\"\n",
    "OUTPUT_DIR = \"feature_outputs\""
   ]
  },
  {
   "cell_type": "code",
   "execution_count": 10,
   "metadata": {},
   "outputs": [],
   "source": [
    "def get_sentence_length(sentence):\n",
    "    word_count = 0\n",
    "    for word in sentence.split():\n",
    "        if not all(char in PUNCTUATION_SET for char in word):\n",
    "            word_count += 1\n",
    "    return word_count"
   ]
  },
  {
   "cell_type": "code",
   "execution_count": 14,
   "metadata": {},
   "outputs": [
    {
     "data": {
      "text/plain": [
       "10"
      ]
     },
     "execution_count": 14,
     "metadata": {},
     "output_type": "execute_result"
    }
   ],
   "source": [
    "get_sentence_length('though this is about gnu enterprise - :) (a project within gnu)')"
   ]
  },
  {
   "cell_type": "code",
   "execution_count": 23,
   "metadata": {},
   "outputs": [],
   "source": [
    "def generate_chat_word_counts(input_file, output_directory, output_file):\n",
    "    with gzip.open(input_file, 'r') as chat_file, open(join(output_directory, output_file), 'w') as out_file:\n",
    "        for i, chat_line in enumerate(chat_file):\n",
    "            count = get_sentence_length(chat_line)\n",
    "            out_file.write(\"{}\\n\".format(count))\n",
    "            # if i >= 20:\n",
    "            #    break"
   ]
  },
  {
   "cell_type": "code",
   "execution_count": 25,
   "metadata": {},
   "outputs": [],
   "source": [
    "### CAREFUL WITH THIS. Might erase existing data file\n",
    "# generate_chat_word_counts(CHAT_LOG_FILE, OUTPUT_DIR, \"chat_word_counts.txt\")"
   ]
  },
  {
   "cell_type": "code",
   "execution_count": null,
   "metadata": {},
   "outputs": [],
   "source": []
  }
 ],
 "metadata": {
  "kernelspec": {
   "display_name": "Python 3",
   "language": "python",
   "name": "python3"
  },
  "language_info": {
   "codemirror_mode": {
    "name": "ipython",
    "version": 3
   },
   "file_extension": ".py",
   "mimetype": "text/x-python",
   "name": "python",
   "nbconvert_exporter": "python",
   "pygments_lexer": "ipython3",
   "version": "3.7.2"
  }
 },
 "nbformat": 4,
 "nbformat_minor": 2
}
