{
 "cells": [
  {
   "cell_type": "markdown",
   "metadata": {},
   "source": [
    "## Obtain Sentence Length in terms of words\n",
    "\n",
    "For each chat message, calculate the number of words, disregarding any group of characters made up of only punctuation marks. eg. emojis and lone question marks"
   ]
  },
  {
   "cell_type": "code",
   "execution_count": 73,
   "metadata": {},
   "outputs": [],
   "source": [
    "import gzip\n",
    "import string\n",
    "\n",
    "from os.path import join"
   ]
  },
  {
   "cell_type": "code",
   "execution_count": 75,
   "metadata": {},
   "outputs": [],
   "source": [
    "PUNCTUATION_SET = set(string.punctuation)\n",
    "CHAT_LOG_FILE = \"gnue_irc_chat_logs.tsv.gz\"\n",
    "SUMMARIZED_CHAT_LOG_FILE = \"summarized_chat_logs.csv.gz\"\n",
    "OUTPUT_DIR = \"feature_outputs\""
   ]
  },
  {
   "cell_type": "code",
   "execution_count": 76,
   "metadata": {},
   "outputs": [],
   "source": [
    "def strip_leading_and_trailing_punctuation(word):\n",
    "    return word.strip(string.punctuation)"
   ]
  },
  {
   "cell_type": "code",
   "execution_count": 77,
   "metadata": {},
   "outputs": [],
   "source": [
    "def all_chars_in_word_are_punctuation(word):\n",
    "    return all(char in PUNCTUATION_SET for char in word)"
   ]
  },
  {
   "cell_type": "code",
   "execution_count": 78,
   "metadata": {},
   "outputs": [],
   "source": [
    "def get_sentence_length(sentence):\n",
    "    sentence = sentence.decode('utf-8')\n",
    "    word_count = 0\n",
    "    for word in sentence.split():\n",
    "        if not all_chars_in_word_are_punctuation(word):\n",
    "            word = strip_leading_and_trailing_punctuation(word)\n",
    "            if ',' in word:\n",
    "                words = word.split(',')\n",
    "                for word in words:\n",
    "                    if not all_chars_in_word_are_punctuation(word):\n",
    "                        word_count += 1\n",
    "            else:\n",
    "                word_count += 1\n",
    "    return word_count"
   ]
  },
  {
   "cell_type": "code",
   "execution_count": 79,
   "metadata": {},
   "outputs": [
    {
     "data": {
      "text/plain": [
       "10"
      ]
     },
     "execution_count": 79,
     "metadata": {},
     "output_type": "execute_result"
    }
   ],
   "source": [
    "get_sentence_length(b'though this is,about gnu enterprise - :) (a project within gnu)')"
   ]
  },
  {
   "cell_type": "code",
   "execution_count": 80,
   "metadata": {},
   "outputs": [],
   "source": [
    "def generate_chat_word_counts(input_file, output_directory, output_file):\n",
    "    with gzip.open(input_file, 'r') as chat_file, open(join(output_directory, output_file), 'w') as out_file:\n",
    "        for i, chat_line in enumerate(chat_file):\n",
    "            count = get_sentence_length(chat_line)\n",
    "            out_file.write(\"{}\\n\".format(count))\n",
    "            # if i >= 20:\n",
    "            #    break"
   ]
  },
  {
   "cell_type": "code",
   "execution_count": 81,
   "metadata": {},
   "outputs": [],
   "source": [
    "### CAREFUL WITH THIS. Might erase existing data file\n",
    "generate_chat_word_counts(CHAT_LOG_FILE, OUTPUT_DIR + \"/all_chat_outputs\", \"chat_word_counts.txt\")"
   ]
  },
  {
   "cell_type": "code",
   "execution_count": null,
   "metadata": {},
   "outputs": [],
   "source": []
  }
 ],
 "metadata": {
  "kernelspec": {
   "display_name": "Python 3",
   "language": "python",
   "name": "python3"
  },
  "language_info": {
   "codemirror_mode": {
    "name": "ipython",
    "version": 3
   },
   "file_extension": ".py",
   "mimetype": "text/x-python",
   "name": "python",
   "nbconvert_exporter": "python",
   "pygments_lexer": "ipython3",
   "version": "3.7.2"
  }
 },
 "nbformat": 4,
 "nbformat_minor": 2
}
