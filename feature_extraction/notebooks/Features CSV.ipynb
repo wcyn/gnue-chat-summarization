{
 "cells": [
  {
   "cell_type": "markdown",
   "metadata": {},
   "source": [
    "# Features CSV\n",
    "\n",
    "This Notebook concatenates all the generated feature files into a single CSV that can be trained. The columns to be included are:\n",
    "\n",
    "- Sentence Vector\n",
    "- Absolute Sentence Position\n",
    "- Sentence Length\n",
    "- Number of Special Terms\n",
    "- Sentiment Score\n",
    "- Mean TF-IDF\n",
    "- Mean TF-ISF\n",
    "\n",
    "All the files provided should contain equal number of line numbers ie. data records. As for the current GNUe chat dataset, that is `659165` records."
   ]
  },
  {
   "cell_type": "code",
   "execution_count": null,
   "metadata": {},
   "outputs": [],
   "source": [
    "def create_features_csv(\n",
    "    absolute_sentence_position_filename,\n",
    "    sentence_length_filename,\n",
    "    number_of_special_terms_filename,\n",
    "    sentiment_score_filename,\n",
    "    mean_tf_idf_filename,\n",
    "    mean_tf_isf_filename,\n",
    "    sentence_vector_file=None\n",
    "):\n",
    "    with open(\n",
    "        absolute_sentence_position_filename) as absolute_sentence_position_file, open(\n",
    "        sentence_length_filename) as sentence_length_file, open(\n",
    "        number_of_special_terms_filename) as number_of_special_terms_file, open(\n",
    "        sentiment_score_filename) as sentiment_score_file, open(\n",
    "        mean_tf_idf_filename) as mean_tf_idf_file, open(\n",
    "        mean_tf_isf_filename) as mean_tf_isf_file:\n",
    "        \n",
    "        "
   ]
  }
 ],
 "metadata": {
  "kernelspec": {
   "display_name": "Python 3",
   "language": "python",
   "name": "python3"
  },
  "language_info": {
   "codemirror_mode": {
    "name": "ipython",
    "version": 3
   },
   "file_extension": ".py",
   "mimetype": "text/x-python",
   "name": "python",
   "nbconvert_exporter": "python",
   "pygments_lexer": "ipython3",
   "version": "3.7.2"
  }
 },
 "nbformat": 4,
 "nbformat_minor": 2
}
