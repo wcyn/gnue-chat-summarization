{
 "cells": [
  {
   "cell_type": "markdown",
   "metadata": {},
   "source": [
    "## Obtain Sentence Length in terms of words\n",
    "\n",
    "For each chat message, calculate the number of words, disregarding any group of characters made up of only punctuation marks. eg. emojis and lone question marks"
   ]
  },
  {
   "cell_type": "code",
   "execution_count": 1,
   "metadata": {},
   "outputs": [],
   "source": [
    "import gzip\n",
    "import string\n",
    "\n",
    "from os.path import join"
   ]
  },
  {
   "cell_type": "code",
   "execution_count": 8,
   "metadata": {},
   "outputs": [],
   "source": [
    "PUNCTUATION_SET = set(string.punctuation)\n",
    "CHAT_LOG_FILE = join(\"..\", \"data_files\", \"gnue_irc_chat_logs_preprocessed.txt.gz\")\n",
    "FEATURE_OUTPUT_DIR = join(\"..\", \"feature_outputs\")"
   ]
  },
  {
   "cell_type": "code",
   "execution_count": 3,
   "metadata": {},
   "outputs": [],
   "source": [
    "def strip_leading_and_trailing_punctuation(word):\n",
    "    return word.strip(string.punctuation)"
   ]
  },
  {
   "cell_type": "code",
   "execution_count": 4,
   "metadata": {},
   "outputs": [],
   "source": [
    "def all_chars_in_word_are_punctuation(word):\n",
    "    return all(char in PUNCTUATION_SET for char in word)"
   ]
  },
  {
   "cell_type": "code",
   "execution_count": 5,
   "metadata": {},
   "outputs": [],
   "source": [
    "def get_sentence_length(sentence):\n",
    "    sentence = sentence.decode('utf-8')\n",
    "    word_count = 0\n",
    "    for word in sentence.split():\n",
    "        if not all_chars_in_word_are_punctuation(word):\n",
    "            word = strip_leading_and_trailing_punctuation(word)\n",
    "            if ',' in word:\n",
    "                words = word.split(',')\n",
    "                for word in words:\n",
    "                    if not all_chars_in_word_are_punctuation(word):\n",
    "                        word_count += 1\n",
    "            else:\n",
    "                word_count += 1\n",
    "    return word_count"
   ]
  },
  {
   "cell_type": "code",
   "execution_count": 6,
   "metadata": {},
   "outputs": [
    {
     "data": {
      "text/plain": [
       "10"
      ]
     },
     "execution_count": 6,
     "metadata": {},
     "output_type": "execute_result"
    }
   ],
   "source": [
    "get_sentence_length(b'though this is,about gnu enterprise - :) (a project within gnu)')"
   ]
  },
  {
   "cell_type": "code",
   "execution_count": 9,
   "metadata": {},
   "outputs": [],
   "source": [
    "def generate_sentence_word_counts(input_file, output_directory, output_file):\n",
    "    with gzip.open(input_file, 'r') as chat_file, open(join(output_directory, output_file), 'w') as out_file:\n",
    "        for i, chat_line in enumerate(chat_file):\n",
    "            count = get_sentence_length(chat_line)\n",
    "            out_file.write(\"{}\\n\".format(count))\n",
    "            # if i >= 20:\n",
    "            #    break"
   ]
  },
  {
   "cell_type": "code",
   "execution_count": 10,
   "metadata": {},
   "outputs": [],
   "source": [
    "### CAREFUL WITH THIS. Might erase existing data file\n",
    "generate_sentence_word_counts(CHAT_LOG_FILE, FEATURE_OUTPUT_DIR, \"sentence_word_counts.txt\")"
   ]
  },
  {
   "cell_type": "code",
   "execution_count": null,
   "metadata": {},
   "outputs": [],
   "source": []
  }
 ],
 "metadata": {
  "kernelspec": {
   "display_name": "Python 3",
   "language": "python",
   "name": "python3"
  },
  "language_info": {
   "codemirror_mode": {
    "name": "ipython",
    "version": 3
   },
   "file_extension": ".py",
   "mimetype": "text/x-python",
   "name": "python",
   "nbconvert_exporter": "python",
   "pygments_lexer": "ipython3",
   "version": "3.6.8"
  }
 },
 "nbformat": 4,
 "nbformat_minor": 2
}
