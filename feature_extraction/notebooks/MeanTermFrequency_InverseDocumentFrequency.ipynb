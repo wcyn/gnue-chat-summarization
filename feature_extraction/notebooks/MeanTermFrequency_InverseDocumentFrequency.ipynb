{
 "cells": [
  {
   "cell_type": "markdown",
   "metadata": {},
   "source": [
    "# Mean Term Frequency Inverse Document Frequency (Mean TF-IDF) and Mean Term Frequency Inverse Sentence Feature (Mean TF-ISF)\n",
    "\n",
    "## 1. Mean Term Frequency Inverse Document Frequency (Mean TF-IDF)\n",
    "\n",
    "### Mean TF-IDF\n",
    "\n",
    "[TF-IDF Site](http://www.tfidf.com/)\n",
    "\n",
    "Tf-idf stands for term frequency-inverse document frequency, and the tf-idf weight is a weight often used in information retrieval and text mining. This weight is a statistical measure used to evaluate how important a word is to a document in a collection or corpus. The importance increases proportionally to the number of times a word appears in the document but is offset by the frequency of the word in the corpus.\n",
    "\n",
    "The tf-idf weight is composed by two terms:\n",
    "\n",
    "#### 1. Term Frequency (TF)\n",
    "This measures how frequently a term occurs in a document. It is the number of times a word appears in a document, divided by the total number of words in that document.\n",
    "```\n",
    "TF(t) = (Number of times term t appears in a document) / (Total number of terms in the document)\n",
    "```\n",
    "\n",
    "The term frequency of a word can be normalized by dividing it with the largest corresponding value among all the sentences in the conversation ie. the word with the highest term frequency (TF) in the document\n",
    "\n",
    "#### 2.  Inverse Document Frequency (IDF)\n",
    "This measures how important a term is. It is computed as the logarithm of the number of the documents in the corpus divided by the number of documents where the specific term appears. Certain terms, such as \"is\", \"of\", and \"that\", may appear a lot of times but have little importance. Thus we need to weigh down the frequent terms while scale up the rare ones, by computing the following: \n",
    "```\n",
    "IDF(t) = log_e(Total number of documents / Number of documents with term t in it)\n",
    "```\n",
    "\n",
    "\n",
    "### Example\n",
    "\n",
    "Consider a document containing `100` words wherein the word cat appears `3` times. The term frequency (i.e., tf) for cat is then `(3 / 100) = 0.03`. Now, assume we have `10 million` documents and the word cat appears in `one thousand` of these. Then, the inverse document frequency (i.e., idf) is calculated as `log(10,000,000 / 1,000) = 4`.\n",
    "\n",
    "#### 3 TF-IDF\n",
    "Tf-idf weight is the product of these quantities:  `0.03 * 4 = 0.12.`\n",
    "```\n",
    "TF-IDF(t) = TF(t) * IDF(t)\n",
    "```\n",
    "\n",
    "\n",
    "In the current use case of conversations, conversations are partitioned by day. Each day conversation is therefore considered a single document. Thus, if we have 27 days of chat messages, we have 27 documents.\n",
    "\n",
    "**The Mean TF-IDF is calculated as the mean of the tf-idf values of all the words present in the sentence.**\n"
   ]
  },
  {
   "cell_type": "code",
   "execution_count": 77,
   "metadata": {},
   "outputs": [],
   "source": [
    "import gzip\n",
    "import json\n",
    "import math\n",
    "import string\n",
    "\n",
    "from os.path import join"
   ]
  },
  {
   "cell_type": "code",
   "execution_count": 38,
   "metadata": {},
   "outputs": [],
   "source": [
    "PUNCTUATION_SET = set(string.punctuation)\n",
    "CHAT_LOG_FILE = join(\"..\", \"data_files\", \"gnue_irc_chat_logs_preprocessed_words_only.txt.gz\")\n",
    "FEATURE_OUTPUT_DIR = join(\"..\", \"feature_outputs\")\n",
    "DATA_OUTPUT_DIR = join(\"..\", \"data_files\")\n",
    "CHAT_DATE_PARTITIONS_FILE = join(\"..\", \"data_files\",\"chat_date_partitions.csv\")\n",
    "WORD_FREQUENCIES = {}\n",
    "WORD_COUNT = 0\n",
    "DOCUMENT_WORD_COUNTS = {\n",
    "    \"last_tallied_document\": None,\n",
    "    \"total_number_of_documents\": 0,\n",
    "    \"word_counts\": {} \n",
    "}\n",
    "MAX_WORD_FREQUENCY_PER_DOCUMENT = {}"
   ]
  },
  {
   "cell_type": "code",
   "execution_count": 39,
   "metadata": {},
   "outputs": [],
   "source": [
    "def strip_leading_and_trailing_punctuation(word):\n",
    "    return word.strip(string.punctuation) "
   ]
  },
  {
   "cell_type": "code",
   "execution_count": 40,
   "metadata": {},
   "outputs": [],
   "source": [
    "def update_word_frequency_and_count(word, current_document_number, document_id=None):\n",
    "    if not document_id:\n",
    "        document_id = current_document_number\n",
    "        \n",
    "    if word not in WORD_FREQUENCIES:\n",
    "        WORD_FREQUENCIES[word] = {\n",
    "            \"total_frequency\": 1,\n",
    "            \"containing_document_count\": 1,\n",
    "            \"last_containing_document\": current_document_number,\n",
    "            \"document_frequencies\": {\n",
    "                    document_id: 1\n",
    "                }\n",
    "            }\n",
    "    else:\n",
    "        WORD_FREQUENCIES[word][\"total_frequency\"] += 1\n",
    "        if WORD_FREQUENCIES[word][\"last_containing_document\"] < current_document_number:\n",
    "            WORD_FREQUENCIES[word][\"containing_document_count\"] += 1\n",
    "            WORD_FREQUENCIES[word][\"last_containing_document\"] = current_document_number\n",
    "            WORD_FREQUENCIES[word][\"document_frequencies\"][document_id] = 1\n",
    "        elif WORD_FREQUENCIES[word][\"last_containing_document\"] == current_document_number:\n",
    "            WORD_FREQUENCIES[word][\"document_frequencies\"][document_id] += 1\n",
    "        else:\n",
    "            raise Exception(\"Last document is more recent than the current document\")\n",
    "            \n",
    "    global WORD_COUNT \n",
    "    global DOCUMENT_WORD_COUNTS\n",
    "    global MAX_WORD_FREQUENCY_PER_DOCUMENT\n",
    "    \n",
    "    WORD_COUNT += 1\n",
    "    if DOCUMENT_WORD_COUNTS[\"last_tallied_document\"] != document_id:\n",
    "        DOCUMENT_WORD_COUNTS[\"last_tallied_document\"] = document_id\n",
    "        DOCUMENT_WORD_COUNTS[\"total_number_of_documents\"] += 1\n",
    "        DOCUMENT_WORD_COUNTS[\"word_counts\"][document_id] = 1\n",
    "        MAX_WORD_FREQUENCY_PER_DOCUMENT[document_id] = (\n",
    "            WORD_FREQUENCIES[word][\"document_frequencies\"][document_id], word\n",
    "        )\n",
    "    else:\n",
    "        DOCUMENT_WORD_COUNTS[\"word_counts\"][document_id] += 1\n",
    "        MAX_WORD_FREQUENCY_PER_DOCUMENT[document_id] = max(\n",
    "            MAX_WORD_FREQUENCY_PER_DOCUMENT[document_id], \n",
    "            (WORD_FREQUENCIES[word][\"document_frequencies\"][document_id], word)\n",
    "        )\n",
    "        "
   ]
  },
  {
   "cell_type": "code",
   "execution_count": 41,
   "metadata": {},
   "outputs": [],
   "source": [
    "def all_chars_in_word_are_punctuation(word):\n",
    "    return all(char in PUNCTUATION_SET for char in word)"
   ]
  },
  {
   "cell_type": "code",
   "execution_count": 42,
   "metadata": {},
   "outputs": [],
   "source": [
    "def get_words_in_sentence(sentence):\n",
    "    words = []\n",
    "    for word in sentence.split():\n",
    "        if not all_chars_in_word_are_punctuation(word):\n",
    "            word = strip_leading_and_trailing_punctuation(word)\n",
    "            if ',' in word:\n",
    "                comma_split_words = word.split(',')\n",
    "                for word in comma_split_words:\n",
    "                    if not all_chars_in_word_are_punctuation(word):\n",
    "                        words.append(word)\n",
    "            else:\n",
    "                words.append(word)\n",
    "    return words\n",
    "    "
   ]
  },
  {
   "cell_type": "code",
   "execution_count": 43,
   "metadata": {},
   "outputs": [],
   "source": [
    "def pre_process_sentence(sentence):\n",
    "    if not sentence:\n",
    "        print(\"No words here\")\n",
    "    if type(sentence) is not str:\n",
    "        try:\n",
    "            sentence = sentence.decode('utf-8')\n",
    "        except Exception:\n",
    "            raise ValueError(\"Input must be a String or ByteString\")\n",
    "        \n",
    "    return sentence\n",
    "    "
   ]
  },
  {
   "cell_type": "code",
   "execution_count": 44,
   "metadata": {},
   "outputs": [],
   "source": [
    "sentence1 = pre_process_sentence(b\"Hello,there. Ju,.,.'',,,,,,,,,st there,checking-in checking-in.\")\n",
    "for word in get_words_in_sentence(sentence1):\n",
    "    update_word_frequency_and_count(word, 1)\n",
    "\n",
    "sentence2 = pre_process_sentence(b\"Hello everyone else. there, else, else, checking-in,else there,with y'all\")\n",
    "for word in get_words_in_sentence(sentence2):\n",
    "    update_word_frequency_and_count(word, 2)\n",
    "\n",
    "expected_word_counts = {\n",
    "    'last_tallied_document': 2,\n",
    "    'total_number_of_documents': 2,\n",
    "    'word_counts': {1: 7, 2: 11}\n",
    "}\n",
    "\n",
    "assert DOCUMENT_WORD_COUNTS == expected_word_counts\n",
    "assert MAX_WORD_FREQUENCY_PER_DOCUMENT == {1: (2, 'there'), 2: (4, 'else')}"
   ]
  },
  {
   "cell_type": "code",
   "execution_count": 45,
   "metadata": {},
   "outputs": [
    {
     "data": {
      "text/plain": [
       "{'last_tallied_document': 2,\n",
       " 'total_number_of_documents': 2,\n",
       " 'word_counts': {1: 7, 2: 11}}"
      ]
     },
     "execution_count": 45,
     "metadata": {},
     "output_type": "execute_result"
    }
   ],
   "source": [
    "DOCUMENT_WORD_COUNTS"
   ]
  },
  {
   "cell_type": "code",
   "execution_count": 46,
   "metadata": {},
   "outputs": [
    {
     "data": {
      "text/plain": [
       "{1: (2, 'there'), 2: (4, 'else')}"
      ]
     },
     "execution_count": 46,
     "metadata": {},
     "output_type": "execute_result"
    }
   ],
   "source": [
    "MAX_WORD_FREQUENCY_PER_DOCUMENT"
   ]
  },
  {
   "cell_type": "code",
   "execution_count": 47,
   "metadata": {},
   "outputs": [],
   "source": [
    "# WORD_FREQUENCIES"
   ]
  },
  {
   "cell_type": "code",
   "execution_count": 48,
   "metadata": {},
   "outputs": [
    {
     "data": {
      "text/plain": [
       "18"
      ]
     },
     "execution_count": 48,
     "metadata": {},
     "output_type": "execute_result"
    }
   ],
   "source": [
    "WORD_COUNT"
   ]
  },
  {
   "cell_type": "code",
   "execution_count": 49,
   "metadata": {},
   "outputs": [],
   "source": [
    "def generate_document_word_frequencies(\n",
    "    date_partitions_file, \n",
    "    input_file, \n",
    "    output_directory, \n",
    "    output_file, \n",
    "    document_word_counts_file=None\n",
    "):\n",
    "    data_output_file = join(output_directory, output_file)\n",
    "    with open(date_partitions_file, 'r') as chat_partitions, gzip.open(input_file, 'r') as chat_file, open(data_output_file, 'w') as out_file:\n",
    "        csv_row = chat_partitions.readline()\n",
    "        total_chats_in_document = int(csv_row.rstrip().split(',')[2])\n",
    "        document_number = 1\n",
    "        document_id = csv_row.rstrip().split(',')[1]\n",
    "        chat_line_count = 0\n",
    "        total_chat_lines_in_all_documents = 0\n",
    "        for i, chat_line in enumerate(chat_file):\n",
    "            sentence = pre_process_sentence(chat_line)\n",
    "            for word in get_words_in_sentence(sentence):\n",
    "                update_word_frequency_and_count(word, document_number, document_id)\n",
    "            chat_line_count += 1\n",
    "            if chat_line_count >= total_chats_in_document:\n",
    "                total_chat_lines_in_all_documents += chat_line_count\n",
    "                csv_row = chat_partitions.readline()\n",
    "                if not csv_row:\n",
    "                    print(i)\n",
    "                    print(total_chat_lines_in_all_documents)\n",
    "                    assert i+1 == total_chat_lines_in_all_documents\n",
    "                    assert chat_line_count == total_chats_in_document\n",
    "                    break\n",
    "                    \n",
    "                # reset the chat_line_count\n",
    "                chat_line_count = 0\n",
    "                document_number += 1\n",
    "                document_id = csv_row.rstrip().split(',')[1]\n",
    "                total_chats_in_document = int(csv_row.rstrip().split(',')[2])\n",
    "        global WORD_COUNT\n",
    "        global MAX_WORD_FREQUENCY_PER_DOCUMENT\n",
    "        \n",
    "        frequency_data = {\n",
    "            \"total_word_count\": WORD_COUNT,\n",
    "            \"max_word_frequency_per_document\": MAX_WORD_FREQUENCY_PER_DOCUMENT,\n",
    "            \"word_frequencies\": WORD_FREQUENCIES\n",
    "        }\n",
    "        print(document_number)\n",
    "        print(chat_line_count)\n",
    "        json.dump(frequency_data, out_file)\n",
    "        if document_word_counts_file:\n",
    "            with open(join(output_directory, document_word_counts_file), \"w\") as doc_word_counts_file:\n",
    "                json.dump(DOCUMENT_WORD_COUNTS, doc_word_counts_file)\n",
    "        \n",
    "        "
   ]
  },
  {
   "cell_type": "code",
   "execution_count": 50,
   "metadata": {},
   "outputs": [
    {
     "name": "stdout",
     "output_type": "stream",
     "text": [
      "659164\n",
      "659165\n",
      "1784\n",
      "337\n"
     ]
    }
   ],
   "source": [
    "# BE SURE TO RESET WORD_COUNT, WORD_FREQUENCIES and DOCUMENT_WORD_COUNTS BEFORE RUNNING THIS!\n",
    "WORD_COUNT = 0\n",
    "WORD_FREQUENCIES = {}\n",
    "DOCUMENT_WORD_COUNTS = {\n",
    "    \"last_tallied_document\": None,\n",
    "    \"total_number_of_documents\": 0,\n",
    "    \"word_counts\": {}\n",
    "    \n",
    "}\n",
    "MAX_WORD_FREQUENCY_PER_DOCUMENT = {}\n",
    "\n",
    "date_partitions_file = CHAT_DATE_PARTITIONS_FILE \n",
    "input_file = CHAT_LOG_FILE \n",
    "output_directory = DATA_OUTPUT_DIR \n",
    "output_file = \"chat_word_frequencies.json\"\n",
    "document_word_counts_file = \"document_word_counts.json\"\n",
    "\n",
    "generate_document_word_frequencies(\n",
    "    date_partitions_file, \n",
    "    input_file, \n",
    "    output_directory, \n",
    "    output_file, \n",
    "    document_word_counts_file\n",
    ")\n",
    "\n"
   ]
  },
  {
   "cell_type": "code",
   "execution_count": 51,
   "metadata": {},
   "outputs": [],
   "source": [
    "# WORD_FREQUENCIES"
   ]
  },
  {
   "cell_type": "code",
   "execution_count": 52,
   "metadata": {},
   "outputs": [
    {
     "data": {
      "text/plain": [
       "4311154"
      ]
     },
     "execution_count": 52,
     "metadata": {},
     "output_type": "execute_result"
    }
   ],
   "source": [
    "WORD_COUNT"
   ]
  },
  {
   "cell_type": "code",
   "execution_count": 53,
   "metadata": {},
   "outputs": [],
   "source": [
    "def get_term_frequency(word_frequency_in_set, total_number_of_terms_in_set):\n",
    "    return word_frequency_in_set / total_number_of_terms_in_set\n"
   ]
  },
  {
   "cell_type": "code",
   "execution_count": 54,
   "metadata": {},
   "outputs": [],
   "source": [
    "def get_normalized_term_frequency(\n",
    "        word_frequency_in_set, \n",
    "        total_number_of_terms_in_set,\n",
    "        largest_tf_in_set\n",
    "    ):\n",
    "    return (word_frequency_in_set / total_number_of_terms_in_set) / largest_tf_in_set\n"
   ]
  },
  {
   "cell_type": "code",
   "execution_count": 55,
   "metadata": {},
   "outputs": [],
   "source": [
    "def get_inverse_set_frequency(total_number_of_sets, number_of_sets_with_word):\n",
    "    return math.log(total_number_of_sets / number_of_sets_with_word, 10)\n",
    "    "
   ]
  },
  {
   "cell_type": "code",
   "execution_count": 56,
   "metadata": {},
   "outputs": [],
   "source": [
    "def load_chat_date_word_counts(chat_word_counts_filename):\n",
    "    with open(chat_word_counts_filename) as word_count_file:\n",
    "        chat_word_counts = json.loads(word_count_file.readline().rstrip())\n",
    "    return chat_word_counts\n",
    "    "
   ]
  },
  {
   "cell_type": "code",
   "execution_count": 57,
   "metadata": {},
   "outputs": [
    {
     "data": {
      "text/plain": [
       "2693"
      ]
     },
     "execution_count": 57,
     "metadata": {},
     "output_type": "execute_result"
    }
   ],
   "source": [
    "load_chat_date_word_counts(join(DATA_OUTPUT_DIR, \"document_word_counts.json\"))['word_counts']['2003-03-17']"
   ]
  },
  {
   "cell_type": "code",
   "execution_count": 58,
   "metadata": {},
   "outputs": [],
   "source": [
    "def load_chat_word_frequencies(chat_word_frequencies_filename):\n",
    "    with open(chat_word_frequencies_filename) as chat_word_frequencies_file:\n",
    "        chat_word_frequencies = json.loads(chat_word_frequencies_file.readline().rstrip())\n",
    "    return chat_word_frequencies\n",
    "    "
   ]
  },
  {
   "cell_type": "code",
   "execution_count": 59,
   "metadata": {},
   "outputs": [
    {
     "data": {
      "text/plain": [
       "4311154"
      ]
     },
     "execution_count": 59,
     "metadata": {},
     "output_type": "execute_result"
    }
   ],
   "source": [
    "load_chat_word_frequencies(join(DATA_OUTPUT_DIR, \"chat_word_frequencies.json\"))[\"total_word_count\"]"
   ]
  },
  {
   "cell_type": "code",
   "execution_count": 60,
   "metadata": {},
   "outputs": [],
   "source": [
    "def get_word_tf_idf_or_tf_isf(word_frequency_in_document, \n",
    "                    total_number_of_terms_in_document,\n",
    "                    total_number_of_documents,\n",
    "                    number_of_documents_with_word\n",
    "                   ):\n",
    "    term_frequency = get_term_frequency(word_frequency_in_document, total_number_of_terms_in_document)\n",
    "    inverse_set_frequency = get_inverse_set_frequency(total_number_of_documents, number_of_documents_with_word)\n",
    "    return  term_frequency * inverse_set_frequency\n",
    "    "
   ]
  },
  {
   "cell_type": "code",
   "execution_count": 61,
   "metadata": {},
   "outputs": [
    {
     "data": {
      "text/plain": [
       "0.12"
      ]
     },
     "execution_count": 61,
     "metadata": {},
     "output_type": "execute_result"
    }
   ],
   "source": [
    "get_word_tf_idf_or_tf_isf(3, 100, 10000000, 1000)"
   ]
  },
  {
   "cell_type": "code",
   "execution_count": 62,
   "metadata": {},
   "outputs": [],
   "source": [
    "def generate_mean_tf_idf(date_partitions_file, \n",
    "                         input_file,\n",
    "                         output_directory, \n",
    "                         output_file,\n",
    "                         chat_date_word_counts, \n",
    "                         chat_word_frequencies,\n",
    "                         word_tf_idfs_output_filename\n",
    "                        ):\n",
    "    data_output_file = join(output_directory, output_file)\n",
    "    with open(\n",
    "        date_partitions_file, \"r\") as chat_partitions, gzip.open(\n",
    "        input_file, \"r\") as chat_file, open(\n",
    "        data_output_file, \"w\") as out_file, open(\n",
    "        word_tf_idfs_output_filename, \"w\") as word_tf_idfs_output_file:\n",
    "        \n",
    "        csv_row = chat_partitions.readline()\n",
    "        total_number_of_documents = chat_date_word_counts[\"total_number_of_documents\"]\n",
    "        document_id = csv_row.rstrip().split(',')[1]\n",
    "        total_chats_in_document = int(csv_row.rstrip().split(',')[2])\n",
    "        total_number_of_terms_in_document = chat_date_word_counts[\"word_counts\"][document_id]\n",
    "        total_chat_lines_in_all_documents = 0\n",
    "        chat_line_count = 0\n",
    "        \n",
    "        for i, sentence in enumerate(chat_file):\n",
    "            sentence = pre_process_sentence(sentence)\n",
    "            words_in_sentence = get_words_in_sentence(sentence)\n",
    "            total_word_tf_idf = 0\n",
    "            if len(words_in_sentence) < 1:\n",
    "                word_tf_idfs_output_file.write(\"0\")\n",
    "            for word in words_in_sentence:\n",
    "                word_frequency_in_document = chat_word_frequencies[\"word_frequencies\"][word][\"document_frequencies\"][document_id]\n",
    "                number_of_documents_with_word = chat_word_frequencies[\"word_frequencies\"][word][\"containing_document_count\"]\n",
    "                word_tf_idf = get_word_tf_idf_or_tf_isf(\n",
    "                    word_frequency_in_document, \n",
    "                    total_number_of_terms_in_document,\n",
    "                    total_number_of_documents,\n",
    "                    number_of_documents_with_word\n",
    "                )\n",
    "                word_tf_idfs_output_file.write(\"{} \".format(word_tf_idf))\n",
    "                total_word_tf_idf += word_tf_idf\n",
    "            if total_word_tf_idf:\n",
    "                mean_tf_idf = total_word_tf_idf / len(words_in_sentence)\n",
    "            else:\n",
    "                mean_tf_idf = 0\n",
    "            out_file.write(\"{}\\n\".format(mean_tf_idf))\n",
    "            word_tf_idfs_output_file.write(\"\\n\")\n",
    "            \n",
    "            # if i >= 20:\n",
    "            #     break\n",
    "            \n",
    "            chat_line_count += 1\n",
    "            if chat_line_count >= total_chats_in_document:\n",
    "                total_chat_lines_in_all_documents += chat_line_count\n",
    "                csv_row = chat_partitions.readline()\n",
    "                if not csv_row:\n",
    "                    print(i)\n",
    "                    print(total_chat_lines_in_all_documents)\n",
    "                    assert i+1 == total_chat_lines_in_all_documents\n",
    "                    assert chat_line_count == total_chats_in_document\n",
    "                    break \n",
    "                    \n",
    "                # Reset values and move on to the next document\n",
    "                chat_line_count = 0\n",
    "                document_id = csv_row.rstrip().split(',')[1]\n",
    "                total_chats_in_document = int(csv_row.rstrip().split(',')[2])\n",
    "\n",
    "    "
   ]
  },
  {
   "cell_type": "code",
   "execution_count": 63,
   "metadata": {},
   "outputs": [
    {
     "name": "stdout",
     "output_type": "stream",
     "text": [
      "659164\n",
      "659165\n"
     ]
    }
   ],
   "source": [
    "chat_date_word_counts = load_chat_date_word_counts(join(DATA_OUTPUT_DIR,\"document_word_counts.json\"))\n",
    "chat_word_frequencies = load_chat_word_frequencies(join(DATA_OUTPUT_DIR, \"chat_word_frequencies.json\"))\n",
    "word_tf_idfs_output_filename = join(DATA_OUTPUT_DIR, \"word_tf_idfs.txt\")\n",
    "generate_mean_tf_idf(\n",
    "    CHAT_DATE_PARTITIONS_FILE, \n",
    "    CHAT_LOG_FILE, \n",
    "    FEATURE_OUTPUT_DIR,  \n",
    "    \"chats_mean_tf_idf.txt\",\n",
    "    chat_date_word_counts, \n",
    "    chat_word_frequencies,\n",
    "    word_tf_idfs_output_filename\n",
    ")"
   ]
  },
  {
   "cell_type": "code",
   "execution_count": 64,
   "metadata": {},
   "outputs": [],
   "source": [
    "def normalize_mean_tf_idf(mean_tf_idf_file, output_directory, normalized_output_file):\n",
    "    with open(mean_tf_idf_file) as tf_idf_file, \\\n",
    "        open(join(output_directory, normalized_output_file), \"w\") as output_file:\n",
    "        max_tf_idf = float('-inf')\n",
    "        for tf_idf in tf_idf_file:\n",
    "            max_tf_idf = max(max_tf_idf, float(tf_idf.strip()))\n",
    "            \n",
    "        tf_idf_file.seek(0) # Back to the beginning of the file\n",
    "        for tf_idf in tf_idf_file:\n",
    "            output_file.write(\"{}\\n\".format(float(tf_idf.strip())/max_tf_idf))\n",
    "    "
   ]
  },
  {
   "cell_type": "code",
   "execution_count": 65,
   "metadata": {},
   "outputs": [],
   "source": [
    "output_directory = FEATURE_OUTPUT_DIR\n",
    "mean_tf_idf_file = join(output_directory, \"chats_mean_tf_idf.txt\")\n",
    "normalized_output_file = \"normalized_chats_mean_tf_idf.txt\"\n",
    "normalize_mean_tf_idf(\n",
    "    mean_tf_idf_file, \n",
    "    output_directory, \n",
    "    normalized_output_file\n",
    ")"
   ]
  },
  {
   "attachments": {
    "image.png": {
     "image/png": "[encoded data removed]"
    }
   },
   "cell_type": "markdown",
   "metadata": {},
   "source": [
    "## 2. Mean Term Frequency Inverse Sentence Feature (Mean TF-ISF)\n",
    "Citation: [A Recursive TF-ISF Based Sentence Retrieval Method with\n",
    "Local Context ](https://pdfs.semanticscholar.org/8084/1022243b8f09703ebd0fffa97bacd5e48a06.pdf)\n",
    "\n",
    "Sentence retrieval is the task of finding relevant sentences from a document base in response to a query.\n",
    "\n",
    "The vector space model for sentence retrieval uses the term frequency - **Inverse Sentence Frequency** method **(TF-ISF)** which is analogous to the traditional term frequency – **Inverse Document Frequency** method **(TF-IDF)** used for document retrieval. When it comes to the language model approach for sentence retrieval at first it was implemented as a trivial adaptation from document retrieval to sentence retrieval, with sentences treated as documents.\n",
    "\n",
    "This feature also captures the frequency but takes into consideration only one conversation at a time. The frequency of a word is characterized as:\n",
    "```\n",
    "Term Frequency * Inverse Sentence Frequency\n",
    "```\n",
    "\n",
    "This feature is calculated as the mean value of the tf-isf of all the words present in the sentence. This value can be normalized by dividing it with the largest corresponding value among all the words in the sentence.\n",
    "\n",
    "If `SF(t, d)` represents the sentence frequency of a term `t` in document `d`, and `Sd`, the number of\n",
    "sentences in document `d`, then the inverse sentence frequency, `isf(t, d)`, is given by:\n",
    "![image.png](attachment:image.png)\n"
   ]
  },
  {
   "cell_type": "code",
   "execution_count": 66,
   "metadata": {},
   "outputs": [],
   "source": [
    "def get_word_frequecies_in_sentence(sentence):\n",
    "    sentence = pre_process_sentence(sentence)\n",
    "    sentence_word_frequencies = {}\n",
    "    words_in_sentence = get_words_in_sentence(sentence)\n",
    "    for word in words_in_sentence:\n",
    "        if word in sentence_word_frequencies:\n",
    "            sentence_word_frequencies[word] += 1\n",
    "        else:\n",
    "            sentence_word_frequencies[word] = 1\n",
    "        \n",
    "    return sentence_word_frequencies, len(words_in_sentence)\n",
    "        "
   ]
  },
  {
   "cell_type": "code",
   "execution_count": 67,
   "metadata": {},
   "outputs": [
    {
     "data": {
      "text/plain": [
       "{'Testing': 1,\n",
       " 'the': 1,\n",
       " 'word': 2,\n",
       " 'frequencies': 1,\n",
       " 'in': 1,\n",
       " 'this': 1,\n",
       " 'sentence': 1}"
      ]
     },
     "execution_count": 67,
     "metadata": {},
     "output_type": "execute_result"
    }
   ],
   "source": [
    "sentence3 = \"Testing, the word, frequencies ,,, in this. sentence. word\"\n",
    "word_frequencies, sentence_length = get_word_frequecies_in_sentence(sentence3)\n",
    "assert word_frequencies == {\n",
    "    'Testing': 1,\n",
    "    'the': 1,\n",
    "    'word': 2,\n",
    "    'frequencies': 1,\n",
    "    'in': 1,\n",
    "    'this': 1,\n",
    "    'sentence': 1\n",
    "}\n",
    "assert sentence_length == 8\n",
    "word_frequencies\n"
   ]
  },
  {
   "cell_type": "code",
   "execution_count": 68,
   "metadata": {},
   "outputs": [],
   "source": [
    "## GET RID OF THIS. NOT BEING USED\n",
    "\n",
    "# def get_mean_sentence_term_frequency(\n",
    "#     sentence, \n",
    "#     normalized_term_frequency=False, \n",
    "#     max_mean_sentence_term_frequency=None\n",
    "# ):\n",
    "#     word_frequncies_in_sentence, sentence_length = get_word_frequecies_in_sentence(sentence)\n",
    "#     word_frequency_values = word_frequncies_in_sentence.values()\n",
    "#     if normalized_term_frequency:\n",
    "#         if not max_mean_sentence_term_frequency:\n",
    "#             raise ValueError(\"Max mean sentence TF must be provided to obtain normalized Mean Sentence TF\")\n",
    "#         sentence_term_frequencies = [\n",
    "#             get_normalized_term_frequency(\n",
    "#                 frequency, \n",
    "#                 sentence_length, \n",
    "#                 max_mean_sentence_term_frequency\n",
    "#             ) \n",
    "#             for frequency in word_frequency_values\n",
    "#         ]\n",
    "#     else:\n",
    "#         sentence_term_frequencies = [\n",
    "#             get_term_frequency(frequency, sentence_length) for frequency in word_frequency_values]\n",
    "#     mean_sentence_term_frequency =  sum(sentence_term_frequencies) / sentence_length\n",
    "#     return mean_sentence_term_frequency"
   ]
  },
  {
   "cell_type": "code",
   "execution_count": 69,
   "metadata": {},
   "outputs": [],
   "source": [
    "# mean_sentence_term_frequency = get_mean_sentence_term_frequency(sentence3)\n",
    "# normalized_mean_sentence_term_frequency = get_mean_sentence_term_frequency(sentence3, True, 0.34)\n",
    "# print(normalized_mean_sentence_term_frequency)\n",
    "# assert mean_sentence_term_frequency == 0.125\n",
    "# assert normalized_mean_sentence_term_frequency == 0.3676470588235294\n",
    "# mean_sentence_term_frequency"
   ]
  },
  {
   "cell_type": "code",
   "execution_count": 70,
   "metadata": {},
   "outputs": [],
   "source": [
    "def generate_sentence_word_frequencies(date_partitions_file, input_file, output_directory, output_file):\n",
    "    data_output_file = join(output_directory, output_file)\n",
    "    SENTENCE_WORD_FREQUENCIES = {}\n",
    "    with open(date_partitions_file, 'r') as chat_partitions, gzip.open(input_file, 'r') as chat_file, open(data_output_file, 'w') as out_file:\n",
    "        csv_row = chat_partitions.readline()\n",
    "        total_sentences_in_document = int(csv_row.rstrip().split(',')[2])\n",
    "        document_number = 1\n",
    "        document_id = csv_row.rstrip().split(',')[1]\n",
    "        SENTENCE_WORD_FREQUENCIES[document_id] = {}\n",
    "        sentence_line_count = 0\n",
    "        total_chat_lines_in_all_documents = 0\n",
    "        for i, sentence in enumerate(chat_file):\n",
    "            sentence = pre_process_sentence(sentence)\n",
    "            for word in get_words_in_sentence(sentence):\n",
    "                if document_id not in SENTENCE_WORD_FREQUENCIES:\n",
    "                    SENTENCE_WORD_FREQUENCIES[document_id] = {}\n",
    "                if word in SENTENCE_WORD_FREQUENCIES[document_id]:\n",
    "                    if sentence_line_count > SENTENCE_WORD_FREQUENCIES[document_id][word][\"last_containing_sentence\"]:\n",
    "                        SENTENCE_WORD_FREQUENCIES[document_id][word][\"last_containing_sentence\"] = sentence_line_count + 1\n",
    "                        SENTENCE_WORD_FREQUENCIES[document_id][word][\"occurence_in_sentences\"] += 1\n",
    "                else:\n",
    "                    SENTENCE_WORD_FREQUENCIES[document_id][word] = {\n",
    "                        \"last_containing_sentence\": sentence_line_count + 1,\n",
    "                        \"occurence_in_sentences\": 1\n",
    "                    }\n",
    "\n",
    "            sentence_line_count += 1\n",
    "            \n",
    "            # if sentence_line_count >= 20:\n",
    "            #     break\n",
    "            if sentence_line_count >= total_sentences_in_document:\n",
    "                total_chat_lines_in_all_documents += sentence_line_count\n",
    "                csv_row = chat_partitions.readline()\n",
    "                if not csv_row:\n",
    "                    print(i)\n",
    "                    print(total_chat_lines_in_all_documents)\n",
    "                    assert i+1 == total_chat_lines_in_all_documents\n",
    "                    assert sentence_line_count == total_sentences_in_document\n",
    "                    break\n",
    "                    \n",
    "                # reset the sentence_line_count\n",
    "                sentence_line_count = 0\n",
    "                document_number += 1\n",
    "                document_id = csv_row.rstrip().split(',')[1]\n",
    "                total_sentences_in_document = int(csv_row.rstrip().split(',')[2])\n",
    "        \n",
    "        print(document_number)\n",
    "        print(sentence_line_count)\n",
    "        json.dump(SENTENCE_WORD_FREQUENCIES, out_file)\n",
    "        "
   ]
  },
  {
   "cell_type": "code",
   "execution_count": 71,
   "metadata": {},
   "outputs": [
    {
     "name": "stdout",
     "output_type": "stream",
     "text": [
      "659164\n",
      "659165\n",
      "1784\n",
      "337\n"
     ]
    }
   ],
   "source": [
    "generate_sentence_word_frequencies(\n",
    "    CHAT_DATE_PARTITIONS_FILE, \n",
    "    CHAT_LOG_FILE, \n",
    "    DATA_OUTPUT_DIR, \n",
    "    \"sentence_word_frequencies.json\"\n",
    ")"
   ]
  },
  {
   "cell_type": "code",
   "execution_count": 72,
   "metadata": {},
   "outputs": [],
   "source": [
    "def load_sentence_word_frequencies(sentence_word_frequencies_filename):\n",
    "    with open(sentence_word_frequencies_filename) as sentence_word_frequencies_file:\n",
    "        sentence_word_frequencies = json.loads(sentence_word_frequencies_file.readline().rstrip())\n",
    "    return sentence_word_frequencies"
   ]
  },
  {
   "cell_type": "code",
   "execution_count": 73,
   "metadata": {},
   "outputs": [
    {
     "data": {
      "text/plain": [
       "{'last_containing_sentence': 2, 'occurence_in_sentences': 1}"
      ]
     },
     "execution_count": 73,
     "metadata": {},
     "output_type": "execute_result"
    }
   ],
   "source": [
    "filename = join(DATA_OUTPUT_DIR, \"sentence_word_frequencies.json\")\n",
    "load_sentence_word_frequencies(filename)['2001-08-06']['diff']"
   ]
  },
  {
   "cell_type": "code",
   "execution_count": 74,
   "metadata": {},
   "outputs": [],
   "source": [
    "def generate_mean_tf_isf(date_partitions_file, \n",
    "                         input_file,\n",
    "                         output_directory, \n",
    "                         output_file, \n",
    "                         sentence_word_frequencies\n",
    "                        ):\n",
    "    data_output_file = join(output_directory, output_file)\n",
    "    with open(date_partitions_file, 'r') as chat_partitions, gzip.open(input_file, 'r') as chat_file, open(data_output_file, 'w') as out_file:\n",
    "        csv_row = chat_partitions.readline()\n",
    "        total_number_of_sentences = int(csv_row.rstrip().split(',')[2])\n",
    "        document_id = csv_row.rstrip().split(',')[1]\n",
    "        # total_number_of_terms_in_document = chat_date_word_counts[\"word_counts\"][document_id]\n",
    "        total_chat_lines_in_all_documents = 0\n",
    "        chat_line_count = 0\n",
    "        \n",
    "        for i, sentence in enumerate(chat_file):\n",
    "            # mean_sentence_term_frequency = get_mean_sentence_term_frequency(sentence)\n",
    "            word_frequencies_in_sentence, total_number_of_terms_in_sentence = get_word_frequecies_in_sentence(sentence)\n",
    "            total_word_tf_isf = 0\n",
    "            for word, word_frequency_in_sentence in word_frequencies_in_sentence.items():\n",
    "                # word_frequency_in_sentence = word_frequencies_in_sentence\n",
    "                # get_inverse_set_frequency(total_number_of_sentences, frequency)\n",
    "                number_of_sentences_with_word = sentence_word_frequencies[document_id][word][\"occurence_in_sentences\"]\n",
    "                word_tf_isf = get_word_tf_idf_or_tf_isf(\n",
    "                    word_frequency_in_sentence, \n",
    "                    total_number_of_terms_in_sentence,\n",
    "                    total_number_of_sentences,\n",
    "                    number_of_sentences_with_word\n",
    "                )\n",
    "                total_word_tf_isf += word_tf_isf\n",
    "            if total_word_tf_isf:\n",
    "                mean_tf_isf = total_word_tf_isf / total_number_of_terms_in_sentence\n",
    "            else:\n",
    "                mean_tf_isf = 0\n",
    "            out_file.write(\"{}\\n\".format(mean_tf_isf))\n",
    "            \n",
    "            # if i >= 20:\n",
    "            #    break\n",
    "            \n",
    "            chat_line_count += 1\n",
    "            if chat_line_count >= total_number_of_sentences:\n",
    "                total_chat_lines_in_all_documents += chat_line_count\n",
    "                csv_row = chat_partitions.readline()\n",
    "                if not csv_row:\n",
    "                    print(i)\n",
    "                    print(total_chat_lines_in_all_documents)\n",
    "                    assert i+1 == total_chat_lines_in_all_documents\n",
    "                    assert chat_line_count == total_number_of_sentences\n",
    "                    break \n",
    "                    \n",
    "                # Reset values and move on to the next document\n",
    "                chat_line_count = 0\n",
    "                document_id = csv_row.rstrip().split(',')[1]\n",
    "                total_number_of_sentences = int(csv_row.rstrip().split(',')[2])\n"
   ]
  },
  {
   "cell_type": "code",
   "execution_count": 75,
   "metadata": {},
   "outputs": [
    {
     "name": "stdout",
     "output_type": "stream",
     "text": [
      "659164\n",
      "659165\n"
     ]
    }
   ],
   "source": [
    "filename = join(DATA_OUTPUT_DIR, \"sentence_word_frequencies.json\")\n",
    "sentence_word_frequencies = load_sentence_word_frequencies(filename)\n",
    "generate_mean_tf_isf(\n",
    "    CHAT_DATE_PARTITIONS_FILE, \n",
    "    CHAT_LOG_FILE,\n",
    "    FEATURE_OUTPUT_DIR, \n",
    "    \"chats_mean_tf_isf.txt\",\n",
    "    sentence_word_frequencies\n",
    ")"
   ]
  },
  {
   "cell_type": "code",
   "execution_count": 76,
   "metadata": {},
   "outputs": [],
   "source": [
    "output_directory = FEATURE_OUTPUT_DIR\n",
    "mean_tf_isf_file = join(output_directory, \"chats_mean_tf_isf.txt\")\n",
    "normalized_output_file = \"normalized_chats_mean_tf_isf.txt\"\n",
    "normalize_mean_tf_idf(mean_tf_isf_file, output_directory, normalized_output_file)"
   ]
  },
  {
   "cell_type": "code",
   "execution_count": null,
   "metadata": {},
   "outputs": [],
   "source": []
  }
 ],
 "metadata": {
  "kernelspec": {
   "display_name": "Python 3",
   "language": "python",
   "name": "python3"
  },
  "language_info": {
   "codemirror_mode": {
    "name": "ipython",
    "version": 3
   },
   "file_extension": ".py",
   "mimetype": "text/x-python",
   "name": "python",
   "nbconvert_exporter": "python",
   "pygments_lexer": "ipython3",
   "version": "3.6.8"
  }
 },
 "nbformat": 4,
 "nbformat_minor": 2
}
