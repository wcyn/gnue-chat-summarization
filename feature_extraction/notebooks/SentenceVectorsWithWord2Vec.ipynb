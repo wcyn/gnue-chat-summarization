{
 "cells": [
  {
   "cell_type": "code",
   "execution_count": 43,
   "metadata": {
    "pycharm": {
     "is_executing": false
    }
   },
   "outputs": [],
   "source": [
    "import gzip\n",
    "import gensim\n",
    "import logging\n",
    "import numpy as np\n",
    "import pandas as pd\n",
    "import string\n",
    "\n",
    "from gensim.test.utils import get_tmpfile\n",
    "from os.path import join\n",
    "\n",
    "logging.basicConfig(format='%(asctime)s : %(levelname)s : %(message)s', level=logging.INFO)"
   ]
  },
  {
   "cell_type": "code",
   "execution_count": 2,
   "metadata": {
    "pycharm": {}
   },
   "outputs": [],
   "source": [
    "FEATURES_DIR = join(\"..\", \"feature_outputs\")\n",
    "DATA_DIR = join(\"..\", \"data_files\")\n",
    "PUNCTUATION_SET = set(string.punctuation)"
   ]
  },
  {
   "cell_type": "code",
   "execution_count": 3,
   "metadata": {
    "pycharm": {}
   },
   "outputs": [],
   "source": [
    "CHAT_INPUT_FILE = join(DATA_DIR, \"gnue_irc_chat_logs_preprocessed_words_only.txt.gz\")\n",
    "\n",
    "# with gzip.open (data_file, 'rb') as f:\n",
    "#     for i,line in enumerate (f):\n",
    "#         print(line)\n",
    "#         break"
   ]
  },
  {
   "cell_type": "code",
   "execution_count": 4,
   "metadata": {
    "pycharm": {}
   },
   "outputs": [],
   "source": [
    "def read_input(input_file):\n",
    "    \"\"\"This method reads the input file which is in gzip format\"\"\"\n",
    "\n",
    "    logging.info(\"reading file {0}...this may take a while\".format(input_file))\n",
    "\n",
    "    with gzip.open(input_file, 'rb') as f:\n",
    "        for i, line in enumerate(f):\n",
    "\n",
    "            if (i % 100000 == 0):\n",
    "                logging.info(\"read {0} chat lines\".format(i))\n",
    "            # do some pre-processing and return a list of words for each review text\n",
    "            yield gensim.utils.simple_preprocess(line)\n"
   ]
  },
  {
   "cell_type": "code",
   "execution_count": 5,
   "metadata": {
    "pycharm": {}
   },
   "outputs": [
    {
     "name": "stderr",
     "output_type": "stream",
     "text": [
      "2019-04-11 12:08:11,094 : INFO : reading file ../data_files/gnue_irc_chat_logs_preprocessed_words_only.txt.gz...this may take a while\n",
      "2019-04-11 12:08:11,103 : INFO : read 0 chat lines\n",
      "2019-04-11 12:08:12,412 : INFO : read 100000 chat lines\n",
      "2019-04-11 12:08:13,706 : INFO : read 200000 chat lines\n",
      "2019-04-11 12:08:15,010 : INFO : read 300000 chat lines\n",
      "2019-04-11 12:08:16,266 : INFO : read 400000 chat lines\n",
      "2019-04-11 12:08:17,534 : INFO : read 500000 chat lines\n",
      "2019-04-11 12:08:18,821 : INFO : read 600000 chat lines\n",
      "2019-04-11 12:08:19,521 : INFO : Done reading data file\n"
     ]
    }
   ],
   "source": [
    "# read the tokenized reviews into a list\n",
    "# each review item becomes a serries of words\n",
    "# so this becomes a list of lists\n",
    "documents = list(read_input(CHAT_INPUT_FILE))\n",
    "logging.info(\"Done reading data file\")"
   ]
  },
  {
   "cell_type": "code",
   "execution_count": 6,
   "metadata": {
    "pycharm": {}
   },
   "outputs": [
    {
     "name": "stderr",
     "output_type": "stream",
     "text": [
      "2019-04-11 12:08:44,111 : WARNING : consider setting layer size to a multiple of 4 for greater performance\n",
      "2019-04-11 12:08:44,112 : INFO : collecting all words and their counts\n",
      "2019-04-11 12:08:44,113 : INFO : PROGRESS: at sentence #0, processed 0 words, keeping 0 word types\n",
      "2019-04-11 12:08:44,129 : INFO : PROGRESS: at sentence #10000, processed 64153 words, keeping 6873 word types\n",
      "2019-04-11 12:08:44,147 : INFO : PROGRESS: at sentence #20000, processed 126677 words, keeping 10038 word types\n",
      "2019-04-11 12:08:44,164 : INFO : PROGRESS: at sentence #30000, processed 188326 words, keeping 12592 word types\n",
      "2019-04-11 12:08:44,182 : INFO : PROGRESS: at sentence #40000, processed 251292 words, keeping 15081 word types\n",
      "2019-04-11 12:08:44,201 : INFO : PROGRESS: at sentence #50000, processed 313590 words, keeping 17212 word types\n",
      "2019-04-11 12:08:44,219 : INFO : PROGRESS: at sentence #60000, processed 379341 words, keeping 18964 word types\n",
      "2019-04-11 12:08:44,237 : INFO : PROGRESS: at sentence #70000, processed 440245 words, keeping 20799 word types\n",
      "2019-04-11 12:08:44,258 : INFO : PROGRESS: at sentence #80000, processed 504481 words, keeping 22253 word types\n",
      "2019-04-11 12:08:44,276 : INFO : PROGRESS: at sentence #90000, processed 568210 words, keeping 23798 word types\n",
      "2019-04-11 12:08:44,297 : INFO : PROGRESS: at sentence #100000, processed 632911 words, keeping 25305 word types\n",
      "2019-04-11 12:08:44,322 : INFO : PROGRESS: at sentence #110000, processed 697752 words, keeping 26843 word types\n",
      "2019-04-11 12:08:44,343 : INFO : PROGRESS: at sentence #120000, processed 761144 words, keeping 28393 word types\n",
      "2019-04-11 12:08:44,363 : INFO : PROGRESS: at sentence #130000, processed 821728 words, keeping 29635 word types\n",
      "2019-04-11 12:08:44,384 : INFO : PROGRESS: at sentence #140000, processed 883332 words, keeping 31066 word types\n",
      "2019-04-11 12:08:44,402 : INFO : PROGRESS: at sentence #150000, processed 945536 words, keeping 32212 word types\n",
      "2019-04-11 12:08:44,422 : INFO : PROGRESS: at sentence #160000, processed 1006463 words, keeping 33485 word types\n",
      "2019-04-11 12:08:44,441 : INFO : PROGRESS: at sentence #170000, processed 1071464 words, keeping 34804 word types\n",
      "2019-04-11 12:08:44,461 : INFO : PROGRESS: at sentence #180000, processed 1137469 words, keeping 36012 word types\n",
      "2019-04-11 12:08:44,481 : INFO : PROGRESS: at sentence #190000, processed 1202826 words, keeping 37025 word types\n",
      "2019-04-11 12:08:44,498 : INFO : PROGRESS: at sentence #200000, processed 1264028 words, keeping 38188 word types\n",
      "2019-04-11 12:08:44,515 : INFO : PROGRESS: at sentence #210000, processed 1324748 words, keeping 39375 word types\n",
      "2019-04-11 12:08:44,532 : INFO : PROGRESS: at sentence #220000, processed 1388448 words, keeping 40664 word types\n",
      "2019-04-11 12:08:44,551 : INFO : PROGRESS: at sentence #230000, processed 1455223 words, keeping 41613 word types\n",
      "2019-04-11 12:08:44,570 : INFO : PROGRESS: at sentence #240000, processed 1520148 words, keeping 42550 word types\n",
      "2019-04-11 12:08:44,589 : INFO : PROGRESS: at sentence #250000, processed 1582385 words, keeping 43567 word types\n",
      "2019-04-11 12:08:44,610 : INFO : PROGRESS: at sentence #260000, processed 1645034 words, keeping 44589 word types\n",
      "2019-04-11 12:08:44,630 : INFO : PROGRESS: at sentence #270000, processed 1709224 words, keeping 45534 word types\n",
      "2019-04-11 12:08:44,649 : INFO : PROGRESS: at sentence #280000, processed 1771384 words, keeping 46513 word types\n",
      "2019-04-11 12:08:44,670 : INFO : PROGRESS: at sentence #290000, processed 1835985 words, keeping 47438 word types\n",
      "2019-04-11 12:08:44,689 : INFO : PROGRESS: at sentence #300000, processed 1896434 words, keeping 48401 word types\n",
      "2019-04-11 12:08:44,709 : INFO : PROGRESS: at sentence #310000, processed 1962535 words, keeping 49532 word types\n",
      "2019-04-11 12:08:44,730 : INFO : PROGRESS: at sentence #320000, processed 2027977 words, keeping 50647 word types\n",
      "2019-04-11 12:08:44,750 : INFO : PROGRESS: at sentence #330000, processed 2091869 words, keeping 51606 word types\n",
      "2019-04-11 12:08:44,770 : INFO : PROGRESS: at sentence #340000, processed 2156215 words, keeping 52417 word types\n",
      "2019-04-11 12:08:44,792 : INFO : PROGRESS: at sentence #350000, processed 2217442 words, keeping 53190 word types\n",
      "2019-04-11 12:08:44,814 : INFO : PROGRESS: at sentence #360000, processed 2281576 words, keeping 53969 word types\n",
      "2019-04-11 12:08:44,836 : INFO : PROGRESS: at sentence #370000, processed 2343644 words, keeping 54784 word types\n",
      "2019-04-11 12:08:44,858 : INFO : PROGRESS: at sentence #380000, processed 2409443 words, keeping 55706 word types\n",
      "2019-04-11 12:08:44,878 : INFO : PROGRESS: at sentence #390000, processed 2473506 words, keeping 56417 word types\n",
      "2019-04-11 12:08:44,899 : INFO : PROGRESS: at sentence #400000, processed 2537358 words, keeping 57231 word types\n",
      "2019-04-11 12:08:44,921 : INFO : PROGRESS: at sentence #410000, processed 2601030 words, keeping 58021 word types\n",
      "2019-04-11 12:08:44,943 : INFO : PROGRESS: at sentence #420000, processed 2664046 words, keeping 58811 word types\n",
      "2019-04-11 12:08:44,965 : INFO : PROGRESS: at sentence #430000, processed 2727583 words, keeping 59517 word types\n",
      "2019-04-11 12:08:44,986 : INFO : PROGRESS: at sentence #440000, processed 2788323 words, keeping 60269 word types\n",
      "2019-04-11 12:08:45,007 : INFO : PROGRESS: at sentence #450000, processed 2848728 words, keeping 61093 word types\n",
      "2019-04-11 12:08:45,029 : INFO : PROGRESS: at sentence #460000, processed 2912451 words, keeping 61799 word types\n",
      "2019-04-11 12:08:45,049 : INFO : PROGRESS: at sentence #470000, processed 2977432 words, keeping 62553 word types\n",
      "2019-04-11 12:08:45,068 : INFO : PROGRESS: at sentence #480000, processed 3041870 words, keeping 63258 word types\n",
      "2019-04-11 12:08:45,088 : INFO : PROGRESS: at sentence #490000, processed 3106709 words, keeping 64115 word types\n",
      "2019-04-11 12:08:45,107 : INFO : PROGRESS: at sentence #500000, processed 3166435 words, keeping 64799 word types\n",
      "2019-04-11 12:08:45,127 : INFO : PROGRESS: at sentence #510000, processed 3229364 words, keeping 65703 word types\n",
      "2019-04-11 12:08:45,148 : INFO : PROGRESS: at sentence #520000, processed 3292932 words, keeping 66547 word types\n",
      "2019-04-11 12:08:45,170 : INFO : PROGRESS: at sentence #530000, processed 3354078 words, keeping 67186 word types\n",
      "2019-04-11 12:08:45,189 : INFO : PROGRESS: at sentence #540000, processed 3414186 words, keeping 67869 word types\n",
      "2019-04-11 12:08:45,210 : INFO : PROGRESS: at sentence #550000, processed 3477793 words, keeping 68556 word types\n",
      "2019-04-11 12:08:45,231 : INFO : PROGRESS: at sentence #560000, processed 3537879 words, keeping 69663 word types\n",
      "2019-04-11 12:08:45,253 : INFO : PROGRESS: at sentence #570000, processed 3601795 words, keeping 70423 word types\n",
      "2019-04-11 12:08:45,276 : INFO : PROGRESS: at sentence #580000, processed 3663790 words, keeping 71088 word types\n",
      "2019-04-11 12:08:45,301 : INFO : PROGRESS: at sentence #590000, processed 3729051 words, keeping 71784 word types\n",
      "2019-04-11 12:08:45,321 : INFO : PROGRESS: at sentence #600000, processed 3793319 words, keeping 72549 word types\n",
      "2019-04-11 12:08:45,342 : INFO : PROGRESS: at sentence #610000, processed 3857248 words, keeping 73147 word types\n",
      "2019-04-11 12:08:45,364 : INFO : PROGRESS: at sentence #620000, processed 3922081 words, keeping 73864 word types\n",
      "2019-04-11 12:08:45,387 : INFO : PROGRESS: at sentence #630000, processed 3986181 words, keeping 74479 word types\n",
      "2019-04-11 12:08:45,409 : INFO : PROGRESS: at sentence #640000, processed 4050962 words, keeping 75147 word types\n",
      "2019-04-11 12:08:45,430 : INFO : PROGRESS: at sentence #650000, processed 4113148 words, keeping 75756 word types\n",
      "2019-04-11 12:08:45,448 : INFO : collected 76348 word types from a corpus of 4169816 raw words and 659165 sentences\n",
      "2019-04-11 12:08:45,449 : INFO : Loading a fresh vocabulary\n",
      "2019-04-11 12:08:45,543 : INFO : min_count=2 retains 37992 unique words (49% of original 76348, drops 38356)\n",
      "2019-04-11 12:08:45,544 : INFO : min_count=2 leaves 4131460 word corpus (99% of original 4169816, drops 38356)\n",
      "2019-04-11 12:08:45,643 : INFO : deleting the raw counts dictionary of 76348 items\n",
      "2019-04-11 12:08:45,646 : INFO : sample=0.001 downsamples 54 most-common words\n"
     ]
    },
    {
     "name": "stderr",
     "output_type": "stream",
     "text": [
      "2019-04-11 12:08:45,646 : INFO : downsampling leaves estimated 3321113 word corpus (80.4% of prior 4131460)\n",
      "2019-04-11 12:08:45,769 : INFO : estimated required memory for 37992 words and 150 dimensions: 64586400 bytes\n",
      "2019-04-11 12:08:45,770 : INFO : resetting layer weights\n",
      "2019-04-11 12:08:46,213 : INFO : training model with 10 workers on 37992 vocabulary and 150 features, using sg=0 hs=0 sample=0.001 negative=5 window=10\n",
      "2019-04-11 12:08:47,236 : INFO : EPOCH 1 - PROGRESS: at 32.65% examples, 1071560 words/s, in_qsize 18, out_qsize 1\n",
      "2019-04-11 12:08:48,256 : INFO : EPOCH 1 - PROGRESS: at 67.27% examples, 1102140 words/s, in_qsize 19, out_qsize 0\n",
      "2019-04-11 12:08:49,128 : INFO : worker thread finished; awaiting finish of 9 more threads\n",
      "2019-04-11 12:08:49,136 : INFO : worker thread finished; awaiting finish of 8 more threads\n",
      "2019-04-11 12:08:49,142 : INFO : worker thread finished; awaiting finish of 7 more threads\n",
      "2019-04-11 12:08:49,147 : INFO : worker thread finished; awaiting finish of 6 more threads\n",
      "2019-04-11 12:08:49,150 : INFO : worker thread finished; awaiting finish of 5 more threads\n",
      "2019-04-11 12:08:49,151 : INFO : worker thread finished; awaiting finish of 4 more threads\n",
      "2019-04-11 12:08:49,152 : INFO : worker thread finished; awaiting finish of 3 more threads\n",
      "2019-04-11 12:08:49,162 : INFO : worker thread finished; awaiting finish of 2 more threads\n",
      "2019-04-11 12:08:49,164 : INFO : worker thread finished; awaiting finish of 1 more threads\n",
      "2019-04-11 12:08:49,166 : INFO : worker thread finished; awaiting finish of 0 more threads\n",
      "2019-04-11 12:08:49,167 : INFO : EPOCH - 1 : training on 4169816 raw words (3321202 effective words) took 2.9s, 1129005 effective words/s\n",
      "2019-04-11 12:08:50,194 : INFO : EPOCH 2 - PROGRESS: at 33.82% examples, 1106991 words/s, in_qsize 20, out_qsize 0\n",
      "2019-04-11 12:08:51,196 : INFO : EPOCH 2 - PROGRESS: at 71.57% examples, 1180971 words/s, in_qsize 19, out_qsize 0\n",
      "2019-04-11 12:08:51,946 : INFO : worker thread finished; awaiting finish of 9 more threads\n",
      "2019-04-11 12:08:51,947 : INFO : worker thread finished; awaiting finish of 8 more threads\n",
      "2019-04-11 12:08:51,956 : INFO : worker thread finished; awaiting finish of 7 more threads\n",
      "2019-04-11 12:08:51,966 : INFO : worker thread finished; awaiting finish of 6 more threads\n",
      "2019-04-11 12:08:51,971 : INFO : worker thread finished; awaiting finish of 5 more threads\n",
      "2019-04-11 12:08:51,973 : INFO : worker thread finished; awaiting finish of 4 more threads\n",
      "2019-04-11 12:08:51,974 : INFO : worker thread finished; awaiting finish of 3 more threads\n",
      "2019-04-11 12:08:51,976 : INFO : worker thread finished; awaiting finish of 2 more threads\n",
      "2019-04-11 12:08:51,980 : INFO : worker thread finished; awaiting finish of 1 more threads\n",
      "2019-04-11 12:08:51,988 : INFO : worker thread finished; awaiting finish of 0 more threads\n",
      "2019-04-11 12:08:51,988 : INFO : EPOCH - 2 : training on 4169816 raw words (3320654 effective words) took 2.8s, 1182539 effective words/s\n",
      "2019-04-11 12:08:53,003 : INFO : EPOCH 3 - PROGRESS: at 30.77% examples, 1017274 words/s, in_qsize 17, out_qsize 2\n",
      "2019-04-11 12:08:54,026 : INFO : EPOCH 3 - PROGRESS: at 63.85% examples, 1050323 words/s, in_qsize 15, out_qsize 4\n",
      "2019-04-11 12:08:54,953 : INFO : worker thread finished; awaiting finish of 9 more threads\n",
      "2019-04-11 12:08:54,971 : INFO : worker thread finished; awaiting finish of 8 more threads\n",
      "2019-04-11 12:08:54,981 : INFO : worker thread finished; awaiting finish of 7 more threads\n",
      "2019-04-11 12:08:54,983 : INFO : worker thread finished; awaiting finish of 6 more threads\n",
      "2019-04-11 12:08:54,987 : INFO : worker thread finished; awaiting finish of 5 more threads\n",
      "2019-04-11 12:08:54,988 : INFO : worker thread finished; awaiting finish of 4 more threads\n",
      "2019-04-11 12:08:54,993 : INFO : worker thread finished; awaiting finish of 3 more threads\n",
      "2019-04-11 12:08:55,004 : INFO : worker thread finished; awaiting finish of 2 more threads\n",
      "2019-04-11 12:08:55,006 : INFO : worker thread finished; awaiting finish of 1 more threads\n",
      "2019-04-11 12:08:55,010 : INFO : worker thread finished; awaiting finish of 0 more threads\n",
      "2019-04-11 12:08:55,011 : INFO : EPOCH - 3 : training on 4169816 raw words (3320930 effective words) took 3.0s, 1103609 effective words/s\n",
      "2019-04-11 12:08:56,039 : INFO : EPOCH 4 - PROGRESS: at 34.06% examples, 1114191 words/s, in_qsize 19, out_qsize 0\n",
      "2019-04-11 12:08:57,043 : INFO : EPOCH 4 - PROGRESS: at 63.10% examples, 1041303 words/s, in_qsize 19, out_qsize 0\n",
      "2019-04-11 12:08:58,044 : INFO : EPOCH 4 - PROGRESS: at 98.00% examples, 1078087 words/s, in_qsize 8, out_qsize 3\n",
      "2019-04-11 12:08:58,054 : INFO : worker thread finished; awaiting finish of 9 more threads\n",
      "2019-04-11 12:08:58,065 : INFO : worker thread finished; awaiting finish of 8 more threads\n",
      "2019-04-11 12:08:58,068 : INFO : worker thread finished; awaiting finish of 7 more threads\n",
      "2019-04-11 12:08:58,070 : INFO : worker thread finished; awaiting finish of 6 more threads\n",
      "2019-04-11 12:08:58,071 : INFO : worker thread finished; awaiting finish of 5 more threads\n",
      "2019-04-11 12:08:58,072 : INFO : worker thread finished; awaiting finish of 4 more threads\n",
      "2019-04-11 12:08:58,073 : INFO : worker thread finished; awaiting finish of 3 more threads\n",
      "2019-04-11 12:08:58,078 : INFO : worker thread finished; awaiting finish of 2 more threads\n",
      "2019-04-11 12:08:58,088 : INFO : worker thread finished; awaiting finish of 1 more threads\n",
      "2019-04-11 12:08:58,090 : INFO : worker thread finished; awaiting finish of 0 more threads\n",
      "2019-04-11 12:08:58,091 : INFO : EPOCH - 4 : training on 4169816 raw words (3320615 effective words) took 3.1s, 1082832 effective words/s\n",
      "2019-04-11 12:08:59,105 : INFO : EPOCH 5 - PROGRESS: at 29.23% examples, 971445 words/s, in_qsize 19, out_qsize 0\n",
      "2019-04-11 12:09:00,131 : INFO : EPOCH 5 - PROGRESS: at 63.11% examples, 1037926 words/s, in_qsize 19, out_qsize 0\n",
      "2019-04-11 12:09:01,134 : INFO : EPOCH 5 - PROGRESS: at 96.57% examples, 1059223 words/s, in_qsize 12, out_qsize 3\n",
      "2019-04-11 12:09:01,138 : INFO : worker thread finished; awaiting finish of 9 more threads\n",
      "2019-04-11 12:09:01,156 : INFO : worker thread finished; awaiting finish of 8 more threads\n",
      "2019-04-11 12:09:01,170 : INFO : worker thread finished; awaiting finish of 7 more threads\n",
      "2019-04-11 12:09:01,172 : INFO : worker thread finished; awaiting finish of 6 more threads\n",
      "2019-04-11 12:09:01,179 : INFO : worker thread finished; awaiting finish of 5 more threads\n",
      "2019-04-11 12:09:01,180 : INFO : worker thread finished; awaiting finish of 4 more threads\n",
      "2019-04-11 12:09:01,187 : INFO : worker thread finished; awaiting finish of 3 more threads\n",
      "2019-04-11 12:09:01,190 : INFO : worker thread finished; awaiting finish of 2 more threads\n",
      "2019-04-11 12:09:01,195 : INFO : worker thread finished; awaiting finish of 1 more threads\n",
      "2019-04-11 12:09:01,201 : INFO : worker thread finished; awaiting finish of 0 more threads\n",
      "2019-04-11 12:09:01,202 : INFO : EPOCH - 5 : training on 4169816 raw words (3321807 effective words) took 3.1s, 1072363 effective words/s\n",
      "2019-04-11 12:09:01,203 : INFO : training on a 20849080 raw words (16605208 effective words) took 15.0s, 1107791 effective words/s\n",
      "2019-04-11 12:09:01,204 : WARNING : Effective 'alpha' higher than previous training cycles\n",
      "2019-04-11 12:09:01,205 : INFO : training model with 10 workers on 37992 vocabulary and 150 features, using sg=0 hs=0 sample=0.001 negative=5 window=10\n",
      "2019-04-11 12:09:02,222 : INFO : EPOCH 1 - PROGRESS: at 32.44% examples, 1071625 words/s, in_qsize 19, out_qsize 0\n",
      "2019-04-11 12:09:03,222 : INFO : EPOCH 1 - PROGRESS: at 62.20% examples, 1033373 words/s, in_qsize 20, out_qsize 0\n",
      "2019-04-11 12:09:04,223 : INFO : EPOCH 1 - PROGRESS: at 92.09% examples, 1017516 words/s, in_qsize 20, out_qsize 0\n",
      "2019-04-11 12:09:04,398 : INFO : worker thread finished; awaiting finish of 9 more threads\n",
      "2019-04-11 12:09:04,401 : INFO : worker thread finished; awaiting finish of 8 more threads\n",
      "2019-04-11 12:09:04,419 : INFO : worker thread finished; awaiting finish of 7 more threads\n",
      "2019-04-11 12:09:04,424 : INFO : worker thread finished; awaiting finish of 6 more threads\n",
      "2019-04-11 12:09:04,426 : INFO : worker thread finished; awaiting finish of 5 more threads\n"
     ]
    },
    {
     "name": "stderr",
     "output_type": "stream",
     "text": [
      "2019-04-11 12:09:04,428 : INFO : worker thread finished; awaiting finish of 4 more threads\n",
      "2019-04-11 12:09:04,430 : INFO : worker thread finished; awaiting finish of 3 more threads\n",
      "2019-04-11 12:09:04,431 : INFO : worker thread finished; awaiting finish of 2 more threads\n",
      "2019-04-11 12:09:04,443 : INFO : worker thread finished; awaiting finish of 1 more threads\n",
      "2019-04-11 12:09:04,444 : INFO : worker thread finished; awaiting finish of 0 more threads\n",
      "2019-04-11 12:09:04,444 : INFO : EPOCH - 1 : training on 4169816 raw words (3320951 effective words) took 3.2s, 1029696 effective words/s\n",
      "2019-04-11 12:09:05,462 : INFO : EPOCH 2 - PROGRESS: at 34.06% examples, 1126816 words/s, in_qsize 19, out_qsize 0\n",
      "2019-04-11 12:09:06,466 : INFO : EPOCH 2 - PROGRESS: at 68.01% examples, 1126768 words/s, in_qsize 19, out_qsize 0\n",
      "2019-04-11 12:09:07,344 : INFO : worker thread finished; awaiting finish of 9 more threads\n",
      "2019-04-11 12:09:07,351 : INFO : worker thread finished; awaiting finish of 8 more threads\n",
      "2019-04-11 12:09:07,356 : INFO : worker thread finished; awaiting finish of 7 more threads\n",
      "2019-04-11 12:09:07,360 : INFO : worker thread finished; awaiting finish of 6 more threads\n",
      "2019-04-11 12:09:07,362 : INFO : worker thread finished; awaiting finish of 5 more threads\n",
      "2019-04-11 12:09:07,365 : INFO : worker thread finished; awaiting finish of 4 more threads\n",
      "2019-04-11 12:09:07,366 : INFO : worker thread finished; awaiting finish of 3 more threads\n",
      "2019-04-11 12:09:07,368 : INFO : worker thread finished; awaiting finish of 2 more threads\n",
      "2019-04-11 12:09:07,375 : INFO : worker thread finished; awaiting finish of 1 more threads\n",
      "2019-04-11 12:09:07,378 : INFO : worker thread finished; awaiting finish of 0 more threads\n",
      "2019-04-11 12:09:07,379 : INFO : EPOCH - 2 : training on 4169816 raw words (3322260 effective words) took 2.9s, 1137747 effective words/s\n",
      "2019-04-11 12:09:08,398 : INFO : EPOCH 3 - PROGRESS: at 34.51% examples, 1140370 words/s, in_qsize 19, out_qsize 0\n",
      "2019-04-11 12:09:09,412 : INFO : EPOCH 3 - PROGRESS: at 70.85% examples, 1166803 words/s, in_qsize 19, out_qsize 0\n",
      "2019-04-11 12:09:10,165 : INFO : worker thread finished; awaiting finish of 9 more threads\n",
      "2019-04-11 12:09:10,169 : INFO : worker thread finished; awaiting finish of 8 more threads\n",
      "2019-04-11 12:09:10,172 : INFO : worker thread finished; awaiting finish of 7 more threads\n",
      "2019-04-11 12:09:10,175 : INFO : worker thread finished; awaiting finish of 6 more threads\n",
      "2019-04-11 12:09:10,176 : INFO : worker thread finished; awaiting finish of 5 more threads\n",
      "2019-04-11 12:09:10,177 : INFO : worker thread finished; awaiting finish of 4 more threads\n",
      "2019-04-11 12:09:10,177 : INFO : worker thread finished; awaiting finish of 3 more threads\n",
      "2019-04-11 12:09:10,187 : INFO : worker thread finished; awaiting finish of 2 more threads\n",
      "2019-04-11 12:09:10,189 : INFO : worker thread finished; awaiting finish of 1 more threads\n",
      "2019-04-11 12:09:10,192 : INFO : worker thread finished; awaiting finish of 0 more threads\n",
      "2019-04-11 12:09:10,193 : INFO : EPOCH - 3 : training on 4169816 raw words (3320937 effective words) took 2.8s, 1185960 effective words/s\n",
      "2019-04-11 12:09:11,216 : INFO : EPOCH 4 - PROGRESS: at 35.70% examples, 1174708 words/s, in_qsize 19, out_qsize 0\n",
      "2019-04-11 12:09:12,218 : INFO : EPOCH 4 - PROGRESS: at 68.76% examples, 1135557 words/s, in_qsize 16, out_qsize 3\n",
      "2019-04-11 12:09:13,023 : INFO : worker thread finished; awaiting finish of 9 more threads\n",
      "2019-04-11 12:09:13,029 : INFO : worker thread finished; awaiting finish of 8 more threads\n",
      "2019-04-11 12:09:13,032 : INFO : worker thread finished; awaiting finish of 7 more threads\n",
      "2019-04-11 12:09:13,043 : INFO : worker thread finished; awaiting finish of 6 more threads\n",
      "2019-04-11 12:09:13,049 : INFO : worker thread finished; awaiting finish of 5 more threads\n",
      "2019-04-11 12:09:13,054 : INFO : worker thread finished; awaiting finish of 4 more threads\n",
      "2019-04-11 12:09:13,055 : INFO : worker thread finished; awaiting finish of 3 more threads\n",
      "2019-04-11 12:09:13,057 : INFO : worker thread finished; awaiting finish of 2 more threads\n",
      "2019-04-11 12:09:13,058 : INFO : worker thread finished; awaiting finish of 1 more threads\n",
      "2019-04-11 12:09:13,066 : INFO : worker thread finished; awaiting finish of 0 more threads\n",
      "2019-04-11 12:09:13,067 : INFO : EPOCH - 4 : training on 4169816 raw words (3320532 effective words) took 2.9s, 1160917 effective words/s\n",
      "2019-04-11 12:09:14,082 : INFO : EPOCH 5 - PROGRESS: at 28.73% examples, 953558 words/s, in_qsize 18, out_qsize 1\n",
      "2019-04-11 12:09:15,097 : INFO : EPOCH 5 - PROGRESS: at 60.47% examples, 998669 words/s, in_qsize 18, out_qsize 1\n",
      "2019-04-11 12:09:16,097 : INFO : EPOCH 5 - PROGRESS: at 97.49% examples, 1073812 words/s, in_qsize 11, out_qsize 0\n",
      "2019-04-11 12:09:16,113 : INFO : worker thread finished; awaiting finish of 9 more threads\n",
      "2019-04-11 12:09:16,124 : INFO : worker thread finished; awaiting finish of 8 more threads\n",
      "2019-04-11 12:09:16,129 : INFO : worker thread finished; awaiting finish of 7 more threads\n",
      "2019-04-11 12:09:16,137 : INFO : worker thread finished; awaiting finish of 6 more threads\n",
      "2019-04-11 12:09:16,142 : INFO : worker thread finished; awaiting finish of 5 more threads\n",
      "2019-04-11 12:09:16,143 : INFO : worker thread finished; awaiting finish of 4 more threads\n",
      "2019-04-11 12:09:16,152 : INFO : worker thread finished; awaiting finish of 3 more threads\n",
      "2019-04-11 12:09:16,153 : INFO : worker thread finished; awaiting finish of 2 more threads\n",
      "2019-04-11 12:09:16,155 : INFO : worker thread finished; awaiting finish of 1 more threads\n",
      "2019-04-11 12:09:16,158 : INFO : worker thread finished; awaiting finish of 0 more threads\n",
      "2019-04-11 12:09:16,159 : INFO : EPOCH - 5 : training on 4169816 raw words (3320443 effective words) took 3.1s, 1078667 effective words/s\n",
      "2019-04-11 12:09:17,178 : INFO : EPOCH 6 - PROGRESS: at 33.35% examples, 1100507 words/s, in_qsize 18, out_qsize 1\n",
      "2019-04-11 12:09:18,189 : INFO : EPOCH 6 - PROGRESS: at 67.03% examples, 1106084 words/s, in_qsize 19, out_qsize 0\n",
      "2019-04-11 12:09:19,028 : INFO : worker thread finished; awaiting finish of 9 more threads\n",
      "2019-04-11 12:09:19,045 : INFO : worker thread finished; awaiting finish of 8 more threads\n",
      "2019-04-11 12:09:19,053 : INFO : worker thread finished; awaiting finish of 7 more threads\n",
      "2019-04-11 12:09:19,056 : INFO : worker thread finished; awaiting finish of 6 more threads\n",
      "2019-04-11 12:09:19,058 : INFO : worker thread finished; awaiting finish of 5 more threads\n",
      "2019-04-11 12:09:19,061 : INFO : worker thread finished; awaiting finish of 4 more threads\n",
      "2019-04-11 12:09:19,067 : INFO : worker thread finished; awaiting finish of 3 more threads\n",
      "2019-04-11 12:09:19,076 : INFO : worker thread finished; awaiting finish of 2 more threads\n",
      "2019-04-11 12:09:19,078 : INFO : worker thread finished; awaiting finish of 1 more threads\n",
      "2019-04-11 12:09:19,079 : INFO : worker thread finished; awaiting finish of 0 more threads\n",
      "2019-04-11 12:09:19,080 : INFO : EPOCH - 6 : training on 4169816 raw words (3321767 effective words) took 2.9s, 1142560 effective words/s\n",
      "2019-04-11 12:09:20,106 : INFO : EPOCH 7 - PROGRESS: at 35.50% examples, 1164710 words/s, in_qsize 17, out_qsize 2\n",
      "2019-04-11 12:09:21,109 : INFO : EPOCH 7 - PROGRESS: at 68.76% examples, 1134337 words/s, in_qsize 19, out_qsize 0\n",
      "2019-04-11 12:09:21,959 : INFO : worker thread finished; awaiting finish of 9 more threads\n",
      "2019-04-11 12:09:21,970 : INFO : worker thread finished; awaiting finish of 8 more threads\n",
      "2019-04-11 12:09:21,973 : INFO : worker thread finished; awaiting finish of 7 more threads\n",
      "2019-04-11 12:09:21,978 : INFO : worker thread finished; awaiting finish of 6 more threads\n",
      "2019-04-11 12:09:21,979 : INFO : worker thread finished; awaiting finish of 5 more threads\n",
      "2019-04-11 12:09:21,981 : INFO : worker thread finished; awaiting finish of 4 more threads\n",
      "2019-04-11 12:09:21,986 : INFO : worker thread finished; awaiting finish of 3 more threads\n",
      "2019-04-11 12:09:21,992 : INFO : worker thread finished; awaiting finish of 2 more threads\n",
      "2019-04-11 12:09:21,994 : INFO : worker thread finished; awaiting finish of 1 more threads\n",
      "2019-04-11 12:09:21,996 : INFO : worker thread finished; awaiting finish of 0 more threads\n"
     ]
    },
    {
     "name": "stderr",
     "output_type": "stream",
     "text": [
      "2019-04-11 12:09:21,997 : INFO : EPOCH - 7 : training on 4169816 raw words (3321753 effective words) took 2.9s, 1144298 effective words/s\n",
      "2019-04-11 12:09:23,014 : INFO : EPOCH 8 - PROGRESS: at 31.21% examples, 1031905 words/s, in_qsize 19, out_qsize 0\n",
      "2019-04-11 12:09:24,019 : INFO : EPOCH 8 - PROGRESS: at 67.25% examples, 1114373 words/s, in_qsize 19, out_qsize 0\n",
      "2019-04-11 12:09:25,005 : INFO : worker thread finished; awaiting finish of 9 more threads\n",
      "2019-04-11 12:09:25,017 : INFO : worker thread finished; awaiting finish of 8 more threads\n",
      "2019-04-11 12:09:25,031 : INFO : EPOCH 8 - PROGRESS: at 98.51% examples, 1083469 words/s, in_qsize 5, out_qsize 5\n",
      "2019-04-11 12:09:25,033 : INFO : worker thread finished; awaiting finish of 7 more threads\n",
      "2019-04-11 12:09:25,036 : INFO : worker thread finished; awaiting finish of 6 more threads\n",
      "2019-04-11 12:09:25,038 : INFO : worker thread finished; awaiting finish of 5 more threads\n",
      "2019-04-11 12:09:25,039 : INFO : worker thread finished; awaiting finish of 4 more threads\n",
      "2019-04-11 12:09:25,039 : INFO : worker thread finished; awaiting finish of 3 more threads\n",
      "2019-04-11 12:09:25,042 : INFO : worker thread finished; awaiting finish of 2 more threads\n",
      "2019-04-11 12:09:25,052 : INFO : worker thread finished; awaiting finish of 1 more threads\n",
      "2019-04-11 12:09:25,054 : INFO : worker thread finished; awaiting finish of 0 more threads\n",
      "2019-04-11 12:09:25,054 : INFO : EPOCH - 8 : training on 4169816 raw words (3321722 effective words) took 3.0s, 1091335 effective words/s\n",
      "2019-04-11 12:09:26,073 : INFO : EPOCH 9 - PROGRESS: at 33.15% examples, 1092420 words/s, in_qsize 18, out_qsize 1\n",
      "2019-04-11 12:09:27,086 : INFO : EPOCH 9 - PROGRESS: at 65.51% examples, 1081124 words/s, in_qsize 18, out_qsize 1\n",
      "2019-04-11 12:09:28,014 : INFO : worker thread finished; awaiting finish of 9 more threads\n",
      "2019-04-11 12:09:28,033 : INFO : worker thread finished; awaiting finish of 8 more threads\n",
      "2019-04-11 12:09:28,042 : INFO : worker thread finished; awaiting finish of 7 more threads\n",
      "2019-04-11 12:09:28,047 : INFO : worker thread finished; awaiting finish of 6 more threads\n",
      "2019-04-11 12:09:28,053 : INFO : worker thread finished; awaiting finish of 5 more threads\n",
      "2019-04-11 12:09:28,057 : INFO : worker thread finished; awaiting finish of 4 more threads\n",
      "2019-04-11 12:09:28,058 : INFO : worker thread finished; awaiting finish of 3 more threads\n",
      "2019-04-11 12:09:28,065 : INFO : worker thread finished; awaiting finish of 2 more threads\n",
      "2019-04-11 12:09:28,070 : INFO : worker thread finished; awaiting finish of 1 more threads\n",
      "2019-04-11 12:09:28,071 : INFO : worker thread finished; awaiting finish of 0 more threads\n",
      "2019-04-11 12:09:28,072 : INFO : EPOCH - 9 : training on 4169816 raw words (3320676 effective words) took 3.0s, 1105491 effective words/s\n",
      "2019-04-11 12:09:29,099 : INFO : EPOCH 10 - PROGRESS: at 34.28% examples, 1131254 words/s, in_qsize 17, out_qsize 2\n",
      "2019-04-11 12:09:30,107 : INFO : EPOCH 10 - PROGRESS: at 68.98% examples, 1138416 words/s, in_qsize 19, out_qsize 0\n",
      "2019-04-11 12:09:31,003 : INFO : worker thread finished; awaiting finish of 9 more threads\n",
      "2019-04-11 12:09:31,009 : INFO : worker thread finished; awaiting finish of 8 more threads\n",
      "2019-04-11 12:09:31,032 : INFO : worker thread finished; awaiting finish of 7 more threads\n",
      "2019-04-11 12:09:31,039 : INFO : worker thread finished; awaiting finish of 6 more threads\n",
      "2019-04-11 12:09:31,041 : INFO : worker thread finished; awaiting finish of 5 more threads\n",
      "2019-04-11 12:09:31,043 : INFO : worker thread finished; awaiting finish of 4 more threads\n",
      "2019-04-11 12:09:31,045 : INFO : worker thread finished; awaiting finish of 3 more threads\n",
      "2019-04-11 12:09:31,046 : INFO : worker thread finished; awaiting finish of 2 more threads\n",
      "2019-04-11 12:09:31,059 : INFO : worker thread finished; awaiting finish of 1 more threads\n",
      "2019-04-11 12:09:31,060 : INFO : worker thread finished; awaiting finish of 0 more threads\n",
      "2019-04-11 12:09:31,061 : INFO : EPOCH - 10 : training on 4169816 raw words (3321241 effective words) took 3.0s, 1118858 effective words/s\n",
      "2019-04-11 12:09:32,077 : INFO : EPOCH 11 - PROGRESS: at 27.83% examples, 922580 words/s, in_qsize 19, out_qsize 0\n",
      "2019-04-11 12:09:33,101 : INFO : EPOCH 11 - PROGRESS: at 61.20% examples, 1006650 words/s, in_qsize 17, out_qsize 2\n",
      "2019-04-11 12:09:34,110 : INFO : EPOCH 11 - PROGRESS: at 95.60% examples, 1046785 words/s, in_qsize 19, out_qsize 0\n",
      "2019-04-11 12:09:34,168 : INFO : worker thread finished; awaiting finish of 9 more threads\n",
      "2019-04-11 12:09:34,170 : INFO : worker thread finished; awaiting finish of 8 more threads\n",
      "2019-04-11 12:09:34,200 : INFO : worker thread finished; awaiting finish of 7 more threads\n",
      "2019-04-11 12:09:34,201 : INFO : worker thread finished; awaiting finish of 6 more threads\n",
      "2019-04-11 12:09:34,202 : INFO : worker thread finished; awaiting finish of 5 more threads\n",
      "2019-04-11 12:09:34,203 : INFO : worker thread finished; awaiting finish of 4 more threads\n",
      "2019-04-11 12:09:34,203 : INFO : worker thread finished; awaiting finish of 3 more threads\n",
      "2019-04-11 12:09:34,205 : INFO : worker thread finished; awaiting finish of 2 more threads\n",
      "2019-04-11 12:09:34,210 : INFO : worker thread finished; awaiting finish of 1 more threads\n",
      "2019-04-11 12:09:34,219 : INFO : worker thread finished; awaiting finish of 0 more threads\n",
      "2019-04-11 12:09:34,220 : INFO : EPOCH - 11 : training on 4169816 raw words (3321125 effective words) took 3.1s, 1056319 effective words/s\n",
      "2019-04-11 12:09:35,243 : INFO : EPOCH 12 - PROGRESS: at 32.68% examples, 1070332 words/s, in_qsize 19, out_qsize 0\n",
      "2019-04-11 12:09:36,260 : INFO : EPOCH 12 - PROGRESS: at 60.23% examples, 989150 words/s, in_qsize 18, out_qsize 1\n",
      "2019-04-11 12:09:37,281 : INFO : EPOCH 12 - PROGRESS: at 88.09% examples, 958295 words/s, in_qsize 20, out_qsize 0\n",
      "2019-04-11 12:09:37,619 : INFO : worker thread finished; awaiting finish of 9 more threads\n",
      "2019-04-11 12:09:37,626 : INFO : worker thread finished; awaiting finish of 8 more threads\n",
      "2019-04-11 12:09:37,631 : INFO : worker thread finished; awaiting finish of 7 more threads\n",
      "2019-04-11 12:09:37,643 : INFO : worker thread finished; awaiting finish of 6 more threads\n",
      "2019-04-11 12:09:37,649 : INFO : worker thread finished; awaiting finish of 5 more threads\n",
      "2019-04-11 12:09:37,658 : INFO : worker thread finished; awaiting finish of 4 more threads\n",
      "2019-04-11 12:09:37,659 : INFO : worker thread finished; awaiting finish of 3 more threads\n",
      "2019-04-11 12:09:37,667 : INFO : worker thread finished; awaiting finish of 2 more threads\n",
      "2019-04-11 12:09:37,670 : INFO : worker thread finished; awaiting finish of 1 more threads\n",
      "2019-04-11 12:09:37,678 : INFO : worker thread finished; awaiting finish of 0 more threads\n",
      "2019-04-11 12:09:37,679 : INFO : EPOCH - 12 : training on 4169816 raw words (3320820 effective words) took 3.4s, 963528 effective words/s\n",
      "2019-04-11 12:09:38,699 : INFO : EPOCH 13 - PROGRESS: at 31.21% examples, 1029128 words/s, in_qsize 19, out_qsize 0\n",
      "2019-04-11 12:09:39,706 : INFO : EPOCH 13 - PROGRESS: at 64.99% examples, 1076248 words/s, in_qsize 19, out_qsize 0\n",
      "2019-04-11 12:09:40,681 : INFO : worker thread finished; awaiting finish of 9 more threads\n",
      "2019-04-11 12:09:40,683 : INFO : worker thread finished; awaiting finish of 8 more threads\n",
      "2019-04-11 12:09:40,702 : INFO : worker thread finished; awaiting finish of 7 more threads\n",
      "2019-04-11 12:09:40,706 : INFO : worker thread finished; awaiting finish of 6 more threads\n",
      "2019-04-11 12:09:40,711 : INFO : EPOCH 13 - PROGRESS: at 98.96% examples, 1089498 words/s, in_qsize 4, out_qsize 3\n",
      "2019-04-11 12:09:40,712 : INFO : worker thread finished; awaiting finish of 5 more threads\n",
      "2019-04-11 12:09:40,714 : INFO : worker thread finished; awaiting finish of 4 more threads\n",
      "2019-04-11 12:09:40,716 : INFO : worker thread finished; awaiting finish of 3 more threads\n",
      "2019-04-11 12:09:40,717 : INFO : worker thread finished; awaiting finish of 2 more threads\n",
      "2019-04-11 12:09:40,728 : INFO : worker thread finished; awaiting finish of 1 more threads\n",
      "2019-04-11 12:09:40,731 : INFO : worker thread finished; awaiting finish of 0 more threads\n",
      "2019-04-11 12:09:40,731 : INFO : EPOCH - 13 : training on 4169816 raw words (3320137 effective words) took 3.0s, 1093084 effective words/s\n"
     ]
    },
    {
     "name": "stderr",
     "output_type": "stream",
     "text": [
      "2019-04-11 12:09:41,746 : INFO : EPOCH 14 - PROGRESS: at 34.51% examples, 1144702 words/s, in_qsize 19, out_qsize 0\n",
      "2019-04-11 12:09:42,760 : INFO : EPOCH 14 - PROGRESS: at 69.00% examples, 1137576 words/s, in_qsize 20, out_qsize 0\n",
      "2019-04-11 12:09:43,621 : INFO : worker thread finished; awaiting finish of 9 more threads\n",
      "2019-04-11 12:09:43,637 : INFO : worker thread finished; awaiting finish of 8 more threads\n",
      "2019-04-11 12:09:43,640 : INFO : worker thread finished; awaiting finish of 7 more threads\n",
      "2019-04-11 12:09:43,641 : INFO : worker thread finished; awaiting finish of 6 more threads\n",
      "2019-04-11 12:09:43,643 : INFO : worker thread finished; awaiting finish of 5 more threads\n",
      "2019-04-11 12:09:43,645 : INFO : worker thread finished; awaiting finish of 4 more threads\n",
      "2019-04-11 12:09:43,646 : INFO : worker thread finished; awaiting finish of 3 more threads\n",
      "2019-04-11 12:09:43,647 : INFO : worker thread finished; awaiting finish of 2 more threads\n",
      "2019-04-11 12:09:43,655 : INFO : worker thread finished; awaiting finish of 1 more threads\n",
      "2019-04-11 12:09:43,664 : INFO : worker thread finished; awaiting finish of 0 more threads\n",
      "2019-04-11 12:09:43,665 : INFO : EPOCH - 14 : training on 4169816 raw words (3321174 effective words) took 2.9s, 1137209 effective words/s\n",
      "2019-04-11 12:09:44,697 : INFO : EPOCH 15 - PROGRESS: at 34.49% examples, 1136216 words/s, in_qsize 19, out_qsize 0\n",
      "2019-04-11 12:09:45,701 : INFO : EPOCH 15 - PROGRESS: at 57.87% examples, 956698 words/s, in_qsize 18, out_qsize 1\n",
      "2019-04-11 12:09:46,711 : INFO : EPOCH 15 - PROGRESS: at 83.46% examples, 916176 words/s, in_qsize 19, out_qsize 1\n",
      "2019-04-11 12:09:47,333 : INFO : worker thread finished; awaiting finish of 9 more threads\n",
      "2019-04-11 12:09:47,336 : INFO : worker thread finished; awaiting finish of 8 more threads\n",
      "2019-04-11 12:09:47,352 : INFO : worker thread finished; awaiting finish of 7 more threads\n",
      "2019-04-11 12:09:47,357 : INFO : worker thread finished; awaiting finish of 6 more threads\n",
      "2019-04-11 12:09:47,369 : INFO : worker thread finished; awaiting finish of 5 more threads\n",
      "2019-04-11 12:09:47,370 : INFO : worker thread finished; awaiting finish of 4 more threads\n",
      "2019-04-11 12:09:47,371 : INFO : worker thread finished; awaiting finish of 3 more threads\n",
      "2019-04-11 12:09:47,372 : INFO : worker thread finished; awaiting finish of 2 more threads\n",
      "2019-04-11 12:09:47,380 : INFO : worker thread finished; awaiting finish of 1 more threads\n",
      "2019-04-11 12:09:47,394 : INFO : worker thread finished; awaiting finish of 0 more threads\n",
      "2019-04-11 12:09:47,395 : INFO : EPOCH - 15 : training on 4169816 raw words (3320347 effective words) took 3.7s, 895702 effective words/s\n",
      "2019-04-11 12:09:48,432 : INFO : EPOCH 16 - PROGRESS: at 20.63% examples, 670372 words/s, in_qsize 19, out_qsize 0\n",
      "2019-04-11 12:09:49,454 : INFO : EPOCH 16 - PROGRESS: at 49.97% examples, 814258 words/s, in_qsize 18, out_qsize 1\n",
      "2019-04-11 12:09:50,460 : INFO : EPOCH 16 - PROGRESS: at 80.00% examples, 871943 words/s, in_qsize 15, out_qsize 4\n",
      "2019-04-11 12:09:51,013 : INFO : worker thread finished; awaiting finish of 9 more threads\n",
      "2019-04-11 12:09:51,022 : INFO : worker thread finished; awaiting finish of 8 more threads\n",
      "2019-04-11 12:09:51,028 : INFO : worker thread finished; awaiting finish of 7 more threads\n",
      "2019-04-11 12:09:51,031 : INFO : worker thread finished; awaiting finish of 6 more threads\n",
      "2019-04-11 12:09:51,033 : INFO : worker thread finished; awaiting finish of 5 more threads\n",
      "2019-04-11 12:09:51,034 : INFO : worker thread finished; awaiting finish of 4 more threads\n",
      "2019-04-11 12:09:51,037 : INFO : worker thread finished; awaiting finish of 3 more threads\n",
      "2019-04-11 12:09:51,046 : INFO : worker thread finished; awaiting finish of 2 more threads\n",
      "2019-04-11 12:09:51,048 : INFO : worker thread finished; awaiting finish of 1 more threads\n",
      "2019-04-11 12:09:51,051 : INFO : worker thread finished; awaiting finish of 0 more threads\n",
      "2019-04-11 12:09:51,052 : INFO : EPOCH - 16 : training on 4169816 raw words (3320232 effective words) took 3.6s, 912127 effective words/s\n",
      "2019-04-11 12:09:52,066 : INFO : EPOCH 17 - PROGRESS: at 29.73% examples, 986209 words/s, in_qsize 19, out_qsize 0\n",
      "2019-04-11 12:09:53,078 : INFO : EPOCH 17 - PROGRESS: at 62.65% examples, 1036415 words/s, in_qsize 18, out_qsize 1\n",
      "2019-04-11 12:09:54,087 : INFO : EPOCH 17 - PROGRESS: at 93.04% examples, 1021833 words/s, in_qsize 18, out_qsize 1\n",
      "2019-04-11 12:09:54,236 : INFO : worker thread finished; awaiting finish of 9 more threads\n",
      "2019-04-11 12:09:54,245 : INFO : worker thread finished; awaiting finish of 8 more threads\n",
      "2019-04-11 12:09:54,261 : INFO : worker thread finished; awaiting finish of 7 more threads\n",
      "2019-04-11 12:09:54,266 : INFO : worker thread finished; awaiting finish of 6 more threads\n",
      "2019-04-11 12:09:54,269 : INFO : worker thread finished; awaiting finish of 5 more threads\n",
      "2019-04-11 12:09:54,276 : INFO : worker thread finished; awaiting finish of 4 more threads\n",
      "2019-04-11 12:09:54,279 : INFO : worker thread finished; awaiting finish of 3 more threads\n",
      "2019-04-11 12:09:54,285 : INFO : worker thread finished; awaiting finish of 2 more threads\n",
      "2019-04-11 12:09:54,290 : INFO : worker thread finished; awaiting finish of 1 more threads\n",
      "2019-04-11 12:09:54,292 : INFO : worker thread finished; awaiting finish of 0 more threads\n",
      "2019-04-11 12:09:54,293 : INFO : EPOCH - 17 : training on 4169816 raw words (3320443 effective words) took 3.2s, 1028724 effective words/s\n",
      "2019-04-11 12:09:55,311 : INFO : EPOCH 18 - PROGRESS: at 32.39% examples, 1069692 words/s, in_qsize 19, out_qsize 1\n",
      "2019-04-11 12:09:56,318 : INFO : EPOCH 18 - PROGRESS: at 65.76% examples, 1088779 words/s, in_qsize 20, out_qsize 0\n",
      "2019-04-11 12:09:57,269 : INFO : worker thread finished; awaiting finish of 9 more threads\n",
      "2019-04-11 12:09:57,271 : INFO : worker thread finished; awaiting finish of 8 more threads\n",
      "2019-04-11 12:09:57,279 : INFO : worker thread finished; awaiting finish of 7 more threads\n",
      "2019-04-11 12:09:57,284 : INFO : worker thread finished; awaiting finish of 6 more threads\n",
      "2019-04-11 12:09:57,287 : INFO : worker thread finished; awaiting finish of 5 more threads\n",
      "2019-04-11 12:09:57,289 : INFO : worker thread finished; awaiting finish of 4 more threads\n",
      "2019-04-11 12:09:57,294 : INFO : worker thread finished; awaiting finish of 3 more threads\n",
      "2019-04-11 12:09:57,296 : INFO : worker thread finished; awaiting finish of 2 more threads\n",
      "2019-04-11 12:09:57,302 : INFO : worker thread finished; awaiting finish of 1 more threads\n",
      "2019-04-11 12:09:57,304 : INFO : worker thread finished; awaiting finish of 0 more threads\n",
      "2019-04-11 12:09:57,305 : INFO : EPOCH - 18 : training on 4169816 raw words (3321454 effective words) took 3.0s, 1107761 effective words/s\n",
      "2019-04-11 12:09:58,319 : INFO : EPOCH 19 - PROGRESS: at 31.21% examples, 1032804 words/s, in_qsize 19, out_qsize 0\n",
      "2019-04-11 12:09:59,321 : INFO : EPOCH 19 - PROGRESS: at 64.31% examples, 1068980 words/s, in_qsize 19, out_qsize 0\n",
      "2019-04-11 12:10:00,325 : INFO : EPOCH 19 - PROGRESS: at 92.56% examples, 1021708 words/s, in_qsize 19, out_qsize 1\n",
      "2019-04-11 12:10:00,465 : INFO : worker thread finished; awaiting finish of 9 more threads\n",
      "2019-04-11 12:10:00,473 : INFO : worker thread finished; awaiting finish of 8 more threads\n",
      "2019-04-11 12:10:00,477 : INFO : worker thread finished; awaiting finish of 7 more threads\n",
      "2019-04-11 12:10:00,492 : INFO : worker thread finished; awaiting finish of 6 more threads\n",
      "2019-04-11 12:10:00,495 : INFO : worker thread finished; awaiting finish of 5 more threads\n",
      "2019-04-11 12:10:00,496 : INFO : worker thread finished; awaiting finish of 4 more threads\n",
      "2019-04-11 12:10:00,497 : INFO : worker thread finished; awaiting finish of 3 more threads\n",
      "2019-04-11 12:10:00,501 : INFO : worker thread finished; awaiting finish of 2 more threads\n",
      "2019-04-11 12:10:00,506 : INFO : worker thread finished; awaiting finish of 1 more threads\n",
      "2019-04-11 12:10:00,514 : INFO : worker thread finished; awaiting finish of 0 more threads\n",
      "2019-04-11 12:10:00,516 : INFO : EPOCH - 19 : training on 4169816 raw words (3321745 effective words) took 3.2s, 1038509 effective words/s\n",
      "2019-04-11 12:10:01,535 : INFO : EPOCH 20 - PROGRESS: at 29.48% examples, 974914 words/s, in_qsize 18, out_qsize 1\n"
     ]
    },
    {
     "name": "stderr",
     "output_type": "stream",
     "text": [
      "2019-04-11 12:10:02,538 : INFO : EPOCH 20 - PROGRESS: at 64.77% examples, 1075060 words/s, in_qsize 19, out_qsize 0\n",
      "2019-04-11 12:10:03,364 : INFO : worker thread finished; awaiting finish of 9 more threads\n",
      "2019-04-11 12:10:03,369 : INFO : worker thread finished; awaiting finish of 8 more threads\n",
      "2019-04-11 12:10:03,371 : INFO : worker thread finished; awaiting finish of 7 more threads\n",
      "2019-04-11 12:10:03,387 : INFO : worker thread finished; awaiting finish of 6 more threads\n",
      "2019-04-11 12:10:03,394 : INFO : worker thread finished; awaiting finish of 5 more threads\n",
      "2019-04-11 12:10:03,396 : INFO : worker thread finished; awaiting finish of 4 more threads\n",
      "2019-04-11 12:10:03,397 : INFO : worker thread finished; awaiting finish of 3 more threads\n",
      "2019-04-11 12:10:03,398 : INFO : worker thread finished; awaiting finish of 2 more threads\n",
      "2019-04-11 12:10:03,406 : INFO : worker thread finished; awaiting finish of 1 more threads\n",
      "2019-04-11 12:10:03,410 : INFO : worker thread finished; awaiting finish of 0 more threads\n",
      "2019-04-11 12:10:03,411 : INFO : EPOCH - 20 : training on 4169816 raw words (3320628 effective words) took 2.9s, 1153114 effective words/s\n",
      "2019-04-11 12:10:04,433 : INFO : EPOCH 21 - PROGRESS: at 38.32% examples, 1261180 words/s, in_qsize 19, out_qsize 0\n",
      "2019-04-11 12:10:05,439 : INFO : EPOCH 21 - PROGRESS: at 78.10% examples, 1287254 words/s, in_qsize 19, out_qsize 0\n",
      "2019-04-11 12:10:05,932 : INFO : worker thread finished; awaiting finish of 9 more threads\n",
      "2019-04-11 12:10:05,935 : INFO : worker thread finished; awaiting finish of 8 more threads\n",
      "2019-04-11 12:10:05,951 : INFO : worker thread finished; awaiting finish of 7 more threads\n",
      "2019-04-11 12:10:05,955 : INFO : worker thread finished; awaiting finish of 6 more threads\n",
      "2019-04-11 12:10:05,956 : INFO : worker thread finished; awaiting finish of 5 more threads\n",
      "2019-04-11 12:10:05,957 : INFO : worker thread finished; awaiting finish of 4 more threads\n",
      "2019-04-11 12:10:05,959 : INFO : worker thread finished; awaiting finish of 3 more threads\n",
      "2019-04-11 12:10:05,960 : INFO : worker thread finished; awaiting finish of 2 more threads\n",
      "2019-04-11 12:10:05,970 : INFO : worker thread finished; awaiting finish of 1 more threads\n",
      "2019-04-11 12:10:05,972 : INFO : worker thread finished; awaiting finish of 0 more threads\n",
      "2019-04-11 12:10:05,973 : INFO : EPOCH - 21 : training on 4169816 raw words (3320847 effective words) took 2.5s, 1302421 effective words/s\n",
      "2019-04-11 12:10:06,987 : INFO : EPOCH 22 - PROGRESS: at 31.20% examples, 1032031 words/s, in_qsize 19, out_qsize 0\n",
      "2019-04-11 12:10:08,002 : INFO : EPOCH 22 - PROGRESS: at 66.27% examples, 1093542 words/s, in_qsize 19, out_qsize 0\n",
      "2019-04-11 12:10:08,857 : INFO : worker thread finished; awaiting finish of 9 more threads\n",
      "2019-04-11 12:10:08,860 : INFO : worker thread finished; awaiting finish of 8 more threads\n",
      "2019-04-11 12:10:08,886 : INFO : worker thread finished; awaiting finish of 7 more threads\n",
      "2019-04-11 12:10:08,887 : INFO : worker thread finished; awaiting finish of 6 more threads\n",
      "2019-04-11 12:10:08,888 : INFO : worker thread finished; awaiting finish of 5 more threads\n",
      "2019-04-11 12:10:08,889 : INFO : worker thread finished; awaiting finish of 4 more threads\n",
      "2019-04-11 12:10:08,890 : INFO : worker thread finished; awaiting finish of 3 more threads\n",
      "2019-04-11 12:10:08,892 : INFO : worker thread finished; awaiting finish of 2 more threads\n",
      "2019-04-11 12:10:08,898 : INFO : worker thread finished; awaiting finish of 1 more threads\n",
      "2019-04-11 12:10:08,909 : INFO : worker thread finished; awaiting finish of 0 more threads\n",
      "2019-04-11 12:10:08,909 : INFO : EPOCH - 22 : training on 4169816 raw words (3321412 effective words) took 2.9s, 1135563 effective words/s\n",
      "2019-04-11 12:10:09,947 : INFO : EPOCH 23 - PROGRESS: at 36.38% examples, 1181955 words/s, in_qsize 18, out_qsize 1\n",
      "2019-04-11 12:10:10,971 : INFO : EPOCH 23 - PROGRESS: at 72.78% examples, 1182491 words/s, in_qsize 16, out_qsize 3\n",
      "2019-04-11 12:10:11,611 : INFO : worker thread finished; awaiting finish of 9 more threads\n",
      "2019-04-11 12:10:11,617 : INFO : worker thread finished; awaiting finish of 8 more threads\n",
      "2019-04-11 12:10:11,628 : INFO : worker thread finished; awaiting finish of 7 more threads\n",
      "2019-04-11 12:10:11,640 : INFO : worker thread finished; awaiting finish of 6 more threads\n",
      "2019-04-11 12:10:11,641 : INFO : worker thread finished; awaiting finish of 5 more threads\n",
      "2019-04-11 12:10:11,642 : INFO : worker thread finished; awaiting finish of 4 more threads\n",
      "2019-04-11 12:10:11,643 : INFO : worker thread finished; awaiting finish of 3 more threads\n",
      "2019-04-11 12:10:11,649 : INFO : worker thread finished; awaiting finish of 2 more threads\n",
      "2019-04-11 12:10:11,653 : INFO : worker thread finished; awaiting finish of 1 more threads\n",
      "2019-04-11 12:10:11,662 : INFO : worker thread finished; awaiting finish of 0 more threads\n",
      "2019-04-11 12:10:11,662 : INFO : EPOCH - 23 : training on 4169816 raw words (3321633 effective words) took 2.7s, 1212855 effective words/s\n",
      "2019-04-11 12:10:12,677 : INFO : EPOCH 24 - PROGRESS: at 36.16% examples, 1201082 words/s, in_qsize 18, out_qsize 1\n",
      "2019-04-11 12:10:13,677 : INFO : EPOCH 24 - PROGRESS: at 73.19% examples, 1217227 words/s, in_qsize 19, out_qsize 0\n",
      "2019-04-11 12:10:14,315 : INFO : worker thread finished; awaiting finish of 9 more threads\n",
      "2019-04-11 12:10:14,328 : INFO : worker thread finished; awaiting finish of 8 more threads\n",
      "2019-04-11 12:10:14,333 : INFO : worker thread finished; awaiting finish of 7 more threads\n",
      "2019-04-11 12:10:14,335 : INFO : worker thread finished; awaiting finish of 6 more threads\n",
      "2019-04-11 12:10:14,336 : INFO : worker thread finished; awaiting finish of 5 more threads\n",
      "2019-04-11 12:10:14,337 : INFO : worker thread finished; awaiting finish of 4 more threads\n",
      "2019-04-11 12:10:14,338 : INFO : worker thread finished; awaiting finish of 3 more threads\n",
      "2019-04-11 12:10:14,339 : INFO : worker thread finished; awaiting finish of 2 more threads\n",
      "2019-04-11 12:10:14,344 : INFO : worker thread finished; awaiting finish of 1 more threads\n",
      "2019-04-11 12:10:14,348 : INFO : worker thread finished; awaiting finish of 0 more threads\n",
      "2019-04-11 12:10:14,349 : INFO : EPOCH - 24 : training on 4169816 raw words (3320134 effective words) took 2.7s, 1242365 effective words/s\n",
      "2019-04-11 12:10:15,370 : INFO : EPOCH 25 - PROGRESS: at 36.38% examples, 1201704 words/s, in_qsize 19, out_qsize 0\n",
      "2019-04-11 12:10:16,370 : INFO : EPOCH 25 - PROGRESS: at 73.45% examples, 1218206 words/s, in_qsize 19, out_qsize 0\n",
      "2019-04-11 12:10:17,143 : INFO : worker thread finished; awaiting finish of 9 more threads\n",
      "2019-04-11 12:10:17,150 : INFO : worker thread finished; awaiting finish of 8 more threads\n",
      "2019-04-11 12:10:17,167 : INFO : worker thread finished; awaiting finish of 7 more threads\n",
      "2019-04-11 12:10:17,174 : INFO : worker thread finished; awaiting finish of 6 more threads\n",
      "2019-04-11 12:10:17,178 : INFO : worker thread finished; awaiting finish of 5 more threads\n",
      "2019-04-11 12:10:17,179 : INFO : worker thread finished; awaiting finish of 4 more threads\n",
      "2019-04-11 12:10:17,180 : INFO : worker thread finished; awaiting finish of 3 more threads\n",
      "2019-04-11 12:10:17,181 : INFO : worker thread finished; awaiting finish of 2 more threads\n",
      "2019-04-11 12:10:17,194 : INFO : worker thread finished; awaiting finish of 1 more threads\n",
      "2019-04-11 12:10:17,196 : INFO : worker thread finished; awaiting finish of 0 more threads\n",
      "2019-04-11 12:10:17,197 : INFO : EPOCH - 25 : training on 4169816 raw words (3322133 effective words) took 2.8s, 1172016 effective words/s\n",
      "2019-04-11 12:10:18,221 : INFO : EPOCH 26 - PROGRESS: at 31.74% examples, 1040618 words/s, in_qsize 19, out_qsize 0\n",
      "2019-04-11 12:10:19,224 : INFO : EPOCH 26 - PROGRESS: at 57.61% examples, 953607 words/s, in_qsize 19, out_qsize 0\n",
      "2019-04-11 12:10:20,227 : INFO : EPOCH 26 - PROGRESS: at 90.93% examples, 1000692 words/s, in_qsize 17, out_qsize 2\n",
      "2019-04-11 12:10:20,394 : INFO : worker thread finished; awaiting finish of 9 more threads\n",
      "2019-04-11 12:10:20,403 : INFO : worker thread finished; awaiting finish of 8 more threads\n",
      "2019-04-11 12:10:20,410 : INFO : worker thread finished; awaiting finish of 7 more threads\n",
      "2019-04-11 12:10:20,412 : INFO : worker thread finished; awaiting finish of 6 more threads\n"
     ]
    },
    {
     "name": "stderr",
     "output_type": "stream",
     "text": [
      "2019-04-11 12:10:20,414 : INFO : worker thread finished; awaiting finish of 5 more threads\n",
      "2019-04-11 12:10:20,414 : INFO : worker thread finished; awaiting finish of 4 more threads\n",
      "2019-04-11 12:10:20,417 : INFO : worker thread finished; awaiting finish of 3 more threads\n",
      "2019-04-11 12:10:20,423 : INFO : worker thread finished; awaiting finish of 2 more threads\n",
      "2019-04-11 12:10:20,424 : INFO : worker thread finished; awaiting finish of 1 more threads\n",
      "2019-04-11 12:10:20,428 : INFO : worker thread finished; awaiting finish of 0 more threads\n",
      "2019-04-11 12:10:20,429 : INFO : EPOCH - 26 : training on 4169816 raw words (3321373 effective words) took 3.2s, 1032295 effective words/s\n",
      "2019-04-11 12:10:21,445 : INFO : EPOCH 27 - PROGRESS: at 35.89% examples, 1190778 words/s, in_qsize 19, out_qsize 0\n",
      "2019-04-11 12:10:22,448 : INFO : EPOCH 27 - PROGRESS: at 72.07% examples, 1194657 words/s, in_qsize 19, out_qsize 0\n",
      "2019-04-11 12:10:23,195 : INFO : worker thread finished; awaiting finish of 9 more threads\n",
      "2019-04-11 12:10:23,198 : INFO : worker thread finished; awaiting finish of 8 more threads\n",
      "2019-04-11 12:10:23,216 : INFO : worker thread finished; awaiting finish of 7 more threads\n",
      "2019-04-11 12:10:23,229 : INFO : worker thread finished; awaiting finish of 6 more threads\n",
      "2019-04-11 12:10:23,232 : INFO : worker thread finished; awaiting finish of 5 more threads\n",
      "2019-04-11 12:10:23,235 : INFO : worker thread finished; awaiting finish of 4 more threads\n",
      "2019-04-11 12:10:23,238 : INFO : worker thread finished; awaiting finish of 3 more threads\n",
      "2019-04-11 12:10:23,239 : INFO : worker thread finished; awaiting finish of 2 more threads\n",
      "2019-04-11 12:10:23,244 : INFO : worker thread finished; awaiting finish of 1 more threads\n",
      "2019-04-11 12:10:23,246 : INFO : worker thread finished; awaiting finish of 0 more threads\n",
      "2019-04-11 12:10:23,246 : INFO : EPOCH - 27 : training on 4169816 raw words (3321281 effective words) took 2.8s, 1184430 effective words/s\n",
      "2019-04-11 12:10:24,264 : INFO : EPOCH 28 - PROGRESS: at 34.03% examples, 1127321 words/s, in_qsize 19, out_qsize 1\n",
      "2019-04-11 12:10:25,273 : INFO : EPOCH 28 - PROGRESS: at 68.24% examples, 1127806 words/s, in_qsize 19, out_qsize 0\n",
      "2019-04-11 12:10:26,087 : INFO : worker thread finished; awaiting finish of 9 more threads\n",
      "2019-04-11 12:10:26,095 : INFO : worker thread finished; awaiting finish of 8 more threads\n",
      "2019-04-11 12:10:26,103 : INFO : worker thread finished; awaiting finish of 7 more threads\n",
      "2019-04-11 12:10:26,110 : INFO : worker thread finished; awaiting finish of 6 more threads\n",
      "2019-04-11 12:10:26,112 : INFO : worker thread finished; awaiting finish of 5 more threads\n",
      "2019-04-11 12:10:26,116 : INFO : worker thread finished; awaiting finish of 4 more threads\n",
      "2019-04-11 12:10:26,122 : INFO : worker thread finished; awaiting finish of 3 more threads\n",
      "2019-04-11 12:10:26,123 : INFO : worker thread finished; awaiting finish of 2 more threads\n",
      "2019-04-11 12:10:26,131 : INFO : worker thread finished; awaiting finish of 1 more threads\n",
      "2019-04-11 12:10:26,133 : INFO : worker thread finished; awaiting finish of 0 more threads\n",
      "2019-04-11 12:10:26,134 : INFO : EPOCH - 28 : training on 4169816 raw words (3320686 effective words) took 2.9s, 1156008 effective words/s\n",
      "2019-04-11 12:10:27,148 : INFO : EPOCH 29 - PROGRESS: at 34.51% examples, 1145143 words/s, in_qsize 19, out_qsize 0\n",
      "2019-04-11 12:10:28,160 : INFO : EPOCH 29 - PROGRESS: at 66.76% examples, 1104003 words/s, in_qsize 19, out_qsize 0\n",
      "2019-04-11 12:10:29,018 : INFO : worker thread finished; awaiting finish of 9 more threads\n",
      "2019-04-11 12:10:29,029 : INFO : worker thread finished; awaiting finish of 8 more threads\n",
      "2019-04-11 12:10:29,033 : INFO : worker thread finished; awaiting finish of 7 more threads\n",
      "2019-04-11 12:10:29,047 : INFO : worker thread finished; awaiting finish of 6 more threads\n",
      "2019-04-11 12:10:29,050 : INFO : worker thread finished; awaiting finish of 5 more threads\n",
      "2019-04-11 12:10:29,054 : INFO : worker thread finished; awaiting finish of 4 more threads\n",
      "2019-04-11 12:10:29,055 : INFO : worker thread finished; awaiting finish of 3 more threads\n",
      "2019-04-11 12:10:29,058 : INFO : worker thread finished; awaiting finish of 2 more threads\n",
      "2019-04-11 12:10:29,060 : INFO : worker thread finished; awaiting finish of 1 more threads\n",
      "2019-04-11 12:10:29,069 : INFO : worker thread finished; awaiting finish of 0 more threads\n",
      "2019-04-11 12:10:29,069 : INFO : EPOCH - 29 : training on 4169816 raw words (3320149 effective words) took 2.9s, 1136365 effective words/s\n",
      "2019-04-11 12:10:30,102 : INFO : EPOCH 30 - PROGRESS: at 36.40% examples, 1188622 words/s, in_qsize 19, out_qsize 0\n",
      "2019-04-11 12:10:31,105 : INFO : EPOCH 30 - PROGRESS: at 73.93% examples, 1217368 words/s, in_qsize 18, out_qsize 1\n",
      "2019-04-11 12:10:31,817 : INFO : worker thread finished; awaiting finish of 9 more threads\n",
      "2019-04-11 12:10:31,824 : INFO : worker thread finished; awaiting finish of 8 more threads\n",
      "2019-04-11 12:10:31,835 : INFO : worker thread finished; awaiting finish of 7 more threads\n",
      "2019-04-11 12:10:31,837 : INFO : worker thread finished; awaiting finish of 6 more threads\n",
      "2019-04-11 12:10:31,838 : INFO : worker thread finished; awaiting finish of 5 more threads\n",
      "2019-04-11 12:10:31,839 : INFO : worker thread finished; awaiting finish of 4 more threads\n",
      "2019-04-11 12:10:31,842 : INFO : worker thread finished; awaiting finish of 3 more threads\n",
      "2019-04-11 12:10:31,843 : INFO : worker thread finished; awaiting finish of 2 more threads\n",
      "2019-04-11 12:10:31,851 : INFO : worker thread finished; awaiting finish of 1 more threads\n",
      "2019-04-11 12:10:31,861 : INFO : worker thread finished; awaiting finish of 0 more threads\n",
      "2019-04-11 12:10:31,862 : INFO : EPOCH - 30 : training on 4169816 raw words (3321412 effective words) took 2.8s, 1195649 effective words/s\n",
      "2019-04-11 12:10:31,863 : INFO : training on a 125094480 raw words (99631447 effective words) took 90.7s, 1098992 effective words/s\n"
     ]
    },
    {
     "data": {
      "text/plain": [
       "(99631447, 125094480)"
      ]
     },
     "execution_count": 6,
     "metadata": {},
     "output_type": "execute_result"
    }
   ],
   "source": [
    "model = gensim.models.Word2Vec (documents, size=150, window=10, min_count=2, workers=10)\n",
    "model.train(documents,total_examples=len(documents),epochs=30)"
   ]
  },
  {
   "cell_type": "code",
   "execution_count": 133,
   "metadata": {
    "pycharm": {}
   },
   "outputs": [
    {
     "name": "stdout",
     "output_type": "stream",
     "text": [
      "[('yep', 0.4705391824245453), ('yeah', 0.40171346068382263), ('ok', 0.3854413628578186), ('also', 0.37402111291885376), ('still', 0.3661518096923828), ('not', 0.32625606656074524), ('correct', 0.32489296793937683), ('technically', 0.32411783933639526), ('deprecated', 0.31837207078933716), ('yah', 0.3139795958995819)]\n"
     ]
    },
    {
     "data": {
      "text/plain": [
       "[('what', 0.5706781148910522),\n",
       " ('anyone', 0.49943992495536804),\n",
       " ('anybody', 0.48487603664398193),\n",
       " ('reinhard', 0.4716574251651764),\n",
       " ('someone', 0.46277058124542236),\n",
       " ('somebody', 0.4620576500892639),\n",
       " ('anything', 0.43369153141975403),\n",
       " ('who', 0.42737510800361633),\n",
       " ('know', 0.4136282503604889),\n",
       " ('reportlabs', 0.4118925631046295)]"
      ]
     },
     "execution_count": 133,
     "metadata": {},
     "output_type": "execute_result"
    }
   ],
   "source": [
    "w1 = \"hi\"\n",
    "hi_vec = model.wv.word_vec(w1)\n",
    "# print(hi_vec)\n",
    "model.wv.most_similar(positive=w1)\n",
    "print(model.wv.similar_by_word(\"yes\"))\n",
    "# print(svs[3])\n",
    "model.wv.similar_by_vector(svs[430])\n",
    "# svs[0]"
   ]
  },
  {
   "cell_type": "code",
   "execution_count": 109,
   "metadata": {
    "pycharm": {}
   },
   "outputs": [
    {
     "data": {
      "text/plain": [
       "array([-0.03135124,  1.2129529 , -0.79715836, -1.8308288 ,  0.4907622 ,\n",
       "        1.1276971 , -0.32817286,  0.19805674,  0.02772181,  0.25818926,\n",
       "        0.42525584, -1.1003402 , -0.22541124, -1.6306183 , -0.14814904,\n",
       "        0.55835855,  0.46363   ,  0.38090482,  1.1816655 , -0.39435875,\n",
       "        1.643432  ,  1.8381475 ,  0.16281776, -0.13909623, -0.22085871,\n",
       "        1.1222386 ,  0.80230576,  0.8636888 ,  0.34996024, -0.93690115,\n",
       "        1.1480107 ,  1.7027161 ,  0.13138667, -0.8414984 , -0.16195013,\n",
       "       -1.0490205 ,  0.623895  ,  0.0026741 ,  1.0096171 ,  1.3378421 ,\n",
       "       -0.06086442,  0.11471634, -0.17178415,  0.47939003,  0.15147865,\n",
       "       -2.1511607 ,  0.7102236 , -0.20657034, -0.624123  ,  1.1227851 ,\n",
       "       -0.36108878,  0.6622783 , -0.22130087, -1.4422998 , -0.7275693 ,\n",
       "       -0.10384305, -0.13879171,  0.5134441 ,  0.00515444,  0.52122694,\n",
       "        0.5395217 , -0.791034  , -0.5890757 , -0.82481664,  0.4689453 ,\n",
       "        1.8096837 , -0.37319225, -0.8374059 , -0.28248352,  0.3963502 ,\n",
       "       -0.6180019 , -0.8415863 , -0.43146625,  0.29731226,  0.85822093,\n",
       "        0.13002999,  0.39417303,  0.95019627, -0.27737916,  1.383009  ,\n",
       "        0.54841393, -0.20170066,  0.56356835, -0.7277341 ,  0.17645842,\n",
       "       -0.55966884,  1.2087163 ,  0.08175028, -1.6757561 , -0.09358955,\n",
       "        0.32794422, -0.8864101 ,  0.7607016 , -0.646723  , -0.1658679 ,\n",
       "        0.10769079, -0.18802315,  1.054631  , -0.36265233,  0.46997306,\n",
       "        0.20748252, -0.5274938 ,  0.38337523,  0.51857036, -1.4699388 ,\n",
       "        0.00985422,  0.18940668, -0.93443805, -1.4547864 , -0.48387745,\n",
       "       -1.3679197 , -0.3493242 , -0.45736882, -0.5299915 ,  0.79424864,\n",
       "        0.624247  , -0.9106417 , -1.0358973 , -0.22056553, -0.04301915,\n",
       "       -0.7596997 , -0.7003256 , -1.1644644 ,  0.637983  , -0.60116583,\n",
       "        0.6051148 ,  1.2193106 ,  1.2921692 ,  0.2918376 ,  0.32849607,\n",
       "        0.1868568 , -0.9269129 , -1.6836197 ,  0.04940645,  0.5095558 ,\n",
       "       -1.186841  ,  1.8982946 ,  1.5723398 , -1.3345793 , -0.3547639 ,\n",
       "       -0.55638963,  0.8611981 , -0.36641353,  2.0646033 ,  1.1183566 ,\n",
       "       -0.69266224, -0.43234223, -0.21687675, -0.38730907, -1.0652139 ],\n",
       "      dtype=float32)"
      ]
     },
     "execution_count": 109,
     "metadata": {},
     "output_type": "execute_result"
    }
   ],
   "source": [
    "derek_vector = model.wv.word_vec(\"derek\")\n",
    "derek_vector"
   ]
  },
  {
   "cell_type": "code",
   "execution_count": 15,
   "metadata": {
    "pycharm": {}
   },
   "outputs": [
    {
     "data": {
      "text/plain": [
       "(150,)"
      ]
     },
     "execution_count": 15,
     "metadata": {},
     "output_type": "execute_result"
    }
   ],
   "source": [
    "model.wv.word_vec(\"cvs\").shape"
   ]
  },
  {
   "cell_type": "code",
   "execution_count": 18,
   "metadata": {
    "pycharm": {}
   },
   "outputs": [],
   "source": [
    "# np.multiply(model.wv.word_vec(\"derek\"), 0.0015415098078320612)"
   ]
  },
  {
   "cell_type": "code",
   "execution_count": 19,
   "metadata": {
    "pycharm": {}
   },
   "outputs": [
    {
     "name": "stderr",
     "output_type": "stream",
     "text": [
      "2019-04-11 12:18:15,103 : INFO : saving Word2Vec object under ../data_files/gnue_irc_word2vec_model_30e, separately None\n",
      "2019-04-11 12:18:15,105 : INFO : not storing attribute vectors_norm\n",
      "2019-04-11 12:18:15,106 : INFO : not storing attribute cum_table\n",
      "2019-04-11 12:18:15,543 : INFO : saved ../data_files/gnue_irc_word2vec_model_30e\n"
     ]
    }
   ],
   "source": [
    "# Save the model\n",
    "filename = join(DATA_DIR, \"gnue_irc_word2vec_model_30e\")\n",
    "model.save(filename)"
   ]
  },
  {
   "cell_type": "code",
   "execution_count": 20,
   "metadata": {
    "pycharm": {}
   },
   "outputs": [],
   "source": [
    "# Load Word TF-IDFS\n",
    "def get_word_tf_idfs(word_tf_idfs_filename):\n",
    "    word_tf_idfs = []\n",
    "    with open(word_tf_idfs_filename) as word_tf_idfs_file:\n",
    "        for values in word_tf_idfs_file:\n",
    "            values = [float(value) for value in values.strip().split()]\n",
    "            word_tf_idfs.append(values)\n",
    "    return word_tf_idfs\n",
    "        "
   ]
  },
  {
   "cell_type": "code",
   "execution_count": 21,
   "metadata": {
    "pycharm": {}
   },
   "outputs": [],
   "source": [
    "word_tf_idfs_filename = join(DATA_DIR, \"word_tf_idfs.txt\")\n",
    "word_tf_idfs = get_word_tf_idfs(word_tf_idfs_filename)[:4]"
   ]
  },
  {
   "cell_type": "code",
   "execution_count": 22,
   "metadata": {
    "pycharm": {}
   },
   "outputs": [
    {
     "data": {
      "text/plain": [
       "[0.0005048845017409812, 0.0006060496352296479]"
      ]
     },
     "execution_count": 22,
     "metadata": {},
     "output_type": "execute_result"
    }
   ],
   "source": [
    "word_tf_idfs[1]"
   ]
  },
  {
   "cell_type": "markdown",
   "metadata": {
    "pycharm": {}
   },
   "source": [
    "Generating Sentence Vectors using the **Average of Word2Vec vectors with TF-IDF** method\n",
    "\n",
    "\"This is one of the best approach which I will recommend. Just take the word vectors and multiply it with their TF-IDF scores. Just take the average and it will represent your sentence vector\"\n",
    "\n",
    "https://stackoverflow.com/questions/29760935/how-to-get-vector-for-a-sentence-from-the-word2vec-of-tokens-in-sentence\n"
   ]
  },
  {
   "cell_type": "code",
   "execution_count": 23,
   "metadata": {
    "pycharm": {}
   },
   "outputs": [],
   "source": [
    "def strip_leading_and_trailing_punctuation(word):\n",
    "    return word.strip(string.punctuation) "
   ]
  },
  {
   "cell_type": "code",
   "execution_count": 24,
   "metadata": {
    "pycharm": {}
   },
   "outputs": [],
   "source": [
    "def pre_process_sentence(sentence):\n",
    "    if not sentence:\n",
    "        print(\"No words here\")\n",
    "    if type(sentence) is not str:\n",
    "        try:\n",
    "            sentence = sentence.decode('utf-8')\n",
    "        except Exception:\n",
    "            raise ValueError(\"Input must be a String or ByteString\")\n",
    "        \n",
    "    return sentence"
   ]
  },
  {
   "cell_type": "code",
   "execution_count": 25,
   "metadata": {
    "pycharm": {}
   },
   "outputs": [],
   "source": [
    "def all_chars_in_word_are_punctuation(word):\n",
    "    return all(char in PUNCTUATION_SET for char in word)"
   ]
  },
  {
   "cell_type": "code",
   "execution_count": 26,
   "metadata": {
    "pycharm": {}
   },
   "outputs": [],
   "source": [
    "def get_words_in_sentence(sentence):\n",
    "    words = []\n",
    "    for word in sentence.split():\n",
    "        if not all_chars_in_word_are_punctuation(word):\n",
    "            word = strip_leading_and_trailing_punctuation(word)\n",
    "            if ',' in word:\n",
    "                comma_split_words = word.split(',')\n",
    "                for word in comma_split_words:\n",
    "                    if not all_chars_in_word_are_punctuation(word):\n",
    "                        words.append(word)\n",
    "            else:\n",
    "                words.append(word)\n",
    "    return words"
   ]
  },
  {
   "cell_type": "code",
   "execution_count": 27,
   "metadata": {
    "pycharm": {}
   },
   "outputs": [],
   "source": [
    "def get_sentence_word_vectors(sentence, model):\n",
    "    sentence = pre_process_sentence(sentence)\n",
    "    vectors = []\n",
    "    words = get_words_in_sentence(sentence)\n",
    "    if not words:\n",
    "        return [np.zeros((150,))]\n",
    "    for word in words:\n",
    "        try:\n",
    "            vectors.append(model.wv.word_vec(word.lower()))\n",
    "        except KeyError:\n",
    "            vectors.append(np.zeros((150,)))\n",
    "    \n",
    "    return vectors\n",
    "    "
   ]
  },
  {
   "cell_type": "code",
   "execution_count": 28,
   "metadata": {
    "pycharm": {}
   },
   "outputs": [
    {
     "data": {
      "text/plain": [
       "2"
      ]
     },
     "execution_count": 28,
     "metadata": {},
     "output_type": "execute_result"
    }
   ],
   "source": [
    "len([vec for vec in get_sentence_word_vectors(\"cvs diff\", model)])"
   ]
  },
  {
   "cell_type": "code",
   "execution_count": 31,
   "metadata": {
    "pycharm": {}
   },
   "outputs": [
    {
     "data": {
      "text/plain": [
       "(150,)"
      ]
     },
     "execution_count": 31,
     "metadata": {},
     "output_type": "execute_result"
    }
   ],
   "source": [
    "get_sentence_word_vectors(\"cvs ddghsdg\", model)[1].shape"
   ]
  },
  {
   "cell_type": "code",
   "execution_count": 99,
   "metadata": {
    "pycharm": {}
   },
   "outputs": [],
   "source": [
    "def get_sentence_vector(sentence_word_tf_idfs, word_vectors):\n",
    "    products = []\n",
    "    for word_tf_idf, word_vector in zip(sentence_word_tf_idfs, word_vectors):\n",
    "        # product = np.multiply(word_vector, word_tf_idf)\n",
    "        products.append(word_vector)\n",
    "    vector_sum = np.sum(products, axis=0)\n",
    "    return vector_sum / len(products)\n",
    "        "
   ]
  },
  {
   "cell_type": "code",
   "execution_count": 101,
   "metadata": {
    "pycharm": {}
   },
   "outputs": [
    {
     "data": {
      "text/plain": [
       "array([-0.17306045, -0.4119689 , -0.68852144,  0.3575111 , -1.0125728 ,\n",
       "       -1.2197611 ,  1.3024852 , -0.08643285, -0.08627433, -0.45718646,\n",
       "       -0.03006266,  0.1772719 ,  0.7941217 ,  1.2254379 , -0.90057796,\n",
       "       -1.1216336 ,  0.4185411 , -0.8488634 ,  0.06914191, -2.252991  ,\n",
       "       -0.66548985,  1.5550226 ,  0.15210392,  1.558742  , -0.04461487,\n",
       "        1.2995632 , -0.18457621,  0.24615063, -0.22307488,  0.0930325 ,\n",
       "       -0.3554208 , -0.51180583, -0.6259641 ,  0.9453741 ,  0.63189083,\n",
       "       -0.31038192,  0.7324851 ,  0.76287144,  0.4901549 ,  1.3060192 ,\n",
       "        1.7331214 , -1.2645956 ,  1.1456177 , -0.37746853, -0.3546912 ,\n",
       "        0.55272067, -0.35021815, -0.7842747 , -0.02991787, -0.26625466,\n",
       "       -0.84261954,  0.19607289,  0.16211705,  0.3306152 ,  0.15203331,\n",
       "       -0.25734717, -0.9158747 ,  1.152726  , -0.19793746, -0.07784983,\n",
       "        0.77156156,  0.37280014, -0.39148784, -0.52247673,  2.0089169 ,\n",
       "       -0.05270575,  0.55640674, -0.5582477 , -0.31680283,  2.1486816 ,\n",
       "        1.8772284 ,  0.54980296, -1.097278  , -0.43426183, -0.26334566,\n",
       "       -0.62315655,  0.63523734, -0.14873505, -0.40674412,  1.0253168 ,\n",
       "       -1.104523  , -0.9099163 ,  0.49018583, -0.36592403,  0.50383955,\n",
       "        0.20915584,  0.23312952,  1.3003966 ,  0.2013008 , -0.99611527,\n",
       "       -0.0253882 ,  0.54982984,  0.5008584 ,  0.292614  ,  0.30882525,\n",
       "        0.08256699, -0.9211637 , -1.3430111 ,  0.19782688, -0.976506  ,\n",
       "        0.5276611 ,  0.29750034,  2.0195057 , -0.86652184, -0.20098805,\n",
       "        0.8129798 , -0.18493204, -0.94862545,  1.489976  ,  1.5672083 ,\n",
       "       -0.20915557,  0.03418507,  0.21178243, -0.10868169, -0.37188497,\n",
       "        0.72361255, -1.9746921 , -1.6527983 ,  0.21875301, -0.30175447,\n",
       "        0.46834114,  0.6170075 ,  1.1463723 , -0.24146485, -0.48798203,\n",
       "        0.01393645, -0.09779451, -0.00275696, -0.81564486,  0.4801731 ,\n",
       "       -0.16137347,  0.1103014 ,  0.06295783, -0.7249909 ,  0.22523102,\n",
       "       -0.10799985,  0.22657055,  0.5002013 ,  0.22154096, -0.2090321 ,\n",
       "       -1.2685647 , -0.48374993,  0.41965556,  0.40489256,  0.68400955,\n",
       "        0.6163924 ,  0.56067973,  0.7333067 ,  0.5504239 ,  1.6983181 ],\n",
       "      dtype=float32)"
      ]
     },
     "execution_count": 101,
     "metadata": {},
     "output_type": "execute_result"
    }
   ],
   "source": [
    "word_tf_idfs_2, word_vectors = word_tf_idfs[1], get_sentence_word_vectors(\"yes\", model)\n",
    "sentence_vector = get_sentence_vector(word_tf_idfs_2, word_vectors)\n",
    "assert sentence_vector.shape == derek_vector.shape\n",
    "sentence_vector.shape\n",
    "len(word_vectors)\n",
    "word_tf_idfs[1]\n",
    "sentence_vector"
   ]
  },
  {
   "cell_type": "code",
   "execution_count": null,
   "metadata": {
    "pycharm": {}
   },
   "outputs": [],
   "source": []
  },
  {
   "cell_type": "code",
   "execution_count": 102,
   "metadata": {
    "pycharm": {}
   },
   "outputs": [],
   "source": [
    "def generate_sentence_vectors(\n",
    "    chat_input_filename, \n",
    "    word_tf_idfs, \n",
    "    word_2_vec_model, \n",
    "    sentence_vectors_output_filename\n",
    "):\n",
    "    with gzip.open(chat_input_filename) as chat_input_file, open(\n",
    "        sentence_vectors_output_filename, \"w\") as sentence_vectors_output_file:\n",
    "        line_count = 0\n",
    "        # Add header ro csv. Numbers from 1 to 150\n",
    "        sentence_vectors_output_file.write(\"{}\\n\".format(\",\".join([str(num) for num in range(1,151)])))\n",
    "        for sentence in chat_input_file:\n",
    "            sentence_word_vectors = get_sentence_word_vectors(sentence, word_2_vec_model)\n",
    "            sentence_vector = get_sentence_vector(word_tf_idfs[line_count], sentence_word_vectors)\n",
    "            csv_vector = ','.join([str(num) for num in sentence_vector])\n",
    "            sentence_vectors_output_file.write(\"{} \\n\".format(csv_vector))\n",
    "            line_count += 1\n",
    "    "
   ]
  },
  {
   "cell_type": "code",
   "execution_count": 103,
   "metadata": {
    "pycharm": {}
   },
   "outputs": [],
   "source": [
    "word_tf_idfs_filename = join(DATA_DIR, \"word_tf_idfs.txt\")\n",
    "word_tf_idfs = get_word_tf_idfs(word_tf_idfs_filename)\n",
    "word_2_vec_model = model\n",
    "sentence_vectors_output_filename = join(FEATURES_DIR, \"sentence_vectors_30e.csv\")"
   ]
  },
  {
   "cell_type": "code",
   "execution_count": 104,
   "metadata": {},
   "outputs": [],
   "source": [
    "generate_sentence_vectors(\n",
    "    CHAT_INPUT_FILE, \n",
    "    word_tf_idfs, \n",
    "    word_2_vec_model, \n",
    "    sentence_vectors_output_filename\n",
    ")"
   ]
  },
  {
   "cell_type": "code",
   "execution_count": 105,
   "metadata": {
    "pycharm": {}
   },
   "outputs": [
    {
     "data": {
      "text/plain": [
       "array([[ 0,  4,  8],\n",
       "       [12, 16, 20],\n",
       "       [24, 28, 32]])"
      ]
     },
     "execution_count": 105,
     "metadata": {},
     "output_type": "execute_result"
    }
   ],
   "source": [
    "x1 = np.arange(9.0).reshape((3, 3))\n",
    "x2 = np.arange(9).reshape((3, 3)) * 2\n",
    "# np.multiply(x1, x2)\n",
    "np.sum([x2, x2], axis=0)"
   ]
  },
  {
   "cell_type": "code",
   "execution_count": 106,
   "metadata": {
    "pycharm": {}
   },
   "outputs": [],
   "source": [
    "sentence_vectors = pd.read_csv(sentence_vectors_output_filename)"
   ]
  },
  {
   "cell_type": "code",
   "execution_count": 107,
   "metadata": {},
   "outputs": [],
   "source": [
    "svs = np.array(sentence_vectors.values)"
   ]
  },
  {
   "cell_type": "code",
   "execution_count": 108,
   "metadata": {},
   "outputs": [
    {
     "data": {
      "text/plain": [
       "array([-0.03135124,  1.2129529 , -0.79715836, -1.8308288 ,  0.4907622 ,\n",
       "        1.1276971 , -0.32817286,  0.19805674,  0.02772181,  0.25818926,\n",
       "        0.42525584, -1.1003402 , -0.22541124, -1.6306183 , -0.14814904,\n",
       "        0.55835855,  0.46363   ,  0.38090482,  1.1816655 , -0.39435875,\n",
       "        1.643432  ,  1.8381475 ,  0.16281776, -0.13909623, -0.22085871,\n",
       "        1.1222386 ,  0.80230576,  0.8636888 ,  0.34996024, -0.93690115,\n",
       "        1.1480107 ,  1.7027161 ,  0.13138667, -0.8414984 , -0.16195013,\n",
       "       -1.0490205 ,  0.623895  ,  0.0026741 ,  1.0096171 ,  1.3378421 ,\n",
       "       -0.06086441,  0.11471634, -0.17178415,  0.47939003,  0.15147865,\n",
       "       -2.1511607 ,  0.7102236 , -0.20657034, -0.624123  ,  1.1227851 ,\n",
       "       -0.36108878,  0.6622783 , -0.22130087, -1.4422998 , -0.7275693 ,\n",
       "       -0.10384305, -0.13879171,  0.5134441 ,  0.00515444,  0.52122694,\n",
       "        0.5395217 , -0.791034  , -0.5890757 , -0.82481664,  0.4689453 ,\n",
       "        1.8096837 , -0.37319225, -0.8374059 , -0.28248352,  0.3963502 ,\n",
       "       -0.6180019 , -0.8415863 , -0.43146625,  0.29731226,  0.85822093,\n",
       "        0.13002999,  0.39417303,  0.95019627, -0.27737916,  1.383009  ,\n",
       "        0.54841393, -0.20170066,  0.56356835, -0.7277341 ,  0.17645842,\n",
       "       -0.55966884,  1.2087163 ,  0.08175028, -1.6757561 , -0.09358955,\n",
       "        0.32794422, -0.8864101 ,  0.7607016 , -0.646723  , -0.1658679 ,\n",
       "        0.10769079, -0.18802315,  1.054631  , -0.36265233,  0.46997306,\n",
       "        0.20748252, -0.5274938 ,  0.38337523,  0.51857036, -1.4699388 ,\n",
       "        0.00985422,  0.18940668, -0.93443805, -1.4547864 , -0.48387745,\n",
       "       -1.3679197 , -0.3493242 , -0.45736882, -0.5299915 ,  0.79424864,\n",
       "        0.624247  , -0.9106417 , -1.0358973 , -0.22056553, -0.04301915,\n",
       "       -0.7596997 , -0.7003256 , -1.1644644 ,  0.637983  , -0.60116583,\n",
       "        0.6051148 ,  1.2193106 ,  1.2921692 ,  0.2918376 ,  0.32849607,\n",
       "        0.1868568 , -0.9269129 , -1.6836197 ,  0.04940645,  0.5095558 ,\n",
       "       -1.186841  ,  1.8982946 ,  1.5723398 , -1.3345793 , -0.3547639 ,\n",
       "       -0.55638963,  0.8611981 , -0.36641353,  2.0646033 ,  1.1183566 ,\n",
       "       -0.69266224, -0.43234223, -0.21687675, -0.38730907, -1.0652139 ])"
      ]
     },
     "execution_count": 108,
     "metadata": {},
     "output_type": "execute_result"
    }
   ],
   "source": [
    "svs[0]"
   ]
  },
  {
   "cell_type": "code",
   "execution_count": null,
   "metadata": {},
   "outputs": [],
   "source": []
  }
 ],
 "metadata": {
  "kernelspec": {
   "display_name": "Python 3",
   "language": "python",
   "name": "python3"
  },
  "language_info": {
   "codemirror_mode": {
    "name": "ipython",
    "version": 3
   },
   "file_extension": ".py",
   "mimetype": "text/x-python",
   "name": "python",
   "nbconvert_exporter": "python",
   "pygments_lexer": "ipython3",
   "version": "3.6.8"
  }
 },
 "nbformat": 4,
 "nbformat_minor": 2
}
