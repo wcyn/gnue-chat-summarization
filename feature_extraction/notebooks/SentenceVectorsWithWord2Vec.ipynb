{
 "cells": [
  {
   "cell_type": "code",
   "execution_count": 20,
   "metadata": {
    "pycharm": {
     "is_executing": false
    }
   },
   "outputs": [],
   "source": [
    "import gzip\n",
    "import gensim\n",
    "import logging\n",
    "import numpy as np\n",
    "import pandas as pd\n",
    "import string\n",
    "\n",
    "from gensim.test.utils import get_tmpfile\n",
    "from os.path import join\n",
    "\n",
    "logging.basicConfig(format='%(asctime)s : %(levelname)s : %(message)s', level=logging.INFO)"
   ]
  },
  {
   "cell_type": "code",
   "execution_count": 2,
   "metadata": {
    "pycharm": {}
   },
   "outputs": [],
   "source": [
    "FEATURES_DIR = join(\"..\", \"feature_outputs\")\n",
    "DATA_DIR = join(\"..\", \"data_files\")\n",
    "PUNCTUATION_SET = set(string.punctuation)"
   ]
  },
  {
   "cell_type": "code",
   "execution_count": 3,
   "metadata": {
    "pycharm": {}
   },
   "outputs": [],
   "source": [
    "CHAT_INPUT_FILE = join(DATA_DIR, \"gnue_irc_chat_logs_preprocessed_words_only.txt.gz\")\n",
    "\n",
    "# with gzip.open (data_file, 'rb') as f:\n",
    "#     for i,line in enumerate (f):\n",
    "#         print(line)\n",
    "#         break"
   ]
  },
  {
   "cell_type": "code",
   "execution_count": 4,
   "metadata": {
    "pycharm": {}
   },
   "outputs": [],
   "source": [
    "def read_input(input_file):\n",
    "    \"\"\"This method reads the input file which is in gzip format\"\"\"\n",
    "\n",
    "    logging.info(\"reading file {0}...this may take a while\".format(input_file))\n",
    "\n",
    "    with gzip.open(input_file, 'rb') as f:\n",
    "        for i, line in enumerate(f):\n",
    "\n",
    "            if (i % 100000 == 0):\n",
    "                logging.info(\"read {0} chat lines\".format(i))\n",
    "            # do some pre-processing and return a list of words for each review text\n",
    "            yield gensim.utils.simple_preprocess(line)\n"
   ]
  },
  {
   "cell_type": "code",
   "execution_count": 5,
   "metadata": {
    "pycharm": {}
   },
   "outputs": [
    {
     "name": "stderr",
     "output_type": "stream",
     "text": [
      "2019-04-16 11:21:52,838 : INFO : reading file ../data_files/gnue_irc_chat_logs_preprocessed_words_only.txt.gz...this may take a while\n",
      "2019-04-16 11:21:52,846 : INFO : read 0 chat lines\n",
      "2019-04-16 11:21:54,169 : INFO : read 100000 chat lines\n",
      "2019-04-16 11:21:55,439 : INFO : read 200000 chat lines\n",
      "2019-04-16 11:21:56,775 : INFO : read 300000 chat lines\n",
      "2019-04-16 11:21:58,116 : INFO : read 400000 chat lines\n",
      "2019-04-16 11:21:59,565 : INFO : read 500000 chat lines\n",
      "2019-04-16 11:22:00,903 : INFO : read 600000 chat lines\n",
      "2019-04-16 11:22:01,820 : INFO : Done reading data file\n"
     ]
    }
   ],
   "source": [
    "# read the tokenized reviews into a list\n",
    "# each review item becomes a serries of words\n",
    "# so this becomes a list of lists\n",
    "documents = list(read_input(CHAT_INPUT_FILE))\n",
    "logging.info(\"Done reading data file\")"
   ]
  },
  {
   "cell_type": "code",
   "execution_count": 10,
   "metadata": {
    "pycharm": {}
   },
   "outputs": [
    {
     "name": "stderr",
     "output_type": "stream",
     "text": [
      "2019-04-16 11:25:47,882 : WARNING : consider setting layer size to a multiple of 4 for greater performance\n",
      "2019-04-16 11:25:47,883 : INFO : collecting all words and their counts\n",
      "2019-04-16 11:25:47,884 : INFO : PROGRESS: at sentence #0, processed 0 words, keeping 0 word types\n",
      "2019-04-16 11:25:47,902 : INFO : PROGRESS: at sentence #10000, processed 64153 words, keeping 6873 word types\n",
      "2019-04-16 11:25:47,921 : INFO : PROGRESS: at sentence #20000, processed 126677 words, keeping 10038 word types\n",
      "2019-04-16 11:25:47,940 : INFO : PROGRESS: at sentence #30000, processed 188326 words, keeping 12592 word types\n",
      "2019-04-16 11:25:47,959 : INFO : PROGRESS: at sentence #40000, processed 251292 words, keeping 15081 word types\n",
      "2019-04-16 11:25:47,979 : INFO : PROGRESS: at sentence #50000, processed 313590 words, keeping 17212 word types\n",
      "2019-04-16 11:25:47,999 : INFO : PROGRESS: at sentence #60000, processed 379341 words, keeping 18964 word types\n",
      "2019-04-16 11:25:48,018 : INFO : PROGRESS: at sentence #70000, processed 440245 words, keeping 20799 word types\n",
      "2019-04-16 11:25:48,042 : INFO : PROGRESS: at sentence #80000, processed 504481 words, keeping 22253 word types\n",
      "2019-04-16 11:25:48,062 : INFO : PROGRESS: at sentence #90000, processed 568210 words, keeping 23798 word types\n",
      "2019-04-16 11:25:48,081 : INFO : PROGRESS: at sentence #100000, processed 632911 words, keeping 25305 word types\n",
      "2019-04-16 11:25:48,102 : INFO : PROGRESS: at sentence #110000, processed 697752 words, keeping 26843 word types\n",
      "2019-04-16 11:25:48,121 : INFO : PROGRESS: at sentence #120000, processed 761144 words, keeping 28393 word types\n",
      "2019-04-16 11:25:48,138 : INFO : PROGRESS: at sentence #130000, processed 821728 words, keeping 29635 word types\n",
      "2019-04-16 11:25:48,157 : INFO : PROGRESS: at sentence #140000, processed 883332 words, keeping 31066 word types\n",
      "2019-04-16 11:25:48,174 : INFO : PROGRESS: at sentence #150000, processed 945536 words, keeping 32212 word types\n",
      "2019-04-16 11:25:48,192 : INFO : PROGRESS: at sentence #160000, processed 1006463 words, keeping 33485 word types\n",
      "2019-04-16 11:25:48,212 : INFO : PROGRESS: at sentence #170000, processed 1071464 words, keeping 34804 word types\n",
      "2019-04-16 11:25:48,233 : INFO : PROGRESS: at sentence #180000, processed 1137469 words, keeping 36012 word types\n",
      "2019-04-16 11:25:48,254 : INFO : PROGRESS: at sentence #190000, processed 1202826 words, keeping 37025 word types\n",
      "2019-04-16 11:25:48,271 : INFO : PROGRESS: at sentence #200000, processed 1264028 words, keeping 38188 word types\n",
      "2019-04-16 11:25:48,290 : INFO : PROGRESS: at sentence #210000, processed 1324748 words, keeping 39375 word types\n",
      "2019-04-16 11:25:48,310 : INFO : PROGRESS: at sentence #220000, processed 1388448 words, keeping 40664 word types\n",
      "2019-04-16 11:25:48,329 : INFO : PROGRESS: at sentence #230000, processed 1455223 words, keeping 41613 word types\n",
      "2019-04-16 11:25:48,347 : INFO : PROGRESS: at sentence #240000, processed 1520148 words, keeping 42550 word types\n",
      "2019-04-16 11:25:48,365 : INFO : PROGRESS: at sentence #250000, processed 1582385 words, keeping 43567 word types\n",
      "2019-04-16 11:25:48,386 : INFO : PROGRESS: at sentence #260000, processed 1645034 words, keeping 44589 word types\n",
      "2019-04-16 11:25:48,405 : INFO : PROGRESS: at sentence #270000, processed 1709224 words, keeping 45534 word types\n",
      "2019-04-16 11:25:48,425 : INFO : PROGRESS: at sentence #280000, processed 1771384 words, keeping 46513 word types\n",
      "2019-04-16 11:25:48,445 : INFO : PROGRESS: at sentence #290000, processed 1835985 words, keeping 47438 word types\n",
      "2019-04-16 11:25:48,464 : INFO : PROGRESS: at sentence #300000, processed 1896434 words, keeping 48401 word types\n",
      "2019-04-16 11:25:48,485 : INFO : PROGRESS: at sentence #310000, processed 1962535 words, keeping 49532 word types\n",
      "2019-04-16 11:25:48,506 : INFO : PROGRESS: at sentence #320000, processed 2027977 words, keeping 50647 word types\n",
      "2019-04-16 11:25:48,528 : INFO : PROGRESS: at sentence #330000, processed 2091869 words, keeping 51606 word types\n",
      "2019-04-16 11:25:48,550 : INFO : PROGRESS: at sentence #340000, processed 2156215 words, keeping 52417 word types\n",
      "2019-04-16 11:25:48,570 : INFO : PROGRESS: at sentence #350000, processed 2217442 words, keeping 53190 word types\n",
      "2019-04-16 11:25:48,591 : INFO : PROGRESS: at sentence #360000, processed 2281576 words, keeping 53969 word types\n",
      "2019-04-16 11:25:48,612 : INFO : PROGRESS: at sentence #370000, processed 2343644 words, keeping 54784 word types\n",
      "2019-04-16 11:25:48,634 : INFO : PROGRESS: at sentence #380000, processed 2409443 words, keeping 55706 word types\n",
      "2019-04-16 11:25:48,656 : INFO : PROGRESS: at sentence #390000, processed 2473506 words, keeping 56417 word types\n",
      "2019-04-16 11:25:48,678 : INFO : PROGRESS: at sentence #400000, processed 2537358 words, keeping 57231 word types\n",
      "2019-04-16 11:25:48,701 : INFO : PROGRESS: at sentence #410000, processed 2601030 words, keeping 58021 word types\n",
      "2019-04-16 11:25:48,724 : INFO : PROGRESS: at sentence #420000, processed 2664046 words, keeping 58811 word types\n",
      "2019-04-16 11:25:48,744 : INFO : PROGRESS: at sentence #430000, processed 2727583 words, keeping 59517 word types\n",
      "2019-04-16 11:25:48,765 : INFO : PROGRESS: at sentence #440000, processed 2788323 words, keeping 60269 word types\n",
      "2019-04-16 11:25:48,787 : INFO : PROGRESS: at sentence #450000, processed 2848728 words, keeping 61093 word types\n",
      "2019-04-16 11:25:48,808 : INFO : PROGRESS: at sentence #460000, processed 2912451 words, keeping 61799 word types\n",
      "2019-04-16 11:25:48,832 : INFO : PROGRESS: at sentence #470000, processed 2977432 words, keeping 62553 word types\n",
      "2019-04-16 11:25:48,853 : INFO : PROGRESS: at sentence #480000, processed 3041870 words, keeping 63258 word types\n",
      "2019-04-16 11:25:48,875 : INFO : PROGRESS: at sentence #490000, processed 3106709 words, keeping 64115 word types\n",
      "2019-04-16 11:25:48,896 : INFO : PROGRESS: at sentence #500000, processed 3166435 words, keeping 64799 word types\n",
      "2019-04-16 11:25:48,916 : INFO : PROGRESS: at sentence #510000, processed 3229364 words, keeping 65703 word types\n",
      "2019-04-16 11:25:48,937 : INFO : PROGRESS: at sentence #520000, processed 3292932 words, keeping 66547 word types\n",
      "2019-04-16 11:25:48,959 : INFO : PROGRESS: at sentence #530000, processed 3354078 words, keeping 67186 word types\n",
      "2019-04-16 11:25:48,980 : INFO : PROGRESS: at sentence #540000, processed 3414186 words, keeping 67869 word types\n",
      "2019-04-16 11:25:49,003 : INFO : PROGRESS: at sentence #550000, processed 3477793 words, keeping 68556 word types\n",
      "2019-04-16 11:25:49,022 : INFO : PROGRESS: at sentence #560000, processed 3537879 words, keeping 69663 word types\n",
      "2019-04-16 11:25:49,043 : INFO : PROGRESS: at sentence #570000, processed 3601795 words, keeping 70423 word types\n",
      "2019-04-16 11:25:49,064 : INFO : PROGRESS: at sentence #580000, processed 3663790 words, keeping 71088 word types\n",
      "2019-04-16 11:25:49,085 : INFO : PROGRESS: at sentence #590000, processed 3729051 words, keeping 71784 word types\n",
      "2019-04-16 11:25:49,106 : INFO : PROGRESS: at sentence #600000, processed 3793319 words, keeping 72549 word types\n",
      "2019-04-16 11:25:49,127 : INFO : PROGRESS: at sentence #610000, processed 3857248 words, keeping 73147 word types\n",
      "2019-04-16 11:25:49,149 : INFO : PROGRESS: at sentence #620000, processed 3922081 words, keeping 73864 word types\n",
      "2019-04-16 11:25:49,172 : INFO : PROGRESS: at sentence #630000, processed 3986181 words, keeping 74479 word types\n",
      "2019-04-16 11:25:49,196 : INFO : PROGRESS: at sentence #640000, processed 4050962 words, keeping 75147 word types\n",
      "2019-04-16 11:25:49,218 : INFO : PROGRESS: at sentence #650000, processed 4113148 words, keeping 75756 word types\n",
      "2019-04-16 11:25:49,237 : INFO : collected 76348 word types from a corpus of 4169816 raw words and 659165 sentences\n",
      "2019-04-16 11:25:49,238 : INFO : Loading a fresh vocabulary\n",
      "2019-04-16 11:25:49,332 : INFO : min_count=2 retains 37992 unique words (49% of original 76348, drops 38356)\n",
      "2019-04-16 11:25:49,333 : INFO : min_count=2 leaves 4131460 word corpus (99% of original 4169816, drops 38356)\n",
      "2019-04-16 11:25:49,442 : INFO : deleting the raw counts dictionary of 76348 items\n",
      "2019-04-16 11:25:49,445 : INFO : sample=0.001 downsamples 54 most-common words\n"
     ]
    },
    {
     "name": "stderr",
     "output_type": "stream",
     "text": [
      "2019-04-16 11:25:49,445 : INFO : downsampling leaves estimated 3321113 word corpus (80.4% of prior 4131460)\n",
      "2019-04-16 11:25:49,564 : INFO : estimated required memory for 37992 words and 150 dimensions: 64586400 bytes\n",
      "2019-04-16 11:25:49,565 : INFO : resetting layer weights\n",
      "2019-04-16 11:25:49,968 : INFO : training model with 10 workers on 37992 vocabulary and 150 features, using sg=0 hs=0 sample=0.001 negative=5 window=10\n",
      "2019-04-16 11:25:50,994 : INFO : EPOCH 1 - PROGRESS: at 35.01% examples, 1161060 words/s, in_qsize 19, out_qsize 0\n",
      "2019-04-16 11:25:52,000 : INFO : EPOCH 1 - PROGRESS: at 70.84% examples, 1174394 words/s, in_qsize 20, out_qsize 0\n",
      "2019-04-16 11:25:52,714 : INFO : worker thread finished; awaiting finish of 9 more threads\n",
      "2019-04-16 11:25:52,741 : INFO : worker thread finished; awaiting finish of 8 more threads\n",
      "2019-04-16 11:25:52,746 : INFO : worker thread finished; awaiting finish of 7 more threads\n",
      "2019-04-16 11:25:52,748 : INFO : worker thread finished; awaiting finish of 6 more threads\n",
      "2019-04-16 11:25:52,749 : INFO : worker thread finished; awaiting finish of 5 more threads\n",
      "2019-04-16 11:25:52,750 : INFO : worker thread finished; awaiting finish of 4 more threads\n",
      "2019-04-16 11:25:52,752 : INFO : worker thread finished; awaiting finish of 3 more threads\n",
      "2019-04-16 11:25:52,753 : INFO : worker thread finished; awaiting finish of 2 more threads\n",
      "2019-04-16 11:25:52,766 : INFO : worker thread finished; awaiting finish of 1 more threads\n",
      "2019-04-16 11:25:52,766 : INFO : worker thread finished; awaiting finish of 0 more threads\n",
      "2019-04-16 11:25:52,767 : INFO : EPOCH - 1 : training on 4169816 raw words (3320291 effective words) took 2.8s, 1197244 effective words/s\n",
      "2019-04-16 11:25:53,794 : INFO : EPOCH 2 - PROGRESS: at 33.15% examples, 1083564 words/s, in_qsize 19, out_qsize 0\n",
      "2019-04-16 11:25:54,803 : INFO : EPOCH 2 - PROGRESS: at 62.39% examples, 1027637 words/s, in_qsize 19, out_qsize 0\n",
      "2019-04-16 11:25:55,765 : INFO : worker thread finished; awaiting finish of 9 more threads\n",
      "2019-04-16 11:25:55,793 : INFO : worker thread finished; awaiting finish of 8 more threads\n",
      "2019-04-16 11:25:55,795 : INFO : worker thread finished; awaiting finish of 7 more threads\n",
      "2019-04-16 11:25:55,800 : INFO : worker thread finished; awaiting finish of 6 more threads\n",
      "2019-04-16 11:25:55,805 : INFO : EPOCH 2 - PROGRESS: at 98.82% examples, 1085143 words/s, in_qsize 3, out_qsize 5\n",
      "2019-04-16 11:25:55,806 : INFO : worker thread finished; awaiting finish of 5 more threads\n",
      "2019-04-16 11:25:55,807 : INFO : worker thread finished; awaiting finish of 4 more threads\n",
      "2019-04-16 11:25:55,808 : INFO : worker thread finished; awaiting finish of 3 more threads\n",
      "2019-04-16 11:25:55,824 : INFO : worker thread finished; awaiting finish of 2 more threads\n",
      "2019-04-16 11:25:55,825 : INFO : worker thread finished; awaiting finish of 1 more threads\n",
      "2019-04-16 11:25:55,827 : INFO : worker thread finished; awaiting finish of 0 more threads\n",
      "2019-04-16 11:25:55,828 : INFO : EPOCH - 2 : training on 4169816 raw words (3320784 effective words) took 3.0s, 1090069 effective words/s\n",
      "2019-04-16 11:25:56,850 : INFO : EPOCH 3 - PROGRESS: at 34.28% examples, 1127459 words/s, in_qsize 19, out_qsize 0\n",
      "2019-04-16 11:25:57,860 : INFO : EPOCH 3 - PROGRESS: at 66.50% examples, 1096101 words/s, in_qsize 19, out_qsize 0\n",
      "2019-04-16 11:25:58,806 : INFO : worker thread finished; awaiting finish of 9 more threads\n",
      "2019-04-16 11:25:58,816 : INFO : worker thread finished; awaiting finish of 8 more threads\n",
      "2019-04-16 11:25:58,826 : INFO : worker thread finished; awaiting finish of 7 more threads\n",
      "2019-04-16 11:25:58,832 : INFO : worker thread finished; awaiting finish of 6 more threads\n",
      "2019-04-16 11:25:58,833 : INFO : worker thread finished; awaiting finish of 5 more threads\n",
      "2019-04-16 11:25:58,834 : INFO : worker thread finished; awaiting finish of 4 more threads\n",
      "2019-04-16 11:25:58,840 : INFO : worker thread finished; awaiting finish of 3 more threads\n",
      "2019-04-16 11:25:58,842 : INFO : worker thread finished; awaiting finish of 2 more threads\n",
      "2019-04-16 11:25:58,844 : INFO : worker thread finished; awaiting finish of 1 more threads\n",
      "2019-04-16 11:25:58,853 : INFO : worker thread finished; awaiting finish of 0 more threads\n",
      "2019-04-16 11:25:58,854 : INFO : EPOCH - 3 : training on 4169816 raw words (3321191 effective words) took 3.0s, 1102276 effective words/s\n",
      "2019-04-16 11:25:59,889 : INFO : EPOCH 4 - PROGRESS: at 31.67% examples, 1029707 words/s, in_qsize 20, out_qsize 1\n",
      "2019-04-16 11:26:00,893 : INFO : EPOCH 4 - PROGRESS: at 65.26% examples, 1073309 words/s, in_qsize 18, out_qsize 1\n",
      "2019-04-16 11:26:01,798 : INFO : worker thread finished; awaiting finish of 9 more threads\n",
      "2019-04-16 11:26:01,813 : INFO : worker thread finished; awaiting finish of 8 more threads\n",
      "2019-04-16 11:26:01,819 : INFO : worker thread finished; awaiting finish of 7 more threads\n",
      "2019-04-16 11:26:01,823 : INFO : worker thread finished; awaiting finish of 6 more threads\n",
      "2019-04-16 11:26:01,826 : INFO : worker thread finished; awaiting finish of 5 more threads\n",
      "2019-04-16 11:26:01,827 : INFO : worker thread finished; awaiting finish of 4 more threads\n",
      "2019-04-16 11:26:01,835 : INFO : worker thread finished; awaiting finish of 3 more threads\n",
      "2019-04-16 11:26:01,842 : INFO : worker thread finished; awaiting finish of 2 more threads\n",
      "2019-04-16 11:26:01,843 : INFO : worker thread finished; awaiting finish of 1 more threads\n",
      "2019-04-16 11:26:01,845 : INFO : worker thread finished; awaiting finish of 0 more threads\n",
      "2019-04-16 11:26:01,846 : INFO : EPOCH - 4 : training on 4169816 raw words (3319699 effective words) took 3.0s, 1115076 effective words/s\n",
      "2019-04-16 11:26:02,862 : INFO : EPOCH 5 - PROGRESS: at 34.99% examples, 1159031 words/s, in_qsize 19, out_qsize 0\n",
      "2019-04-16 11:26:03,878 : INFO : EPOCH 5 - PROGRESS: at 69.46% examples, 1143830 words/s, in_qsize 20, out_qsize 1\n",
      "2019-04-16 11:26:04,846 : INFO : worker thread finished; awaiting finish of 9 more threads\n",
      "2019-04-16 11:26:04,858 : INFO : worker thread finished; awaiting finish of 8 more threads\n",
      "2019-04-16 11:26:04,862 : INFO : worker thread finished; awaiting finish of 7 more threads\n",
      "2019-04-16 11:26:04,876 : INFO : worker thread finished; awaiting finish of 6 more threads\n",
      "2019-04-16 11:26:04,883 : INFO : EPOCH 5 - PROGRESS: at 98.98% examples, 1087219 words/s, in_qsize 4, out_qsize 3\n",
      "2019-04-16 11:26:04,884 : INFO : worker thread finished; awaiting finish of 5 more threads\n",
      "2019-04-16 11:26:04,885 : INFO : worker thread finished; awaiting finish of 4 more threads\n",
      "2019-04-16 11:26:04,888 : INFO : worker thread finished; awaiting finish of 3 more threads\n",
      "2019-04-16 11:26:04,890 : INFO : worker thread finished; awaiting finish of 2 more threads\n",
      "2019-04-16 11:26:04,898 : INFO : worker thread finished; awaiting finish of 1 more threads\n",
      "2019-04-16 11:26:04,903 : INFO : worker thread finished; awaiting finish of 0 more threads\n",
      "2019-04-16 11:26:04,904 : INFO : EPOCH - 5 : training on 4169816 raw words (3319567 effective words) took 3.0s, 1090587 effective words/s\n",
      "2019-04-16 11:26:04,905 : INFO : training on a 20849080 raw words (16601532 effective words) took 14.9s, 1111556 effective words/s\n",
      "2019-04-16 11:26:04,906 : WARNING : Effective 'alpha' higher than previous training cycles\n",
      "2019-04-16 11:26:04,907 : INFO : training model with 10 workers on 37992 vocabulary and 150 features, using sg=0 hs=0 sample=0.001 negative=5 window=10\n",
      "2019-04-16 11:26:05,931 : INFO : EPOCH 1 - PROGRESS: at 31.21% examples, 1028271 words/s, in_qsize 19, out_qsize 0\n",
      "2019-04-16 11:26:06,958 : INFO : EPOCH 1 - PROGRESS: at 66.99% examples, 1096537 words/s, in_qsize 17, out_qsize 2\n",
      "2019-04-16 11:26:07,810 : INFO : worker thread finished; awaiting finish of 9 more threads\n",
      "2019-04-16 11:26:07,815 : INFO : worker thread finished; awaiting finish of 8 more threads\n",
      "2019-04-16 11:26:07,831 : INFO : worker thread finished; awaiting finish of 7 more threads\n",
      "2019-04-16 11:26:07,834 : INFO : worker thread finished; awaiting finish of 6 more threads\n",
      "2019-04-16 11:26:07,839 : INFO : worker thread finished; awaiting finish of 5 more threads\n",
      "2019-04-16 11:26:07,841 : INFO : worker thread finished; awaiting finish of 4 more threads\n"
     ]
    },
    {
     "name": "stderr",
     "output_type": "stream",
     "text": [
      "2019-04-16 11:26:07,842 : INFO : worker thread finished; awaiting finish of 3 more threads\n",
      "2019-04-16 11:26:07,850 : INFO : worker thread finished; awaiting finish of 2 more threads\n",
      "2019-04-16 11:26:07,853 : INFO : worker thread finished; awaiting finish of 1 more threads\n",
      "2019-04-16 11:26:07,857 : INFO : worker thread finished; awaiting finish of 0 more threads\n",
      "2019-04-16 11:26:07,858 : INFO : EPOCH - 1 : training on 4169816 raw words (3322314 effective words) took 2.9s, 1132294 effective words/s\n",
      "2019-04-16 11:26:08,876 : INFO : EPOCH 2 - PROGRESS: at 33.84% examples, 1117229 words/s, in_qsize 19, out_qsize 0\n",
      "2019-04-16 11:26:09,884 : INFO : EPOCH 2 - PROGRESS: at 71.36% examples, 1178968 words/s, in_qsize 18, out_qsize 1\n",
      "2019-04-16 11:26:10,625 : INFO : worker thread finished; awaiting finish of 9 more threads\n",
      "2019-04-16 11:26:10,638 : INFO : worker thread finished; awaiting finish of 8 more threads\n",
      "2019-04-16 11:26:10,643 : INFO : worker thread finished; awaiting finish of 7 more threads\n",
      "2019-04-16 11:26:10,644 : INFO : worker thread finished; awaiting finish of 6 more threads\n",
      "2019-04-16 11:26:10,645 : INFO : worker thread finished; awaiting finish of 5 more threads\n",
      "2019-04-16 11:26:10,646 : INFO : worker thread finished; awaiting finish of 4 more threads\n",
      "2019-04-16 11:26:10,659 : INFO : worker thread finished; awaiting finish of 3 more threads\n",
      "2019-04-16 11:26:10,660 : INFO : worker thread finished; awaiting finish of 2 more threads\n",
      "2019-04-16 11:26:10,662 : INFO : worker thread finished; awaiting finish of 1 more threads\n",
      "2019-04-16 11:26:10,665 : INFO : worker thread finished; awaiting finish of 0 more threads\n",
      "2019-04-16 11:26:10,666 : INFO : EPOCH - 2 : training on 4169816 raw words (3320995 effective words) took 2.8s, 1188433 effective words/s\n",
      "2019-04-16 11:26:11,692 : INFO : EPOCH 3 - PROGRESS: at 32.66% examples, 1065360 words/s, in_qsize 19, out_qsize 0\n",
      "2019-04-16 11:26:12,710 : INFO : EPOCH 3 - PROGRESS: at 67.29% examples, 1099450 words/s, in_qsize 20, out_qsize 0\n",
      "2019-04-16 11:26:13,512 : INFO : worker thread finished; awaiting finish of 9 more threads\n",
      "2019-04-16 11:26:13,515 : INFO : worker thread finished; awaiting finish of 8 more threads\n",
      "2019-04-16 11:26:13,519 : INFO : worker thread finished; awaiting finish of 7 more threads\n",
      "2019-04-16 11:26:13,520 : INFO : worker thread finished; awaiting finish of 6 more threads\n",
      "2019-04-16 11:26:13,520 : INFO : worker thread finished; awaiting finish of 5 more threads\n",
      "2019-04-16 11:26:13,522 : INFO : worker thread finished; awaiting finish of 4 more threads\n",
      "2019-04-16 11:26:13,523 : INFO : worker thread finished; awaiting finish of 3 more threads\n",
      "2019-04-16 11:26:13,532 : INFO : worker thread finished; awaiting finish of 2 more threads\n",
      "2019-04-16 11:26:13,534 : INFO : worker thread finished; awaiting finish of 1 more threads\n",
      "2019-04-16 11:26:13,536 : INFO : worker thread finished; awaiting finish of 0 more threads\n",
      "2019-04-16 11:26:13,537 : INFO : EPOCH - 3 : training on 4169816 raw words (3320181 effective words) took 2.9s, 1160473 effective words/s\n",
      "2019-04-16 11:26:14,552 : INFO : EPOCH 4 - PROGRESS: at 39.98% examples, 1327475 words/s, in_qsize 19, out_qsize 0\n",
      "2019-04-16 11:26:15,556 : INFO : EPOCH 4 - PROGRESS: at 73.91% examples, 1226880 words/s, in_qsize 19, out_qsize 0\n",
      "2019-04-16 11:26:16,182 : INFO : worker thread finished; awaiting finish of 9 more threads\n",
      "2019-04-16 11:26:16,191 : INFO : worker thread finished; awaiting finish of 8 more threads\n",
      "2019-04-16 11:26:16,194 : INFO : worker thread finished; awaiting finish of 7 more threads\n",
      "2019-04-16 11:26:16,195 : INFO : worker thread finished; awaiting finish of 6 more threads\n",
      "2019-04-16 11:26:16,199 : INFO : worker thread finished; awaiting finish of 5 more threads\n",
      "2019-04-16 11:26:16,205 : INFO : worker thread finished; awaiting finish of 4 more threads\n",
      "2019-04-16 11:26:16,212 : INFO : worker thread finished; awaiting finish of 3 more threads\n",
      "2019-04-16 11:26:16,214 : INFO : worker thread finished; awaiting finish of 2 more threads\n",
      "2019-04-16 11:26:16,220 : INFO : worker thread finished; awaiting finish of 1 more threads\n",
      "2019-04-16 11:26:16,222 : INFO : worker thread finished; awaiting finish of 0 more threads\n",
      "2019-04-16 11:26:16,223 : INFO : EPOCH - 4 : training on 4169816 raw words (3320221 effective words) took 2.7s, 1242850 effective words/s\n",
      "2019-04-16 11:26:17,238 : INFO : EPOCH 5 - PROGRESS: at 36.65% examples, 1215974 words/s, in_qsize 20, out_qsize 0\n",
      "2019-04-16 11:26:18,242 : INFO : EPOCH 5 - PROGRESS: at 74.38% examples, 1234573 words/s, in_qsize 19, out_qsize 0\n",
      "2019-04-16 11:26:18,819 : INFO : worker thread finished; awaiting finish of 9 more threads\n",
      "2019-04-16 11:26:18,834 : INFO : worker thread finished; awaiting finish of 8 more threads\n",
      "2019-04-16 11:26:18,836 : INFO : worker thread finished; awaiting finish of 7 more threads\n",
      "2019-04-16 11:26:18,842 : INFO : worker thread finished; awaiting finish of 6 more threads\n",
      "2019-04-16 11:26:18,843 : INFO : worker thread finished; awaiting finish of 5 more threads\n",
      "2019-04-16 11:26:18,848 : INFO : worker thread finished; awaiting finish of 4 more threads\n",
      "2019-04-16 11:26:18,857 : INFO : worker thread finished; awaiting finish of 3 more threads\n",
      "2019-04-16 11:26:18,859 : INFO : worker thread finished; awaiting finish of 2 more threads\n",
      "2019-04-16 11:26:18,861 : INFO : worker thread finished; awaiting finish of 1 more threads\n",
      "2019-04-16 11:26:18,863 : INFO : worker thread finished; awaiting finish of 0 more threads\n",
      "2019-04-16 11:26:18,864 : INFO : EPOCH - 5 : training on 4169816 raw words (3320346 effective words) took 2.6s, 1263674 effective words/s\n",
      "2019-04-16 11:26:19,881 : INFO : EPOCH 6 - PROGRESS: at 33.38% examples, 1102686 words/s, in_qsize 19, out_qsize 0\n",
      "2019-04-16 11:26:20,881 : INFO : EPOCH 6 - PROGRESS: at 65.28% examples, 1084851 words/s, in_qsize 18, out_qsize 1\n",
      "2019-04-16 11:26:21,792 : INFO : worker thread finished; awaiting finish of 9 more threads\n",
      "2019-04-16 11:26:21,800 : INFO : worker thread finished; awaiting finish of 8 more threads\n",
      "2019-04-16 11:26:21,803 : INFO : worker thread finished; awaiting finish of 7 more threads\n",
      "2019-04-16 11:26:21,810 : INFO : worker thread finished; awaiting finish of 6 more threads\n",
      "2019-04-16 11:26:21,815 : INFO : worker thread finished; awaiting finish of 5 more threads\n",
      "2019-04-16 11:26:21,825 : INFO : worker thread finished; awaiting finish of 4 more threads\n",
      "2019-04-16 11:26:21,826 : INFO : worker thread finished; awaiting finish of 3 more threads\n",
      "2019-04-16 11:26:21,829 : INFO : worker thread finished; awaiting finish of 2 more threads\n",
      "2019-04-16 11:26:21,830 : INFO : worker thread finished; awaiting finish of 1 more threads\n",
      "2019-04-16 11:26:21,831 : INFO : worker thread finished; awaiting finish of 0 more threads\n",
      "2019-04-16 11:26:21,833 : INFO : EPOCH - 6 : training on 4169816 raw words (3321425 effective words) took 3.0s, 1123688 effective words/s\n",
      "2019-04-16 11:26:22,849 : INFO : EPOCH 7 - PROGRESS: at 33.61% examples, 1110954 words/s, in_qsize 19, out_qsize 0\n",
      "2019-04-16 11:26:23,864 : INFO : EPOCH 7 - PROGRESS: at 67.75% examples, 1116671 words/s, in_qsize 19, out_qsize 0\n",
      "2019-04-16 11:26:24,752 : INFO : worker thread finished; awaiting finish of 9 more threads\n",
      "2019-04-16 11:26:24,758 : INFO : worker thread finished; awaiting finish of 8 more threads\n",
      "2019-04-16 11:26:24,773 : INFO : worker thread finished; awaiting finish of 7 more threads\n",
      "2019-04-16 11:26:24,776 : INFO : worker thread finished; awaiting finish of 6 more threads\n",
      "2019-04-16 11:26:24,779 : INFO : worker thread finished; awaiting finish of 5 more threads\n",
      "2019-04-16 11:26:24,781 : INFO : worker thread finished; awaiting finish of 4 more threads\n",
      "2019-04-16 11:26:24,783 : INFO : worker thread finished; awaiting finish of 3 more threads\n",
      "2019-04-16 11:26:24,787 : INFO : worker thread finished; awaiting finish of 2 more threads\n",
      "2019-04-16 11:26:24,788 : INFO : worker thread finished; awaiting finish of 1 more threads\n",
      "2019-04-16 11:26:24,798 : INFO : worker thread finished; awaiting finish of 0 more threads\n",
      "2019-04-16 11:26:24,799 : INFO : EPOCH - 7 : training on 4169816 raw words (3320865 effective words) took 3.0s, 1124744 effective words/s\n",
      "2019-04-16 11:26:25,819 : INFO : EPOCH 8 - PROGRESS: at 24.32% examples, 799406 words/s, in_qsize 19, out_qsize 0\n"
     ]
    },
    {
     "name": "stderr",
     "output_type": "stream",
     "text": [
      "2019-04-16 11:26:26,832 : INFO : EPOCH 8 - PROGRESS: at 52.13% examples, 859485 words/s, in_qsize 17, out_qsize 2\n",
      "2019-04-16 11:26:27,845 : INFO : EPOCH 8 - PROGRESS: at 85.90% examples, 940141 words/s, in_qsize 19, out_qsize 0\n",
      "2019-04-16 11:26:28,188 : INFO : worker thread finished; awaiting finish of 9 more threads\n",
      "2019-04-16 11:26:28,200 : INFO : worker thread finished; awaiting finish of 8 more threads\n",
      "2019-04-16 11:26:28,203 : INFO : worker thread finished; awaiting finish of 7 more threads\n",
      "2019-04-16 11:26:28,204 : INFO : worker thread finished; awaiting finish of 6 more threads\n",
      "2019-04-16 11:26:28,205 : INFO : worker thread finished; awaiting finish of 5 more threads\n",
      "2019-04-16 11:26:28,206 : INFO : worker thread finished; awaiting finish of 4 more threads\n",
      "2019-04-16 11:26:28,207 : INFO : worker thread finished; awaiting finish of 3 more threads\n",
      "2019-04-16 11:26:28,210 : INFO : worker thread finished; awaiting finish of 2 more threads\n",
      "2019-04-16 11:26:28,213 : INFO : worker thread finished; awaiting finish of 1 more threads\n",
      "2019-04-16 11:26:28,221 : INFO : worker thread finished; awaiting finish of 0 more threads\n",
      "2019-04-16 11:26:28,222 : INFO : EPOCH - 8 : training on 4169816 raw words (3321306 effective words) took 3.4s, 974407 effective words/s\n",
      "2019-04-16 11:26:29,250 : INFO : EPOCH 9 - PROGRESS: at 32.92% examples, 1073153 words/s, in_qsize 19, out_qsize 0\n",
      "2019-04-16 11:26:30,256 : INFO : EPOCH 9 - PROGRESS: at 66.98% examples, 1102291 words/s, in_qsize 17, out_qsize 2\n",
      "2019-04-16 11:26:31,036 : INFO : worker thread finished; awaiting finish of 9 more threads\n",
      "2019-04-16 11:26:31,042 : INFO : worker thread finished; awaiting finish of 8 more threads\n",
      "2019-04-16 11:26:31,051 : INFO : worker thread finished; awaiting finish of 7 more threads\n",
      "2019-04-16 11:26:31,058 : INFO : worker thread finished; awaiting finish of 6 more threads\n",
      "2019-04-16 11:26:31,060 : INFO : worker thread finished; awaiting finish of 5 more threads\n",
      "2019-04-16 11:26:31,064 : INFO : worker thread finished; awaiting finish of 4 more threads\n",
      "2019-04-16 11:26:31,068 : INFO : worker thread finished; awaiting finish of 3 more threads\n",
      "2019-04-16 11:26:31,069 : INFO : worker thread finished; awaiting finish of 2 more threads\n",
      "2019-04-16 11:26:31,079 : INFO : worker thread finished; awaiting finish of 1 more threads\n",
      "2019-04-16 11:26:31,080 : INFO : worker thread finished; awaiting finish of 0 more threads\n",
      "2019-04-16 11:26:31,081 : INFO : EPOCH - 9 : training on 4169816 raw words (3321130 effective words) took 2.8s, 1166464 effective words/s\n",
      "2019-04-16 11:26:32,104 : INFO : EPOCH 10 - PROGRESS: at 31.52% examples, 1034984 words/s, in_qsize 20, out_qsize 1\n",
      "2019-04-16 11:26:33,106 : INFO : EPOCH 10 - PROGRESS: at 65.77% examples, 1089551 words/s, in_qsize 19, out_qsize 0\n",
      "2019-04-16 11:26:33,994 : INFO : worker thread finished; awaiting finish of 9 more threads\n",
      "2019-04-16 11:26:33,998 : INFO : worker thread finished; awaiting finish of 8 more threads\n",
      "2019-04-16 11:26:34,013 : INFO : worker thread finished; awaiting finish of 7 more threads\n",
      "2019-04-16 11:26:34,016 : INFO : worker thread finished; awaiting finish of 6 more threads\n",
      "2019-04-16 11:26:34,019 : INFO : worker thread finished; awaiting finish of 5 more threads\n",
      "2019-04-16 11:26:34,022 : INFO : worker thread finished; awaiting finish of 4 more threads\n",
      "2019-04-16 11:26:34,023 : INFO : worker thread finished; awaiting finish of 3 more threads\n",
      "2019-04-16 11:26:34,023 : INFO : worker thread finished; awaiting finish of 2 more threads\n",
      "2019-04-16 11:26:34,034 : INFO : worker thread finished; awaiting finish of 1 more threads\n",
      "2019-04-16 11:26:34,038 : INFO : worker thread finished; awaiting finish of 0 more threads\n",
      "2019-04-16 11:26:34,039 : INFO : EPOCH - 10 : training on 4169816 raw words (3320909 effective words) took 2.9s, 1128704 effective words/s\n",
      "2019-04-16 11:26:35,057 : INFO : EPOCH 11 - PROGRESS: at 34.32% examples, 1133743 words/s, in_qsize 16, out_qsize 3\n",
      "2019-04-16 11:26:36,063 : INFO : EPOCH 11 - PROGRESS: at 66.50% examples, 1101250 words/s, in_qsize 15, out_qsize 4\n",
      "2019-04-16 11:26:37,052 : INFO : worker thread finished; awaiting finish of 9 more threads\n",
      "2019-04-16 11:26:37,055 : INFO : worker thread finished; awaiting finish of 8 more threads\n",
      "2019-04-16 11:26:37,072 : INFO : EPOCH 11 - PROGRESS: at 98.47% examples, 1083921 words/s, in_qsize 6, out_qsize 3\n",
      "2019-04-16 11:26:37,076 : INFO : worker thread finished; awaiting finish of 7 more threads\n",
      "2019-04-16 11:26:37,078 : INFO : worker thread finished; awaiting finish of 6 more threads\n",
      "2019-04-16 11:26:37,080 : INFO : worker thread finished; awaiting finish of 5 more threads\n",
      "2019-04-16 11:26:37,081 : INFO : worker thread finished; awaiting finish of 4 more threads\n",
      "2019-04-16 11:26:37,082 : INFO : worker thread finished; awaiting finish of 3 more threads\n",
      "2019-04-16 11:26:37,083 : INFO : worker thread finished; awaiting finish of 2 more threads\n",
      "2019-04-16 11:26:37,092 : INFO : worker thread finished; awaiting finish of 1 more threads\n",
      "2019-04-16 11:26:37,098 : INFO : worker thread finished; awaiting finish of 0 more threads\n",
      "2019-04-16 11:26:37,099 : INFO : EPOCH - 11 : training on 4169816 raw words (3321361 effective words) took 3.0s, 1090285 effective words/s\n",
      "2019-04-16 11:26:38,120 : INFO : EPOCH 12 - PROGRESS: at 33.37% examples, 1097911 words/s, in_qsize 19, out_qsize 0\n",
      "2019-04-16 11:26:39,136 : INFO : EPOCH 12 - PROGRESS: at 69.00% examples, 1133281 words/s, in_qsize 18, out_qsize 1\n",
      "2019-04-16 11:26:39,930 : INFO : worker thread finished; awaiting finish of 9 more threads\n",
      "2019-04-16 11:26:39,938 : INFO : worker thread finished; awaiting finish of 8 more threads\n",
      "2019-04-16 11:26:39,951 : INFO : worker thread finished; awaiting finish of 7 more threads\n",
      "2019-04-16 11:26:39,957 : INFO : worker thread finished; awaiting finish of 6 more threads\n",
      "2019-04-16 11:26:39,959 : INFO : worker thread finished; awaiting finish of 5 more threads\n",
      "2019-04-16 11:26:39,961 : INFO : worker thread finished; awaiting finish of 4 more threads\n",
      "2019-04-16 11:26:39,964 : INFO : worker thread finished; awaiting finish of 3 more threads\n",
      "2019-04-16 11:26:39,965 : INFO : worker thread finished; awaiting finish of 2 more threads\n",
      "2019-04-16 11:26:39,968 : INFO : worker thread finished; awaiting finish of 1 more threads\n",
      "2019-04-16 11:26:39,979 : INFO : worker thread finished; awaiting finish of 0 more threads\n",
      "2019-04-16 11:26:39,980 : INFO : EPOCH - 12 : training on 4169816 raw words (3320285 effective words) took 2.9s, 1157993 effective words/s\n",
      "2019-04-16 11:26:41,009 : INFO : EPOCH 13 - PROGRESS: at 35.48% examples, 1159850 words/s, in_qsize 19, out_qsize 0\n",
      "2019-04-16 11:26:42,036 : INFO : EPOCH 13 - PROGRESS: at 71.56% examples, 1166214 words/s, in_qsize 17, out_qsize 2\n",
      "2019-04-16 11:26:42,761 : INFO : worker thread finished; awaiting finish of 9 more threads\n",
      "2019-04-16 11:26:42,763 : INFO : worker thread finished; awaiting finish of 8 more threads\n",
      "2019-04-16 11:26:42,773 : INFO : worker thread finished; awaiting finish of 7 more threads\n",
      "2019-04-16 11:26:42,777 : INFO : worker thread finished; awaiting finish of 6 more threads\n",
      "2019-04-16 11:26:42,782 : INFO : worker thread finished; awaiting finish of 5 more threads\n",
      "2019-04-16 11:26:42,786 : INFO : worker thread finished; awaiting finish of 4 more threads\n",
      "2019-04-16 11:26:42,788 : INFO : worker thread finished; awaiting finish of 3 more threads\n",
      "2019-04-16 11:26:42,789 : INFO : worker thread finished; awaiting finish of 2 more threads\n",
      "2019-04-16 11:26:42,793 : INFO : worker thread finished; awaiting finish of 1 more threads\n",
      "2019-04-16 11:26:42,798 : INFO : worker thread finished; awaiting finish of 0 more threads\n",
      "2019-04-16 11:26:42,799 : INFO : EPOCH - 13 : training on 4169816 raw words (3320796 effective words) took 2.8s, 1184040 effective words/s\n",
      "2019-04-16 11:26:43,822 : INFO : EPOCH 14 - PROGRESS: at 33.59% examples, 1113370 words/s, in_qsize 18, out_qsize 1\n",
      "2019-04-16 11:26:44,836 : INFO : EPOCH 14 - PROGRESS: at 69.45% examples, 1146410 words/s, in_qsize 19, out_qsize 0\n",
      "2019-04-16 11:26:45,691 : INFO : worker thread finished; awaiting finish of 9 more threads\n",
      "2019-04-16 11:26:45,693 : INFO : worker thread finished; awaiting finish of 8 more threads\n"
     ]
    },
    {
     "name": "stderr",
     "output_type": "stream",
     "text": [
      "2019-04-16 11:26:45,706 : INFO : worker thread finished; awaiting finish of 7 more threads\n",
      "2019-04-16 11:26:45,715 : INFO : worker thread finished; awaiting finish of 6 more threads\n",
      "2019-04-16 11:26:45,716 : INFO : worker thread finished; awaiting finish of 5 more threads\n",
      "2019-04-16 11:26:45,718 : INFO : worker thread finished; awaiting finish of 4 more threads\n",
      "2019-04-16 11:26:45,719 : INFO : worker thread finished; awaiting finish of 3 more threads\n",
      "2019-04-16 11:26:45,723 : INFO : worker thread finished; awaiting finish of 2 more threads\n",
      "2019-04-16 11:26:45,730 : INFO : worker thread finished; awaiting finish of 1 more threads\n",
      "2019-04-16 11:26:45,731 : INFO : worker thread finished; awaiting finish of 0 more threads\n",
      "2019-04-16 11:26:45,732 : INFO : EPOCH - 14 : training on 4169816 raw words (3321389 effective words) took 2.9s, 1141116 effective words/s\n",
      "2019-04-16 11:26:46,753 : INFO : EPOCH 15 - PROGRESS: at 26.91% examples, 886877 words/s, in_qsize 19, out_qsize 2\n",
      "2019-04-16 11:26:47,772 : INFO : EPOCH 15 - PROGRESS: at 47.62% examples, 782560 words/s, in_qsize 19, out_qsize 0\n",
      "2019-04-16 11:26:48,787 : INFO : EPOCH 15 - PROGRESS: at 74.89% examples, 820048 words/s, in_qsize 18, out_qsize 1\n",
      "2019-04-16 11:26:49,534 : INFO : worker thread finished; awaiting finish of 9 more threads\n",
      "2019-04-16 11:26:49,538 : INFO : worker thread finished; awaiting finish of 8 more threads\n",
      "2019-04-16 11:26:49,543 : INFO : worker thread finished; awaiting finish of 7 more threads\n",
      "2019-04-16 11:26:49,544 : INFO : worker thread finished; awaiting finish of 6 more threads\n",
      "2019-04-16 11:26:49,545 : INFO : worker thread finished; awaiting finish of 5 more threads\n",
      "2019-04-16 11:26:49,546 : INFO : worker thread finished; awaiting finish of 4 more threads\n",
      "2019-04-16 11:26:49,547 : INFO : worker thread finished; awaiting finish of 3 more threads\n",
      "2019-04-16 11:26:49,548 : INFO : worker thread finished; awaiting finish of 2 more threads\n",
      "2019-04-16 11:26:49,558 : INFO : worker thread finished; awaiting finish of 1 more threads\n",
      "2019-04-16 11:26:49,561 : INFO : worker thread finished; awaiting finish of 0 more threads\n",
      "2019-04-16 11:26:49,562 : INFO : EPOCH - 15 : training on 4169816 raw words (3321204 effective words) took 3.8s, 870854 effective words/s\n",
      "2019-04-16 11:26:50,582 : INFO : EPOCH 16 - PROGRESS: at 34.76% examples, 1146829 words/s, in_qsize 17, out_qsize 2\n",
      "2019-04-16 11:26:51,604 : INFO : EPOCH 16 - PROGRESS: at 72.96% examples, 1197587 words/s, in_qsize 16, out_qsize 3\n",
      "2019-04-16 11:26:52,247 : INFO : worker thread finished; awaiting finish of 9 more threads\n",
      "2019-04-16 11:26:52,254 : INFO : worker thread finished; awaiting finish of 8 more threads\n",
      "2019-04-16 11:26:52,265 : INFO : worker thread finished; awaiting finish of 7 more threads\n",
      "2019-04-16 11:26:52,269 : INFO : worker thread finished; awaiting finish of 6 more threads\n",
      "2019-04-16 11:26:52,271 : INFO : worker thread finished; awaiting finish of 5 more threads\n",
      "2019-04-16 11:26:52,277 : INFO : worker thread finished; awaiting finish of 4 more threads\n",
      "2019-04-16 11:26:52,279 : INFO : worker thread finished; awaiting finish of 3 more threads\n",
      "2019-04-16 11:26:52,281 : INFO : worker thread finished; awaiting finish of 2 more threads\n",
      "2019-04-16 11:26:52,283 : INFO : worker thread finished; awaiting finish of 1 more threads\n",
      "2019-04-16 11:26:52,291 : INFO : worker thread finished; awaiting finish of 0 more threads\n",
      "2019-04-16 11:26:52,292 : INFO : EPOCH - 16 : training on 4169816 raw words (3321388 effective words) took 2.7s, 1222951 effective words/s\n",
      "2019-04-16 11:26:53,306 : INFO : EPOCH 17 - PROGRESS: at 36.62% examples, 1217022 words/s, in_qsize 19, out_qsize 0\n",
      "2019-04-16 11:26:54,309 : INFO : EPOCH 17 - PROGRESS: at 71.58% examples, 1188047 words/s, in_qsize 19, out_qsize 0\n",
      "2019-04-16 11:26:55,083 : INFO : worker thread finished; awaiting finish of 9 more threads\n",
      "2019-04-16 11:26:55,090 : INFO : worker thread finished; awaiting finish of 8 more threads\n",
      "2019-04-16 11:26:55,094 : INFO : worker thread finished; awaiting finish of 7 more threads\n",
      "2019-04-16 11:26:55,095 : INFO : worker thread finished; awaiting finish of 6 more threads\n",
      "2019-04-16 11:26:55,098 : INFO : worker thread finished; awaiting finish of 5 more threads\n",
      "2019-04-16 11:26:55,099 : INFO : worker thread finished; awaiting finish of 4 more threads\n",
      "2019-04-16 11:26:55,103 : INFO : worker thread finished; awaiting finish of 3 more threads\n",
      "2019-04-16 11:26:55,111 : INFO : worker thread finished; awaiting finish of 2 more threads\n",
      "2019-04-16 11:26:55,113 : INFO : worker thread finished; awaiting finish of 1 more threads\n",
      "2019-04-16 11:26:55,116 : INFO : worker thread finished; awaiting finish of 0 more threads\n",
      "2019-04-16 11:26:55,117 : INFO : EPOCH - 17 : training on 4169816 raw words (3321171 effective words) took 2.8s, 1181199 effective words/s\n",
      "2019-04-16 11:26:56,133 : INFO : EPOCH 18 - PROGRESS: at 36.64% examples, 1216650 words/s, in_qsize 19, out_qsize 1\n",
      "2019-04-16 11:26:57,135 : INFO : EPOCH 18 - PROGRESS: at 69.45% examples, 1152033 words/s, in_qsize 18, out_qsize 1\n",
      "2019-04-16 11:26:57,978 : INFO : worker thread finished; awaiting finish of 9 more threads\n",
      "2019-04-16 11:26:57,993 : INFO : worker thread finished; awaiting finish of 8 more threads\n",
      "2019-04-16 11:26:57,997 : INFO : worker thread finished; awaiting finish of 7 more threads\n",
      "2019-04-16 11:26:58,001 : INFO : worker thread finished; awaiting finish of 6 more threads\n",
      "2019-04-16 11:26:58,003 : INFO : worker thread finished; awaiting finish of 5 more threads\n",
      "2019-04-16 11:26:58,006 : INFO : worker thread finished; awaiting finish of 4 more threads\n",
      "2019-04-16 11:26:58,007 : INFO : worker thread finished; awaiting finish of 3 more threads\n",
      "2019-04-16 11:26:58,008 : INFO : worker thread finished; awaiting finish of 2 more threads\n",
      "2019-04-16 11:26:58,009 : INFO : worker thread finished; awaiting finish of 1 more threads\n",
      "2019-04-16 11:26:58,018 : INFO : worker thread finished; awaiting finish of 0 more threads\n",
      "2019-04-16 11:26:58,019 : INFO : EPOCH - 18 : training on 4169816 raw words (3319862 effective words) took 2.9s, 1150079 effective words/s\n",
      "2019-04-16 11:26:59,038 : INFO : EPOCH 19 - PROGRESS: at 31.74% examples, 1044760 words/s, in_qsize 18, out_qsize 1\n",
      "2019-04-16 11:27:00,039 : INFO : EPOCH 19 - PROGRESS: at 65.02% examples, 1079488 words/s, in_qsize 19, out_qsize 0\n",
      "2019-04-16 11:27:00,996 : INFO : worker thread finished; awaiting finish of 9 more threads\n",
      "2019-04-16 11:27:01,001 : INFO : worker thread finished; awaiting finish of 8 more threads\n",
      "2019-04-16 11:27:01,004 : INFO : worker thread finished; awaiting finish of 7 more threads\n",
      "2019-04-16 11:27:01,007 : INFO : worker thread finished; awaiting finish of 6 more threads\n",
      "2019-04-16 11:27:01,008 : INFO : worker thread finished; awaiting finish of 5 more threads\n",
      "2019-04-16 11:27:01,009 : INFO : worker thread finished; awaiting finish of 4 more threads\n",
      "2019-04-16 11:27:01,021 : INFO : worker thread finished; awaiting finish of 3 more threads\n",
      "2019-04-16 11:27:01,024 : INFO : worker thread finished; awaiting finish of 2 more threads\n",
      "2019-04-16 11:27:01,026 : INFO : worker thread finished; awaiting finish of 1 more threads\n",
      "2019-04-16 11:27:01,027 : INFO : worker thread finished; awaiting finish of 0 more threads\n",
      "2019-04-16 11:27:01,028 : INFO : EPOCH - 19 : training on 4169816 raw words (3321271 effective words) took 3.0s, 1109118 effective words/s\n",
      "2019-04-16 11:27:02,060 : INFO : EPOCH 20 - PROGRESS: at 31.76% examples, 1032648 words/s, in_qsize 20, out_qsize 2\n",
      "2019-04-16 11:27:03,062 : INFO : EPOCH 20 - PROGRESS: at 55.79% examples, 918749 words/s, in_qsize 18, out_qsize 1\n",
      "2019-04-16 11:27:04,066 : INFO : EPOCH 20 - PROGRESS: at 88.80% examples, 974190 words/s, in_qsize 18, out_qsize 1\n",
      "2019-04-16 11:27:04,450 : INFO : worker thread finished; awaiting finish of 9 more threads\n",
      "2019-04-16 11:27:04,457 : INFO : worker thread finished; awaiting finish of 8 more threads\n",
      "2019-04-16 11:27:04,462 : INFO : worker thread finished; awaiting finish of 7 more threads\n",
      "2019-04-16 11:27:04,480 : INFO : worker thread finished; awaiting finish of 6 more threads\n",
      "2019-04-16 11:27:04,484 : INFO : worker thread finished; awaiting finish of 5 more threads\n",
      "2019-04-16 11:27:04,485 : INFO : worker thread finished; awaiting finish of 4 more threads\n"
     ]
    },
    {
     "name": "stderr",
     "output_type": "stream",
     "text": [
      "2019-04-16 11:27:04,490 : INFO : worker thread finished; awaiting finish of 3 more threads\n",
      "2019-04-16 11:27:04,501 : INFO : worker thread finished; awaiting finish of 2 more threads\n",
      "2019-04-16 11:27:04,502 : INFO : worker thread finished; awaiting finish of 1 more threads\n",
      "2019-04-16 11:27:04,507 : INFO : worker thread finished; awaiting finish of 0 more threads\n",
      "2019-04-16 11:27:04,508 : INFO : EPOCH - 20 : training on 4169816 raw words (3320968 effective words) took 3.5s, 958364 effective words/s\n",
      "2019-04-16 11:27:05,525 : INFO : EPOCH 21 - PROGRESS: at 25.29% examples, 834513 words/s, in_qsize 20, out_qsize 0\n",
      "2019-04-16 11:27:06,530 : INFO : EPOCH 21 - PROGRESS: at 52.85% examples, 876697 words/s, in_qsize 20, out_qsize 0\n",
      "2019-04-16 11:27:07,534 : INFO : EPOCH 21 - PROGRESS: at 76.89% examples, 848927 words/s, in_qsize 20, out_qsize 0\n",
      "2019-04-16 11:27:08,184 : INFO : worker thread finished; awaiting finish of 9 more threads\n",
      "2019-04-16 11:27:08,192 : INFO : worker thread finished; awaiting finish of 8 more threads\n",
      "2019-04-16 11:27:08,197 : INFO : worker thread finished; awaiting finish of 7 more threads\n",
      "2019-04-16 11:27:08,198 : INFO : worker thread finished; awaiting finish of 6 more threads\n",
      "2019-04-16 11:27:08,199 : INFO : worker thread finished; awaiting finish of 5 more threads\n",
      "2019-04-16 11:27:08,200 : INFO : worker thread finished; awaiting finish of 4 more threads\n",
      "2019-04-16 11:27:08,202 : INFO : worker thread finished; awaiting finish of 3 more threads\n",
      "2019-04-16 11:27:08,207 : INFO : worker thread finished; awaiting finish of 2 more threads\n",
      "2019-04-16 11:27:08,216 : INFO : worker thread finished; awaiting finish of 1 more threads\n",
      "2019-04-16 11:27:08,220 : INFO : worker thread finished; awaiting finish of 0 more threads\n",
      "2019-04-16 11:27:08,221 : INFO : EPOCH - 21 : training on 4169816 raw words (3320337 effective words) took 3.7s, 898247 effective words/s\n",
      "2019-04-16 11:27:09,241 : INFO : EPOCH 22 - PROGRESS: at 34.99% examples, 1154967 words/s, in_qsize 18, out_qsize 1\n",
      "2019-04-16 11:27:10,264 : INFO : EPOCH 22 - PROGRESS: at 72.01% examples, 1181355 words/s, in_qsize 18, out_qsize 1\n",
      "2019-04-16 11:27:10,946 : INFO : worker thread finished; awaiting finish of 9 more threads\n",
      "2019-04-16 11:27:10,961 : INFO : worker thread finished; awaiting finish of 8 more threads\n",
      "2019-04-16 11:27:10,967 : INFO : worker thread finished; awaiting finish of 7 more threads\n",
      "2019-04-16 11:27:10,970 : INFO : worker thread finished; awaiting finish of 6 more threads\n",
      "2019-04-16 11:27:10,971 : INFO : worker thread finished; awaiting finish of 5 more threads\n",
      "2019-04-16 11:27:10,973 : INFO : worker thread finished; awaiting finish of 4 more threads\n",
      "2019-04-16 11:27:10,987 : INFO : worker thread finished; awaiting finish of 3 more threads\n",
      "2019-04-16 11:27:10,989 : INFO : worker thread finished; awaiting finish of 2 more threads\n",
      "2019-04-16 11:27:10,990 : INFO : worker thread finished; awaiting finish of 1 more threads\n",
      "2019-04-16 11:27:10,993 : INFO : worker thread finished; awaiting finish of 0 more threads\n",
      "2019-04-16 11:27:10,993 : INFO : EPOCH - 22 : training on 4169816 raw words (3321082 effective words) took 2.8s, 1204170 effective words/s\n",
      "2019-04-16 11:27:12,010 : INFO : EPOCH 23 - PROGRESS: at 34.74% examples, 1151743 words/s, in_qsize 18, out_qsize 1\n",
      "2019-04-16 11:27:13,014 : INFO : EPOCH 23 - PROGRESS: at 69.21% examples, 1147227 words/s, in_qsize 19, out_qsize 0\n",
      "2019-04-16 11:27:13,784 : INFO : worker thread finished; awaiting finish of 9 more threads\n",
      "2019-04-16 11:27:13,795 : INFO : worker thread finished; awaiting finish of 8 more threads\n",
      "2019-04-16 11:27:13,800 : INFO : worker thread finished; awaiting finish of 7 more threads\n",
      "2019-04-16 11:27:13,802 : INFO : worker thread finished; awaiting finish of 6 more threads\n",
      "2019-04-16 11:27:13,806 : INFO : worker thread finished; awaiting finish of 5 more threads\n",
      "2019-04-16 11:27:13,807 : INFO : worker thread finished; awaiting finish of 4 more threads\n",
      "2019-04-16 11:27:13,816 : INFO : worker thread finished; awaiting finish of 3 more threads\n",
      "2019-04-16 11:27:13,820 : INFO : worker thread finished; awaiting finish of 2 more threads\n",
      "2019-04-16 11:27:13,821 : INFO : worker thread finished; awaiting finish of 1 more threads\n",
      "2019-04-16 11:27:13,824 : INFO : worker thread finished; awaiting finish of 0 more threads\n",
      "2019-04-16 11:27:13,824 : INFO : EPOCH - 23 : training on 4169816 raw words (3321525 effective words) took 2.8s, 1179516 effective words/s\n",
      "2019-04-16 11:27:14,840 : INFO : EPOCH 24 - PROGRESS: at 35.22% examples, 1168303 words/s, in_qsize 19, out_qsize 0\n",
      "2019-04-16 11:27:15,856 : INFO : EPOCH 24 - PROGRESS: at 70.17% examples, 1156490 words/s, in_qsize 19, out_qsize 0\n",
      "2019-04-16 11:27:16,640 : INFO : worker thread finished; awaiting finish of 9 more threads\n",
      "2019-04-16 11:27:16,649 : INFO : worker thread finished; awaiting finish of 8 more threads\n",
      "2019-04-16 11:27:16,662 : INFO : worker thread finished; awaiting finish of 7 more threads\n",
      "2019-04-16 11:27:16,665 : INFO : worker thread finished; awaiting finish of 6 more threads\n",
      "2019-04-16 11:27:16,666 : INFO : worker thread finished; awaiting finish of 5 more threads\n",
      "2019-04-16 11:27:16,667 : INFO : worker thread finished; awaiting finish of 4 more threads\n",
      "2019-04-16 11:27:16,669 : INFO : worker thread finished; awaiting finish of 3 more threads\n",
      "2019-04-16 11:27:16,678 : INFO : worker thread finished; awaiting finish of 2 more threads\n",
      "2019-04-16 11:27:16,686 : INFO : worker thread finished; awaiting finish of 1 more threads\n",
      "2019-04-16 11:27:16,688 : INFO : worker thread finished; awaiting finish of 0 more threads\n",
      "2019-04-16 11:27:16,689 : INFO : EPOCH - 24 : training on 4169816 raw words (3320726 effective words) took 2.9s, 1165082 effective words/s\n",
      "2019-04-16 11:27:17,734 : INFO : EPOCH 25 - PROGRESS: at 31.96% examples, 1035373 words/s, in_qsize 18, out_qsize 1\n",
      "2019-04-16 11:27:18,744 : INFO : EPOCH 25 - PROGRESS: at 62.87% examples, 1029727 words/s, in_qsize 17, out_qsize 2\n",
      "2019-04-16 11:27:19,753 : INFO : EPOCH 25 - PROGRESS: at 88.73% examples, 967961 words/s, in_qsize 20, out_qsize 0\n",
      "2019-04-16 11:27:19,997 : INFO : worker thread finished; awaiting finish of 9 more threads\n",
      "2019-04-16 11:27:20,008 : INFO : worker thread finished; awaiting finish of 8 more threads\n",
      "2019-04-16 11:27:20,010 : INFO : worker thread finished; awaiting finish of 7 more threads\n",
      "2019-04-16 11:27:20,016 : INFO : worker thread finished; awaiting finish of 6 more threads\n",
      "2019-04-16 11:27:20,019 : INFO : worker thread finished; awaiting finish of 5 more threads\n",
      "2019-04-16 11:27:20,023 : INFO : worker thread finished; awaiting finish of 4 more threads\n",
      "2019-04-16 11:27:20,025 : INFO : worker thread finished; awaiting finish of 3 more threads\n",
      "2019-04-16 11:27:20,040 : INFO : worker thread finished; awaiting finish of 2 more threads\n",
      "2019-04-16 11:27:20,043 : INFO : worker thread finished; awaiting finish of 1 more threads\n",
      "2019-04-16 11:27:20,044 : INFO : worker thread finished; awaiting finish of 0 more threads\n",
      "2019-04-16 11:27:20,045 : INFO : EPOCH - 25 : training on 4169816 raw words (3320488 effective words) took 3.3s, 996108 effective words/s\n",
      "2019-04-16 11:27:21,071 : INFO : EPOCH 26 - PROGRESS: at 34.08% examples, 1115547 words/s, in_qsize 18, out_qsize 1\n",
      "2019-04-16 11:27:22,075 : INFO : EPOCH 26 - PROGRESS: at 66.03% examples, 1088986 words/s, in_qsize 17, out_qsize 2\n",
      "2019-04-16 11:27:22,980 : INFO : worker thread finished; awaiting finish of 9 more threads\n",
      "2019-04-16 11:27:22,993 : INFO : worker thread finished; awaiting finish of 8 more threads\n",
      "2019-04-16 11:27:22,998 : INFO : worker thread finished; awaiting finish of 7 more threads\n",
      "2019-04-16 11:27:23,000 : INFO : worker thread finished; awaiting finish of 6 more threads\n",
      "2019-04-16 11:27:23,003 : INFO : worker thread finished; awaiting finish of 5 more threads\n",
      "2019-04-16 11:27:23,004 : INFO : worker thread finished; awaiting finish of 4 more threads\n",
      "2019-04-16 11:27:23,010 : INFO : worker thread finished; awaiting finish of 3 more threads\n",
      "2019-04-16 11:27:23,017 : INFO : worker thread finished; awaiting finish of 2 more threads\n",
      "2019-04-16 11:27:23,020 : INFO : worker thread finished; awaiting finish of 1 more threads\n",
      "2019-04-16 11:27:23,021 : INFO : worker thread finished; awaiting finish of 0 more threads\n"
     ]
    },
    {
     "name": "stderr",
     "output_type": "stream",
     "text": [
      "2019-04-16 11:27:23,022 : INFO : EPOCH - 26 : training on 4169816 raw words (3320404 effective words) took 3.0s, 1120051 effective words/s\n",
      "2019-04-16 11:27:24,038 : INFO : EPOCH 27 - PROGRESS: at 34.26% examples, 1135463 words/s, in_qsize 19, out_qsize 0\n",
      "2019-04-16 11:27:25,072 : INFO : EPOCH 27 - PROGRESS: at 71.09% examples, 1160967 words/s, in_qsize 16, out_qsize 3\n",
      "2019-04-16 11:27:25,807 : INFO : worker thread finished; awaiting finish of 9 more threads\n",
      "2019-04-16 11:27:25,823 : INFO : worker thread finished; awaiting finish of 8 more threads\n",
      "2019-04-16 11:27:25,827 : INFO : worker thread finished; awaiting finish of 7 more threads\n",
      "2019-04-16 11:27:25,834 : INFO : worker thread finished; awaiting finish of 6 more threads\n",
      "2019-04-16 11:27:25,837 : INFO : worker thread finished; awaiting finish of 5 more threads\n",
      "2019-04-16 11:27:25,839 : INFO : worker thread finished; awaiting finish of 4 more threads\n",
      "2019-04-16 11:27:25,843 : INFO : worker thread finished; awaiting finish of 3 more threads\n",
      "2019-04-16 11:27:25,851 : INFO : worker thread finished; awaiting finish of 2 more threads\n",
      "2019-04-16 11:27:25,852 : INFO : worker thread finished; awaiting finish of 1 more threads\n",
      "2019-04-16 11:27:25,854 : INFO : worker thread finished; awaiting finish of 0 more threads\n",
      "2019-04-16 11:27:25,855 : INFO : EPOCH - 27 : training on 4169816 raw words (3320392 effective words) took 2.8s, 1178059 effective words/s\n",
      "2019-04-16 11:27:26,880 : INFO : EPOCH 28 - PROGRESS: at 34.49% examples, 1132864 words/s, in_qsize 18, out_qsize 1\n",
      "2019-04-16 11:27:27,886 : INFO : EPOCH 28 - PROGRESS: at 70.84% examples, 1168421 words/s, in_qsize 19, out_qsize 0\n",
      "2019-04-16 11:27:28,795 : INFO : worker thread finished; awaiting finish of 9 more threads\n",
      "2019-04-16 11:27:28,795 : INFO : worker thread finished; awaiting finish of 8 more threads\n",
      "2019-04-16 11:27:28,807 : INFO : worker thread finished; awaiting finish of 7 more threads\n",
      "2019-04-16 11:27:28,808 : INFO : worker thread finished; awaiting finish of 6 more threads\n",
      "2019-04-16 11:27:28,833 : INFO : worker thread finished; awaiting finish of 5 more threads\n",
      "2019-04-16 11:27:28,875 : INFO : worker thread finished; awaiting finish of 4 more threads\n",
      "2019-04-16 11:27:28,878 : INFO : worker thread finished; awaiting finish of 3 more threads\n",
      "2019-04-16 11:27:28,882 : INFO : worker thread finished; awaiting finish of 2 more threads\n",
      "2019-04-16 11:27:28,897 : INFO : EPOCH 28 - PROGRESS: at 99.78% examples, 1094325 words/s, in_qsize 1, out_qsize 1\n",
      "2019-04-16 11:27:28,898 : INFO : worker thread finished; awaiting finish of 1 more threads\n",
      "2019-04-16 11:27:28,903 : INFO : worker thread finished; awaiting finish of 0 more threads\n",
      "2019-04-16 11:27:28,904 : INFO : EPOCH - 28 : training on 4169816 raw words (3321224 effective words) took 3.0s, 1094275 effective words/s\n",
      "2019-04-16 11:27:29,936 : INFO : EPOCH 29 - PROGRESS: at 21.85% examples, 719249 words/s, in_qsize 19, out_qsize 0\n",
      "2019-04-16 11:27:30,941 : INFO : EPOCH 29 - PROGRESS: at 54.53% examples, 902128 words/s, in_qsize 19, out_qsize 0\n",
      "2019-04-16 11:27:31,943 : INFO : EPOCH 29 - PROGRESS: at 91.15% examples, 1003400 words/s, in_qsize 18, out_qsize 1\n",
      "2019-04-16 11:27:32,068 : INFO : worker thread finished; awaiting finish of 9 more threads\n",
      "2019-04-16 11:27:32,081 : INFO : worker thread finished; awaiting finish of 8 more threads\n",
      "2019-04-16 11:27:32,087 : INFO : worker thread finished; awaiting finish of 7 more threads\n",
      "2019-04-16 11:27:32,090 : INFO : worker thread finished; awaiting finish of 6 more threads\n",
      "2019-04-16 11:27:32,094 : INFO : worker thread finished; awaiting finish of 5 more threads\n",
      "2019-04-16 11:27:32,101 : INFO : worker thread finished; awaiting finish of 4 more threads\n",
      "2019-04-16 11:27:32,109 : INFO : worker thread finished; awaiting finish of 3 more threads\n",
      "2019-04-16 11:27:32,110 : INFO : worker thread finished; awaiting finish of 2 more threads\n",
      "2019-04-16 11:27:32,112 : INFO : worker thread finished; awaiting finish of 1 more threads\n",
      "2019-04-16 11:27:32,114 : INFO : worker thread finished; awaiting finish of 0 more threads\n",
      "2019-04-16 11:27:32,115 : INFO : EPOCH - 29 : training on 4169816 raw words (3320888 effective words) took 3.2s, 1042262 effective words/s\n",
      "2019-04-16 11:27:33,129 : INFO : EPOCH 30 - PROGRESS: at 34.51% examples, 1143764 words/s, in_qsize 20, out_qsize 0\n",
      "2019-04-16 11:27:34,139 : INFO : EPOCH 30 - PROGRESS: at 67.73% examples, 1119910 words/s, in_qsize 19, out_qsize 0\n",
      "2019-04-16 11:27:34,995 : INFO : worker thread finished; awaiting finish of 9 more threads\n",
      "2019-04-16 11:27:35,004 : INFO : worker thread finished; awaiting finish of 8 more threads\n",
      "2019-04-16 11:27:35,008 : INFO : worker thread finished; awaiting finish of 7 more threads\n",
      "2019-04-16 11:27:35,010 : INFO : worker thread finished; awaiting finish of 6 more threads\n",
      "2019-04-16 11:27:35,012 : INFO : worker thread finished; awaiting finish of 5 more threads\n",
      "2019-04-16 11:27:35,013 : INFO : worker thread finished; awaiting finish of 4 more threads\n",
      "2019-04-16 11:27:35,018 : INFO : worker thread finished; awaiting finish of 3 more threads\n",
      "2019-04-16 11:27:35,022 : INFO : worker thread finished; awaiting finish of 2 more threads\n",
      "2019-04-16 11:27:35,025 : INFO : worker thread finished; awaiting finish of 1 more threads\n",
      "2019-04-16 11:27:35,028 : INFO : worker thread finished; awaiting finish of 0 more threads\n",
      "2019-04-16 11:27:35,029 : INFO : EPOCH - 30 : training on 4169816 raw words (3321138 effective words) took 2.9s, 1144525 effective words/s\n",
      "2019-04-16 11:27:35,030 : INFO : training on a 125094480 raw words (99627591 effective words) took 90.1s, 1105494 effective words/s\n"
     ]
    },
    {
     "data": {
      "text/plain": [
       "(99627591, 125094480)"
      ]
     },
     "execution_count": 10,
     "metadata": {},
     "output_type": "execute_result"
    }
   ],
   "source": [
    "model = gensim.models.Word2Vec (documents, size=150, window=10, min_count=2, workers=10)\n",
    "model.train(documents,total_examples=len(documents),epochs=30)"
   ]
  },
  {
   "cell_type": "code",
   "execution_count": 11,
   "metadata": {
    "pycharm": {}
   },
   "outputs": [
    {
     "name": "stderr",
     "output_type": "stream",
     "text": [
      "2019-04-16 11:30:28,273 : INFO : precomputing L2-norms of word weight vectors\n"
     ]
    },
    {
     "name": "stdout",
     "output_type": "stream",
     "text": [
      "[('yep', 0.45996320247650146), ('yeah', 0.3965533375740051), ('ok', 0.3885487914085388), ('also', 0.361253023147583), ('correct', 0.34908440709114075), ('still', 0.3433060646057129), ('yip', 0.3312121331691742), ('not', 0.3236917555332184), ('mistaken', 0.30754122138023376), ('technically', 0.30000999569892883)]\n"
     ]
    },
    {
     "ename": "NameError",
     "evalue": "name 'svs' is not defined",
     "output_type": "error",
     "traceback": [
      "\u001b[0;31m---------------------------------------------------------------------------\u001b[0m",
      "\u001b[0;31mNameError\u001b[0m                                 Traceback (most recent call last)",
      "\u001b[0;32m<ipython-input-11-f54ed011fa27>\u001b[0m in \u001b[0;36m<module>\u001b[0;34m\u001b[0m\n\u001b[1;32m      5\u001b[0m \u001b[0mprint\u001b[0m\u001b[0;34m(\u001b[0m\u001b[0mmodel\u001b[0m\u001b[0;34m.\u001b[0m\u001b[0mwv\u001b[0m\u001b[0;34m.\u001b[0m\u001b[0msimilar_by_word\u001b[0m\u001b[0;34m(\u001b[0m\u001b[0;34m\"yes\"\u001b[0m\u001b[0;34m)\u001b[0m\u001b[0;34m)\u001b[0m\u001b[0;34m\u001b[0m\u001b[0;34m\u001b[0m\u001b[0m\n\u001b[1;32m      6\u001b[0m \u001b[0;31m# print(svs[3])\u001b[0m\u001b[0;34m\u001b[0m\u001b[0;34m\u001b[0m\u001b[0;34m\u001b[0m\u001b[0m\n\u001b[0;32m----> 7\u001b[0;31m \u001b[0mmodel\u001b[0m\u001b[0;34m.\u001b[0m\u001b[0mwv\u001b[0m\u001b[0;34m.\u001b[0m\u001b[0msimilar_by_vector\u001b[0m\u001b[0;34m(\u001b[0m\u001b[0msvs\u001b[0m\u001b[0;34m[\u001b[0m\u001b[0;36m430\u001b[0m\u001b[0;34m]\u001b[0m\u001b[0;34m)\u001b[0m\u001b[0;34m\u001b[0m\u001b[0;34m\u001b[0m\u001b[0m\n\u001b[0m\u001b[1;32m      8\u001b[0m \u001b[0;31m# svs[0]\u001b[0m\u001b[0;34m\u001b[0m\u001b[0;34m\u001b[0m\u001b[0;34m\u001b[0m\u001b[0m\n",
      "\u001b[0;31mNameError\u001b[0m: name 'svs' is not defined"
     ]
    }
   ],
   "source": [
    "w1 = \"hi\"\n",
    "hi_vec = model.wv.word_vec(w1)\n",
    "# print(hi_vec)\n",
    "model.wv.most_similar(positive=w1)\n",
    "print(model.wv.similar_by_word(\"yes\"))\n",
    "# print(svs[3])\n",
    "model.wv.similar_by_vector(svs[430])\n",
    "# svs[0]"
   ]
  },
  {
   "cell_type": "code",
   "execution_count": 21,
   "metadata": {},
   "outputs": [
    {
     "name": "stderr",
     "output_type": "stream",
     "text": [
      "2019-04-16 11:32:35,694 : INFO : loading Word2Vec object from ../data_files/gnue_irc_word2vec_model_30e.h5\n",
      "2019-04-16 11:32:36,291 : INFO : loading wv recursively from ../data_files/gnue_irc_word2vec_model_30e.h5.wv.* with mmap=None\n",
      "2019-04-16 11:32:36,292 : INFO : setting ignored attribute vectors_norm to None\n",
      "2019-04-16 11:32:36,292 : INFO : loading vocabulary recursively from ../data_files/gnue_irc_word2vec_model_30e.h5.vocabulary.* with mmap=None\n",
      "2019-04-16 11:32:36,293 : INFO : loading trainables recursively from ../data_files/gnue_irc_word2vec_model_30e.h5.trainables.* with mmap=None\n",
      "2019-04-16 11:32:36,294 : INFO : setting ignored attribute cum_table to None\n",
      "2019-04-16 11:32:36,295 : INFO : loaded ../data_files/gnue_irc_word2vec_model_30e.h5\n"
     ]
    }
   ],
   "source": [
    "loaded_model =  gensim.models.Word2Vec.load(join(DATA_DIR, \"gnue_irc_word2vec_model_30e.h5\"))"
   ]
  },
  {
   "cell_type": "code",
   "execution_count": 23,
   "metadata": {
    "pycharm": {}
   },
   "outputs": [
    {
     "data": {
      "text/plain": [
       "array([-0.03135124,  1.2129529 , -0.79715836, -1.8308288 ,  0.4907622 ,\n",
       "        1.1276971 , -0.32817286,  0.19805674,  0.02772181,  0.25818926,\n",
       "        0.42525584, -1.1003402 , -0.22541124, -1.6306183 , -0.14814904,\n",
       "        0.55835855,  0.46363   ,  0.38090482,  1.1816655 , -0.39435875,\n",
       "        1.643432  ,  1.8381475 ,  0.16281776, -0.13909623, -0.22085871,\n",
       "        1.1222386 ,  0.80230576,  0.8636888 ,  0.34996024, -0.93690115,\n",
       "        1.1480107 ,  1.7027161 ,  0.13138667, -0.8414984 , -0.16195013,\n",
       "       -1.0490205 ,  0.623895  ,  0.0026741 ,  1.0096171 ,  1.3378421 ,\n",
       "       -0.06086442,  0.11471634, -0.17178415,  0.47939003,  0.15147865,\n",
       "       -2.1511607 ,  0.7102236 , -0.20657034, -0.624123  ,  1.1227851 ,\n",
       "       -0.36108878,  0.6622783 , -0.22130087, -1.4422998 , -0.7275693 ,\n",
       "       -0.10384305, -0.13879171,  0.5134441 ,  0.00515444,  0.52122694,\n",
       "        0.5395217 , -0.791034  , -0.5890757 , -0.82481664,  0.4689453 ,\n",
       "        1.8096837 , -0.37319225, -0.8374059 , -0.28248352,  0.3963502 ,\n",
       "       -0.6180019 , -0.8415863 , -0.43146625,  0.29731226,  0.85822093,\n",
       "        0.13002999,  0.39417303,  0.95019627, -0.27737916,  1.383009  ,\n",
       "        0.54841393, -0.20170066,  0.56356835, -0.7277341 ,  0.17645842,\n",
       "       -0.55966884,  1.2087163 ,  0.08175028, -1.6757561 , -0.09358955,\n",
       "        0.32794422, -0.8864101 ,  0.7607016 , -0.646723  , -0.1658679 ,\n",
       "        0.10769079, -0.18802315,  1.054631  , -0.36265233,  0.46997306,\n",
       "        0.20748252, -0.5274938 ,  0.38337523,  0.51857036, -1.4699388 ,\n",
       "        0.00985422,  0.18940668, -0.93443805, -1.4547864 , -0.48387745,\n",
       "       -1.3679197 , -0.3493242 , -0.45736882, -0.5299915 ,  0.79424864,\n",
       "        0.624247  , -0.9106417 , -1.0358973 , -0.22056553, -0.04301915,\n",
       "       -0.7596997 , -0.7003256 , -1.1644644 ,  0.637983  , -0.60116583,\n",
       "        0.6051148 ,  1.2193106 ,  1.2921692 ,  0.2918376 ,  0.32849607,\n",
       "        0.1868568 , -0.9269129 , -1.6836197 ,  0.04940645,  0.5095558 ,\n",
       "       -1.186841  ,  1.8982946 ,  1.5723398 , -1.3345793 , -0.3547639 ,\n",
       "       -0.55638963,  0.8611981 , -0.36641353,  2.0646033 ,  1.1183566 ,\n",
       "       -0.69266224, -0.43234223, -0.21687675, -0.38730907, -1.0652139 ],\n",
       "      dtype=float32)"
      ]
     },
     "execution_count": 23,
     "metadata": {},
     "output_type": "execute_result"
    }
   ],
   "source": [
    "derek_vector = loaded_model.wv.word_vec(\"derek\")\n",
    "derek_vector"
   ]
  },
  {
   "cell_type": "code",
   "execution_count": 24,
   "metadata": {
    "pycharm": {}
   },
   "outputs": [
    {
     "data": {
      "text/plain": [
       "(150,)"
      ]
     },
     "execution_count": 24,
     "metadata": {},
     "output_type": "execute_result"
    }
   ],
   "source": [
    "loaded_model.wv.word_vec(\"cvs\").shape"
   ]
  },
  {
   "cell_type": "code",
   "execution_count": 15,
   "metadata": {
    "pycharm": {}
   },
   "outputs": [],
   "source": [
    "# np.multiply(model.wv.word_vec(\"derek\"), 0.0015415098078320612)"
   ]
  },
  {
   "cell_type": "code",
   "execution_count": 25,
   "metadata": {
    "pycharm": {}
   },
   "outputs": [],
   "source": [
    "# Save the model\n",
    "# filename = join(DATA_DIR, \"gnue_irc_word2vec_model_30e_2.h5\")\n",
    "# model.save(filename)"
   ]
  },
  {
   "cell_type": "code",
   "execution_count": 38,
   "metadata": {
    "pycharm": {}
   },
   "outputs": [],
   "source": [
    "# Load Word TF-IDFS\n",
    "def get_word_tf_idfs(word_tf_idfs_filename):\n",
    "    word_tf_idfs = []\n",
    "    with open(word_tf_idfs_filename) as word_tf_idfs_file:\n",
    "        for values in word_tf_idfs_file:\n",
    "            values = [float(value) for value in values.strip().split()]\n",
    "            word_tf_idfs.append(values)\n",
    "    return word_tf_idfs\n",
    "        "
   ]
  },
  {
   "cell_type": "code",
   "execution_count": 39,
   "metadata": {
    "pycharm": {}
   },
   "outputs": [],
   "source": [
    "word_tf_idfs_filename = join(DATA_DIR, \"word_tf_idfs.txt\")\n",
    "word_tf_idfs = get_word_tf_idfs(word_tf_idfs_filename)[:4]"
   ]
  },
  {
   "cell_type": "code",
   "execution_count": 40,
   "metadata": {
    "pycharm": {}
   },
   "outputs": [
    {
     "data": {
      "text/plain": [
       "[0.0005048845017409812, 0.0006060496352296479]"
      ]
     },
     "execution_count": 40,
     "metadata": {},
     "output_type": "execute_result"
    }
   ],
   "source": [
    "word_tf_idfs[1]"
   ]
  },
  {
   "cell_type": "markdown",
   "metadata": {
    "pycharm": {}
   },
   "source": [
    "Generating Sentence Vectors using the **Average of Word2Vec vectors with TF-IDF** method\n",
    "\n",
    "\"This is one of the best approach which I will recommend. Just take the word vectors and multiply it with their TF-IDF scores. Just take the average and it will represent your sentence vector\"\n",
    "\n",
    "https://stackoverflow.com/questions/29760935/how-to-get-vector-for-a-sentence-from-the-word2vec-of-tokens-in-sentence\n"
   ]
  },
  {
   "cell_type": "code",
   "execution_count": 41,
   "metadata": {
    "pycharm": {}
   },
   "outputs": [],
   "source": [
    "def strip_leading_and_trailing_punctuation(word):\n",
    "    return word.strip(string.punctuation) "
   ]
  },
  {
   "cell_type": "code",
   "execution_count": 42,
   "metadata": {
    "pycharm": {}
   },
   "outputs": [],
   "source": [
    "def pre_process_sentence(sentence):\n",
    "    if not sentence:\n",
    "        print(\"No words here\")\n",
    "    if type(sentence) is not str:\n",
    "        try:\n",
    "            sentence = sentence.decode('utf-8')\n",
    "        except Exception:\n",
    "            raise ValueError(\"Input must be a String or ByteString\")\n",
    "        \n",
    "    return sentence"
   ]
  },
  {
   "cell_type": "code",
   "execution_count": 43,
   "metadata": {
    "pycharm": {}
   },
   "outputs": [],
   "source": [
    "def all_chars_in_word_are_punctuation(word):\n",
    "    return all(char in PUNCTUATION_SET for char in word)"
   ]
  },
  {
   "cell_type": "code",
   "execution_count": 44,
   "metadata": {
    "pycharm": {}
   },
   "outputs": [],
   "source": [
    "def get_words_in_sentence(sentence):\n",
    "    words = []\n",
    "    for word in sentence.split():\n",
    "        if not all_chars_in_word_are_punctuation(word):\n",
    "            word = strip_leading_and_trailing_punctuation(word)\n",
    "            if ',' in word:\n",
    "                comma_split_words = word.split(',')\n",
    "                for word in comma_split_words:\n",
    "                    if not all_chars_in_word_are_punctuation(word):\n",
    "                        words.append(word)\n",
    "            else:\n",
    "                words.append(word)\n",
    "    return words"
   ]
  },
  {
   "cell_type": "code",
   "execution_count": 45,
   "metadata": {
    "pycharm": {}
   },
   "outputs": [],
   "source": [
    "def get_sentence_word_vectors(sentence, model):\n",
    "    sentence = pre_process_sentence(sentence)\n",
    "    vectors = []\n",
    "    words = get_words_in_sentence(sentence)\n",
    "    if not words:\n",
    "        return [np.zeros((150,))]\n",
    "    for word in words:\n",
    "        try:\n",
    "            vectors.append(model.wv.word_vec(word.lower()))\n",
    "        except KeyError:\n",
    "            vectors.append(np.zeros((150,)))\n",
    "    \n",
    "    return vectors\n",
    "    "
   ]
  },
  {
   "cell_type": "code",
   "execution_count": 46,
   "metadata": {
    "pycharm": {}
   },
   "outputs": [
    {
     "data": {
      "text/plain": [
       "2"
      ]
     },
     "execution_count": 46,
     "metadata": {},
     "output_type": "execute_result"
    }
   ],
   "source": [
    "len([vec for vec in get_sentence_word_vectors(\"cvs diff\", model)])"
   ]
  },
  {
   "cell_type": "code",
   "execution_count": 47,
   "metadata": {
    "pycharm": {}
   },
   "outputs": [
    {
     "data": {
      "text/plain": [
       "(150,)"
      ]
     },
     "execution_count": 47,
     "metadata": {},
     "output_type": "execute_result"
    }
   ],
   "source": [
    "get_sentence_word_vectors(\"cvs ddghsdg\", model)[1].shape"
   ]
  },
  {
   "cell_type": "code",
   "execution_count": 48,
   "metadata": {
    "pycharm": {}
   },
   "outputs": [],
   "source": [
    "def get_sentence_vector(sentence_word_tf_idfs, word_vectors):\n",
    "    products = []\n",
    "    for word_tf_idf, word_vector in zip(sentence_word_tf_idfs, word_vectors):\n",
    "        # product = np.multiply(word_vector, word_tf_idf)\n",
    "        products.append(word_vector)\n",
    "    vector_sum = np.sum(products, axis=0)\n",
    "    return vector_sum / len(products)\n",
    "        "
   ]
  },
  {
   "cell_type": "code",
   "execution_count": 51,
   "metadata": {
    "pycharm": {}
   },
   "outputs": [
    {
     "data": {
      "text/plain": [
       "array([-0.03135124,  1.2129529 , -0.79715836, -1.8308288 ,  0.4907622 ,\n",
       "        1.1276971 , -0.32817286,  0.19805674,  0.02772181,  0.25818926,\n",
       "        0.42525584, -1.1003402 , -0.22541124, -1.6306183 , -0.14814904,\n",
       "        0.55835855,  0.46363   ,  0.38090482,  1.1816655 , -0.39435875,\n",
       "        1.643432  ,  1.8381475 ,  0.16281776, -0.13909623, -0.22085871,\n",
       "        1.1222386 ,  0.80230576,  0.8636888 ,  0.34996024, -0.93690115,\n",
       "        1.1480107 ,  1.7027161 ,  0.13138667, -0.8414984 , -0.16195013,\n",
       "       -1.0490205 ,  0.623895  ,  0.0026741 ,  1.0096171 ,  1.3378421 ,\n",
       "       -0.06086442,  0.11471634, -0.17178415,  0.47939003,  0.15147865,\n",
       "       -2.1511607 ,  0.7102236 , -0.20657034, -0.624123  ,  1.1227851 ,\n",
       "       -0.36108878,  0.6622783 , -0.22130087, -1.4422998 , -0.7275693 ,\n",
       "       -0.10384305, -0.13879171,  0.5134441 ,  0.00515444,  0.52122694,\n",
       "        0.5395217 , -0.791034  , -0.5890757 , -0.82481664,  0.4689453 ,\n",
       "        1.8096837 , -0.37319225, -0.8374059 , -0.28248352,  0.3963502 ,\n",
       "       -0.6180019 , -0.8415863 , -0.43146625,  0.29731226,  0.85822093,\n",
       "        0.13002999,  0.39417303,  0.95019627, -0.27737916,  1.383009  ,\n",
       "        0.54841393, -0.20170066,  0.56356835, -0.7277341 ,  0.17645842,\n",
       "       -0.55966884,  1.2087163 ,  0.08175028, -1.6757561 , -0.09358955,\n",
       "        0.32794422, -0.8864101 ,  0.7607016 , -0.646723  , -0.1658679 ,\n",
       "        0.10769079, -0.18802315,  1.054631  , -0.36265233,  0.46997306,\n",
       "        0.20748252, -0.5274938 ,  0.38337523,  0.51857036, -1.4699388 ,\n",
       "        0.00985422,  0.18940668, -0.93443805, -1.4547864 , -0.48387745,\n",
       "       -1.3679197 , -0.3493242 , -0.45736882, -0.5299915 ,  0.79424864,\n",
       "        0.624247  , -0.9106417 , -1.0358973 , -0.22056553, -0.04301915,\n",
       "       -0.7596997 , -0.7003256 , -1.1644644 ,  0.637983  , -0.60116583,\n",
       "        0.6051148 ,  1.2193106 ,  1.2921692 ,  0.2918376 ,  0.32849607,\n",
       "        0.1868568 , -0.9269129 , -1.6836197 ,  0.04940645,  0.5095558 ,\n",
       "       -1.186841  ,  1.8982946 ,  1.5723398 , -1.3345793 , -0.3547639 ,\n",
       "       -0.55638963,  0.8611981 , -0.36641353,  2.0646033 ,  1.1183566 ,\n",
       "       -0.69266224, -0.43234223, -0.21687675, -0.38730907, -1.0652139 ],\n",
       "      dtype=float32)"
      ]
     },
     "execution_count": 51,
     "metadata": {},
     "output_type": "execute_result"
    }
   ],
   "source": [
    "word_tf_idfs_2, word_vectors = word_tf_idfs[1], get_sentence_word_vectors(\"derek\", loaded_model)\n",
    "sentence_vector = get_sentence_vector(word_tf_idfs_2, word_vectors)\n",
    "assert sentence_vector.shape == derek_vector.shape\n",
    "sentence_vector.shape\n",
    "len(word_vectors)\n",
    "# word_tf_idfs[1]\n",
    "sentence_vector"
   ]
  },
  {
   "cell_type": "code",
   "execution_count": null,
   "metadata": {
    "pycharm": {}
   },
   "outputs": [],
   "source": []
  },
  {
   "cell_type": "code",
   "execution_count": 102,
   "metadata": {
    "pycharm": {}
   },
   "outputs": [],
   "source": [
    "def generate_sentence_vectors(\n",
    "    chat_input_filename, \n",
    "    word_tf_idfs, \n",
    "    word_2_vec_model, \n",
    "    sentence_vectors_output_filename\n",
    "):\n",
    "    with gzip.open(chat_input_filename) as chat_input_file, open(\n",
    "        sentence_vectors_output_filename, \"w\") as sentence_vectors_output_file:\n",
    "        line_count = 0\n",
    "        # Add header ro csv. Numbers from 1 to 150\n",
    "        sentence_vectors_output_file.write(\"{}\\n\".format(\",\".join([str(num) for num in range(1,151)])))\n",
    "        for sentence in chat_input_file:\n",
    "            sentence_word_vectors = get_sentence_word_vectors(sentence, word_2_vec_model)\n",
    "            sentence_vector = get_sentence_vector(word_tf_idfs[line_count], sentence_word_vectors)\n",
    "            csv_vector = ','.join([str(num) for num in sentence_vector])\n",
    "            sentence_vectors_output_file.write(\"{} \\n\".format(csv_vector))\n",
    "            line_count += 1\n",
    "    "
   ]
  },
  {
   "cell_type": "code",
   "execution_count": 103,
   "metadata": {
    "pycharm": {}
   },
   "outputs": [],
   "source": [
    "word_tf_idfs_filename = join(DATA_DIR, \"word_tf_idfs.txt\")\n",
    "word_tf_idfs = get_word_tf_idfs(word_tf_idfs_filename)\n",
    "word_2_vec_model = model\n",
    "sentence_vectors_output_filename = join(FEATURES_DIR, \"sentence_vectors_30e.csv\")"
   ]
  },
  {
   "cell_type": "code",
   "execution_count": 104,
   "metadata": {},
   "outputs": [],
   "source": [
    "generate_sentence_vectors(\n",
    "    CHAT_INPUT_FILE, \n",
    "    word_tf_idfs, \n",
    "    word_2_vec_model, \n",
    "    sentence_vectors_output_filename\n",
    ")"
   ]
  },
  {
   "cell_type": "code",
   "execution_count": 105,
   "metadata": {
    "pycharm": {}
   },
   "outputs": [
    {
     "data": {
      "text/plain": [
       "array([[ 0,  4,  8],\n",
       "       [12, 16, 20],\n",
       "       [24, 28, 32]])"
      ]
     },
     "execution_count": 105,
     "metadata": {},
     "output_type": "execute_result"
    }
   ],
   "source": [
    "x1 = np.arange(9.0).reshape((3, 3))\n",
    "x2 = np.arange(9).reshape((3, 3)) * 2\n",
    "# np.multiply(x1, x2)\n",
    "np.sum([x2, x2], axis=0)"
   ]
  },
  {
   "cell_type": "code",
   "execution_count": 106,
   "metadata": {
    "pycharm": {}
   },
   "outputs": [],
   "source": [
    "sentence_vectors = pd.read_csv(sentence_vectors_output_filename)"
   ]
  },
  {
   "cell_type": "code",
   "execution_count": 107,
   "metadata": {},
   "outputs": [],
   "source": [
    "svs = np.array(sentence_vectors.values)"
   ]
  },
  {
   "cell_type": "code",
   "execution_count": 108,
   "metadata": {},
   "outputs": [
    {
     "data": {
      "text/plain": [
       "array([-0.03135124,  1.2129529 , -0.79715836, -1.8308288 ,  0.4907622 ,\n",
       "        1.1276971 , -0.32817286,  0.19805674,  0.02772181,  0.25818926,\n",
       "        0.42525584, -1.1003402 , -0.22541124, -1.6306183 , -0.14814904,\n",
       "        0.55835855,  0.46363   ,  0.38090482,  1.1816655 , -0.39435875,\n",
       "        1.643432  ,  1.8381475 ,  0.16281776, -0.13909623, -0.22085871,\n",
       "        1.1222386 ,  0.80230576,  0.8636888 ,  0.34996024, -0.93690115,\n",
       "        1.1480107 ,  1.7027161 ,  0.13138667, -0.8414984 , -0.16195013,\n",
       "       -1.0490205 ,  0.623895  ,  0.0026741 ,  1.0096171 ,  1.3378421 ,\n",
       "       -0.06086441,  0.11471634, -0.17178415,  0.47939003,  0.15147865,\n",
       "       -2.1511607 ,  0.7102236 , -0.20657034, -0.624123  ,  1.1227851 ,\n",
       "       -0.36108878,  0.6622783 , -0.22130087, -1.4422998 , -0.7275693 ,\n",
       "       -0.10384305, -0.13879171,  0.5134441 ,  0.00515444,  0.52122694,\n",
       "        0.5395217 , -0.791034  , -0.5890757 , -0.82481664,  0.4689453 ,\n",
       "        1.8096837 , -0.37319225, -0.8374059 , -0.28248352,  0.3963502 ,\n",
       "       -0.6180019 , -0.8415863 , -0.43146625,  0.29731226,  0.85822093,\n",
       "        0.13002999,  0.39417303,  0.95019627, -0.27737916,  1.383009  ,\n",
       "        0.54841393, -0.20170066,  0.56356835, -0.7277341 ,  0.17645842,\n",
       "       -0.55966884,  1.2087163 ,  0.08175028, -1.6757561 , -0.09358955,\n",
       "        0.32794422, -0.8864101 ,  0.7607016 , -0.646723  , -0.1658679 ,\n",
       "        0.10769079, -0.18802315,  1.054631  , -0.36265233,  0.46997306,\n",
       "        0.20748252, -0.5274938 ,  0.38337523,  0.51857036, -1.4699388 ,\n",
       "        0.00985422,  0.18940668, -0.93443805, -1.4547864 , -0.48387745,\n",
       "       -1.3679197 , -0.3493242 , -0.45736882, -0.5299915 ,  0.79424864,\n",
       "        0.624247  , -0.9106417 , -1.0358973 , -0.22056553, -0.04301915,\n",
       "       -0.7596997 , -0.7003256 , -1.1644644 ,  0.637983  , -0.60116583,\n",
       "        0.6051148 ,  1.2193106 ,  1.2921692 ,  0.2918376 ,  0.32849607,\n",
       "        0.1868568 , -0.9269129 , -1.6836197 ,  0.04940645,  0.5095558 ,\n",
       "       -1.186841  ,  1.8982946 ,  1.5723398 , -1.3345793 , -0.3547639 ,\n",
       "       -0.55638963,  0.8611981 , -0.36641353,  2.0646033 ,  1.1183566 ,\n",
       "       -0.69266224, -0.43234223, -0.21687675, -0.38730907, -1.0652139 ])"
      ]
     },
     "execution_count": 108,
     "metadata": {},
     "output_type": "execute_result"
    }
   ],
   "source": [
    "svs[0]"
   ]
  },
  {
   "cell_type": "code",
   "execution_count": null,
   "metadata": {},
   "outputs": [],
   "source": []
  }
 ],
 "metadata": {
  "kernelspec": {
   "display_name": "Python 3",
   "language": "python",
   "name": "python3"
  },
  "language_info": {
   "codemirror_mode": {
    "name": "ipython",
    "version": 3
   },
   "file_extension": ".py",
   "mimetype": "text/x-python",
   "name": "python",
   "nbconvert_exporter": "python",
   "pygments_lexer": "ipython3",
   "version": "3.6.8"
  }
 },
 "nbformat": 4,
 "nbformat_minor": 2
}
