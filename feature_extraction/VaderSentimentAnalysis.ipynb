{
 "cells": [
  {
   "cell_type": "markdown",
   "metadata": {},
   "source": [
    "## Sentiment Analysis Using Vader Sentiment Analysis Library\n",
    "\n",
    "http://t-redactyl.io/blog/2017/04/using-vader-to-handle-sentiment-analysis-with-social-media-text.html"
   ]
  },
  {
   "cell_type": "code",
   "execution_count": 10,
   "metadata": {},
   "outputs": [],
   "source": [
    "import gzip\n",
    "\n",
    "from os.path import join\n",
    "from vaderSentiment.vaderSentiment import SentimentIntensityAnalyzer"
   ]
  },
  {
   "cell_type": "code",
   "execution_count": 14,
   "metadata": {},
   "outputs": [],
   "source": [
    "analyser = SentimentIntensityAnalyzer()\n",
    "# CHAT_LOG_FILE = \"gnue_irc_chat_logs.tsv.gz\"\n",
    "SUMMARIZED_CHAT_LOG_FILE = \"summarized_chat_logs.csv.gz\"\n",
    "OUTPUT_DIR = \"feature_outputs\""
   ]
  },
  {
   "cell_type": "code",
   "execution_count": 4,
   "metadata": {},
   "outputs": [],
   "source": [
    "def get_sentiment_scores(sentence):\n",
    "    sentiment = analyser.polarity_scores(sentence)\n",
    "    return sentiment"
   ]
  },
  {
   "cell_type": "code",
   "execution_count": 5,
   "metadata": {},
   "outputs": [
    {
     "name": "stdout",
     "output_type": "stream",
     "text": [
      "-0.4767 0.608 0.392 0.0\n"
     ]
    },
    {
     "data": {
      "text/plain": [
       "{'neg': 0.608, 'neu': 0.392, 'pos': 0.0, 'compound': -0.4767}"
      ]
     },
     "execution_count": 5,
     "metadata": {},
     "output_type": "execute_result"
    }
   ],
   "source": [
    "stmt = get_sentiment_scores(\"why you cry?\")\n",
    "print(\"{compound} {neg} {neu} {pos}\".format(**stmt))\n",
    "stmt\n"
   ]
  },
  {
   "cell_type": "code",
   "execution_count": 6,
   "metadata": {},
   "outputs": [],
   "source": [
    "def format_sentiment_scores(sentiment_scores):\n",
    "    return \"{compound} {neg} {neu} {pos}\\n\".format(**sentiment_scores)"
   ]
  },
  {
   "cell_type": "code",
   "execution_count": 7,
   "metadata": {},
   "outputs": [],
   "source": [
    "def generate_chat_line_sentiments(input_file, output_directory, output_file):\n",
    "    chat_word_counts = []\n",
    "    with gzip.open(input_file, 'r') as chat_file, open(join(output_directory, output_file), 'w') as out_file:\n",
    "        for i, chat_line in enumerate(chat_file):\n",
    "            out_file.write(format_sentiment_scores(get_sentiment_scores(chat_line.decode('utf-8'))))\n",
    "            # if i >= 20:\n",
    "            #    break"
   ]
  },
  {
   "cell_type": "code",
   "execution_count": 15,
   "metadata": {},
   "outputs": [],
   "source": [
    "### CAREFUL WITH THIS. Might erase existing data file\n",
    "generate_chat_line_sentiments(SUMMARIZED_CHAT_LOG_FILE, OUTPUT_DIR, \"summarized_chat_line_sentiments.txt\")"
   ]
  },
  {
   "cell_type": "code",
   "execution_count": null,
   "metadata": {},
   "outputs": [],
   "source": []
  },
  {
   "cell_type": "code",
   "execution_count": null,
   "metadata": {},
   "outputs": [],
   "source": []
  }
 ],
 "metadata": {
  "kernelspec": {
   "display_name": "Python 3",
   "language": "python",
   "name": "python3"
  },
  "language_info": {
   "codemirror_mode": {
    "name": "ipython",
    "version": 3
   },
   "file_extension": ".py",
   "mimetype": "text/x-python",
   "name": "python",
   "nbconvert_exporter": "python",
   "pygments_lexer": "ipython3",
   "version": "3.7.2"
  }
 },
 "nbformat": 4,
 "nbformat_minor": 2
}
