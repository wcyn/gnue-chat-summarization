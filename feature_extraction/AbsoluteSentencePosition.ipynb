{
 "cells": [
  {
   "attachments": {
    "image.png": {
     "image/png": "[encoded data removed]"
    }
   },
   "cell_type": "markdown",
   "metadata": {},
   "source": [
    "## Absolute Sentence Position Feature\n",
    "This is the absolute position of the sentence in the text as the feature. It is normalized by\n",
    "dividing with the number of sentences present in the conversation. For a sentence s in document\n",
    "d, sentence position score, SPS(s, d) is given by,\n",
    "\n",
    "![image.png](attachment:image.png)\n",
    "\n",
    "where n denotes the position of the sentence s, and N, the total number of sentences."
   ]
  },
  {
   "cell_type": "code",
   "execution_count": 22,
   "metadata": {},
   "outputs": [],
   "source": [
    "import csv\n",
    "import gzip\n",
    "\n",
    "from os.path import join"
   ]
  },
  {
   "cell_type": "code",
   "execution_count": 4,
   "metadata": {},
   "outputs": [],
   "source": [
    "# CHAT_LOG_FILE = \"gnue_irc_chat_logs.tsv.gz\"\n",
    "SUMMARIZED_CHAT_LOG_FILE = \"summarized_chat_logs.csv.gz\"\n",
    "OUTPUT_DIR = \"feature_outputs\""
   ]
  },
  {
   "cell_type": "code",
   "execution_count": 8,
   "metadata": {},
   "outputs": [],
   "source": [
    "def get_absolute_sentence_position(sentence_index, total_number_of_sentences):\n",
    "    return sentence_index / total_number_of_sentences"
   ]
  },
  {
   "cell_type": "code",
   "execution_count": 13,
   "metadata": {},
   "outputs": [
    {
     "name": "stdout",
     "output_type": "stream",
     "text": [
      "r1: 0.021739130434782608\n",
      "r2: 0.6521739130434783\n",
      "r3: 0.9173913043478261\n"
     ]
    }
   ],
   "source": [
    "r1 = get_absolute_sentence_position(5, 230)\n",
    "r2 = get_absolute_sentence_position(150, 230)\n",
    "r3 = get_absolute_sentence_position(211, 230)\n",
    "print(\"r1: {}\\nr2: {}\\nr3: {}\".format(r1, r2, r3))"
   ]
  },
  {
   "cell_type": "code",
   "execution_count": 41,
   "metadata": {},
   "outputs": [],
   "source": [
    "def generate_absolute_sentence_positions(input_file, output_directory, output_file):\n",
    "    with open('summarized_chat_date_partitions.csv', 'r') as chat_partitions, open(join(output_directory, output_file), 'w') as out_file:\n",
    "        csv_row = chat_partitions.readline()\n",
    "        while csv_row:\n",
    "            total_chats = int(csv_row.rstrip().split(',')[2]) # Get only the count\n",
    "            chat_count_in_date = 1 \n",
    "            while chat_count_in_date <= total_chats:\n",
    "                absolute_position = get_absolute_sentence_position(chat_count_in_date, total_chats)\n",
    "                out_file.write(\"{}\\n\".format(absolute_position))\n",
    "                # if chat_count_in_date >= 20:\n",
    "                #    break\n",
    "                chat_count_in_date += 1\n",
    "            csv_row = chat_partitions.readline()"
   ]
  },
  {
   "cell_type": "code",
   "execution_count": 42,
   "metadata": {},
   "outputs": [],
   "source": [
    "### CAREFUL WITH THIS. Might erase existing data file\n",
    "generate_absolute_sentence_positions(SUMMARIZED_CHAT_LOG_FILE, OUTPUT_DIR, \"summarized_absolute_sentence_positions.txt\")"
   ]
  },
  {
   "cell_type": "code",
   "execution_count": null,
   "metadata": {},
   "outputs": [],
   "source": []
  }
 ],
 "metadata": {
  "kernelspec": {
   "display_name": "Python 3",
   "language": "python",
   "name": "python3"
  },
  "language_info": {
   "codemirror_mode": {
    "name": "ipython",
    "version": 3
   },
   "file_extension": ".py",
   "mimetype": "text/x-python",
   "name": "python",
   "nbconvert_exporter": "python",
   "pygments_lexer": "ipython3",
   "version": "3.7.2"
  }
 },
 "nbformat": 4,
 "nbformat_minor": 2
}
