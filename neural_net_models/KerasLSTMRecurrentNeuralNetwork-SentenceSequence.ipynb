{
 "cells": [
  {
   "cell_type": "markdown",
   "metadata": {},
   "source": [
    "## Using Keras for Word Embedding as well as the LSTM\n",
    "\n",
    "https://towardsdatascience.com/recurrent-neural-networks-by-example-in-python-ffd204f99470\n",
    "\n",
    "https://machinelearningmastery.com/sequence-classification-lstm-recurrent-neural-networks-python-keras/\n",
    "\n",
    "https://keras.io/getting-started/functional-api-guide/"
   ]
  },
  {
   "cell_type": "code",
   "execution_count": 24,
   "metadata": {},
   "outputs": [],
   "source": [
    "import keras\n",
    "import numpy as np\n",
    "import pandas as pd\n",
    "import matplotlib.pyplot as plt\n",
    "import time\n",
    "\n",
    "from gensim.models.doc2vec import Doc2Vec, TaggedDocument\n",
    "from nltk.tokenize import word_tokenize\n",
    "from keras.layers import Bidirectional, Dense, Dropout, Input, LSTM\n",
    "from keras.layers.embeddings import Embedding\n",
    "from keras.models import Sequential, Model\n",
    "from keras.preprocessing.text import Tokenizer\n",
    "from keras.preprocessing import sequence\n",
    "from keras.utils import to_categorical\n",
    "from sklearn.metrics import classification_report, confusion_matrix\n",
    "from os.path import join"
   ]
  },
  {
   "cell_type": "code",
   "execution_count": 91,
   "metadata": {},
   "outputs": [],
   "source": [
    "FEATURES_DIR = join(\"..\", \"feature_extraction\", \"feature_outputs\")\n",
    "DATA_FILES_DIR = join(\"..\", \"feature_extraction\", \"data_files\")\n",
    "chat_logs_filename = join(DATA_FILES_DIR, \"gnue_irc_chat_logs_preprocessed.txt\")\n",
    "summarized_chat_date_partitions_filename = join(\n",
    "    DATA_FILES_DIR, \"summarized_chat_date_partitions_cumulative_count.csv\"\n",
    ")\n",
    "summarized_chat_log_ids_filename = join(DATA_FILES_DIR, \"summarized_chat_log_ids.csv\")\n",
    "summarized_chat_features_filename = join(FEATURES_DIR, \"summarized_chats_features.csv\")"
   ]
  },
  {
   "cell_type": "code",
   "execution_count": 4,
   "metadata": {},
   "outputs": [],
   "source": [
    "summarized_chat_date_partitions = pd.read_csv(summarized_chat_date_partitions_filename)"
   ]
  },
  {
   "cell_type": "code",
   "execution_count": 5,
   "metadata": {},
   "outputs": [
    {
     "data": {
      "text/html": [
       "<div>\n",
       "<style scoped>\n",
       "    .dataframe tbody tr th:only-of-type {\n",
       "        vertical-align: middle;\n",
       "    }\n",
       "\n",
       "    .dataframe tbody tr th {\n",
       "        vertical-align: top;\n",
       "    }\n",
       "\n",
       "    .dataframe thead th {\n",
       "        text-align: right;\n",
       "    }\n",
       "</style>\n",
       "<table border=\"1\" class=\"dataframe\">\n",
       "  <thead>\n",
       "    <tr style=\"text-align: right;\">\n",
       "      <th></th>\n",
       "      <th>min_log_id</th>\n",
       "      <th>date_of_log</th>\n",
       "      <th>chat_line_count</th>\n",
       "      <th>cumulative_count</th>\n",
       "    </tr>\n",
       "  </thead>\n",
       "  <tbody>\n",
       "    <tr>\n",
       "      <th>19</th>\n",
       "      <td>473197</td>\n",
       "      <td>2001-11-07</td>\n",
       "      <td>1990</td>\n",
       "      <td>16079</td>\n",
       "    </tr>\n",
       "    <tr>\n",
       "      <th>20</th>\n",
       "      <td>495175</td>\n",
       "      <td>2001-11-13</td>\n",
       "      <td>1051</td>\n",
       "      <td>17130</td>\n",
       "    </tr>\n",
       "    <tr>\n",
       "      <th>21</th>\n",
       "      <td>497259</td>\n",
       "      <td>2001-11-14</td>\n",
       "      <td>536</td>\n",
       "      <td>17666</td>\n",
       "    </tr>\n",
       "    <tr>\n",
       "      <th>22</th>\n",
       "      <td>526307</td>\n",
       "      <td>2001-11-15</td>\n",
       "      <td>1053</td>\n",
       "      <td>18719</td>\n",
       "    </tr>\n",
       "    <tr>\n",
       "      <th>23</th>\n",
       "      <td>531627</td>\n",
       "      <td>2001-11-12</td>\n",
       "      <td>1348</td>\n",
       "      <td>20067</td>\n",
       "    </tr>\n",
       "    <tr>\n",
       "      <th>24</th>\n",
       "      <td>579591</td>\n",
       "      <td>2001-10-24</td>\n",
       "      <td>162</td>\n",
       "      <td>20229</td>\n",
       "    </tr>\n",
       "    <tr>\n",
       "      <th>25</th>\n",
       "      <td>586206</td>\n",
       "      <td>2001-10-23</td>\n",
       "      <td>165</td>\n",
       "      <td>20394</td>\n",
       "    </tr>\n",
       "    <tr>\n",
       "      <th>26</th>\n",
       "      <td>623684</td>\n",
       "      <td>2001-10-25</td>\n",
       "      <td>321</td>\n",
       "      <td>20715</td>\n",
       "    </tr>\n",
       "  </tbody>\n",
       "</table>\n",
       "</div>"
      ],
      "text/plain": [
       "    min_log_id date_of_log  chat_line_count  cumulative_count\n",
       "19      473197  2001-11-07             1990             16079\n",
       "20      495175  2001-11-13             1051             17130\n",
       "21      497259  2001-11-14              536             17666\n",
       "22      526307  2001-11-15             1053             18719\n",
       "23      531627  2001-11-12             1348             20067\n",
       "24      579591  2001-10-24              162             20229\n",
       "25      586206  2001-10-23              165             20394\n",
       "26      623684  2001-10-25              321             20715"
      ]
     },
     "execution_count": 5,
     "metadata": {},
     "output_type": "execute_result"
    }
   ],
   "source": [
    "summarized_chat_date_partitions.tail(8)"
   ]
  },
  {
   "cell_type": "code",
   "execution_count": 6,
   "metadata": {},
   "outputs": [
    {
     "name": "stdout",
     "output_type": "stream",
     "text": [
      "16079\n",
      "20067\n"
     ]
    }
   ],
   "source": [
    "index_for_validation_test_split = summarized_chat_date_partitions.tail(4)[\"cumulative_count\"]\n",
    "index_for_validation_test_split = index_for_validation_test_split.values[0]\n",
    "index_for_train_validation_split = summarized_chat_date_partitions.tail(8)[\"cumulative_count\"]\n",
    "index_for_train_validation_split = index_for_train_validation_split.values[0]\n",
    "print(index_for_train_validation_split)\n",
    "print(index_for_validation_test_split)"
   ]
  },
  {
   "cell_type": "code",
   "execution_count": 7,
   "metadata": {},
   "outputs": [],
   "source": [
    "# read in data using pandas\n",
    "unnormalized_summarized_chat_features_df = pd.read_csv(summarized_chat_features_filename)"
   ]
  },
  {
   "cell_type": "code",
   "execution_count": 8,
   "metadata": {},
   "outputs": [
    {
     "data": {
      "text/html": [
       "<div>\n",
       "<style scoped>\n",
       "    .dataframe tbody tr th:only-of-type {\n",
       "        vertical-align: middle;\n",
       "    }\n",
       "\n",
       "    .dataframe tbody tr th {\n",
       "        vertical-align: top;\n",
       "    }\n",
       "\n",
       "    .dataframe thead th {\n",
       "        text-align: right;\n",
       "    }\n",
       "</style>\n",
       "<table border=\"1\" class=\"dataframe\">\n",
       "  <thead>\n",
       "    <tr style=\"text-align: right;\">\n",
       "      <th></th>\n",
       "      <th>log_id</th>\n",
       "      <th>absolute_sentence_position</th>\n",
       "      <th>sentence_length</th>\n",
       "      <th>number_of_special_terms</th>\n",
       "      <th>sentiment_score</th>\n",
       "      <th>mean_tf_idf</th>\n",
       "      <th>normalized_mean_tf_idf</th>\n",
       "      <th>mean_tf_isf</th>\n",
       "      <th>normalized_mean_tf_isf</th>\n",
       "      <th>is_summary</th>\n",
       "    </tr>\n",
       "  </thead>\n",
       "  <tbody>\n",
       "    <tr>\n",
       "      <th>20710</th>\n",
       "      <td>624000</td>\n",
       "      <td>0.987539</td>\n",
       "      <td>2</td>\n",
       "      <td>0</td>\n",
       "      <td>0.0000</td>\n",
       "      <td>0.000432</td>\n",
       "      <td>0.003309</td>\n",
       "      <td>0.983457</td>\n",
       "      <td>0.281268</td>\n",
       "      <td>0</td>\n",
       "    </tr>\n",
       "    <tr>\n",
       "      <th>20711</th>\n",
       "      <td>624001</td>\n",
       "      <td>0.990654</td>\n",
       "      <td>4</td>\n",
       "      <td>0</td>\n",
       "      <td>0.0000</td>\n",
       "      <td>0.000801</td>\n",
       "      <td>0.006145</td>\n",
       "      <td>0.444846</td>\n",
       "      <td>0.127226</td>\n",
       "      <td>0</td>\n",
       "    </tr>\n",
       "    <tr>\n",
       "      <th>20712</th>\n",
       "      <td>624002</td>\n",
       "      <td>0.993769</td>\n",
       "      <td>7</td>\n",
       "      <td>0</td>\n",
       "      <td>0.5267</td>\n",
       "      <td>0.001122</td>\n",
       "      <td>0.008603</td>\n",
       "      <td>0.306102</td>\n",
       "      <td>0.087545</td>\n",
       "      <td>0</td>\n",
       "    </tr>\n",
       "    <tr>\n",
       "      <th>20713</th>\n",
       "      <td>624003</td>\n",
       "      <td>0.996885</td>\n",
       "      <td>0</td>\n",
       "      <td>0</td>\n",
       "      <td>0.4588</td>\n",
       "      <td>0.000000</td>\n",
       "      <td>0.000000</td>\n",
       "      <td>0.000000</td>\n",
       "      <td>0.000000</td>\n",
       "      <td>0</td>\n",
       "    </tr>\n",
       "    <tr>\n",
       "      <th>20714</th>\n",
       "      <td>624004</td>\n",
       "      <td>1.000000</td>\n",
       "      <td>1</td>\n",
       "      <td>0</td>\n",
       "      <td>0.0000</td>\n",
       "      <td>0.000803</td>\n",
       "      <td>0.006161</td>\n",
       "      <td>2.205475</td>\n",
       "      <td>0.630764</td>\n",
       "      <td>0</td>\n",
       "    </tr>\n",
       "  </tbody>\n",
       "</table>\n",
       "</div>"
      ],
      "text/plain": [
       "       log_id  absolute_sentence_position  sentence_length  \\\n",
       "20710  624000                    0.987539                2   \n",
       "20711  624001                    0.990654                4   \n",
       "20712  624002                    0.993769                7   \n",
       "20713  624003                    0.996885                0   \n",
       "20714  624004                    1.000000                1   \n",
       "\n",
       "       number_of_special_terms  sentiment_score  mean_tf_idf  \\\n",
       "20710                        0           0.0000     0.000432   \n",
       "20711                        0           0.0000     0.000801   \n",
       "20712                        0           0.5267     0.001122   \n",
       "20713                        0           0.4588     0.000000   \n",
       "20714                        0           0.0000     0.000803   \n",
       "\n",
       "       normalized_mean_tf_idf  mean_tf_isf  normalized_mean_tf_isf  is_summary  \n",
       "20710                0.003309     0.983457                0.281268           0  \n",
       "20711                0.006145     0.444846                0.127226           0  \n",
       "20712                0.008603     0.306102                0.087545           0  \n",
       "20713                0.000000     0.000000                0.000000           0  \n",
       "20714                0.006161     2.205475                0.630764           0  "
      ]
     },
     "execution_count": 8,
     "metadata": {},
     "output_type": "execute_result"
    }
   ],
   "source": [
    "unnormalized_summarized_chat_features_df.tail()"
   ]
  },
  {
   "cell_type": "markdown",
   "metadata": {},
   "source": [
    "## Normalize the chat features data"
   ]
  },
  {
   "cell_type": "code",
   "execution_count": 9,
   "metadata": {},
   "outputs": [
    {
     "data": {
      "text/plain": [
       "73.0"
      ]
     },
     "execution_count": 9,
     "metadata": {},
     "output_type": "execute_result"
    }
   ],
   "source": [
    "chat_data_max_values = unnormalized_summarized_chat_features_df.max()\n",
    "chat_data_min_values = unnormalized_summarized_chat_features_df.min()\n",
    "max_number_of_special_terms = chat_data_max_values.number_of_special_terms\n",
    "max_sentence_length = chat_data_max_values.sentence_length\n",
    "min_number_of_special_terms = chat_data_min_values.number_of_special_terms\n",
    "min_sentence_length = chat_data_min_values.sentence_length\n",
    "max_sentence_length"
   ]
  },
  {
   "cell_type": "code",
   "execution_count": 10,
   "metadata": {},
   "outputs": [
    {
     "name": "stdout",
     "output_type": "stream",
     "text": [
      "0    0.013699\n",
      "1    0.178082\n",
      "2    0.136986\n",
      "3    0.068493\n",
      "4    0.109589\n",
      "Name: sentence_length, dtype: float64\n"
     ]
    },
    {
     "data": {
      "text/html": [
       "<div>\n",
       "<style scoped>\n",
       "    .dataframe tbody tr th:only-of-type {\n",
       "        vertical-align: middle;\n",
       "    }\n",
       "\n",
       "    .dataframe tbody tr th {\n",
       "        vertical-align: top;\n",
       "    }\n",
       "\n",
       "    .dataframe thead th {\n",
       "        text-align: right;\n",
       "    }\n",
       "</style>\n",
       "<table border=\"1\" class=\"dataframe\">\n",
       "  <thead>\n",
       "    <tr style=\"text-align: right;\">\n",
       "      <th></th>\n",
       "      <th>log_id</th>\n",
       "      <th>absolute_sentence_position</th>\n",
       "      <th>sentence_length</th>\n",
       "      <th>number_of_special_terms</th>\n",
       "      <th>sentiment_score</th>\n",
       "      <th>mean_tf_idf</th>\n",
       "      <th>normalized_mean_tf_idf</th>\n",
       "      <th>mean_tf_isf</th>\n",
       "      <th>normalized_mean_tf_isf</th>\n",
       "      <th>is_summary</th>\n",
       "    </tr>\n",
       "  </thead>\n",
       "  <tbody>\n",
       "    <tr>\n",
       "      <th>20710</th>\n",
       "      <td>624000</td>\n",
       "      <td>0.987539</td>\n",
       "      <td>0.027397</td>\n",
       "      <td>0.0</td>\n",
       "      <td>0.0000</td>\n",
       "      <td>0.000432</td>\n",
       "      <td>0.003309</td>\n",
       "      <td>0.983457</td>\n",
       "      <td>0.281268</td>\n",
       "      <td>0</td>\n",
       "    </tr>\n",
       "    <tr>\n",
       "      <th>20711</th>\n",
       "      <td>624001</td>\n",
       "      <td>0.990654</td>\n",
       "      <td>0.054795</td>\n",
       "      <td>0.0</td>\n",
       "      <td>0.0000</td>\n",
       "      <td>0.000801</td>\n",
       "      <td>0.006145</td>\n",
       "      <td>0.444846</td>\n",
       "      <td>0.127226</td>\n",
       "      <td>0</td>\n",
       "    </tr>\n",
       "    <tr>\n",
       "      <th>20712</th>\n",
       "      <td>624002</td>\n",
       "      <td>0.993769</td>\n",
       "      <td>0.095890</td>\n",
       "      <td>0.0</td>\n",
       "      <td>0.5267</td>\n",
       "      <td>0.001122</td>\n",
       "      <td>0.008603</td>\n",
       "      <td>0.306102</td>\n",
       "      <td>0.087545</td>\n",
       "      <td>0</td>\n",
       "    </tr>\n",
       "    <tr>\n",
       "      <th>20713</th>\n",
       "      <td>624003</td>\n",
       "      <td>0.996885</td>\n",
       "      <td>0.000000</td>\n",
       "      <td>0.0</td>\n",
       "      <td>0.4588</td>\n",
       "      <td>0.000000</td>\n",
       "      <td>0.000000</td>\n",
       "      <td>0.000000</td>\n",
       "      <td>0.000000</td>\n",
       "      <td>0</td>\n",
       "    </tr>\n",
       "    <tr>\n",
       "      <th>20714</th>\n",
       "      <td>624004</td>\n",
       "      <td>1.000000</td>\n",
       "      <td>0.013699</td>\n",
       "      <td>0.0</td>\n",
       "      <td>0.0000</td>\n",
       "      <td>0.000803</td>\n",
       "      <td>0.006161</td>\n",
       "      <td>2.205475</td>\n",
       "      <td>0.630764</td>\n",
       "      <td>0</td>\n",
       "    </tr>\n",
       "  </tbody>\n",
       "</table>\n",
       "</div>"
      ],
      "text/plain": [
       "       log_id  absolute_sentence_position  sentence_length  \\\n",
       "20710  624000                    0.987539         0.027397   \n",
       "20711  624001                    0.990654         0.054795   \n",
       "20712  624002                    0.993769         0.095890   \n",
       "20713  624003                    0.996885         0.000000   \n",
       "20714  624004                    1.000000         0.013699   \n",
       "\n",
       "       number_of_special_terms  sentiment_score  mean_tf_idf  \\\n",
       "20710                      0.0           0.0000     0.000432   \n",
       "20711                      0.0           0.0000     0.000801   \n",
       "20712                      0.0           0.5267     0.001122   \n",
       "20713                      0.0           0.4588     0.000000   \n",
       "20714                      0.0           0.0000     0.000803   \n",
       "\n",
       "       normalized_mean_tf_idf  mean_tf_isf  normalized_mean_tf_isf  is_summary  \n",
       "20710                0.003309     0.983457                0.281268           0  \n",
       "20711                0.006145     0.444846                0.127226           0  \n",
       "20712                0.008603     0.306102                0.087545           0  \n",
       "20713                0.000000     0.000000                0.000000           0  \n",
       "20714                0.006161     2.205475                0.630764           0  "
      ]
     },
     "execution_count": 10,
     "metadata": {},
     "output_type": "execute_result"
    }
   ],
   "source": [
    "chat_log_df = unnormalized_summarized_chat_features_df.copy()\n",
    "chat_log_df.sentence_length = (\n",
    "    chat_log_df.sentence_length - min_sentence_length) / (\n",
    "    max_sentence_length - min_sentence_length)\n",
    "chat_log_df.number_of_special_terms = (\n",
    "    chat_log_df.number_of_special_terms - min_number_of_special_terms) / (\n",
    "    max_number_of_special_terms - min_number_of_special_terms)\n",
    "chat_log_df.reset_index()\n",
    "print(chat_log_df.sentence_length.head())\n",
    "chat_log_df.iloc[-5:]"
   ]
  },
  {
   "cell_type": "code",
   "execution_count": 11,
   "metadata": {},
   "outputs": [
    {
     "data": {
      "text/html": [
       "<div>\n",
       "<style scoped>\n",
       "    .dataframe tbody tr th:only-of-type {\n",
       "        vertical-align: middle;\n",
       "    }\n",
       "\n",
       "    .dataframe tbody tr th {\n",
       "        vertical-align: top;\n",
       "    }\n",
       "\n",
       "    .dataframe thead th {\n",
       "        text-align: right;\n",
       "    }\n",
       "</style>\n",
       "<table border=\"1\" class=\"dataframe\">\n",
       "  <thead>\n",
       "    <tr style=\"text-align: right;\">\n",
       "      <th></th>\n",
       "      <th>absolute_sentence_position</th>\n",
       "      <th>sentence_length</th>\n",
       "      <th>number_of_special_terms</th>\n",
       "      <th>sentiment_score</th>\n",
       "      <th>normalized_mean_tf_idf</th>\n",
       "      <th>normalized_mean_tf_isf</th>\n",
       "    </tr>\n",
       "  </thead>\n",
       "  <tbody>\n",
       "    <tr>\n",
       "      <th>20710</th>\n",
       "      <td>0.987539</td>\n",
       "      <td>0.027397</td>\n",
       "      <td>0.0</td>\n",
       "      <td>0.0000</td>\n",
       "      <td>0.003309</td>\n",
       "      <td>0.281268</td>\n",
       "    </tr>\n",
       "    <tr>\n",
       "      <th>20711</th>\n",
       "      <td>0.990654</td>\n",
       "      <td>0.054795</td>\n",
       "      <td>0.0</td>\n",
       "      <td>0.0000</td>\n",
       "      <td>0.006145</td>\n",
       "      <td>0.127226</td>\n",
       "    </tr>\n",
       "    <tr>\n",
       "      <th>20712</th>\n",
       "      <td>0.993769</td>\n",
       "      <td>0.095890</td>\n",
       "      <td>0.0</td>\n",
       "      <td>0.5267</td>\n",
       "      <td>0.008603</td>\n",
       "      <td>0.087545</td>\n",
       "    </tr>\n",
       "    <tr>\n",
       "      <th>20713</th>\n",
       "      <td>0.996885</td>\n",
       "      <td>0.000000</td>\n",
       "      <td>0.0</td>\n",
       "      <td>0.4588</td>\n",
       "      <td>0.000000</td>\n",
       "      <td>0.000000</td>\n",
       "    </tr>\n",
       "    <tr>\n",
       "      <th>20714</th>\n",
       "      <td>1.000000</td>\n",
       "      <td>0.013699</td>\n",
       "      <td>0.0</td>\n",
       "      <td>0.0000</td>\n",
       "      <td>0.006161</td>\n",
       "      <td>0.630764</td>\n",
       "    </tr>\n",
       "  </tbody>\n",
       "</table>\n",
       "</div>"
      ],
      "text/plain": [
       "       absolute_sentence_position  sentence_length  number_of_special_terms  \\\n",
       "20710                    0.987539         0.027397                      0.0   \n",
       "20711                    0.990654         0.054795                      0.0   \n",
       "20712                    0.993769         0.095890                      0.0   \n",
       "20713                    0.996885         0.000000                      0.0   \n",
       "20714                    1.000000         0.013699                      0.0   \n",
       "\n",
       "       sentiment_score  normalized_mean_tf_idf  normalized_mean_tf_isf  \n",
       "20710           0.0000                0.003309                0.281268  \n",
       "20711           0.0000                0.006145                0.127226  \n",
       "20712           0.5267                0.008603                0.087545  \n",
       "20713           0.4588                0.000000                0.000000  \n",
       "20714           0.0000                0.006161                0.630764  "
      ]
     },
     "execution_count": 11,
     "metadata": {},
     "output_type": "execute_result"
    }
   ],
   "source": [
    "# Remove unneeded columns. Keep only normalized columns\n",
    "columns_to_drop = [\"log_id\", \"is_summary\", \"mean_tf_idf\", \"mean_tf_isf\"]\n",
    "chat_log_df = chat_log_df.drop(columns=columns_to_drop)\n",
    "chat_log_df.tail()"
   ]
  },
  {
   "cell_type": "code",
   "execution_count": 12,
   "metadata": {},
   "outputs": [
    {
     "name": "stdout",
     "output_type": "stream",
     "text": [
      "(648, 6)\n"
     ]
    },
    {
     "data": {
      "text/html": [
       "<div>\n",
       "<style scoped>\n",
       "    .dataframe tbody tr th:only-of-type {\n",
       "        vertical-align: middle;\n",
       "    }\n",
       "\n",
       "    .dataframe tbody tr th {\n",
       "        vertical-align: top;\n",
       "    }\n",
       "\n",
       "    .dataframe thead th {\n",
       "        text-align: right;\n",
       "    }\n",
       "</style>\n",
       "<table border=\"1\" class=\"dataframe\">\n",
       "  <thead>\n",
       "    <tr style=\"text-align: right;\">\n",
       "      <th></th>\n",
       "      <th>absolute_sentence_position</th>\n",
       "      <th>sentence_length</th>\n",
       "      <th>number_of_special_terms</th>\n",
       "      <th>sentiment_score</th>\n",
       "      <th>normalized_mean_tf_idf</th>\n",
       "      <th>normalized_mean_tf_isf</th>\n",
       "    </tr>\n",
       "  </thead>\n",
       "  <tbody>\n",
       "    <tr>\n",
       "      <th>20067</th>\n",
       "      <td>0.006173</td>\n",
       "      <td>0.232877</td>\n",
       "      <td>0.0</td>\n",
       "      <td>0.5994</td>\n",
       "      <td>0.004672</td>\n",
       "      <td>0.028675</td>\n",
       "    </tr>\n",
       "    <tr>\n",
       "      <th>20068</th>\n",
       "      <td>0.012346</td>\n",
       "      <td>0.027397</td>\n",
       "      <td>0.0</td>\n",
       "      <td>-0.2960</td>\n",
       "      <td>0.000686</td>\n",
       "      <td>0.315960</td>\n",
       "    </tr>\n",
       "    <tr>\n",
       "      <th>20069</th>\n",
       "      <td>0.018519</td>\n",
       "      <td>0.041096</td>\n",
       "      <td>0.0</td>\n",
       "      <td>-0.2960</td>\n",
       "      <td>0.003367</td>\n",
       "      <td>0.183785</td>\n",
       "    </tr>\n",
       "    <tr>\n",
       "      <th>20070</th>\n",
       "      <td>0.024691</td>\n",
       "      <td>0.000000</td>\n",
       "      <td>0.0</td>\n",
       "      <td>-0.4404</td>\n",
       "      <td>0.000000</td>\n",
       "      <td>0.000000</td>\n",
       "    </tr>\n",
       "    <tr>\n",
       "      <th>20071</th>\n",
       "      <td>0.030864</td>\n",
       "      <td>0.027397</td>\n",
       "      <td>0.0</td>\n",
       "      <td>0.0000</td>\n",
       "      <td>0.004243</td>\n",
       "      <td>0.272912</td>\n",
       "    </tr>\n",
       "  </tbody>\n",
       "</table>\n",
       "</div>"
      ],
      "text/plain": [
       "       absolute_sentence_position  sentence_length  number_of_special_terms  \\\n",
       "20067                    0.006173         0.232877                      0.0   \n",
       "20068                    0.012346         0.027397                      0.0   \n",
       "20069                    0.018519         0.041096                      0.0   \n",
       "20070                    0.024691         0.000000                      0.0   \n",
       "20071                    0.030864         0.027397                      0.0   \n",
       "\n",
       "       sentiment_score  normalized_mean_tf_idf  normalized_mean_tf_isf  \n",
       "20067           0.5994                0.004672                0.028675  \n",
       "20068          -0.2960                0.000686                0.315960  \n",
       "20069          -0.2960                0.003367                0.183785  \n",
       "20070          -0.4404                0.000000                0.000000  \n",
       "20071           0.0000                0.004243                0.272912  "
      ]
     },
     "execution_count": 12,
     "metadata": {},
     "output_type": "execute_result"
    }
   ],
   "source": [
    "train_features_X = chat_log_df.iloc[:index_for_train_validation_split]\n",
    "validation_features_X = chat_log_df.iloc[index_for_train_validation_split:index_for_validation_test_split]\n",
    "test_features_X = chat_log_df.iloc[index_for_validation_test_split:]\n",
    "train_features_X.tail()\n",
    "\n",
    "assert train_features_X.shape[1] == test_features_X.shape[1] \n",
    "assert test_features_X.shape[1] == validation_features_X.shape[1] \n",
    "print(test_features_X.shape)\n",
    "test_features_X.head()"
   ]
  },
  {
   "cell_type": "code",
   "execution_count": 92,
   "metadata": {},
   "outputs": [],
   "source": [
    "summarized_chat_log_ids = pd.read_csv(\n",
    "    summarized_chat_log_ids_filename,\n",
    "    names=[\"log_id\", \"is_summary\"]\n",
    ")"
   ]
  },
  {
   "cell_type": "code",
   "execution_count": 93,
   "metadata": {},
   "outputs": [
    {
     "data": {
      "text/html": [
       "<div>\n",
       "<style scoped>\n",
       "    .dataframe tbody tr th:only-of-type {\n",
       "        vertical-align: middle;\n",
       "    }\n",
       "\n",
       "    .dataframe tbody tr th {\n",
       "        vertical-align: top;\n",
       "    }\n",
       "\n",
       "    .dataframe thead th {\n",
       "        text-align: right;\n",
       "    }\n",
       "</style>\n",
       "<table border=\"1\" class=\"dataframe\">\n",
       "  <thead>\n",
       "    <tr style=\"text-align: right;\">\n",
       "      <th></th>\n",
       "      <th>log_id</th>\n",
       "      <th>is_summary</th>\n",
       "    </tr>\n",
       "  </thead>\n",
       "  <tbody>\n",
       "    <tr>\n",
       "      <th>0</th>\n",
       "      <td>85350</td>\n",
       "      <td>0</td>\n",
       "    </tr>\n",
       "    <tr>\n",
       "      <th>1</th>\n",
       "      <td>85351</td>\n",
       "      <td>0</td>\n",
       "    </tr>\n",
       "    <tr>\n",
       "      <th>2</th>\n",
       "      <td>85352</td>\n",
       "      <td>0</td>\n",
       "    </tr>\n",
       "    <tr>\n",
       "      <th>3</th>\n",
       "      <td>85353</td>\n",
       "      <td>0</td>\n",
       "    </tr>\n",
       "    <tr>\n",
       "      <th>4</th>\n",
       "      <td>85354</td>\n",
       "      <td>0</td>\n",
       "    </tr>\n",
       "  </tbody>\n",
       "</table>\n",
       "</div>"
      ],
      "text/plain": [
       "   log_id  is_summary\n",
       "0   85350           0\n",
       "1   85351           0\n",
       "2   85352           0\n",
       "3   85353           0\n",
       "4   85354           0"
      ]
     },
     "execution_count": 93,
     "metadata": {},
     "output_type": "execute_result"
    }
   ],
   "source": [
    "summarized_chat_log_ids.head()"
   ]
  },
  {
   "cell_type": "code",
   "execution_count": 94,
   "metadata": {},
   "outputs": [],
   "source": [
    "def get_summarized_chat_logs(chat_logs_filename, summarized_chat_log_ids):\n",
    "    summarized_chat_log_ids = set(summarized_chat_log_ids)\n",
    "    chats = []\n",
    "    with open(chat_logs_filename) as chat_logs:\n",
    "        line_number = 1\n",
    "        for chat_log in chat_logs:\n",
    "            if line_number in summarized_chat_log_ids:\n",
    "                chats.append(chat_log)\n",
    "            line_number += 1\n",
    "    return chats"
   ]
  },
  {
   "cell_type": "code",
   "execution_count": 95,
   "metadata": {},
   "outputs": [
    {
     "data": {
      "text/plain": [
       "['great\\n',\n",
       " 'i dont recall you ever telling me what you do at your job\\n',\n",
       " \"and you probably can't be persuaded to tell me now.\\n\",\n",
       " 'due to your persistant funkitude\\n',\n",
       " 'umm, he sits around on irc all day ;)\\n']"
      ]
     },
     "execution_count": 95,
     "metadata": {},
     "output_type": "execute_result"
    }
   ],
   "source": [
    "chat_logs = get_summarized_chat_logs(chat_logs_filename, summarized_chat_log_ids.log_id.values)\n",
    "chat_logs[:5]"
   ]
  },
  {
   "cell_type": "code",
   "execution_count": 17,
   "metadata": {},
   "outputs": [],
   "source": [
    "# Create a Tokenizer Object\n",
    "tokenizer = Tokenizer(\n",
    "    num_words=None,\n",
    "    filters=\"\\n\",\n",
    "    lower = False, \n",
    "    split = ' '\n",
    ")\n",
    "tokenizer.fit_on_texts(chat_logs)"
   ]
  },
  {
   "cell_type": "code",
   "execution_count": 18,
   "metadata": {},
   "outputs": [],
   "source": [
    "sequences = tokenizer.texts_to_sequences(chat_logs)"
   ]
  },
  {
   "cell_type": "code",
   "execution_count": 19,
   "metadata": {},
   "outputs": [
    {
     "data": {
      "text/plain": [
       "[3099, 72, 4137, 300, 16, 584, 34, 309, 54]"
      ]
     },
     "execution_count": 19,
     "metadata": {},
     "output_type": "execute_result"
    }
   ],
   "source": [
    "sequences[4]"
   ]
  },
  {
   "cell_type": "code",
   "execution_count": 20,
   "metadata": {},
   "outputs": [],
   "source": [
    "word_indexes = tokenizer.index_word\n",
    "def get_words_at_line_number(word_indexes, line_number):\n",
    "    return \" \".join(word_indexes[word] for word in sequences[line_number])"
   ]
  },
  {
   "cell_type": "code",
   "execution_count": 21,
   "metadata": {},
   "outputs": [
    {
     "data": {
      "text/plain": [
       "\"and you probably can't be persuaded to tell me now.\""
      ]
     },
     "execution_count": 21,
     "metadata": {},
     "output_type": "execute_result"
    }
   ],
   "source": [
    "get_words_at_line_number(word_indexes, 2)"
   ]
  },
  {
   "cell_type": "code",
   "execution_count": 22,
   "metadata": {},
   "outputs": [
    {
     "data": {
      "text/plain": [
       "'language'"
      ]
     },
     "execution_count": 22,
     "metadata": {},
     "output_type": "execute_result"
    }
   ],
   "source": [
    "tokenizer.index_word[356]"
   ]
  },
  {
   "cell_type": "code",
   "execution_count": 23,
   "metadata": {},
   "outputs": [
    {
     "name": "stdout",
     "output_type": "stream",
     "text": [
      "(16079,)\n",
      "(648,)\n",
      "[list([547])]\n",
      "648\n"
     ]
    },
    {
     "data": {
      "text/plain": [
       "array([list([107, 18365]), list([128, 9, 31, 1456]),\n",
       "       list([18366, 342, 36, 3591, 515, 29, 18367, 14]), list([14]),\n",
       "       list([1454])], dtype=object)"
      ]
     },
     "execution_count": 23,
     "metadata": {},
     "output_type": "execute_result"
    }
   ],
   "source": [
    "train_X = np.array(sequences[:index_for_train_validation_split])\n",
    "validation_X = np.array(sequences[index_for_train_validation_split:index_for_validation_test_split])\n",
    "test_X = np.array(sequences[index_for_validation_test_split:])\n",
    "print(train_X.shape)\n",
    "print(test_X.shape)\n",
    "print(train_X[:1])\n",
    "print(len(test_X))\n",
    "test_X[-5:]"
   ]
  },
  {
   "cell_type": "code",
   "execution_count": 24,
   "metadata": {},
   "outputs": [],
   "source": [
    "# create a one hot encoding for the target column\n",
    "chat_log_labels = to_categorical(summarized_chat_log_ids.is_summary)\n",
    "\n",
    "train_y = chat_log_labels[:index_for_train_validation_split]\n",
    "validation_y = chat_log_labels[index_for_train_validation_split:index_for_validation_test_split]\n",
    "test_y = chat_log_labels[index_for_validation_test_split:]"
   ]
  },
  {
   "cell_type": "code",
   "execution_count": 26,
   "metadata": {},
   "outputs": [
    {
     "data": {
      "text/plain": [
       "array([[1., 0.],\n",
       "       [1., 0.],\n",
       "       [1., 0.],\n",
       "       [0., 1.],\n",
       "       [0., 1.]], dtype=float32)"
      ]
     },
     "execution_count": 26,
     "metadata": {},
     "output_type": "execute_result"
    }
   ],
   "source": [
    "test_y[85:90]"
   ]
  },
  {
   "cell_type": "code",
   "execution_count": 27,
   "metadata": {},
   "outputs": [],
   "source": [
    "# pad input sequences\n",
    "max_chat_length = max(len(seq) for seq in sequences)\n",
    "train_X = sequence.pad_sequences(train_X, maxlen=max_chat_length)\n",
    "validation_X = sequence.pad_sequences(validation_X, maxlen=max_chat_length)\n",
    "test_X = sequence.pad_sequences(test_X, maxlen=max_chat_length)"
   ]
  },
  {
   "cell_type": "code",
   "execution_count": 28,
   "metadata": {},
   "outputs": [
    {
     "name": "stdout",
     "output_type": "stream",
     "text": [
      "(16079, 73)\n",
      "(648, 73)\n",
      "(3988, 73)\n",
      "[    0     0     0     0     0     0     0     0     0     0     0     0\n",
      "     0     0     0     0     0     0     0     0     0     0     0     0\n",
      "     0     0     0     0     0     0     0     0     0     0     0     0\n",
      "     0     0     0     0     0     0     0     0     0     0     0     0\n",
      "     0     0     0     0     0     0     0     0     0     0     0     0\n",
      "     0     4  1575    20   103    15     3 15875   908    12   125  1051\n",
      "    14]\n"
     ]
    }
   ],
   "source": [
    "print(train_X.shape)\n",
    "print(test_X.shape)\n",
    "print(validation_X.shape)\n",
    "print(validation_X[0])"
   ]
  },
  {
   "cell_type": "code",
   "execution_count": 29,
   "metadata": {},
   "outputs": [],
   "source": [
    "# create the model\n",
    "top_words = 100000\n",
    "embedding_vecor_length = 32\n",
    "# model = Sequential()\n",
    "# model.add(Embedding(top_words, embedding_vecor_length, input_length=max_chat_length))\n",
    "# model.add(Bidirectional(LSTM(100), input_shape=(max_chat_length, 1)))\n",
    "# model.add((LSTM(100))\n",
    "# model.add(Dense(2, activation='sigmoid'))\n",
    "\n"
   ]
  },
  {
   "cell_type": "code",
   "execution_count": 30,
   "metadata": {},
   "outputs": [],
   "source": [
    "# This returns a tensor\n",
    "# inputs = Input(shape=(784,))\n",
    "# # a layer instance is callable on a tensor, and returns a tensor\n",
    "# x = Dense(64, activation='relu')(inputs)\n",
    "# x = Dense(64, activation='relu')(x)\n",
    "# predictions = Dense(10, activation='softmax')(x)\n",
    "\n",
    "# # This creates a model that includes\n",
    "# # the Input layer and three Dense layers\n",
    "# model = Model(inputs=inputs, outputs=predictions)\n",
    "# model.compile(optimizer='rmsprop',\n",
    "#               loss='categorical_crossentropy',\n",
    "#               metrics=['accuracy'])\n",
    "# model.fit(data, labels)  # starts training"
   ]
  },
  {
   "cell_type": "markdown",
   "metadata": {},
   "source": [
    "https://blog.keras.io/a-ten-minute-introduction-to-sequence-to-sequence-learning-in-keras.html"
   ]
  },
  {
   "cell_type": "code",
   "execution_count": null,
   "metadata": {},
   "outputs": [
    {
     "name": "stdout",
     "output_type": "stream",
     "text": [
      "WARNING:tensorflow:From /Users/wcyn/anaconda3/envs/gnue-irc/lib/python3.6/site-packages/tensorflow/python/framework/op_def_library.py:263: colocate_with (from tensorflow.python.framework.ops) is deprecated and will be removed in a future version.\n",
      "Instructions for updating:\n",
      "Colocations handled automatically by placer.\n"
     ]
    }
   ],
   "source": [
    "# Sentence input: meant to receive sequences of `max_chat_length` integers, between 1 and `top_words`.\n",
    "decoder_inputs = Input(shape=(max_chat_length,), dtype='int32', name='main_sentence_input')\n",
    "\n",
    "# This embedding layer will encode the input sequence\n",
    "# into a sequence of dense 512-dimensional vectors.\n",
    "num_of_decoder_tokens = 512\n",
    "x = Embedding(output_dim=num_of_decoder_tokens, input_dim=top_words, input_length=max_chat_length)(decoder_inputs)\n",
    "\n",
    "# An LSTM will transform the vector sequence into a single vector,\n",
    "# containing information about the entire sequence\n",
    "x, state_h, state_c = LSTM(32, return_state=True)(x)\n",
    "encoder_states = [state_h, state_c]\n",
    "\n",
    "# Set up the decoder, using `encoder_states` as initial state.\n",
    "decoder_inputs = Input(shape=(None,))\n",
    "x = Embedding(output_dim=num_of_decoder_tokens, input_dim=top_words)(decoder_inputs)\n",
    "x = LSTM(top_words, return_sequences=True)(x, initial_state=encoder_states)\n",
    "decoder_outputs = Dense(num_of_decoder_tokens, activation='softmax')(x)\n",
    "\n",
    "# Define the model that will turn `encoder_input_data` & `decoder_input_data` \n",
    "# into `decoder_target_data`\n",
    "model = Model([encoder_inputs, decoder_inputs], decoder_outputs)nt q"
   ]
  },
  {
   "cell_type": "code",
   "execution_count": null,
   "metadata": {},
   "outputs": [],
   "source": [
    "# Compile model\n",
    "model.compile(\n",
    "    optimizer='rmsprop', \n",
    "    loss='categorical_crossentropy'\n",
    ")"
   ]
  },
  {
   "cell_type": "code",
   "execution_count": null,
   "metadata": {},
   "outputs": [],
   "source": [
    "model.summary()"
   ]
  },
  {
   "cell_type": "code",
   "execution_count": 326,
   "metadata": {},
   "outputs": [],
   "source": [
    "# Here we insert the auxiliary loss, allowing the LSTM and Embedding layer \n",
    "# to be trained smoothly even though the main loss will be much higher in the model.\n",
    "auxiliary_output = Dense(32, name='aux_output')(lstm_out)\n",
    "\n",
    "# At this point, we feed into the model our auxiliary input data by \n",
    "# concatenating it with the LSTM output\n",
    "num_of_feature_columns = test_features_X.shape[1]\n",
    "sentence_features_input = Input(shape=(num_of_feature_columns,), name='sentence_features_input')\n",
    "merged_input_and_output = keras.layers.concatenate([lstm_out, sentence_features_input])\n",
    "\n",
    "# We stack a deep densely-connected network on top\n",
    "x = Dense(64, activation='relu')(merged_input_and_output)\n",
    "x = Dense(64, activation='relu')(x)\n",
    "x = Dense(64, activation='relu')(x)\n",
    "\n",
    "# And finally we add the main logistic regression layer\n",
    "main_output = Dense(2, activation='sigmoid', name='main_output')(x)"
   ]
  },
  {
   "cell_type": "code",
   "execution_count": 327,
   "metadata": {},
   "outputs": [],
   "source": [
    "# Define a model with two inputs and two outputs\n",
    "merged_model = Model(\n",
    "    inputs=[main_sentence_input, sentence_features_input], \n",
    "    outputs=[main_output, auxiliary_output]\n",
    ")"
   ]
  },
  {
   "cell_type": "markdown",
   "metadata": {},
   "source": [
    "We compile the model and assign a weight of 0.2 to the auxiliary loss. To specify different loss_weights or loss for each different output, you can use a list or a dictionary. Here we pass a single loss as the loss argument, so the same loss will be used on all outputs."
   ]
  },
  {
   "cell_type": "code",
   "execution_count": 328,
   "metadata": {},
   "outputs": [
    {
     "name": "stdout",
     "output_type": "stream",
     "text": [
      "__________________________________________________________________________________________________\n",
      "Layer (type)                    Output Shape         Param #     Connected to                     \n",
      "==================================================================================================\n",
      "main_sentence_input (InputLayer (None, 73)           0                                            \n",
      "__________________________________________________________________________________________________\n",
      "embedding_13 (Embedding)        (None, 73, 512)      51200000    main_sentence_input[0][0]        \n",
      "__________________________________________________________________________________________________\n",
      "lstm_11 (LSTM)                  (None, 32)           69760       embedding_13[0][0]               \n",
      "__________________________________________________________________________________________________\n",
      "sentence_features_input (InputL (None, 6)            0                                            \n",
      "__________________________________________________________________________________________________\n",
      "concatenate_2 (Concatenate)     (None, 38)           0           lstm_11[0][0]                    \n",
      "                                                                 sentence_features_input[0][0]    \n",
      "__________________________________________________________________________________________________\n",
      "dense_14 (Dense)                (None, 64)           2496        concatenate_2[0][0]              \n",
      "__________________________________________________________________________________________________\n",
      "dense_15 (Dense)                (None, 64)           4160        dense_14[0][0]                   \n",
      "__________________________________________________________________________________________________\n",
      "dense_16 (Dense)                (None, 64)           4160        dense_15[0][0]                   \n",
      "__________________________________________________________________________________________________\n",
      "main_output (Dense)             (None, 2)            130         dense_16[0][0]                   \n",
      "__________________________________________________________________________________________________\n",
      "aux_output (Dense)              (None, 2)            66          lstm_11[0][0]                    \n",
      "==================================================================================================\n",
      "Total params: 51,280,772\n",
      "Trainable params: 51,280,772\n",
      "Non-trainable params: 0\n",
      "__________________________________________________________________________________________________\n"
     ]
    }
   ],
   "source": [
    "merged_model.compile(\n",
    "    # optimizer='rmsprop', \n",
    "    optimizer=\"adam\",\n",
    "    loss='categorical_crossentropy',\n",
    "    loss_weights=[1., 0.2]\n",
    ")\n",
    "merged_model.summary()"
   ]
  },
  {
   "cell_type": "code",
   "execution_count": 350,
   "metadata": {},
   "outputs": [
    {
     "name": "stdout",
     "output_type": "stream",
     "text": [
      "Train on 16079 samples, validate on 3988 samples\n",
      "Epoch 1/100\n",
      "16079/16079 [==============================] - 216s 13ms/step - loss: 0.0140 - main_output_loss: 0.0113 - aux_output_loss: 0.0136 - val_loss: 0.3317 - val_main_output_loss: 0.2863 - val_aux_output_loss: 0.2268\n",
      "Epoch 2/100\n",
      "16079/16079 [==============================] - 232s 14ms/step - loss: 0.0130 - main_output_loss: 0.0104 - aux_output_loss: 0.0128 - val_loss: 0.4219 - val_main_output_loss: 0.3702 - val_aux_output_loss: 0.2589\n",
      "Epoch 3/100\n",
      "16079/16079 [==============================] - 210s 13ms/step - loss: 0.0099 - main_output_loss: 0.0080 - aux_output_loss: 0.0097 - val_loss: 0.4401 - val_main_output_loss: 0.3871 - val_aux_output_loss: 0.2652\n",
      "Epoch 4/100\n",
      "16079/16079 [==============================] - 226s 14ms/step - loss: 0.0101 - main_output_loss: 0.0081 - aux_output_loss: 0.0098 - val_loss: 0.4425 - val_main_output_loss: 0.3894 - val_aux_output_loss: 0.2653\n",
      "Epoch 5/100\n",
      "16079/16079 [==============================] - 205s 13ms/step - loss: 0.0078 - main_output_loss: 0.0062 - aux_output_loss: 0.0079 - val_loss: 0.5977 - val_main_output_loss: 0.5368 - val_aux_output_loss: 0.3049\n",
      "Epoch 6/100\n",
      "16079/16079 [==============================] - 200s 12ms/step - loss: 0.0069 - main_output_loss: 0.0056 - aux_output_loss: 0.0064 - val_loss: 0.5223 - val_main_output_loss: 0.4615 - val_aux_output_loss: 0.3041\n",
      "Epoch 7/100\n",
      "16079/16079 [==============================] - 200s 12ms/step - loss: 0.0061 - main_output_loss: 0.0049 - aux_output_loss: 0.0057 - val_loss: 0.5457 - val_main_output_loss: 0.4825 - val_aux_output_loss: 0.3159\n",
      "Epoch 8/100\n",
      "16079/16079 [==============================] - 209s 13ms/step - loss: 0.0056 - main_output_loss: 0.0045 - aux_output_loss: 0.0053 - val_loss: 0.6334 - val_main_output_loss: 0.5640 - val_aux_output_loss: 0.3470\n",
      "Epoch 9/100\n",
      "16079/16079 [==============================] - 210s 13ms/step - loss: 0.0053 - main_output_loss: 0.0043 - aux_output_loss: 0.0049 - val_loss: 0.6208 - val_main_output_loss: 0.5511 - val_aux_output_loss: 0.3484\n",
      "Epoch 10/100\n",
      "16079/16079 [==============================] - 247s 15ms/step - loss: 0.0051 - main_output_loss: 0.0041 - aux_output_loss: 0.0047 - val_loss: 0.6758 - val_main_output_loss: 0.6019 - val_aux_output_loss: 0.3696\n",
      "Epoch 11/100\n",
      "16079/16079 [==============================] - 202s 13ms/step - loss: 0.0050 - main_output_loss: 0.0040 - aux_output_loss: 0.0046 - val_loss: 0.7001 - val_main_output_loss: 0.6251 - val_aux_output_loss: 0.3750\n",
      "Epoch 12/100\n",
      "16079/16079 [==============================] - 205s 13ms/step - loss: 0.0049 - main_output_loss: 0.0041 - aux_output_loss: 0.0044 - val_loss: 0.7097 - val_main_output_loss: 0.6337 - val_aux_output_loss: 0.3801\n",
      "Epoch 13/100\n",
      "16079/16079 [==============================] - 201s 12ms/step - loss: 0.0049 - main_output_loss: 0.0041 - aux_output_loss: 0.0044 - val_loss: 0.7236 - val_main_output_loss: 0.6464 - val_aux_output_loss: 0.3862\n",
      "Epoch 14/100\n",
      "16079/16079 [==============================] - 197s 12ms/step - loss: 0.0048 - main_output_loss: 0.0039 - aux_output_loss: 0.0043 - val_loss: 1.0003 - val_main_output_loss: 0.9079 - val_aux_output_loss: 0.4621\n",
      "Epoch 15/100\n",
      "16079/16079 [==============================] - 196s 12ms/step - loss: 0.0118 - main_output_loss: 0.0099 - aux_output_loss: 0.0095 - val_loss: 0.4890 - val_main_output_loss: 0.4207 - val_aux_output_loss: 0.3412\n",
      "Epoch 16/100\n",
      "16079/16079 [==============================] - 198s 12ms/step - loss: 0.0109 - main_output_loss: 0.0090 - aux_output_loss: 0.0095 - val_loss: 0.6709 - val_main_output_loss: 0.5867 - val_aux_output_loss: 0.4210\n",
      "Epoch 17/100\n",
      "16079/16079 [==============================] - 200s 12ms/step - loss: 0.0081 - main_output_loss: 0.0067 - aux_output_loss: 0.0071 - val_loss: 0.5347 - val_main_output_loss: 0.4640 - val_aux_output_loss: 0.3535\n",
      "Epoch 18/100\n",
      "16079/16079 [==============================] - 196s 12ms/step - loss: 0.0076 - main_output_loss: 0.0063 - aux_output_loss: 0.0062 - val_loss: 0.5427 - val_main_output_loss: 0.4683 - val_aux_output_loss: 0.3718\n",
      "Epoch 19/100\n",
      "16079/16079 [==============================] - 195s 12ms/step - loss: 0.0048 - main_output_loss: 0.0039 - aux_output_loss: 0.0043 - val_loss: 0.6637 - val_main_output_loss: 0.5848 - val_aux_output_loss: 0.3945\n",
      "Epoch 20/100\n",
      "16079/16079 [==============================] - 198s 12ms/step - loss: 0.0048 - main_output_loss: 0.0040 - aux_output_loss: 0.0042 - val_loss: 0.6116 - val_main_output_loss: 0.5349 - val_aux_output_loss: 0.3837\n",
      "Epoch 21/100\n",
      "16079/16079 [==============================] - 201s 12ms/step - loss: 0.0045 - main_output_loss: 0.0037 - aux_output_loss: 0.0041 - val_loss: 0.6314 - val_main_output_loss: 0.5506 - val_aux_output_loss: 0.4041\n",
      "Epoch 22/100\n",
      "16079/16079 [==============================] - 201s 13ms/step - loss: 0.0047 - main_output_loss: 0.0039 - aux_output_loss: 0.0040 - val_loss: 0.7232 - val_main_output_loss: 0.6396 - val_aux_output_loss: 0.4180\n",
      "Epoch 23/100\n",
      "16079/16079 [==============================] - 198s 12ms/step - loss: 0.0044 - main_output_loss: 0.0036 - aux_output_loss: 0.0039 - val_loss: 0.7525 - val_main_output_loss: 0.6663 - val_aux_output_loss: 0.4310\n",
      "Epoch 24/100\n",
      "16079/16079 [==============================] - 197s 12ms/step - loss: 0.0044 - main_output_loss: 0.0037 - aux_output_loss: 0.0039 - val_loss: 0.7297 - val_main_output_loss: 0.6430 - val_aux_output_loss: 0.4338\n",
      "Epoch 25/100\n",
      "16079/16079 [==============================] - 197s 12ms/step - loss: 0.0043 - main_output_loss: 0.0036 - aux_output_loss: 0.0038 - val_loss: 0.7092 - val_main_output_loss: 0.6203 - val_aux_output_loss: 0.4446\n",
      "Epoch 26/100\n",
      "16079/16079 [==============================] - 198s 12ms/step - loss: 0.0045 - main_output_loss: 0.0037 - aux_output_loss: 0.0038 - val_loss: 0.7305 - val_main_output_loss: 0.6404 - val_aux_output_loss: 0.4503\n",
      "Epoch 27/100\n",
      "16079/16079 [==============================] - 199s 12ms/step - loss: 0.0042 - main_output_loss: 0.0034 - aux_output_loss: 0.0037 - val_loss: 0.7716 - val_main_output_loss: 0.6797 - val_aux_output_loss: 0.4594\n",
      "Epoch 28/100\n",
      "16079/16079 [==============================] - 200s 12ms/step - loss: 0.0044 - main_output_loss: 0.0037 - aux_output_loss: 0.0039 - val_loss: 0.7780 - val_main_output_loss: 0.6829 - val_aux_output_loss: 0.4752\n",
      "Epoch 29/100\n",
      "16079/16079 [==============================] - 203s 13ms/step - loss: 0.0044 - main_output_loss: 0.0036 - aux_output_loss: 0.0038 - val_loss: 0.7670 - val_main_output_loss: 0.6736 - val_aux_output_loss: 0.4673\n",
      "Epoch 30/100\n",
      "16079/16079 [==============================] - 197s 12ms/step - loss: 0.0044 - main_output_loss: 0.0036 - aux_output_loss: 0.0038 - val_loss: 0.7675 - val_main_output_loss: 0.6727 - val_aux_output_loss: 0.4739\n",
      "Epoch 31/100\n",
      "16079/16079 [==============================] - 196s 12ms/step - loss: 0.0048 - main_output_loss: 0.0040 - aux_output_loss: 0.0039 - val_loss: 0.8402 - val_main_output_loss: 0.7386 - val_aux_output_loss: 0.5083\n",
      "Epoch 32/100\n",
      "16079/16079 [==============================] - 198s 12ms/step - loss: 0.0064 - main_output_loss: 0.0054 - aux_output_loss: 0.0050 - val_loss: 0.5477 - val_main_output_loss: 0.4670 - val_aux_output_loss: 0.4033\n",
      "Epoch 33/100\n",
      "16079/16079 [==============================] - 201s 12ms/step - loss: 0.0095 - main_output_loss: 0.0080 - aux_output_loss: 0.0075 - val_loss: 0.5465 - val_main_output_loss: 0.4637 - val_aux_output_loss: 0.4137\n",
      "Epoch 34/100\n",
      "16079/16079 [==============================] - 214s 13ms/step - loss: 0.0054 - main_output_loss: 0.0044 - aux_output_loss: 0.0048 - val_loss: 0.6039 - val_main_output_loss: 0.5239 - val_aux_output_loss: 0.4000\n",
      "Epoch 35/100\n",
      "16079/16079 [==============================] - 218s 14ms/step - loss: 0.0046 - main_output_loss: 0.0038 - aux_output_loss: 0.0041 - val_loss: 0.6547 - val_main_output_loss: 0.5727 - val_aux_output_loss: 0.4099\n",
      "Epoch 36/100\n",
      "16079/16079 [==============================] - 230s 14ms/step - loss: 0.0044 - main_output_loss: 0.0036 - aux_output_loss: 0.0038 - val_loss: 0.6168 - val_main_output_loss: 0.5339 - val_aux_output_loss: 0.4144\n",
      "Epoch 37/100\n",
      "16079/16079 [==============================] - 214s 13ms/step - loss: 0.0045 - main_output_loss: 0.0038 - aux_output_loss: 0.0038 - val_loss: 0.6726 - val_main_output_loss: 0.5878 - val_aux_output_loss: 0.4241\n",
      "Epoch 38/100\n",
      "16079/16079 [==============================] - 209s 13ms/step - loss: 0.0042 - main_output_loss: 0.0035 - aux_output_loss: 0.0037 - val_loss: 0.6838 - val_main_output_loss: 0.5974 - val_aux_output_loss: 0.4320\n",
      "Epoch 39/100\n",
      "16079/16079 [==============================] - 199s 12ms/step - loss: 0.0042 - main_output_loss: 0.0035 - aux_output_loss: 0.0037 - val_loss: 0.7153 - val_main_output_loss: 0.6270 - val_aux_output_loss: 0.4418\n",
      "Epoch 40/100\n",
      "16079/16079 [==============================] - 198s 12ms/step - loss: 0.0047 - main_output_loss: 0.0039 - aux_output_loss: 0.0040 - val_loss: 0.6209 - val_main_output_loss: 0.5333 - val_aux_output_loss: 0.4379\n",
      "Epoch 41/100\n",
      "16079/16079 [==============================] - 195s 12ms/step - loss: 0.0045 - main_output_loss: 0.0038 - aux_output_loss: 0.0038 - val_loss: 0.8470 - val_main_output_loss: 0.7466 - val_aux_output_loss: 0.5019\n",
      "Epoch 42/100\n",
      "16079/16079 [==============================] - 195s 12ms/step - loss: 0.0062 - main_output_loss: 0.0053 - aux_output_loss: 0.0049 - val_loss: 0.6051 - val_main_output_loss: 0.5185 - val_aux_output_loss: 0.4331\n",
      "Epoch 43/100\n",
      "16079/16079 [==============================] - 196s 12ms/step - loss: 0.0048 - main_output_loss: 0.0040 - aux_output_loss: 0.0040 - val_loss: 0.7475 - val_main_output_loss: 0.6543 - val_aux_output_loss: 0.4659\n",
      "Epoch 44/100\n",
      "16079/16079 [==============================] - 199s 12ms/step - loss: 0.0043 - main_output_loss: 0.0036 - aux_output_loss: 0.0038 - val_loss: 0.7705 - val_main_output_loss: 0.6761 - val_aux_output_loss: 0.4721\n",
      "Epoch 45/100\n",
      "16079/16079 [==============================] - 194s 12ms/step - loss: 0.0043 - main_output_loss: 0.0035 - aux_output_loss: 0.0037 - val_loss: 0.7422 - val_main_output_loss: 0.6472 - val_aux_output_loss: 0.4751\n",
      "Epoch 46/100\n",
      "16079/16079 [==============================] - 196s 12ms/step - loss: 0.0042 - main_output_loss: 0.0035 - aux_output_loss: 0.0037 - val_loss: 0.8116 - val_main_output_loss: 0.7154 - val_aux_output_loss: 0.4811\n",
      "Epoch 47/100\n",
      "16079/16079 [==============================] - 194s 12ms/step - loss: 0.0042 - main_output_loss: 0.0035 - aux_output_loss: 0.0036 - val_loss: 0.7994 - val_main_output_loss: 0.7024 - val_aux_output_loss: 0.4849\n",
      "Epoch 48/100\n",
      "16079/16079 [==============================] - 196s 12ms/step - loss: 0.0043 - main_output_loss: 0.0035 - aux_output_loss: 0.0038 - val_loss: 0.8127 - val_main_output_loss: 0.7154 - val_aux_output_loss: 0.4868\n",
      "Epoch 49/100\n",
      "16079/16079 [==============================] - 195s 12ms/step - loss: 0.0044 - main_output_loss: 0.0036 - aux_output_loss: 0.0036 - val_loss: 0.7913 - val_main_output_loss: 0.6929 - val_aux_output_loss: 0.4919\n",
      "Epoch 50/100\n",
      "16079/16079 [==============================] - 196s 12ms/step - loss: 0.0042 - main_output_loss: 0.0035 - aux_output_loss: 0.0036 - val_loss: 0.8123 - val_main_output_loss: 0.7122 - val_aux_output_loss: 0.5003\n",
      "Epoch 51/100\n",
      "16079/16079 [==============================] - 197s 12ms/step - loss: 0.0042 - main_output_loss: 0.0034 - aux_output_loss: 0.0037 - val_loss: 0.8338 - val_main_output_loss: 0.7328 - val_aux_output_loss: 0.5050\n",
      "Epoch 52/100\n",
      "16079/16079 [==============================] - 197s 12ms/step - loss: 0.0042 - main_output_loss: 0.0035 - aux_output_loss: 0.0036 - val_loss: 0.8360 - val_main_output_loss: 0.7345 - val_aux_output_loss: 0.5074\n",
      "Epoch 53/100\n",
      "16079/16079 [==============================] - 194s 12ms/step - loss: 0.0054 - main_output_loss: 0.0046 - aux_output_loss: 0.0043 - val_loss: 0.6903 - val_main_output_loss: 0.5908 - val_aux_output_loss: 0.4977\n",
      "Epoch 54/100\n",
      "16079/16079 [==============================] - 196s 12ms/step - loss: 0.0045 - main_output_loss: 0.0038 - aux_output_loss: 0.0038 - val_loss: 1.0689 - val_main_output_loss: 0.9525 - val_aux_output_loss: 0.5819\n",
      "Epoch 55/100\n",
      "16079/16079 [==============================] - 196s 12ms/step - loss: 0.0078 - main_output_loss: 0.0067 - aux_output_loss: 0.0057 - val_loss: 0.5548 - val_main_output_loss: 0.4595 - val_aux_output_loss: 0.4766\n",
      "Epoch 56/100\n",
      "16079/16079 [==============================] - 198s 12ms/step - loss: 0.0058 - main_output_loss: 0.0049 - aux_output_loss: 0.0047 - val_loss: 0.7685 - val_main_output_loss: 0.6625 - val_aux_output_loss: 0.5296\n",
      "Epoch 57/100\n",
      "16079/16079 [==============================] - 197s 12ms/step - loss: 0.0073 - main_output_loss: 0.0061 - aux_output_loss: 0.0058 - val_loss: 0.7002 - val_main_output_loss: 0.5981 - val_aux_output_loss: 0.5107\n",
      "Epoch 58/100\n",
      "16079/16079 [==============================] - 198s 12ms/step - loss: 0.0043 - main_output_loss: 0.0035 - aux_output_loss: 0.0038 - val_loss: 0.7363 - val_main_output_loss: 0.6353 - val_aux_output_loss: 0.5049\n",
      "Epoch 59/100\n",
      "16079/16079 [==============================] - 198s 12ms/step - loss: 0.0042 - main_output_loss: 0.0035 - aux_output_loss: 0.0036 - val_loss: 0.7574 - val_main_output_loss: 0.6545 - val_aux_output_loss: 0.5145\n",
      "Epoch 60/100\n",
      "16079/16079 [==============================] - 197s 12ms/step - loss: 0.0042 - main_output_loss: 0.0035 - aux_output_loss: 0.0036 - val_loss: 0.7648 - val_main_output_loss: 0.6611 - val_aux_output_loss: 0.5184\n",
      "Epoch 61/100\n",
      "16079/16079 [==============================] - 198s 12ms/step - loss: 0.0042 - main_output_loss: 0.0034 - aux_output_loss: 0.0036 - val_loss: 0.7774 - val_main_output_loss: 0.6735 - val_aux_output_loss: 0.5196\n",
      "Epoch 62/100\n",
      "16079/16079 [==============================] - 198s 12ms/step - loss: 0.0042 - main_output_loss: 0.0035 - aux_output_loss: 0.0036 - val_loss: 0.7941 - val_main_output_loss: 0.6898 - val_aux_output_loss: 0.5216\n",
      "Epoch 63/100\n",
      "16079/16079 [==============================] - 195s 12ms/step - loss: 0.0040 - main_output_loss: 0.0033 - aux_output_loss: 0.0035 - val_loss: 0.7457 - val_main_output_loss: 0.6408 - val_aux_output_loss: 0.5246\n",
      "Epoch 64/100\n",
      "16079/16079 [==============================] - 197s 12ms/step - loss: 0.0042 - main_output_loss: 0.0035 - aux_output_loss: 0.0036 - val_loss: 0.8035 - val_main_output_loss: 0.6978 - val_aux_output_loss: 0.5287\n",
      "Epoch 65/100\n",
      "16079/16079 [==============================] - 196s 12ms/step - loss: 0.0041 - main_output_loss: 0.0033 - aux_output_loss: 0.0036 - val_loss: 0.8140 - val_main_output_loss: 0.7080 - val_aux_output_loss: 0.5304\n",
      "Epoch 66/100\n",
      "16079/16079 [==============================] - 197s 12ms/step - loss: 0.0042 - main_output_loss: 0.0034 - aux_output_loss: 0.0036 - val_loss: 0.8114 - val_main_output_loss: 0.7047 - val_aux_output_loss: 0.5337\n",
      "Epoch 67/100\n",
      "16079/16079 [==============================] - 196s 12ms/step - loss: 0.0041 - main_output_loss: 0.0034 - aux_output_loss: 0.0036 - val_loss: 0.8139 - val_main_output_loss: 0.7065 - val_aux_output_loss: 0.5370\n",
      "Epoch 68/100\n",
      "16079/16079 [==============================] - 198s 12ms/step - loss: 0.0041 - main_output_loss: 0.0034 - aux_output_loss: 0.0035 - val_loss: 0.7978 - val_main_output_loss: 0.6900 - val_aux_output_loss: 0.5392\n",
      "Epoch 69/100\n",
      "16079/16079 [==============================] - 195s 12ms/step - loss: 0.0042 - main_output_loss: 0.0035 - aux_output_loss: 0.0036 - val_loss: 0.7946 - val_main_output_loss: 0.6871 - val_aux_output_loss: 0.5373\n",
      "Epoch 70/100\n",
      "16079/16079 [==============================] - 193s 12ms/step - loss: 0.0049 - main_output_loss: 0.0041 - aux_output_loss: 0.0038 - val_loss: 0.7690 - val_main_output_loss: 0.6599 - val_aux_output_loss: 0.5454\n",
      "Epoch 71/100\n",
      "16079/16079 [==============================] - 193s 12ms/step - loss: 0.0042 - main_output_loss: 0.0035 - aux_output_loss: 0.0035 - val_loss: 0.7833 - val_main_output_loss: 0.6742 - val_aux_output_loss: 0.5454\n",
      "Epoch 72/100\n",
      "16079/16079 [==============================] - 194s 12ms/step - loss: 0.0046 - main_output_loss: 0.0038 - aux_output_loss: 0.0038 - val_loss: 0.7159 - val_main_output_loss: 0.6075 - val_aux_output_loss: 0.5417\n",
      "Epoch 73/100\n",
      "16079/16079 [==============================] - 194s 12ms/step - loss: 0.0045 - main_output_loss: 0.0037 - aux_output_loss: 0.0038 - val_loss: 0.7512 - val_main_output_loss: 0.6419 - val_aux_output_loss: 0.5462\n"
     ]
    },
    {
     "name": "stdout",
     "output_type": "stream",
     "text": [
      "Epoch 74/100\n",
      "16079/16079 [==============================] - 196s 12ms/step - loss: 0.0042 - main_output_loss: 0.0035 - aux_output_loss: 0.0035 - val_loss: 0.7795 - val_main_output_loss: 0.6710 - val_aux_output_loss: 0.5424\n",
      "Epoch 75/100\n",
      "16079/16079 [==============================] - 195s 12ms/step - loss: 0.0041 - main_output_loss: 0.0034 - aux_output_loss: 0.0036 - val_loss: 0.8254 - val_main_output_loss: 0.7149 - val_aux_output_loss: 0.5525\n",
      "Epoch 76/100\n",
      "16079/16079 [==============================] - 197s 12ms/step - loss: 0.0041 - main_output_loss: 0.0034 - aux_output_loss: 0.0035 - val_loss: 0.8360 - val_main_output_loss: 0.7250 - val_aux_output_loss: 0.5551\n",
      "Epoch 77/100\n",
      "16079/16079 [==============================] - 197s 12ms/step - loss: 0.0041 - main_output_loss: 0.0033 - aux_output_loss: 0.0035 - val_loss: 0.8356 - val_main_output_loss: 0.7237 - val_aux_output_loss: 0.5595\n",
      "Epoch 78/100\n",
      "16079/16079 [==============================] - 197s 12ms/step - loss: 0.0039 - main_output_loss: 0.0032 - aux_output_loss: 0.0035 - val_loss: 0.8453 - val_main_output_loss: 0.7322 - val_aux_output_loss: 0.5655\n",
      "Epoch 79/100\n",
      "16079/16079 [==============================] - 195s 12ms/step - loss: 0.0040 - main_output_loss: 0.0033 - aux_output_loss: 0.0035 - val_loss: 0.8927 - val_main_output_loss: 0.7786 - val_aux_output_loss: 0.5704\n",
      "Epoch 80/100\n",
      "16079/16079 [==============================] - 198s 12ms/step - loss: 0.0040 - main_output_loss: 0.0033 - aux_output_loss: 0.0035 - val_loss: 0.8630 - val_main_output_loss: 0.7511 - val_aux_output_loss: 0.5595\n",
      "Epoch 81/100\n",
      "16079/16079 [==============================] - 197s 12ms/step - loss: 0.0042 - main_output_loss: 0.0034 - aux_output_loss: 0.0037 - val_loss: 0.9367 - val_main_output_loss: 0.8170 - val_aux_output_loss: 0.5984\n",
      "Epoch 82/100\n",
      "16079/16079 [==============================] - 197s 12ms/step - loss: 0.0040 - main_output_loss: 0.0033 - aux_output_loss: 0.0035 - val_loss: 0.8826 - val_main_output_loss: 0.7689 - val_aux_output_loss: 0.5683\n",
      "Epoch 83/100\n",
      "16079/16079 [==============================] - 196s 12ms/step - loss: 0.0039 - main_output_loss: 0.0032 - aux_output_loss: 0.0035 - val_loss: 0.9093 - val_main_output_loss: 0.7933 - val_aux_output_loss: 0.5800\n",
      "Epoch 84/100\n",
      "16079/16079 [==============================] - 196s 12ms/step - loss: 0.0039 - main_output_loss: 0.0032 - aux_output_loss: 0.0035 - val_loss: 0.9045 - val_main_output_loss: 0.7885 - val_aux_output_loss: 0.5802\n",
      "Epoch 85/100\n",
      "16079/16079 [==============================] - 195s 12ms/step - loss: 0.0040 - main_output_loss: 0.0032 - aux_output_loss: 0.0036 - val_loss: 0.9040 - val_main_output_loss: 0.7894 - val_aux_output_loss: 0.5727\n",
      "Epoch 86/100\n",
      "16079/16079 [==============================] - 198s 12ms/step - loss: 0.0040 - main_output_loss: 0.0033 - aux_output_loss: 0.0035 - val_loss: 0.8846 - val_main_output_loss: 0.7695 - val_aux_output_loss: 0.5756\n",
      "Epoch 87/100\n",
      "16079/16079 [==============================] - 195s 12ms/step - loss: 0.0044 - main_output_loss: 0.0036 - aux_output_loss: 0.0038 - val_loss: 0.9180 - val_main_output_loss: 0.8074 - val_aux_output_loss: 0.5532\n",
      "Epoch 88/100\n",
      "16079/16079 [==============================] - 197s 12ms/step - loss: 0.0048 - main_output_loss: 0.0041 - aux_output_loss: 0.0038 - val_loss: 0.8598 - val_main_output_loss: 0.7590 - val_aux_output_loss: 0.5041\n",
      "Epoch 89/100\n",
      "16079/16079 [==============================] - 198s 12ms/step - loss: 0.0044 - main_output_loss: 0.0036 - aux_output_loss: 0.0039 - val_loss: 1.0106 - val_main_output_loss: 0.8882 - val_aux_output_loss: 0.6121\n",
      "Epoch 90/100\n",
      "16079/16079 [==============================] - 197s 12ms/step - loss: 0.0077 - main_output_loss: 0.0065 - aux_output_loss: 0.0062 - val_loss: 0.8089 - val_main_output_loss: 0.6925 - val_aux_output_loss: 0.5824\n",
      "Epoch 91/100\n",
      "16079/16079 [==============================] - 193s 12ms/step - loss: 0.0046 - main_output_loss: 0.0038 - aux_output_loss: 0.0041 - val_loss: 0.8285 - val_main_output_loss: 0.7091 - val_aux_output_loss: 0.5968\n",
      "Epoch 92/100\n",
      "16079/16079 [==============================] - 196s 12ms/step - loss: 0.0044 - main_output_loss: 0.0036 - aux_output_loss: 0.0039 - val_loss: 0.8340 - val_main_output_loss: 0.7283 - val_aux_output_loss: 0.5286\n",
      "Epoch 93/100\n",
      "16079/16079 [==============================] - 197s 12ms/step - loss: 0.0038 - main_output_loss: 0.0031 - aux_output_loss: 0.0035 - val_loss: 0.9153 - val_main_output_loss: 0.8048 - val_aux_output_loss: 0.5525\n",
      "Epoch 94/100\n",
      "16079/16079 [==============================] - 195s 12ms/step - loss: 0.0037 - main_output_loss: 0.0030 - aux_output_loss: 0.0035 - val_loss: 0.9101 - val_main_output_loss: 0.7996 - val_aux_output_loss: 0.5525\n",
      "Epoch 95/100\n",
      "16079/16079 [==============================] - 194s 12ms/step - loss: 0.0038 - main_output_loss: 0.0031 - aux_output_loss: 0.0035 - val_loss: 0.9024 - val_main_output_loss: 0.7916 - val_aux_output_loss: 0.5541\n",
      "Epoch 96/100\n",
      "16079/16079 [==============================] - 193s 12ms/step - loss: 0.0039 - main_output_loss: 0.0032 - aux_output_loss: 0.0035 - val_loss: 0.9059 - val_main_output_loss: 0.7951 - val_aux_output_loss: 0.5541\n",
      "Epoch 97/100\n",
      "16079/16079 [==============================] - 195s 12ms/step - loss: 0.0038 - main_output_loss: 0.0031 - aux_output_loss: 0.0035 - val_loss: 0.8982 - val_main_output_loss: 0.7868 - val_aux_output_loss: 0.5570\n",
      "Epoch 98/100\n",
      "16079/16079 [==============================] - 191s 12ms/step - loss: 0.0041 - main_output_loss: 0.0034 - aux_output_loss: 0.0036 - val_loss: 0.9031 - val_main_output_loss: 0.7917 - val_aux_output_loss: 0.5572\n",
      "Epoch 99/100\n",
      "16079/16079 [==============================] - 196s 12ms/step - loss: 0.0039 - main_output_loss: 0.0032 - aux_output_loss: 0.0036 - val_loss: 0.9271 - val_main_output_loss: 0.8159 - val_aux_output_loss: 0.5557\n",
      "Epoch 100/100\n",
      "16079/16079 [==============================] - 194s 12ms/step - loss: 0.0038 - main_output_loss: 0.0031 - aux_output_loss: 0.0035 - val_loss: 0.9086 - val_main_output_loss: 0.7962 - val_aux_output_loss: 0.5620\n",
      "19960.996418952942  seconds\n"
     ]
    }
   ],
   "source": [
    "# Train the model by passing it lists of input arrays and target arrays\n",
    "start = time.time()\n",
    "merged_model_history = merged_model.fit(\n",
    "    [train_X, train_features_X], \n",
    "    [train_y, train_y],\n",
    "    # validation_split=0.2,\n",
    "    validation_data=[\n",
    "        [validation_X, validation_features_X], \n",
    "        [validation_y, validation_y]\n",
    "    ],\n",
    "    epochs=100, \n",
    "    batch_size=64\n",
    ")\n",
    "end = time.time()\n",
    "print(end - start, \" seconds\")"
   ]
  },
  {
   "cell_type": "code",
   "execution_count": 351,
   "metadata": {},
   "outputs": [
    {
     "data": {
      "image/png": "[encoded data removed]",
      "text/plain": [
       "<Figure size 432x288 with 1 Axes>"
      ]
     },
     "metadata": {
      "needs_background": "light"
     },
     "output_type": "display_data"
    }
   ],
   "source": [
    "merged_model_loss_values = merged_model_history.history['loss']\n",
    "merged_model_epochs = range(1, len(merged_model_loss_values)+1)\n",
    "\n",
    "plt.plot(merged_model_epochs, merged_model_loss_values, label='Training Loss')\n",
    "plt.xlabel('Epochs')\n",
    "plt.ylabel('Loss')\n",
    "plt.legend()\n",
    "\n",
    "plt.show()"
   ]
  },
  {
   "cell_type": "code",
   "execution_count": 241,
   "metadata": {},
   "outputs": [
    {
     "name": "stdout",
     "output_type": "stream",
     "text": [
      "_________________________________________________________________\n",
      "Layer (type)                 Output Shape              Param #   \n",
      "=================================================================\n",
      "embedding_11 (Embedding)     (None, 73, 32)            3200000   \n",
      "_________________________________________________________________\n",
      "bidirectional_1 (Bidirection (None, 200)               106400    \n",
      "_________________________________________________________________\n",
      "dense_10 (Dense)             (None, 2)                 402       \n",
      "=================================================================\n",
      "Total params: 3,306,802\n",
      "Trainable params: 3,306,802\n",
      "Non-trainable params: 0\n",
      "_________________________________________________________________\n"
     ]
    }
   ],
   "source": [
    "model.compile(\n",
    "    loss='categorical_crossentropy', \n",
    "    optimizer='adam', \n",
    "    metrics=['accuracy']\n",
    ")\n",
    "model.summary()"
   ]
  },
  {
   "cell_type": "code",
   "execution_count": 250,
   "metadata": {},
   "outputs": [
    {
     "name": "stdout",
     "output_type": "stream",
     "text": [
      "Train on 16079 samples, validate on 3988 samples\n",
      "Epoch 1/100\n",
      "16079/16079 [==============================] - 30s 2ms/step - loss: 0.0165 - acc: 0.9940 - val_loss: 0.2794 - val_acc: 0.9431\n",
      "Epoch 2/100\n",
      "16079/16079 [==============================] - 32s 2ms/step - loss: 0.0153 - acc: 0.9947 - val_loss: 0.3203 - val_acc: 0.9361\n",
      "Epoch 3/100\n",
      "16079/16079 [==============================] - 35s 2ms/step - loss: 0.0132 - acc: 0.9952 - val_loss: 0.3589 - val_acc: 0.9348\n",
      "Epoch 4/100\n",
      "16079/16079 [==============================] - 34s 2ms/step - loss: 0.0123 - acc: 0.9959 - val_loss: 0.3636 - val_acc: 0.9366\n",
      "Epoch 5/100\n",
      "16079/16079 [==============================] - 39s 2ms/step - loss: 0.0110 - acc: 0.9963 - val_loss: 0.3835 - val_acc: 0.9318\n",
      "Epoch 6/100\n",
      "16079/16079 [==============================] - 33s 2ms/step - loss: 0.0097 - acc: 0.9969 - val_loss: 0.4015 - val_acc: 0.9258\n",
      "Epoch 7/100\n",
      "16079/16079 [==============================] - 30s 2ms/step - loss: 0.0104 - acc: 0.9963 - val_loss: 0.3782 - val_acc: 0.9393\n",
      "Epoch 8/100\n",
      "16079/16079 [==============================] - 30s 2ms/step - loss: 0.0092 - acc: 0.9965 - val_loss: 0.4525 - val_acc: 0.9208\n",
      "Epoch 9/100\n",
      "16079/16079 [==============================] - 30s 2ms/step - loss: 0.0078 - acc: 0.9970 - val_loss: 0.4329 - val_acc: 0.9368\n",
      "Epoch 10/100\n",
      "16079/16079 [==============================] - 30s 2ms/step - loss: 0.0090 - acc: 0.9966 - val_loss: 0.4051 - val_acc: 0.9310\n",
      "Epoch 11/100\n",
      "16079/16079 [==============================] - 30s 2ms/step - loss: 0.0082 - acc: 0.9971 - val_loss: 0.4347 - val_acc: 0.9215\n",
      "Epoch 12/100\n",
      "16079/16079 [==============================] - 30s 2ms/step - loss: 0.0077 - acc: 0.9969 - val_loss: 0.3947 - val_acc: 0.9373\n",
      "Epoch 13/100\n",
      "16079/16079 [==============================] - 30s 2ms/step - loss: 0.0065 - acc: 0.9976 - val_loss: 0.4293 - val_acc: 0.9411\n",
      "Epoch 14/100\n",
      "16079/16079 [==============================] - 30s 2ms/step - loss: 0.0066 - acc: 0.9976 - val_loss: 0.4622 - val_acc: 0.9353\n",
      "Epoch 15/100\n",
      "16079/16079 [==============================] - 30s 2ms/step - loss: 0.0066 - acc: 0.9975 - val_loss: 0.4033 - val_acc: 0.9386\n",
      "Epoch 16/100\n",
      "16079/16079 [==============================] - 30s 2ms/step - loss: 0.0062 - acc: 0.9975 - val_loss: 0.4126 - val_acc: 0.9285\n",
      "Epoch 17/100\n",
      "16079/16079 [==============================] - 30s 2ms/step - loss: 0.0083 - acc: 0.9969 - val_loss: 0.3712 - val_acc: 0.9411\n",
      "Epoch 18/100\n",
      "16079/16079 [==============================] - 30s 2ms/step - loss: 0.0066 - acc: 0.9971 - val_loss: 0.3709 - val_acc: 0.9506\n",
      "Epoch 19/100\n",
      "16079/16079 [==============================] - 33s 2ms/step - loss: 0.0056 - acc: 0.9975 - val_loss: 0.4331 - val_acc: 0.9408\n",
      "Epoch 20/100\n",
      "16079/16079 [==============================] - 32s 2ms/step - loss: 0.0062 - acc: 0.9973 - val_loss: 0.4221 - val_acc: 0.9433\n",
      "Epoch 21/100\n",
      "16079/16079 [==============================] - 33s 2ms/step - loss: 0.0059 - acc: 0.9974 - val_loss: 0.4397 - val_acc: 0.9373\n",
      "Epoch 22/100\n",
      "16079/16079 [==============================] - 32s 2ms/step - loss: 0.0053 - acc: 0.9976 - val_loss: 0.4510 - val_acc: 0.9378\n",
      "Epoch 23/100\n",
      "16079/16079 [==============================] - 31s 2ms/step - loss: 0.0051 - acc: 0.9977 - val_loss: 0.4899 - val_acc: 0.9303\n",
      "Epoch 24/100\n",
      "16079/16079 [==============================] - 30s 2ms/step - loss: 0.0052 - acc: 0.9974 - val_loss: 0.4779 - val_acc: 0.9275\n",
      "Epoch 25/100\n",
      "16079/16079 [==============================] - 30s 2ms/step - loss: 0.0050 - acc: 0.9975 - val_loss: 0.5221 - val_acc: 0.9238\n",
      "Epoch 26/100\n",
      "16079/16079 [==============================] - 30s 2ms/step - loss: 0.0055 - acc: 0.9977 - val_loss: 0.4763 - val_acc: 0.9293\n",
      "Epoch 27/100\n",
      "16079/16079 [==============================] - 29s 2ms/step - loss: 0.0055 - acc: 0.9973 - val_loss: 0.3879 - val_acc: 0.9483\n",
      "Epoch 28/100\n",
      "16079/16079 [==============================] - 30s 2ms/step - loss: 0.0056 - acc: 0.9974 - val_loss: 0.4332 - val_acc: 0.9386\n",
      "Epoch 29/100\n",
      "16079/16079 [==============================] - 30s 2ms/step - loss: 0.0049 - acc: 0.9976 - val_loss: 0.4817 - val_acc: 0.9338\n",
      "Epoch 30/100\n",
      "16079/16079 [==============================] - 30s 2ms/step - loss: 0.0049 - acc: 0.9976 - val_loss: 0.4578 - val_acc: 0.9398\n",
      "Epoch 31/100\n",
      "16079/16079 [==============================] - 30s 2ms/step - loss: 0.0058 - acc: 0.9975 - val_loss: 0.4817 - val_acc: 0.9285\n",
      "Epoch 32/100\n",
      "16079/16079 [==============================] - 30s 2ms/step - loss: 0.0045 - acc: 0.9976 - val_loss: 0.4691 - val_acc: 0.9328\n",
      "Epoch 33/100\n",
      "16079/16079 [==============================] - 30s 2ms/step - loss: 0.0044 - acc: 0.9979 - val_loss: 0.4760 - val_acc: 0.9366\n",
      "Epoch 34/100\n",
      "16079/16079 [==============================] - 30s 2ms/step - loss: 0.0046 - acc: 0.9978 - val_loss: 0.4664 - val_acc: 0.9368\n",
      "Epoch 35/100\n",
      "16079/16079 [==============================] - 30s 2ms/step - loss: 0.0046 - acc: 0.9980 - val_loss: 0.4637 - val_acc: 0.9356\n",
      "Epoch 36/100\n",
      "16079/16079 [==============================] - 29s 2ms/step - loss: 0.0042 - acc: 0.9978 - val_loss: 0.4767 - val_acc: 0.9396\n",
      "Epoch 37/100\n",
      "16079/16079 [==============================] - 30s 2ms/step - loss: 0.0043 - acc: 0.9979 - val_loss: 0.5182 - val_acc: 0.9300\n",
      "Epoch 38/100\n",
      "16079/16079 [==============================] - 30s 2ms/step - loss: 0.0043 - acc: 0.9977 - val_loss: 0.5084 - val_acc: 0.9330\n",
      "Epoch 39/100\n",
      "16079/16079 [==============================] - 30s 2ms/step - loss: 0.0042 - acc: 0.9978 - val_loss: 0.4979 - val_acc: 0.9396\n",
      "Epoch 40/100\n",
      "16079/16079 [==============================] - 29s 2ms/step - loss: 0.0042 - acc: 0.9977 - val_loss: 0.4933 - val_acc: 0.9408\n",
      "Epoch 41/100\n",
      "16079/16079 [==============================] - 30s 2ms/step - loss: 0.0042 - acc: 0.9975 - val_loss: 0.5338 - val_acc: 0.9328\n",
      "Epoch 42/100\n",
      "16079/16079 [==============================] - 30s 2ms/step - loss: 0.0041 - acc: 0.9979 - val_loss: 0.5135 - val_acc: 0.9383\n",
      "Epoch 43/100\n",
      "16079/16079 [==============================] - 30s 2ms/step - loss: 0.0076 - acc: 0.9969 - val_loss: 0.3735 - val_acc: 0.9531\n",
      "Epoch 44/100\n",
      "16079/16079 [==============================] - 30s 2ms/step - loss: 0.0071 - acc: 0.9969 - val_loss: 0.4025 - val_acc: 0.9466\n",
      "Epoch 45/100\n",
      "16079/16079 [==============================] - 30s 2ms/step - loss: 0.0043 - acc: 0.9980 - val_loss: 0.4515 - val_acc: 0.9381\n",
      "Epoch 46/100\n",
      "16079/16079 [==============================] - 30s 2ms/step - loss: 0.0041 - acc: 0.9978 - val_loss: 0.4635 - val_acc: 0.9378\n",
      "Epoch 47/100\n",
      "16079/16079 [==============================] - 30s 2ms/step - loss: 0.0040 - acc: 0.9976 - val_loss: 0.4720 - val_acc: 0.9381\n",
      "Epoch 48/100\n",
      "16079/16079 [==============================] - 30s 2ms/step - loss: 0.0040 - acc: 0.9975 - val_loss: 0.4736 - val_acc: 0.9393\n",
      "Epoch 49/100\n",
      "16079/16079 [==============================] - 30s 2ms/step - loss: 0.0040 - acc: 0.9976 - val_loss: 0.4763 - val_acc: 0.9388\n",
      "Epoch 50/100\n",
      "16079/16079 [==============================] - 30s 2ms/step - loss: 0.0041 - acc: 0.9978 - val_loss: 0.4645 - val_acc: 0.9418\n",
      "Epoch 51/100\n",
      "16079/16079 [==============================] - 30s 2ms/step - loss: 0.0039 - acc: 0.9976 - val_loss: 0.4947 - val_acc: 0.9351\n",
      "Epoch 52/100\n",
      "16079/16079 [==============================] - 30s 2ms/step - loss: 0.0041 - acc: 0.9978 - val_loss: 0.4817 - val_acc: 0.9391\n",
      "Epoch 53/100\n",
      "16079/16079 [==============================] - 30s 2ms/step - loss: 0.0039 - acc: 0.9976 - val_loss: 0.4738 - val_acc: 0.9421\n",
      "Epoch 54/100\n",
      "16079/16079 [==============================] - 30s 2ms/step - loss: 0.0039 - acc: 0.9981 - val_loss: 0.5019 - val_acc: 0.9366\n",
      "Epoch 55/100\n",
      "16079/16079 [==============================] - 30s 2ms/step - loss: 0.0040 - acc: 0.9978 - val_loss: 0.4970 - val_acc: 0.9388\n",
      "Epoch 56/100\n",
      "16079/16079 [==============================] - 30s 2ms/step - loss: 0.0038 - acc: 0.9983 - val_loss: 0.5228 - val_acc: 0.9341\n",
      "Epoch 57/100\n",
      "16079/16079 [==============================] - 30s 2ms/step - loss: 0.0042 - acc: 0.9976 - val_loss: 0.4974 - val_acc: 0.9371\n",
      "Epoch 58/100\n",
      "16079/16079 [==============================] - 30s 2ms/step - loss: 0.0039 - acc: 0.9978 - val_loss: 0.4875 - val_acc: 0.9401\n",
      "Epoch 59/100\n",
      "16079/16079 [==============================] - 30s 2ms/step - loss: 0.0039 - acc: 0.9978 - val_loss: 0.4996 - val_acc: 0.9398\n",
      "Epoch 60/100\n",
      "16079/16079 [==============================] - 30s 2ms/step - loss: 0.0038 - acc: 0.9981 - val_loss: 0.5111 - val_acc: 0.9353\n",
      "Epoch 61/100\n",
      "16079/16079 [==============================] - 30s 2ms/step - loss: 0.0040 - acc: 0.9976 - val_loss: 0.4981 - val_acc: 0.9383\n",
      "Epoch 62/100\n",
      "16079/16079 [==============================] - 30s 2ms/step - loss: 0.0039 - acc: 0.9982 - val_loss: 0.5051 - val_acc: 0.9423\n",
      "Epoch 63/100\n",
      "16079/16079 [==============================] - 30s 2ms/step - loss: 0.0039 - acc: 0.9981 - val_loss: 0.5067 - val_acc: 0.9391\n",
      "Epoch 64/100\n",
      "16079/16079 [==============================] - 30s 2ms/step - loss: 0.0039 - acc: 0.9976 - val_loss: 0.5222 - val_acc: 0.9383\n",
      "Epoch 65/100\n",
      "16079/16079 [==============================] - 30s 2ms/step - loss: 0.0038 - acc: 0.9981 - val_loss: 0.5159 - val_acc: 0.9401\n",
      "Epoch 66/100\n",
      "16079/16079 [==============================] - 30s 2ms/step - loss: 0.0039 - acc: 0.9977 - val_loss: 0.5199 - val_acc: 0.9401\n",
      "Epoch 67/100\n",
      "16079/16079 [==============================] - 30s 2ms/step - loss: 0.0058 - acc: 0.9973 - val_loss: 0.4471 - val_acc: 0.9428\n",
      "Epoch 68/100\n",
      "16079/16079 [==============================] - 30s 2ms/step - loss: 0.0070 - acc: 0.9971 - val_loss: 0.4200 - val_acc: 0.9418\n",
      "Epoch 69/100\n",
      "16079/16079 [==============================] - 30s 2ms/step - loss: 0.0048 - acc: 0.9973 - val_loss: 0.4580 - val_acc: 0.9310\n",
      "Epoch 70/100\n",
      "16079/16079 [==============================] - 30s 2ms/step - loss: 0.0039 - acc: 0.9979 - val_loss: 0.4873 - val_acc: 0.9285\n",
      "Epoch 71/100\n",
      "16079/16079 [==============================] - 30s 2ms/step - loss: 0.0038 - acc: 0.9978 - val_loss: 0.4760 - val_acc: 0.9346\n",
      "Epoch 72/100\n",
      "16079/16079 [==============================] - 30s 2ms/step - loss: 0.0038 - acc: 0.9975 - val_loss: 0.4881 - val_acc: 0.9338\n",
      "Epoch 73/100\n",
      "16079/16079 [==============================] - 30s 2ms/step - loss: 0.0038 - acc: 0.9980 - val_loss: 0.5143 - val_acc: 0.9278\n",
      "Epoch 74/100\n",
      "16079/16079 [==============================] - 30s 2ms/step - loss: 0.0037 - acc: 0.9979 - val_loss: 0.4938 - val_acc: 0.9358\n",
      "Epoch 75/100\n",
      "16079/16079 [==============================] - 30s 2ms/step - loss: 0.0039 - acc: 0.9978 - val_loss: 0.5077 - val_acc: 0.9323\n",
      "Epoch 76/100\n",
      "16079/16079 [==============================] - 30s 2ms/step - loss: 0.0039 - acc: 0.9979 - val_loss: 0.5059 - val_acc: 0.9341\n",
      "Epoch 77/100\n",
      "16079/16079 [==============================] - 30s 2ms/step - loss: 0.0038 - acc: 0.9979 - val_loss: 0.5212 - val_acc: 0.9313\n",
      "Epoch 78/100\n",
      "16079/16079 [==============================] - 30s 2ms/step - loss: 0.0037 - acc: 0.9978 - val_loss: 0.5398 - val_acc: 0.9268\n",
      "Epoch 79/100\n",
      "16079/16079 [==============================] - 30s 2ms/step - loss: 0.0039 - acc: 0.9973 - val_loss: 0.5148 - val_acc: 0.9318\n",
      "Epoch 80/100\n",
      "16079/16079 [==============================] - 30s 2ms/step - loss: 0.0038 - acc: 0.9982 - val_loss: 0.5483 - val_acc: 0.9278\n",
      "Epoch 81/100\n",
      "16079/16079 [==============================] - 30s 2ms/step - loss: 0.0037 - acc: 0.9979 - val_loss: 0.5221 - val_acc: 0.9356\n",
      "Epoch 82/100\n",
      "16079/16079 [==============================] - 30s 2ms/step - loss: 0.0037 - acc: 0.9981 - val_loss: 0.5579 - val_acc: 0.9270\n",
      "Epoch 83/100\n",
      "16079/16079 [==============================] - 30s 2ms/step - loss: 0.0037 - acc: 0.9975 - val_loss: 0.5352 - val_acc: 0.9325\n",
      "Epoch 84/100\n",
      "16079/16079 [==============================] - 30s 2ms/step - loss: 0.0037 - acc: 0.9979 - val_loss: 0.5494 - val_acc: 0.9338\n",
      "Epoch 85/100\n",
      "16079/16079 [==============================] - 30s 2ms/step - loss: 0.0037 - acc: 0.9978 - val_loss: 0.5470 - val_acc: 0.9356\n",
      "Epoch 86/100\n",
      "16079/16079 [==============================] - 30s 2ms/step - loss: 0.0057 - acc: 0.9973 - val_loss: 0.5057 - val_acc: 0.9293\n",
      "Epoch 87/100\n",
      "16079/16079 [==============================] - 30s 2ms/step - loss: 0.0057 - acc: 0.9973 - val_loss: 0.4355 - val_acc: 0.9378\n",
      "Epoch 88/100\n",
      "16079/16079 [==============================] - 30s 2ms/step - loss: 0.0039 - acc: 0.9978 - val_loss: 0.4645 - val_acc: 0.9330\n",
      "Epoch 89/100\n",
      "16079/16079 [==============================] - 30s 2ms/step - loss: 0.0037 - acc: 0.9979 - val_loss: 0.4798 - val_acc: 0.9310\n",
      "Epoch 90/100\n",
      "16079/16079 [==============================] - 30s 2ms/step - loss: 0.0037 - acc: 0.9981 - val_loss: 0.4770 - val_acc: 0.9348\n",
      "Epoch 91/100\n",
      "16079/16079 [==============================] - 30s 2ms/step - loss: 0.0037 - acc: 0.9979 - val_loss: 0.4804 - val_acc: 0.9368\n",
      "Epoch 92/100\n",
      "16079/16079 [==============================] - 30s 2ms/step - loss: 0.0037 - acc: 0.9979 - val_loss: 0.4980 - val_acc: 0.9313\n",
      "Epoch 93/100\n",
      "16079/16079 [==============================] - 30s 2ms/step - loss: 0.0037 - acc: 0.9977 - val_loss: 0.5009 - val_acc: 0.9318\n",
      "Epoch 94/100\n",
      "16079/16079 [==============================] - 30s 2ms/step - loss: 0.0037 - acc: 0.9979 - val_loss: 0.5044 - val_acc: 0.9341\n",
      "Epoch 95/100\n",
      "16079/16079 [==============================] - 30s 2ms/step - loss: 0.0036 - acc: 0.9976 - val_loss: 0.5086 - val_acc: 0.9330\n",
      "Epoch 96/100\n",
      "16079/16079 [==============================] - 31s 2ms/step - loss: 0.0036 - acc: 0.9978 - val_loss: 0.5166 - val_acc: 0.9313\n",
      "Epoch 97/100\n",
      "16079/16079 [==============================] - 30s 2ms/step - loss: 0.0036 - acc: 0.9978 - val_loss: 0.5219 - val_acc: 0.9310\n",
      "Epoch 98/100\n",
      "16079/16079 [==============================] - 30s 2ms/step - loss: 0.0037 - acc: 0.9978 - val_loss: 0.5172 - val_acc: 0.9351\n",
      "Epoch 99/100\n",
      "16079/16079 [==============================] - 30s 2ms/step - loss: 0.0036 - acc: 0.9979 - val_loss: 0.5274 - val_acc: 0.9363\n",
      "Epoch 100/100\n",
      "16079/16079 [==============================] - 30s 2ms/step - loss: 0.0036 - acc: 0.9980 - val_loss: 0.5322 - val_acc: 0.9363\n",
      "3036.66828584671\n"
     ]
    }
   ],
   "source": [
    "start = time.time()\n",
    "history = model.fit(\n",
    "    train_X, \n",
    "    train_y, \n",
    "    validation_data=(validation_X, validation_y), \n",
    "    epochs=100, \n",
    "    batch_size=64\n",
    ")\n",
    "end = time.time()\n",
    "print(end-start, \" seconds\")"
   ]
  },
  {
   "cell_type": "code",
   "execution_count": 251,
   "metadata": {},
   "outputs": [
    {
     "data": {
      "image/png": "[encoded data removed]",
      "text/plain": [
       "<Figure size 432x288 with 1 Axes>"
      ]
     },
     "metadata": {
      "needs_background": "light"
     },
     "output_type": "display_data"
    }
   ],
   "source": [
    "loss_values = history.history['loss']\n",
    "epochs = range(1, len(loss_values)+1)\n",
    "\n",
    "plt.plot(epochs, loss_values, label='Training Loss')\n",
    "plt.xlabel('Epochs')\n",
    "plt.ylabel('Loss')\n",
    "plt.legend()\n",
    "\n",
    "plt.show()"
   ]
  },
  {
   "cell_type": "code",
   "execution_count": 252,
   "metadata": {},
   "outputs": [],
   "source": [
    "test_y_predictions = model.predict(test_X)\n",
    "validation_y_predictions = model.predict(validation_X)\n",
    "\n",
    "test_y_argmax = np.argmax(test_y,axis=1)\n",
    "validation_y_argmax = np.argmax(validation_y,axis=1)\n",
    "\n",
    "test_y_predictions_argmax = np.argmax(test_y_predictions, axis=1)\n",
    "validation_y_predictions_argmax = np.argmax(validation_y_predictions, axis=1)"
   ]
  },
  {
   "cell_type": "code",
   "execution_count": 253,
   "metadata": {},
   "outputs": [
    {
     "data": {
      "text/plain": [
       "array([[9.99971867e-01, 0.00000000e+00],\n",
       "       [9.97921944e-01, 1.43051147e-06],\n",
       "       [9.99879599e-01, 2.98023224e-08],\n",
       "       [9.99974608e-01, 0.00000000e+00],\n",
       "       [9.99553978e-01, 8.94069672e-08],\n",
       "       [9.99534607e-01, 1.49011612e-07],\n",
       "       [5.84465206e-01, 3.55574489e-03],\n",
       "       [9.98989344e-01, 5.06639481e-07],\n",
       "       [9.05564904e-01, 3.40014696e-04],\n",
       "       [9.80813026e-01, 1.14142895e-05]], dtype=float32)"
      ]
     },
     "execution_count": 253,
     "metadata": {},
     "output_type": "execute_result"
    }
   ],
   "source": [
    "test_y_predictions[:10]"
   ]
  },
  {
   "cell_type": "code",
   "execution_count": 254,
   "metadata": {},
   "outputs": [
    {
     "data": {
      "text/plain": [
       "array([0, 0, 0, 0, 0, 0, 0, 0, 0, 0, 0, 0, 0, 0, 0, 0, 0, 0, 1, 0, 0, 0,\n",
       "       0, 0, 0, 0, 0, 0, 0, 0, 0, 0, 0, 0, 0, 0, 0, 0, 1, 1, 0, 0, 1, 0,\n",
       "       0, 0, 0, 0, 0, 0, 0, 0, 0, 0, 0, 0, 0, 0, 0, 0, 0, 0, 0, 0, 0, 0,\n",
       "       0, 0, 0, 0, 0, 0, 0, 0, 0, 0, 0, 0, 0, 0, 0, 0, 0, 0, 0, 0, 0, 0,\n",
       "       1, 0, 0, 0, 0, 0, 0, 0, 0, 0, 0, 1])"
      ]
     },
     "execution_count": 254,
     "metadata": {},
     "output_type": "execute_result"
    }
   ],
   "source": [
    "test_y_predictions_argmax[:100]"
   ]
  },
  {
   "cell_type": "code",
   "execution_count": 255,
   "metadata": {},
   "outputs": [
    {
     "data": {
      "text/plain": [
       "array([0, 0, 0, 0, 0, 0, 0, 1, 1, 1, 0, 0, 0, 0, 0, 0, 0, 0, 0, 0, 0, 0,\n",
       "       0, 0, 0, 0, 0, 0, 0, 0, 0, 0, 0, 0, 0, 0, 0, 0, 0, 0, 0, 0, 0, 0,\n",
       "       0, 0, 0, 0, 0, 0, 0, 0, 0, 0, 0, 0, 0, 0, 0, 0, 0, 0, 0, 0, 0, 0,\n",
       "       0, 0, 0, 0, 0, 0, 0, 0, 0, 0, 0, 0, 0, 0, 0, 0, 0, 0, 0, 0, 0, 0,\n",
       "       1, 1, 1, 0, 0, 0, 0, 0, 0, 0, 1, 0])"
      ]
     },
     "execution_count": 255,
     "metadata": {},
     "output_type": "execute_result"
    }
   ],
   "source": [
    "test_y_argmax[:100]"
   ]
  },
  {
   "cell_type": "code",
   "execution_count": 256,
   "metadata": {},
   "outputs": [
    {
     "name": "stdout",
     "output_type": "stream",
     "text": [
      "              precision    recall  f1-score   support\n",
      "\n",
      "           0       0.95      0.95      0.95       619\n",
      "           1       0.03      0.03      0.03        29\n",
      "\n",
      "   micro avg       0.91      0.91      0.91       648\n",
      "   macro avg       0.49      0.49      0.49       648\n",
      "weighted avg       0.91      0.91      0.91       648\n",
      "\n",
      "[[590  29]\n",
      " [ 28   1]]\n"
     ]
    }
   ],
   "source": [
    "print(classification_report(test_y_argmax, test_y_predictions_argmax))\n",
    "print(confusion_matrix(test_y_argmax, test_y_predictions_argmax))"
   ]
  },
  {
   "cell_type": "code",
   "execution_count": 257,
   "metadata": {},
   "outputs": [
    {
     "name": "stdout",
     "output_type": "stream",
     "text": [
      "              precision    recall  f1-score   support\n",
      "\n",
      "           0       0.97      0.96      0.97      3872\n",
      "           1       0.05      0.07      0.06       116\n",
      "\n",
      "   micro avg       0.94      0.94      0.94      3988\n",
      "   macro avg       0.51      0.52      0.51      3988\n",
      "weighted avg       0.95      0.94      0.94      3988\n",
      "\n",
      "[[3726  146]\n",
      " [ 108    8]]\n"
     ]
    }
   ],
   "source": [
    "print(classification_report(validation_y_argmax, validation_y_predictions_argmax))\n",
    "print(confusion_matrix(validation_y_argmax, validation_y_predictions_argmax))"
   ]
  },
  {
   "cell_type": "code",
   "execution_count": 208,
   "metadata": {},
   "outputs": [
    {
     "data": {
      "text/plain": [
       "[(0, 0),\n",
       " (0, 0),\n",
       " (0, 0),\n",
       " (0, 0),\n",
       " (0, 0),\n",
       " (0, 0),\n",
       " (0, 0),\n",
       " (0, 0),\n",
       " (1, 1),\n",
       " (1, 0),\n",
       " (1, 1),\n",
       " (0, 0),\n",
       " (0, 0),\n",
       " (0, 0),\n",
       " (0, 0),\n",
       " (0, 0),\n",
       " (0, 0),\n",
       " (0, 0),\n",
       " (1, 0),\n",
       " (0, 1)]"
      ]
     },
     "execution_count": 208,
     "metadata": {},
     "output_type": "execute_result"
    }
   ],
   "source": [
    "y_actual_and_prediction = list(zip(test_y_argmax, test_y_predictions_argmax))\n",
    "[y for i, y in enumerate(y_actual_and_prediction)][80:100]"
   ]
  },
  {
   "cell_type": "code",
   "execution_count": 225,
   "metadata": {},
   "outputs": [
    {
     "name": "stdout",
     "output_type": "stream",
     "text": [
      "32\n",
      "25\n",
      "4\n"
     ]
    },
    {
     "data": {
      "text/plain": [
       "[20085, 20105, 20106, 20109, 20136, 20138, 20166, 20202, 20211, 20248]"
      ]
     },
     "execution_count": 225,
     "metadata": {},
     "output_type": "execute_result"
    }
   ],
   "source": [
    "log_ids_for_false_positives = []\n",
    "log_ids_for_false_negatives = []\n",
    "log_ids_for_true_positives = []\n",
    "offset = index_for_validation_test_split\n",
    "for index, value in enumerate(y_actual_and_prediction):\n",
    "    if value == (0, 1):\n",
    "        log_ids_for_false_positives.append(offset + index)\n",
    "    elif value == (1, 0):\n",
    "        log_ids_for_false_negatives.append(offset + index)\n",
    "    elif value == (1,1):\n",
    "        log_ids_for_true_positives.append(offset + index)\n",
    "    \n",
    "log_ids_for_false_positives = [index_for_validation_test_split + index for index, value in enumerate(y_actual_and_prediction) if value==(0, 1)]\n",
    "log_ids_for_false_positives = [index_for_validation_test_split + index for index, value in enumerate(y_actual_and_prediction) if value==(0, 1)]\n",
    "print(len(log_ids_for_false_positives))\n",
    "print(len(log_ids_for_false_negatives))\n",
    "print(len(log_ids_for_true_positives))\n",
    "log_ids_for_false_positives[:10]"
   ]
  },
  {
   "cell_type": "code",
   "execution_count": 224,
   "metadata": {},
   "outputs": [
    {
     "name": "stdout",
     "output_type": "stream",
     "text": [
      "or, for simplicity, print md5.new(string).digest() :)\n",
      "BUT from geas/DBdriver.py:\n",
      "def _make_passkey(self, user, passwd, random):\n",
      "def _hexstr(self, s):\n",
      "but when I update or co, it comes back\n",
      "doesn't jamest have access to the cvs server?\n",
      "either that or I customize interchange\n",
      "(basically Python-based web application services\n",
      "webware and GNUe might be interesting\n",
      "real or imagined\n",
      "any suggestions/comments?\n",
      "doesn't it still have a usenet gateway?\n",
      "and windows isnt a 'monitorless' operating system\n",
      "there is an option to open as access as 97\n",
      "i will get 97 up here pretty quick\n",
      "and be much more 'official' than informal help\n",
      "more official?\n",
      "i.e. accountable\n",
      "any non ie 5.0 or greater browser in fact\n",
      "F*** YOU! No MSN for you.\n",
      "this is really really incredible\n",
      "I always wondered if gnuebot and bigbrother secretly fought in the background\n",
      "either with win2k or kde&linux\n",
      "the major hangup is of course.....drumroll....Office\n",
      "what's it running per seat?\n",
      "I strongly dislike cygwin's setup\n",
      "if exists (select 1 from mdean) print 'hello'\n",
      "BUT we are hitting a wall on something (small wall for now)\n",
      "we are updating 'accounts' 'contacts' to be much more robust and FLEXIBLE\n",
      "bar with products a and b\n",
      "i want foo to only see stuff for x and y and bar with a and b\n",
      "i.e. the customer would never see dcl\n"
     ]
    }
   ],
   "source": [
    "for log_id in log_ids_for_false_positives:\n",
    "    print(get_words_at_line_number(word_indexes, log_id))"
   ]
  },
  {
   "cell_type": "code",
   "execution_count": 226,
   "metadata": {},
   "outputs": [
    {
     "name": "stdout",
     "output_type": "stream",
     "text": [
      "pyro is an object system like what gcomm will be\n",
      "the python email client\n",
      "you should be able to access it via geas\n",
      "and todo tool\n"
     ]
    }
   ],
   "source": [
    "for log_id in log_ids_for_true_positives:\n",
    "    print(get_words_at_line_number(word_indexes, log_id))"
   ]
  },
  {
   "cell_type": "code",
   "execution_count": 227,
   "metadata": {},
   "outputs": [
    {
     "name": "stdout",
     "output_type": "stream",
     "text": [
      "btw, why are ou guys calling this abstraction thingy GComm when Dave has a project called GNU Comm (GComm fr short)?\n",
      "as far as I'm concerned, GComm is our internal package name... to the external world, it's GNUe Common\n",
      "but that is a good point\n",
      "by same guys that wrote pygmy\n",
      "I need a production quality GNUe web shopping cart ;-)\n",
      "anything is possible I know, but ideally we need to get ideas on some sort of php and GEAS interface\n",
      "guess I'll just customize interchange.. hopefully actually have it done in a few days\n",
      "our inventory package isn't completed\n",
      "but if you have an inventory package\n",
      "I know a web interface for GNUe Forms is in the works, but I'm sure you need something relatively quickly\n",
      "madlocke was working on that, but as you probably know, he's been out of commission (sick) lately\n",
      "a new release (feature wise) is probably about 3 or 4 weeks away since the db upgrade is going to be huge\n",
      "I may make an interim bug fix/small feature release to get some of the email support down\n",
      "but we are seeing a GREAT value in DCL as a communication tool to customers\n",
      "as well as a billing tool\n",
      "the todo tool works fine\n",
      "but the communication tool is flawed\n",
      "if the accounts dont have same products\n",
      "it should be fairly easy to implement who can view what\n",
      "by product\n",
      "but then the next step becomes billing (or services)\n",
      "at which point products and services need to be 'separate'\n",
      "but that was because i didnt see dcl as a communications tool\n",
      "your use of services sounds like it could be an action\n",
      "as I said, I am going to be working on this stuff (minus billing) for work, so it will come\n"
     ]
    }
   ],
   "source": [
    "for log_id in log_ids_for_false_negatives:\n",
    "    print(get_words_at_line_number(word_indexes, log_id))"
   ]
  },
  {
   "cell_type": "markdown",
   "metadata": {},
   "source": [
    "#### Merged Model predictions"
   ]
  },
  {
   "cell_type": "code",
   "execution_count": 390,
   "metadata": {},
   "outputs": [],
   "source": [
    "merged_test_y_predictions = merged_model.predict([test_X, test_features_X])\n",
    "merged_validation_y_predictions = merged_model.predict([validation_X, validation_features_X])\n",
    "\n",
    "merged_test_y_argmax = np.argmax(test_y,axis=1)\n",
    "merged_validation_y_argmax = np.argmax(validation_y,axis=1)\n",
    "\n",
    "merged_test_y_predictions_argmax = np.argmax(merged_test_y_predictions[1], axis=1)\n",
    "merged_validation_y_predictions_argmax = np.argmax(merged_validation_y_predictions[1], axis=1)"
   ]
  },
  {
   "cell_type": "code",
   "execution_count": 391,
   "metadata": {},
   "outputs": [
    {
     "name": "stdout",
     "output_type": "stream",
     "text": [
      "[0 0 0 0 0 0 0 0 0 0 0 0 0 0 0 0 0 0 1 0 0 0 0 0 0 0 0 0 0 0 0 0 0 0 0 0 0\n",
      " 0 1 1 0 0 1 0 0 0 0 0 0 0 0 0 0 0 0 0 0 0 0 0 0 0 0 0 0 0 0 0 0 0 0 1 0 0\n",
      " 0 0 0 0 0 0 0 0 0 0 0 0 0 0 1 0 1 0 0 0 0 0 0 0 0 0]\n",
      "[0 0 0 0 0 0 0 1 1 1 0 0 0 0 0 0 0 0 0 0 0 0 0 0 0 0 0 0 0 0 0 0 0 0 0 0 0\n",
      " 0 0 0 0 0 0 0 0 0 0 0 0 0 0 0 0 0 0 0 0 0 0 0 0 0 0 0 0 0 0 0 0 0 0 0 0 0\n",
      " 0 0 0 0 0 0 0 0 0 0 0 0 0 0 1 1 1 0 0 0 0 0 0 0 1 0]\n"
     ]
    }
   ],
   "source": [
    "print(merged_test_y_predictions_argmax[:100])\n",
    "# print(merged_test_y_predictions[0])\n",
    "print(merged_test_y_argmax[:100])"
   ]
  },
  {
   "cell_type": "code",
   "execution_count": 392,
   "metadata": {},
   "outputs": [
    {
     "name": "stdout",
     "output_type": "stream",
     "text": [
      "              precision    recall  f1-score   support\n",
      "\n",
      "           0       0.96      0.94      0.95       619\n",
      "           1       0.12      0.17      0.14        29\n",
      "\n",
      "   micro avg       0.91      0.91      0.91       648\n",
      "   macro avg       0.54      0.56      0.55       648\n",
      "weighted avg       0.92      0.91      0.92       648\n",
      "\n",
      "[[584  35]\n",
      " [ 24   5]]\n"
     ]
    }
   ],
   "source": [
    "print(classification_report(merged_test_y_argmax, merged_test_y_predictions_argmax))\n",
    "print(confusion_matrix(merged_test_y_argmax, merged_test_y_predictions_argmax))"
   ]
  },
  {
   "cell_type": "code",
   "execution_count": 393,
   "metadata": {},
   "outputs": [
    {
     "name": "stdout",
     "output_type": "stream",
     "text": [
      "              precision    recall  f1-score   support\n",
      "\n",
      "           0       0.97      0.94      0.96      3872\n",
      "           1       0.04      0.08      0.05       116\n",
      "\n",
      "   micro avg       0.92      0.92      0.92      3988\n",
      "   macro avg       0.50      0.51      0.50      3988\n",
      "weighted avg       0.94      0.92      0.93      3988\n",
      "\n",
      "[[3642  230]\n",
      " [ 107    9]]\n"
     ]
    }
   ],
   "source": [
    "print(classification_report(merged_validation_y_argmax, merged_validation_y_predictions_argmax))\n",
    "print(confusion_matrix(merged_validation_y_argmax, merged_validation_y_predictions_argmax))"
   ]
  },
  {
   "cell_type": "code",
   "execution_count": 3,
   "metadata": {},
   "outputs": [],
   "source": [
    "data = [\"I love machine learning. Its awesome.\",\n",
    "        \"I love coding in python\",\n",
    "        \"I love building chatbots\",\n",
    "        \"they chat amagingly well\"]"
   ]
  },
  {
   "cell_type": "code",
   "execution_count": 97,
   "metadata": {},
   "outputs": [
    {
     "data": {
      "text/plain": [
       "['great']"
      ]
     },
     "execution_count": 97,
     "metadata": {},
     "output_type": "execute_result"
    }
   ],
   "source": [
    "word_tokenize(chat_logs[0].lower())"
   ]
  },
  {
   "cell_type": "code",
   "execution_count": null,
   "metadata": {},
   "outputs": [],
   "source": []
  },
  {
   "cell_type": "code",
   "execution_count": 96,
   "metadata": {},
   "outputs": [],
   "source": [
    "tagged_data = [TaggedDocument(words=word_tokenize(_d.lower()), tags=[str(i)]) for i, _d in enumerate(chat_logs)]"
   ]
  },
  {
   "cell_type": "code",
   "execution_count": 101,
   "metadata": {},
   "outputs": [],
   "source": [
    "# max_epochs = 100\n",
    "epochs = 40\n",
    "vec_size = 20\n",
    "alpha = 0.025\n",
    "min_alpha = 0.00025\n",
    "min_count = 2\n",
    "\n",
    "# d2v_model = Doc2Vec(\n",
    "#     size=vec_size,\n",
    "#     alpha=alpha, \n",
    "#     min_alpha=min_alpha,\n",
    "#     min_count=1,\n",
    "#     dm =1\n",
    "# )\n",
    "\n",
    "d2v_model = Doc2Vec(vector_size=vec_size, min_count=min_count, epochs=epochs)"
   ]
  },
  {
   "cell_type": "code",
   "execution_count": 102,
   "metadata": {},
   "outputs": [],
   "source": [
    "d2v_model.build_vocab(tagged_data)"
   ]
  },
  {
   "cell_type": "code",
   "execution_count": 103,
   "metadata": {},
   "outputs": [
    {
     "name": "stdout",
     "output_type": "stream",
     "text": [
      "CPU times: user 27.5 s, sys: 8.59 s, total: 36.1 s\n",
      "Wall time: 25.5 s\n"
     ]
    }
   ],
   "source": [
    "%time d2v_model.train(tagged_data, total_examples=d2v_model.corpus_count, epochs=d2v_model.epochs)"
   ]
  },
  {
   "cell_type": "code",
   "execution_count": null,
   "metadata": {},
   "outputs": [],
   "source": []
  },
  {
   "cell_type": "code",
   "execution_count": 104,
   "metadata": {},
   "outputs": [],
   "source": [
    "# for epoch in range(1, max_epochs + 1):\n",
    "#     if epoch % 10 == 0:\n",
    "#         print('iteration {0}'.format(epoch))\n",
    "#     d2v_model.train(tagged_data,\n",
    "#                 total_examples=d2v_model.corpus_count,\n",
    "#                 epochs=d2v_model.epochs)\n",
    "#     # decrease the learning rate\n",
    "#     d2v_model.alpha -= 0.0002\n",
    "#     # fix the learning rate, no decay\n",
    "#     d2v_model.min_alpha = d2v_model.alpha"
   ]
  },
  {
   "cell_type": "code",
   "execution_count": 105,
   "metadata": {},
   "outputs": [],
   "source": [
    "d2v_model_filename = join(DATA_FILES_DIR, \"doc2vec_model_10e\")\n",
    "d2v_model.save(d2v_model_filename)"
   ]
  },
  {
   "cell_type": "code",
   "execution_count": 106,
   "metadata": {},
   "outputs": [],
   "source": [
    "loaded_d2v_model= Doc2Vec.load(d2v_model_filename)"
   ]
  },
  {
   "cell_type": "code",
   "execution_count": 113,
   "metadata": {},
   "outputs": [
    {
     "name": "stdout",
     "output_type": "stream",
     "text": [
      "V1_infer [-0.01366701 -0.02549269  0.05739471  0.0522558  -0.04657764  0.02803853\n",
      " -0.02799745  0.06102591 -0.00764901 -0.01200486 -0.03226999 -0.0479882\n",
      " -0.00444868 -0.08236206 -0.02488584  0.03369953 -0.01224146  0.01957402\n",
      " -0.00447059 -0.02264629]\n"
     ]
    }
   ],
   "source": [
    "test_data = word_tokenize(\"great\".lower())\n",
    "v1 = loaded_d2v_model.infer_vector(test_data, steps=epochs, alpha=alpha, min_alpha=min_alpha)\n",
    "print(\"V1_infer\", v1)"
   ]
  },
  {
   "cell_type": "code",
   "execution_count": 114,
   "metadata": {},
   "outputs": [
    {
     "name": "stdout",
     "output_type": "stream",
     "text": [
      "[('17774', 0.8790661692619324), ('2020', 0.8772040605545044), ('8091', 0.8742135763168335), ('5032', 0.8663190603256226), ('14376', 0.8627078533172607), ('17677', 0.8586421012878418), ('1800', 0.8579913377761841), ('15340', 0.8560564517974854), ('4970', 0.8550747632980347), ('12065', 0.8510655164718628)]\n"
     ]
    }
   ],
   "source": [
    "# to find most similar doc using tags\n",
    "similar_doc = loaded_d2v_model.docvecs.most_similar(positive=[v1])\n",
    "print(similar_doc)"
   ]
  },
  {
   "cell_type": "code",
   "execution_count": 88,
   "metadata": {},
   "outputs": [
    {
     "name": "stdout",
     "output_type": "stream",
     "text": [
      "[-0.02454001 -0.03144716 -0.02665585 -0.03217845 -0.03651904  0.02073577\n",
      "  0.02193299 -0.001555   -0.00052284 -0.004239    0.01394437 -0.00971698\n",
      "  0.00216964  0.00106866 -0.0232363   0.0085037  -0.00322458  0.01272531\n",
      "  0.00839755 -0.02420341]\n"
     ]
    }
   ],
   "source": [
    "# to find vector of doc in training data using tags or in other words, \n",
    "# printing the vector of document at index 1 in training data\n",
    "vec_1 = loaded_d2v_model.docvecs['1']\n",
    "print(vec_1)"
   ]
  },
  {
   "cell_type": "code",
   "execution_count": 112,
   "metadata": {},
   "outputs": [
    {
     "data": {
      "text/plain": [
       "'great\\n'"
      ]
     },
     "execution_count": 112,
     "metadata": {},
     "output_type": "execute_result"
    }
   ],
   "source": [
    "chat_logs[0]"
   ]
  },
  {
   "cell_type": "code",
   "execution_count": null,
   "metadata": {},
   "outputs": [],
   "source": []
  }
 ],
 "metadata": {
  "kernelspec": {
   "display_name": "Python 3",
   "language": "python",
   "name": "python3"
  },
  "language_info": {
   "codemirror_mode": {
    "name": "ipython",
    "version": 3
   },
   "file_extension": ".py",
   "mimetype": "text/x-python",
   "name": "python",
   "nbconvert_exporter": "python",
   "pygments_lexer": "ipython3",
   "version": "3.6.8"
  }
 },
 "nbformat": 4,
 "nbformat_minor": 2
}
