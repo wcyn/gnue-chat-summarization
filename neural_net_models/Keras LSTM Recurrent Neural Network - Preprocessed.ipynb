{
 "cells": [
  {
   "cell_type": "markdown",
   "metadata": {
    "pycharm": {}
   },
   "source": [
    "## Using Keras for Word Embedding as well as the LSTM\n",
    "\n",
    "https://towardsdatascience.com/recurrent-neural-networks-by-example-in-python-ffd204f99470\n",
    "\n",
    "https://machinelearningmastery.com/sequence-classification-lstm-recurrent-neural-networks-python-keras/\n",
    "\n",
    "https://keras.io/getting-started/functional-api-guide/"
   ]
  },
  {
   "cell_type": "code",
   "execution_count": 1,
   "metadata": {
    "pycharm": {
     "is_executing": false
    }
   },
   "outputs": [
    {
     "name": "stderr",
     "output_type": "stream",
     "text": [
      "Using TensorFlow backend.\n"
     ]
    }
   ],
   "source": [
    "from numpy.random import seed\n",
    "seed(1)\n",
    "from tensorflow import set_random_seed\n",
    "set_random_seed(1)\n",
    "import json\n",
    "import keras\n",
    "import matplotlib.pyplot as plt\n",
    "import numpy as np\n",
    "import os\n",
    "import sys\n",
    "import time\n",
    "sys.path.append(\"..\")\n",
    "\n",
    "from app.services.data_preparation import get_processed_data_sets_for_model, DATA_FILES_DIR\n",
    "from app.services.model_helper import TIME_OFFSET, ModelHelper\n",
    "from app.services import keras_lstm_features\n",
    "\n",
    "from app.services.sentence_tokenizer import get_chat_log_sequences_and_chat_logs, MAX_CHAT_LENGTH, TOP_WORDS\n",
    "from keras.callbacks import ModelCheckpoint\n",
    "from keras.layers import Bidirectional, Dense, Dropout, Input, LSTM, TimeDistributed, LeakyReLU\n",
    "from keras.layers.embeddings import Embedding\n",
    "from keras.models import Sequential, Model, load_model\n",
    "from sklearn.metrics import classification_report, confusion_matrix\n",
    "from sklearn.utils import class_weight\n",
    "from os.path import join"
   ]
  },
  {
   "cell_type": "code",
   "execution_count": 2,
   "metadata": {
    "pycharm": {
     "is_executing": false
    }
   },
   "outputs": [],
   "source": [
    "processed_data, data_type_log_ids, train_validation_and_test_dates = get_processed_data_sets_for_model(\n",
    "    include_word_sequences=True,\n",
    "    sequence_size=73\n",
    ")"
   ]
  },
  {
   "cell_type": "code",
   "execution_count": 3,
   "metadata": {
    "pycharm": {
     "is_executing": false
    }
   },
   "outputs": [
    {
     "name": "stdout",
     "output_type": "stream",
     "text": [
      "<class 'numpy.ndarray'>\n"
     ]
    }
   ],
   "source": [
    "print(type(processed_data[\"validation_features_X\"].tail().values))"
   ]
  },
  {
   "cell_type": "code",
   "execution_count": 4,
   "metadata": {},
   "outputs": [
    {
     "data": {
      "text/plain": [
       "dict_keys(['test_y', 'validation_features_X', 'train_y', 'test_features_X', 'train_features_X', 'validation_y', 'train_sequences_X', 'train_chat_logs', 'validation_sequences_X', 'validation_chat_logs', 'test_sequences_X', 'test_chat_logs'])"
      ]
     },
     "execution_count": 4,
     "metadata": {},
     "output_type": "execute_result"
    }
   ],
   "source": [
    "processed_data.keys()"
   ]
  },
  {
   "cell_type": "code",
   "execution_count": 5,
   "metadata": {},
   "outputs": [],
   "source": [
    "(\n",
    "    train_sentence_vectors, \n",
    "    validation_sentence_vectors, \n",
    "    test_sentence_vectors\n",
    ") = keras_lstm_features.load_sentence_vectors()"
   ]
  },
  {
   "cell_type": "code",
   "execution_count": 6,
   "metadata": {},
   "outputs": [],
   "source": [
    "# train_sentence_vectors[0]"
   ]
  },
  {
   "cell_type": "code",
   "execution_count": 7,
   "metadata": {
    "pycharm": {
     "is_executing": false
    }
   },
   "outputs": [
    {
     "name": "stdout",
     "output_type": "stream",
     "text": [
      "       absolute_sentence_position  sentence_length  number_of_special_terms  \\\n",
      "13728                    0.992537         0.082192                 0.027027   \n",
      "13729                    0.994403         0.000000                 0.000000   \n",
      "13730                    0.996269         0.438356                 0.027027   \n",
      "13731                    0.998134         0.027397                 0.027027   \n",
      "13732                    1.000000         0.041096                 0.000000   \n",
      "\n",
      "       sentiment_score  normalized_mean_tf_idf  normalized_mean_tf_isf  \n",
      "13728         0.680659                0.007117                0.100894  \n",
      "13729         0.481478                0.000000                0.000000  \n",
      "13730         0.714451                0.006696                0.017713  \n",
      "13731         0.481478                0.004437                0.322041  \n",
      "13732         0.000000                0.004600                0.209270  \n",
      "(3405, 6)\n"
     ]
    },
    {
     "data": {
      "text/html": [
       "<div>\n",
       "<style scoped>\n",
       "    .dataframe tbody tr th:only-of-type {\n",
       "        vertical-align: middle;\n",
       "    }\n",
       "\n",
       "    .dataframe tbody tr th {\n",
       "        vertical-align: top;\n",
       "    }\n",
       "\n",
       "    .dataframe thead th {\n",
       "        text-align: right;\n",
       "    }\n",
       "</style>\n",
       "<table border=\"1\" class=\"dataframe\">\n",
       "  <thead>\n",
       "    <tr style=\"text-align: right;\">\n",
       "      <th></th>\n",
       "      <th>absolute_sentence_position</th>\n",
       "      <th>sentence_length</th>\n",
       "      <th>number_of_special_terms</th>\n",
       "      <th>sentiment_score</th>\n",
       "      <th>normalized_mean_tf_idf</th>\n",
       "      <th>normalized_mean_tf_isf</th>\n",
       "    </tr>\n",
       "  </thead>\n",
       "  <tbody>\n",
       "    <tr>\n",
       "      <th>0</th>\n",
       "      <td>0.001182</td>\n",
       "      <td>0.028169</td>\n",
       "      <td>0.142857</td>\n",
       "      <td>0.000000</td>\n",
       "      <td>0.005692</td>\n",
       "      <td>0.368636</td>\n",
       "    </tr>\n",
       "    <tr>\n",
       "      <th>1</th>\n",
       "      <td>0.002364</td>\n",
       "      <td>0.084507</td>\n",
       "      <td>0.285714</td>\n",
       "      <td>0.000000</td>\n",
       "      <td>0.007438</td>\n",
       "      <td>0.114519</td>\n",
       "    </tr>\n",
       "    <tr>\n",
       "      <th>2</th>\n",
       "      <td>0.003546</td>\n",
       "      <td>0.028169</td>\n",
       "      <td>0.000000</td>\n",
       "      <td>0.000000</td>\n",
       "      <td>0.006591</td>\n",
       "      <td>0.260825</td>\n",
       "    </tr>\n",
       "    <tr>\n",
       "      <th>3</th>\n",
       "      <td>0.004728</td>\n",
       "      <td>0.098592</td>\n",
       "      <td>0.000000</td>\n",
       "      <td>0.000000</td>\n",
       "      <td>0.011325</td>\n",
       "      <td>0.086599</td>\n",
       "    </tr>\n",
       "    <tr>\n",
       "      <th>4</th>\n",
       "      <td>0.005910</td>\n",
       "      <td>0.014085</td>\n",
       "      <td>0.000000</td>\n",
       "      <td>0.160904</td>\n",
       "      <td>0.006633</td>\n",
       "      <td>0.665037</td>\n",
       "    </tr>\n",
       "  </tbody>\n",
       "</table>\n",
       "</div>"
      ],
      "text/plain": [
       "   absolute_sentence_position  sentence_length  number_of_special_terms  \\\n",
       "0                    0.001182         0.028169                 0.142857   \n",
       "1                    0.002364         0.084507                 0.285714   \n",
       "2                    0.003546         0.028169                 0.000000   \n",
       "3                    0.004728         0.098592                 0.000000   \n",
       "4                    0.005910         0.014085                 0.000000   \n",
       "\n",
       "   sentiment_score  normalized_mean_tf_idf  normalized_mean_tf_isf  \n",
       "0         0.000000                0.005692                0.368636  \n",
       "1         0.000000                0.007438                0.114519  \n",
       "2         0.000000                0.006591                0.260825  \n",
       "3         0.000000                0.011325                0.086599  \n",
       "4         0.160904                0.006633                0.665037  "
      ]
     },
     "execution_count": 7,
     "metadata": {},
     "output_type": "execute_result"
    }
   ],
   "source": [
    "train_features_X = processed_data[\"train_features_X\"]\n",
    "validation_features_X = processed_data[\"validation_features_X\"]\n",
    "test_features_X = processed_data[\"test_features_X\"]\n",
    "print(train_features_X.tail())\n",
    "\n",
    "assert train_features_X.shape[1] == test_features_X.shape[1] \n",
    "assert test_features_X.shape[1] == validation_features_X.shape[1] \n",
    "print(test_features_X.shape)\n",
    "test_features_X[:5]"
   ]
  },
  {
   "cell_type": "code",
   "execution_count": 8,
   "metadata": {
    "pycharm": {
     "is_executing": false
    }
   },
   "outputs": [
    {
     "name": "stdout",
     "output_type": "stream",
     "text": [
      "(13733, 73)\n",
      "(3405, 73)\n",
      "[[   0    0    0    0    0    0    0    0    0    0    0    0    0    0\n",
      "     0    0    0    0    0    0    0    0    0    0    0    0    0    0\n",
      "     0    0    0    0    0    0    0    0    0    0    0    0    0    0\n",
      "     0    0    0    0    0    0    0    0    0    0    0    0    0    0\n",
      "     0    0    0    0    0    4 1359   18  108   15    3 4900  918   12\n",
      "   115  786   14]]\n",
      "3405\n"
     ]
    },
    {
     "data": {
      "text/plain": [
       "['hey reinhard\\n', 'did jonas ever hack on GNUe?\\n']"
      ]
     },
     "execution_count": 8,
     "metadata": {},
     "output_type": "execute_result"
    }
   ],
   "source": [
    "train_sequences_X, train_chat_logs = (processed_data[\"train_sequences_X\"], processed_data[\"train_chat_logs\"])\n",
    "validation_sequences_X, validation_chat_logs = (processed_data[\"validation_sequences_X\"], \n",
    "                                                processed_data[\"validation_chat_logs\"])\n",
    "test_sequences_X, test_chat_logs = (processed_data[\"test_sequences_X\"], processed_data[\"test_chat_logs\"])\n",
    "print(train_sequences_X.shape)\n",
    "print(test_sequences_X.shape)\n",
    "print(train_sequences_X[:1])\n",
    "print(len(test_sequences_X))\n",
    "test_chat_logs[:2]\n"
   ]
  },
  {
   "cell_type": "code",
   "execution_count": 9,
   "metadata": {
    "pycharm": {
     "is_executing": false
    }
   },
   "outputs": [
    {
     "name": "stdout",
     "output_type": "stream",
     "text": [
      "(3405, 2)\n"
     ]
    },
    {
     "data": {
      "text/plain": [
       "array([[1., 0.],\n",
       "       [1., 0.],\n",
       "       [1., 0.],\n",
       "       ...,\n",
       "       [1., 0.],\n",
       "       [1., 0.],\n",
       "       [1., 0.]], dtype=float32)"
      ]
     },
     "execution_count": 9,
     "metadata": {},
     "output_type": "execute_result"
    }
   ],
   "source": [
    "train_y = processed_data[\"train_y\"]\n",
    "validation_y = processed_data[\"validation_y\"]\n",
    "test_y = processed_data[\"test_y\"]\n",
    "print(test_y.shape)\n",
    "test_y"
   ]
  },
  {
   "cell_type": "code",
   "execution_count": 10,
   "metadata": {
    "pycharm": {
     "is_executing": false
    }
   },
   "outputs": [
    {
     "data": {
      "text/plain": [
       "[144080, 144081, 144082, 144083, 144084]"
      ]
     },
     "execution_count": 10,
     "metadata": {},
     "output_type": "execute_result"
    }
   ],
   "source": [
    "data_type_log_ids[\"test\"][:5]"
   ]
  },
  {
   "cell_type": "code",
   "execution_count": 11,
   "metadata": {},
   "outputs": [
    {
     "data": {
      "text/plain": [
       "array([[1., 0.],\n",
       "       [1., 0.],\n",
       "       [1., 0.],\n",
       "       ...,\n",
       "       [1., 0.],\n",
       "       [1., 0.],\n",
       "       [1., 0.]], dtype=float32)"
      ]
     },
     "execution_count": 11,
     "metadata": {},
     "output_type": "execute_result"
    }
   ],
   "source": [
    "train_y"
   ]
  },
  {
   "cell_type": "code",
   "execution_count": 12,
   "metadata": {},
   "outputs": [
    {
     "data": {
      "text/plain": [
       "array([0, 1])"
      ]
     },
     "execution_count": 12,
     "metadata": {},
     "output_type": "execute_result"
    }
   ],
   "source": [
    "train_y_labels = [0 if list(label) == [1, 0] else 1 for label in train_y]\n",
    "train_y_labels[60: 80]\n",
    "np.unique(train_y_labels)\n",
    "# j = [1,0]\n",
    "# j == [1,0]\n",
    "# list(train_y[0])"
   ]
  },
  {
   "cell_type": "code",
   "execution_count": 13,
   "metadata": {},
   "outputs": [],
   "source": [
    "model_helper = ModelHelper()"
   ]
  },
  {
   "cell_type": "code",
   "execution_count": 10,
   "metadata": {
    "pycharm": {
     "is_executing": false
    }
   },
   "outputs": [
    {
     "name": "stdout",
     "output_type": "stream",
     "text": [
      "WARNING:tensorflow:From /Users/wcyn/anaconda3/envs/gnue-irc/lib/python3.6/site-packages/tensorflow/python/framework/op_def_library.py:263: colocate_with (from tensorflow.python.framework.ops) is deprecated and will be removed in a future version.\n",
      "Instructions for updating:\n",
      "Colocations handled automatically by placer.\n"
     ]
    }
   ],
   "source": [
    "# Sentence input: meant to receive sequences of `max_chat_length` integers, between 1 and `top_words`.\n",
    "main_sentence_input = Input(shape=(MAX_CHAT_LENGTH,), dtype='int32', name='main_sentence_input')\n",
    "\n",
    "# This embedding layer will encode the input sequence\n",
    "# into a sequence of dense 512-dimensional vectors.\n",
    "x = Embedding(output_dim=512, input_dim=TOP_WORDS, input_length=MAX_CHAT_LENGTH)(main_sentence_input)\n",
    "\n",
    "# An LSTM will transform the vector sequence into a single vector,\n",
    "# containing information about the entire sequence\n",
    "lstm_out = LSTM(32)(x)"
   ]
  },
  {
   "cell_type": "code",
   "execution_count": 11,
   "metadata": {},
   "outputs": [
    {
     "data": {
      "text/plain": [
       "array([ 0.51756237, 14.73497854])"
      ]
     },
     "execution_count": 11,
     "metadata": {},
     "output_type": "execute_result"
    }
   ],
   "source": [
    "class_weights = class_weight.compute_class_weight(\n",
    "    'balanced',\n",
    "    np.unique(train_y_labels),\n",
    "    train_y_labels\n",
    ")\n",
    "class_weights"
   ]
  },
  {
   "cell_type": "code",
   "execution_count": 19,
   "metadata": {
    "pycharm": {
     "is_executing": false
    }
   },
   "outputs": [],
   "source": [
    "EPOCHS = 500\n",
    "BATCH_SIZE = 64\n",
    "OPTIMIZER = \"adam\"\n",
    "OUTPUT_ACTIVATION = \"sigmoid\"\n",
    "# Here we insert the auxiliary loss, allowing the LSTM and Embedding layer \n",
    "# to be trained smoothly even though the main loss will be much higher in the model.\n",
    "auxiliary_output = Dense(2, activation=OUTPUT_ACTIVATION, name='aux_output')(lstm_out)\n",
    "\n",
    "# At this point, we feed into the model our auxiliary input data by \n",
    "# concatenating it with the LSTM output\n",
    "num_of_feature_columns = test_features_X.shape[1]\n",
    "sentence_features_input = Input(shape=(num_of_feature_columns,), name='sentence_features_input')\n",
    "merged_input_and_output = keras.layers.concatenate([lstm_out, sentence_features_input])\n",
    "\n",
    "# We stack a deep densely-connected network on top\n",
    "x = Dense(64, activation='relu')(merged_input_and_output)\n",
    "x = Dense(64, activation='relu')(x)\n",
    "x = Dense(64, activation='relu')(x)\n",
    "\n",
    "# And finally we add the main logistic regression layer\n",
    "main_output = Dense(2, activation=OUTPUT_ACTIVATION, name='main_output')(x)"
   ]
  },
  {
   "cell_type": "code",
   "execution_count": 20,
   "metadata": {
    "pycharm": {
     "is_executing": false
    }
   },
   "outputs": [],
   "source": [
    "# Define a model with two inputs and two outputs\n",
    "merged_model = Model(\n",
    "    inputs=[main_sentence_input, sentence_features_input], \n",
    "    outputs=[main_output, auxiliary_output]\n",
    ")"
   ]
  },
  {
   "cell_type": "code",
   "execution_count": 11,
   "metadata": {},
   "outputs": [
    {
     "ename": "NameError",
     "evalue": "name 'EPOCHS' is not defined",
     "output_type": "error",
     "traceback": [
      "\u001b[0;31m---------------------------------------------------------------------------\u001b[0m",
      "\u001b[0;31mNameError\u001b[0m                                 Traceback (most recent call last)",
      "\u001b[0;32m<ipython-input-11-20ab9904ef36>\u001b[0m in \u001b[0;36m<module>\u001b[0;34m\u001b[0m\n\u001b[1;32m      1\u001b[0m checkpointer, checkpoints_dir = (\n\u001b[0;32m----> 2\u001b[0;31m     \u001b[0mmodel_helper\u001b[0m\u001b[0;34m.\u001b[0m\u001b[0mfetch_checkpointer\u001b[0m\u001b[0;34m(\u001b[0m\u001b[0mEPOCHS\u001b[0m\u001b[0;34m,\u001b[0m \u001b[0mBATCH_SIZE\u001b[0m\u001b[0;34m,\u001b[0m \u001b[0mOPTIMIZER\u001b[0m\u001b[0;34m)\u001b[0m\u001b[0;34m,\u001b[0m\u001b[0;34m\u001b[0m\u001b[0;34m\u001b[0m\u001b[0m\n\u001b[0m\u001b[1;32m      3\u001b[0m     \u001b[0mmodel_helper\u001b[0m\u001b[0;34m.\u001b[0m\u001b[0mcheckpoints_dir\u001b[0m\u001b[0;34m\u001b[0m\u001b[0;34m\u001b[0m\u001b[0m\n\u001b[1;32m      4\u001b[0m )\n",
      "\u001b[0;31mNameError\u001b[0m: name 'EPOCHS' is not defined"
     ]
    }
   ],
   "source": [
    "checkpointer, checkpoints_dir = (\n",
    "    model_helper.fetch_checkpointer(EPOCHS, BATCH_SIZE, OPTIMIZER),\n",
    "    model_helper.checkpoints_dir\n",
    ")"
   ]
  },
  {
   "cell_type": "code",
   "execution_count": null,
   "metadata": {},
   "outputs": [],
   "source": [
    "checkpoints_dir"
   ]
  },
  {
   "cell_type": "markdown",
   "metadata": {
    "pycharm": {}
   },
   "source": [
    "We compile the model and assign a weight of 0.2 to the auxiliary loss. To specify different loss_weights or loss for each different output, you can use a list or a dictionary. Here we pass a single loss as the loss argument, so the same loss will be used on all outputs."
   ]
  },
  {
   "cell_type": "code",
   "execution_count": 31,
   "metadata": {
    "pycharm": {
     "is_executing": false
    }
   },
   "outputs": [
    {
     "name": "stdout",
     "output_type": "stream",
     "text": [
      "__________________________________________________________________________________________________\n",
      "Layer (type)                    Output Shape         Param #     Connected to                     \n",
      "==================================================================================================\n",
      "main_sentence_input (InputLayer (None, 100)          0                                            \n",
      "__________________________________________________________________________________________________\n",
      "embedding_1 (Embedding)         (None, 100, 512)     5120000     main_sentence_input[0][0]        \n",
      "__________________________________________________________________________________________________\n",
      "lstm_1 (LSTM)                   (None, 32)           69760       embedding_1[0][0]                \n",
      "__________________________________________________________________________________________________\n",
      "sentence_features_input (InputL (None, 6)            0                                            \n",
      "__________________________________________________________________________________________________\n",
      "concatenate_2 (Concatenate)     (None, 38)           0           lstm_1[0][0]                     \n",
      "                                                                 sentence_features_input[0][0]    \n",
      "__________________________________________________________________________________________________\n",
      "dense_4 (Dense)                 (None, 64)           2496        concatenate_2[0][0]              \n",
      "__________________________________________________________________________________________________\n",
      "dense_5 (Dense)                 (None, 64)           4160        dense_4[0][0]                    \n",
      "__________________________________________________________________________________________________\n",
      "dense_6 (Dense)                 (None, 64)           4160        dense_5[0][0]                    \n",
      "__________________________________________________________________________________________________\n",
      "main_output (Dense)             (None, 2)            130         dense_6[0][0]                    \n",
      "__________________________________________________________________________________________________\n",
      "aux_output (Dense)              (None, 2)            66          lstm_1[0][0]                     \n",
      "==================================================================================================\n",
      "Total params: 5,200,772\n",
      "Trainable params: 5,200,772\n",
      "Non-trainable params: 0\n",
      "__________________________________________________________________________________________________\n"
     ]
    }
   ],
   "source": [
    "merged_model.compile(\n",
    "    optimizer=OPTIMIZER, \n",
    "    #optimizer=\"adam\",\n",
    "    loss='categorical_crossentropy',\n",
    "    loss_weights=[.9, 0.7],\n",
    "    #sample_weight_mode=\"temporal\"\n",
    ")\n",
    "merged_model.summary()"
   ]
  },
  {
   "cell_type": "code",
   "execution_count": 32,
   "metadata": {
    "pycharm": {}
   },
   "outputs": [
    {
     "name": "stdout",
     "output_type": "stream",
     "text": [
      "Train on 13733 samples, validate on 3577 samples\n",
      "Epoch 1/500\n",
      "13733/13733 [==============================] - 46s 3ms/step - loss: 0.0251 - main_output_loss: 0.0153 - aux_output_loss: 0.0162 - val_loss: 0.5367 - val_main_output_loss: 0.3882 - val_aux_output_loss: 0.2676\n",
      "Epoch 2/500\n",
      "13733/13733 [==============================] - 45s 3ms/step - loss: 0.0157 - main_output_loss: 0.0090 - aux_output_loss: 0.0109 - val_loss: 0.5271 - val_main_output_loss: 0.3773 - val_aux_output_loss: 0.2678\n",
      "Epoch 3/500\n",
      "13733/13733 [==============================] - 41s 3ms/step - loss: 0.0130 - main_output_loss: 0.0080 - aux_output_loss: 0.0083 - val_loss: 0.7509 - val_main_output_loss: 0.5900 - val_aux_output_loss: 0.3142\n",
      "Epoch 4/500\n",
      "13733/13733 [==============================] - 41s 3ms/step - loss: 0.0096 - main_output_loss: 0.0055 - aux_output_loss: 0.0066 - val_loss: 0.6541 - val_main_output_loss: 0.5112 - val_aux_output_loss: 0.2772\n",
      "\n",
      "Epoch 00004: saving model to ../feature_extraction/data_files/1157354_checkpoints_hybrid_500e_64b_adam/model-04.hdf5\n",
      "Epoch 5/500\n",
      "13733/13733 [==============================] - 41s 3ms/step - loss: 0.0115 - main_output_loss: 0.0069 - aux_output_loss: 0.0075 - val_loss: 0.5986 - val_main_output_loss: 0.4425 - val_aux_output_loss: 0.2862\n",
      "Epoch 6/500\n",
      "13733/13733 [==============================] - 40s 3ms/step - loss: 0.0079 - main_output_loss: 0.0047 - aux_output_loss: 0.0054 - val_loss: 0.8236 - val_main_output_loss: 0.6541 - val_aux_output_loss: 0.3356\n",
      "Epoch 7/500\n",
      "13733/13733 [==============================] - 41s 3ms/step - loss: 0.0074 - main_output_loss: 0.0044 - aux_output_loss: 0.0050 - val_loss: 0.9177 - val_main_output_loss: 0.7399 - val_aux_output_loss: 0.3597\n",
      "Epoch 8/500\n",
      "13733/13733 [==============================] - 40s 3ms/step - loss: 0.0063 - main_output_loss: 0.0036 - aux_output_loss: 0.0044 - val_loss: 0.8455 - val_main_output_loss: 0.6608 - val_aux_output_loss: 0.3583\n",
      "Epoch 9/500\n",
      "13733/13733 [==============================] - 41s 3ms/step - loss: 0.0065 - main_output_loss: 0.0038 - aux_output_loss: 0.0044 - val_loss: 1.1053 - val_main_output_loss: 0.9251 - val_aux_output_loss: 0.3896\n",
      "Epoch 10/500\n",
      "13733/13733 [==============================] - 41s 3ms/step - loss: 0.0063 - main_output_loss: 0.0038 - aux_output_loss: 0.0041 - val_loss: 0.9760 - val_main_output_loss: 0.7949 - val_aux_output_loss: 0.3723\n",
      "Epoch 11/500\n",
      "13733/13733 [==============================] - 40s 3ms/step - loss: 0.0060 - main_output_loss: 0.0036 - aux_output_loss: 0.0039 - val_loss: 1.1042 - val_main_output_loss: 0.9306 - val_aux_output_loss: 0.3810\n",
      "Epoch 12/500\n",
      "13733/13733 [==============================] - 41s 3ms/step - loss: 0.0060 - main_output_loss: 0.0037 - aux_output_loss: 0.0039 - val_loss: 1.1440 - val_main_output_loss: 0.9498 - val_aux_output_loss: 0.4130\n",
      "Epoch 13/500\n",
      "13733/13733 [==============================] - 41s 3ms/step - loss: 0.0060 - main_output_loss: 0.0037 - aux_output_loss: 0.0038 - val_loss: 1.2754 - val_main_output_loss: 1.0700 - val_aux_output_loss: 0.4462\n",
      "Epoch 14/500\n",
      "13733/13733 [==============================] - 41s 3ms/step - loss: 0.0058 - main_output_loss: 0.0035 - aux_output_loss: 0.0038 - val_loss: 1.1133 - val_main_output_loss: 0.9116 - val_aux_output_loss: 0.4184\n",
      "\n",
      "Epoch 00014: saving model to ../feature_extraction/data_files/1157354_checkpoints_hybrid_500e_64b_adam/model-14.hdf5\n",
      "Epoch 15/500\n",
      "13733/13733 [==============================] - 41s 3ms/step - loss: 0.0057 - main_output_loss: 0.0035 - aux_output_loss: 0.0037 - val_loss: 1.2227 - val_main_output_loss: 1.0201 - val_aux_output_loss: 0.4352\n",
      "Epoch 16/500\n",
      "13733/13733 [==============================] - 41s 3ms/step - loss: 0.0056 - main_output_loss: 0.0034 - aux_output_loss: 0.0036 - val_loss: 1.2231 - val_main_output_loss: 1.0184 - val_aux_output_loss: 0.4379\n",
      "Epoch 17/500\n",
      "13733/13733 [==============================] - 41s 3ms/step - loss: 0.0057 - main_output_loss: 0.0035 - aux_output_loss: 0.0036 - val_loss: 1.3268 - val_main_output_loss: 1.1221 - val_aux_output_loss: 0.4527\n",
      "Epoch 18/500\n",
      "13733/13733 [==============================] - 39s 3ms/step - loss: 0.0056 - main_output_loss: 0.0035 - aux_output_loss: 0.0036 - val_loss: 1.2366 - val_main_output_loss: 1.0312 - val_aux_output_loss: 0.4407\n",
      "Epoch 19/500\n",
      "13733/13733 [==============================] - 41s 3ms/step - loss: 0.0055 - main_output_loss: 0.0034 - aux_output_loss: 0.0036 - val_loss: 1.3062 - val_main_output_loss: 1.0966 - val_aux_output_loss: 0.4561\n",
      "Epoch 20/500\n",
      "13733/13733 [==============================] - 42s 3ms/step - loss: 0.0055 - main_output_loss: 0.0033 - aux_output_loss: 0.0036 - val_loss: 1.3789 - val_main_output_loss: 1.1640 - val_aux_output_loss: 0.4733\n",
      "Epoch 21/500\n",
      "13733/13733 [==============================] - 40s 3ms/step - loss: 0.0059 - main_output_loss: 0.0037 - aux_output_loss: 0.0037 - val_loss: 1.2615 - val_main_output_loss: 1.0374 - val_aux_output_loss: 0.4683\n",
      "Epoch 22/500\n",
      "13733/13733 [==============================] - 40s 3ms/step - loss: 0.0055 - main_output_loss: 0.0034 - aux_output_loss: 0.0035 - val_loss: 1.4101 - val_main_output_loss: 1.1935 - val_aux_output_loss: 0.4800\n",
      "Epoch 23/500\n",
      "13733/13733 [==============================] - 41s 3ms/step - loss: 0.0056 - main_output_loss: 0.0035 - aux_output_loss: 0.0035 - val_loss: 1.7218 - val_main_output_loss: 1.4404 - val_aux_output_loss: 0.6078\n",
      "Epoch 24/500\n",
      "13733/13733 [==============================] - 41s 3ms/step - loss: 0.0217 - main_output_loss: 0.0150 - aux_output_loss: 0.0117 - val_loss: 0.5608 - val_main_output_loss: 0.3359 - val_aux_output_loss: 0.3693\n",
      "\n",
      "Epoch 00024: saving model to ../feature_extraction/data_files/1157354_checkpoints_hybrid_500e_64b_adam/model-24.hdf5\n",
      "Epoch 25/500\n",
      "13733/13733 [==============================] - 41s 3ms/step - loss: 0.0117 - main_output_loss: 0.0075 - aux_output_loss: 0.0071 - val_loss: 0.6795 - val_main_output_loss: 0.4237 - val_aux_output_loss: 0.4259\n",
      "Epoch 26/500\n",
      "13733/13733 [==============================] - 41s 3ms/step - loss: 0.0063 - main_output_loss: 0.0037 - aux_output_loss: 0.0043 - val_loss: 0.6904 - val_main_output_loss: 0.5112 - val_aux_output_loss: 0.3290\n",
      "Epoch 27/500\n",
      "13733/13733 [==============================] - 41s 3ms/step - loss: 0.0067 - main_output_loss: 0.0042 - aux_output_loss: 0.0041 - val_loss: 0.6390 - val_main_output_loss: 0.4307 - val_aux_output_loss: 0.3590\n",
      "Epoch 28/500\n",
      "13733/13733 [==============================] - 40s 3ms/step - loss: 0.0055 - main_output_loss: 0.0034 - aux_output_loss: 0.0036 - val_loss: 0.6831 - val_main_output_loss: 0.4866 - val_aux_output_loss: 0.3502\n",
      "Epoch 29/500\n",
      "13733/13733 [==============================] - 41s 3ms/step - loss: 0.0054 - main_output_loss: 0.0033 - aux_output_loss: 0.0035 - val_loss: 0.6973 - val_main_output_loss: 0.4953 - val_aux_output_loss: 0.3593\n",
      "Epoch 30/500\n",
      "13733/13733 [==============================] - 41s 3ms/step - loss: 0.0054 - main_output_loss: 0.0033 - aux_output_loss: 0.0034 - val_loss: 0.7253 - val_main_output_loss: 0.5168 - val_aux_output_loss: 0.3716\n",
      "Epoch 31/500\n",
      "13733/13733 [==============================] - 42s 3ms/step - loss: 0.0053 - main_output_loss: 0.0033 - aux_output_loss: 0.0034 - val_loss: 0.7386 - val_main_output_loss: 0.5258 - val_aux_output_loss: 0.3791\n",
      "Epoch 32/500\n",
      "13733/13733 [==============================] - 41s 3ms/step - loss: 0.0052 - main_output_loss: 0.0032 - aux_output_loss: 0.0033 - val_loss: 0.7193 - val_main_output_loss: 0.5001 - val_aux_output_loss: 0.3845\n",
      "Epoch 33/500\n",
      "13733/13733 [==============================] - 40s 3ms/step - loss: 0.0054 - main_output_loss: 0.0033 - aux_output_loss: 0.0034 - val_loss: 0.7524 - val_main_output_loss: 0.5274 - val_aux_output_loss: 0.3968\n",
      "Epoch 34/500\n",
      "13733/13733 [==============================] - 41s 3ms/step - loss: 0.0054 - main_output_loss: 0.0033 - aux_output_loss: 0.0034 - val_loss: 0.7641 - val_main_output_loss: 0.5378 - val_aux_output_loss: 0.4002\n",
      "\n",
      "Epoch 00034: saving model to ../feature_extraction/data_files/1157354_checkpoints_hybrid_500e_64b_adam/model-34.hdf5\n",
      "Epoch 35/500\n",
      "13733/13733 [==============================] - 41s 3ms/step - loss: 0.0053 - main_output_loss: 0.0033 - aux_output_loss: 0.0034 - val_loss: 0.7889 - val_main_output_loss: 0.5580 - val_aux_output_loss: 0.4096\n"
     ]
    },
    {
     "name": "stdout",
     "output_type": "stream",
     "text": [
      "Epoch 36/500\n",
      "13733/13733 [==============================] - 40s 3ms/step - loss: 0.0054 - main_output_loss: 0.0034 - aux_output_loss: 0.0034 - val_loss: 0.7966 - val_main_output_loss: 0.5653 - val_aux_output_loss: 0.4113\n",
      "Epoch 37/500\n",
      "13733/13733 [==============================] - 41s 3ms/step - loss: 0.0054 - main_output_loss: 0.0033 - aux_output_loss: 0.0034 - val_loss: 0.8180 - val_main_output_loss: 0.5846 - val_aux_output_loss: 0.4169\n",
      "Epoch 38/500\n",
      "13733/13733 [==============================] - 41s 3ms/step - loss: 0.0053 - main_output_loss: 0.0033 - aux_output_loss: 0.0033 - val_loss: 0.8197 - val_main_output_loss: 0.5833 - val_aux_output_loss: 0.4210\n",
      "Epoch 39/500\n",
      "13733/13733 [==============================] - 41s 3ms/step - loss: 0.0052 - main_output_loss: 0.0032 - aux_output_loss: 0.0033 - val_loss: 0.8201 - val_main_output_loss: 0.5829 - val_aux_output_loss: 0.4222\n",
      "Epoch 40/500\n",
      "13733/13733 [==============================] - 42s 3ms/step - loss: 0.0054 - main_output_loss: 0.0033 - aux_output_loss: 0.0034 - val_loss: 0.8369 - val_main_output_loss: 0.5987 - val_aux_output_loss: 0.4258\n",
      "Epoch 41/500\n",
      "13733/13733 [==============================] - 41s 3ms/step - loss: 0.0053 - main_output_loss: 0.0033 - aux_output_loss: 0.0034 - val_loss: 0.8502 - val_main_output_loss: 0.6078 - val_aux_output_loss: 0.4332\n",
      "Epoch 42/500\n",
      "13733/13733 [==============================] - 41s 3ms/step - loss: 0.0052 - main_output_loss: 0.0032 - aux_output_loss: 0.0033 - val_loss: 0.8884 - val_main_output_loss: 0.6448 - val_aux_output_loss: 0.4401\n",
      "Epoch 43/500\n",
      "13733/13733 [==============================] - 41s 3ms/step - loss: 0.0053 - main_output_loss: 0.0033 - aux_output_loss: 0.0033 - val_loss: 0.8860 - val_main_output_loss: 0.6432 - val_aux_output_loss: 0.4388\n",
      "Epoch 44/500\n",
      "13733/13733 [==============================] - 40s 3ms/step - loss: 0.0052 - main_output_loss: 0.0033 - aux_output_loss: 0.0033 - val_loss: 0.9363 - val_main_output_loss: 0.6815 - val_aux_output_loss: 0.4613\n",
      "\n",
      "Epoch 00044: saving model to ../feature_extraction/data_files/1157354_checkpoints_hybrid_500e_64b_adam/model-44.hdf5\n",
      "Epoch 45/500\n",
      "13733/13733 [==============================] - 40s 3ms/step - loss: 0.0053 - main_output_loss: 0.0033 - aux_output_loss: 0.0033 - val_loss: 0.8705 - val_main_output_loss: 0.6166 - val_aux_output_loss: 0.4508\n",
      "Epoch 46/500\n",
      "13733/13733 [==============================] - 41s 3ms/step - loss: 0.0052 - main_output_loss: 0.0032 - aux_output_loss: 0.0033 - val_loss: 0.9293 - val_main_output_loss: 0.6682 - val_aux_output_loss: 0.4685\n",
      "Epoch 47/500\n",
      "13733/13733 [==============================] - 41s 3ms/step - loss: 0.0052 - main_output_loss: 0.0033 - aux_output_loss: 0.0033 - val_loss: 0.8844 - val_main_output_loss: 0.6297 - val_aux_output_loss: 0.4538\n",
      "Epoch 48/500\n",
      "13733/13733 [==============================] - 41s 3ms/step - loss: 0.0055 - main_output_loss: 0.0034 - aux_output_loss: 0.0035 - val_loss: 0.9137 - val_main_output_loss: 0.6534 - val_aux_output_loss: 0.4652\n",
      "Epoch 49/500\n",
      "13733/13733 [==============================] - 40s 3ms/step - loss: 0.0051 - main_output_loss: 0.0032 - aux_output_loss: 0.0032 - val_loss: 0.8879 - val_main_output_loss: 0.6229 - val_aux_output_loss: 0.4675\n",
      "Epoch 50/500\n",
      "13733/13733 [==============================] - 40s 3ms/step - loss: 0.0053 - main_output_loss: 0.0033 - aux_output_loss: 0.0033 - val_loss: 0.9152 - val_main_output_loss: 0.6537 - val_aux_output_loss: 0.4670\n",
      "Epoch 51/500\n",
      "13733/13733 [==============================] - 40s 3ms/step - loss: 0.0053 - main_output_loss: 0.0033 - aux_output_loss: 0.0033 - val_loss: 0.9387 - val_main_output_loss: 0.6775 - val_aux_output_loss: 0.4700\n",
      "Epoch 52/500\n",
      "13733/13733 [==============================] - 41s 3ms/step - loss: 0.0051 - main_output_loss: 0.0032 - aux_output_loss: 0.0033 - val_loss: 0.9117 - val_main_output_loss: 0.6512 - val_aux_output_loss: 0.4651\n",
      "Epoch 53/500\n",
      "13733/13733 [==============================] - 40s 3ms/step - loss: 0.0054 - main_output_loss: 0.0034 - aux_output_loss: 0.0033 - val_loss: 0.9608 - val_main_output_loss: 0.6983 - val_aux_output_loss: 0.4748\n",
      "Epoch 54/500\n",
      "13733/13733 [==============================] - 40s 3ms/step - loss: 0.0052 - main_output_loss: 0.0032 - aux_output_loss: 0.0032 - val_loss: 0.9328 - val_main_output_loss: 0.6685 - val_aux_output_loss: 0.4730\n",
      "\n",
      "Epoch 00054: saving model to ../feature_extraction/data_files/1157354_checkpoints_hybrid_500e_64b_adam/model-54.hdf5\n",
      "Epoch 55/500\n",
      "13733/13733 [==============================] - 40s 3ms/step - loss: 0.0052 - main_output_loss: 0.0033 - aux_output_loss: 0.0033 - val_loss: 0.9532 - val_main_output_loss: 0.6826 - val_aux_output_loss: 0.4842\n",
      "Epoch 56/500\n",
      "13733/13733 [==============================] - 38s 3ms/step - loss: 0.0052 - main_output_loss: 0.0033 - aux_output_loss: 0.0032 - val_loss: 1.0014 - val_main_output_loss: 0.7353 - val_aux_output_loss: 0.4852\n",
      "Epoch 57/500\n",
      "13733/13733 [==============================] - 41s 3ms/step - loss: 0.0052 - main_output_loss: 0.0032 - aux_output_loss: 0.0033 - val_loss: 1.0124 - val_main_output_loss: 0.7473 - val_aux_output_loss: 0.4856\n",
      "Epoch 58/500\n",
      "13733/13733 [==============================] - 40s 3ms/step - loss: 0.0051 - main_output_loss: 0.0032 - aux_output_loss: 0.0032 - val_loss: 1.0288 - val_main_output_loss: 0.7631 - val_aux_output_loss: 0.4886\n",
      "Epoch 59/500\n",
      "13733/13733 [==============================] - 39s 3ms/step - loss: 0.0051 - main_output_loss: 0.0032 - aux_output_loss: 0.0032 - val_loss: 1.0200 - val_main_output_loss: 0.7482 - val_aux_output_loss: 0.4952\n",
      "Epoch 60/500\n",
      "13733/13733 [==============================] - 41s 3ms/step - loss: 0.0051 - main_output_loss: 0.0032 - aux_output_loss: 0.0033 - val_loss: 1.0144 - val_main_output_loss: 0.7390 - val_aux_output_loss: 0.4990\n",
      "Epoch 61/500\n",
      "13733/13733 [==============================] - 41s 3ms/step - loss: 0.0051 - main_output_loss: 0.0032 - aux_output_loss: 0.0032 - val_loss: 0.9842 - val_main_output_loss: 0.7076 - val_aux_output_loss: 0.4961\n",
      "Epoch 62/500\n",
      "13733/13733 [==============================] - 41s 3ms/step - loss: 0.0051 - main_output_loss: 0.0032 - aux_output_loss: 0.0032 - val_loss: 1.0350 - val_main_output_loss: 0.7456 - val_aux_output_loss: 0.5199\n",
      "Epoch 63/500\n",
      "13733/13733 [==============================] - 40s 3ms/step - loss: 0.0051 - main_output_loss: 0.0032 - aux_output_loss: 0.0032 - val_loss: 1.0455 - val_main_output_loss: 0.7573 - val_aux_output_loss: 0.5198\n",
      "Epoch 64/500\n",
      "13733/13733 [==============================] - 40s 3ms/step - loss: 0.0051 - main_output_loss: 0.0031 - aux_output_loss: 0.0032 - val_loss: 1.0406 - val_main_output_loss: 0.7478 - val_aux_output_loss: 0.5250\n",
      "\n",
      "Epoch 00064: saving model to ../feature_extraction/data_files/1157354_checkpoints_hybrid_500e_64b_adam/model-64.hdf5\n",
      "Epoch 65/500\n",
      "13733/13733 [==============================] - 39s 3ms/step - loss: 0.0051 - main_output_loss: 0.0032 - aux_output_loss: 0.0032 - val_loss: 1.0466 - val_main_output_loss: 0.7569 - val_aux_output_loss: 0.5220\n",
      "Epoch 66/500\n",
      "13733/13733 [==============================] - 41s 3ms/step - loss: 0.0050 - main_output_loss: 0.0031 - aux_output_loss: 0.0032 - val_loss: 1.0728 - val_main_output_loss: 0.7655 - val_aux_output_loss: 0.5483\n",
      "Epoch 67/500\n",
      "13733/13733 [==============================] - 40s 3ms/step - loss: 0.0051 - main_output_loss: 0.0032 - aux_output_loss: 0.0032 - val_loss: 1.0569 - val_main_output_loss: 0.7637 - val_aux_output_loss: 0.5279\n",
      "Epoch 68/500\n",
      "13733/13733 [==============================] - 40s 3ms/step - loss: 0.0050 - main_output_loss: 0.0031 - aux_output_loss: 0.0032 - val_loss: 1.0175 - val_main_output_loss: 0.7151 - val_aux_output_loss: 0.5342\n",
      "Epoch 69/500\n",
      "13733/13733 [==============================] - 40s 3ms/step - loss: 0.0051 - main_output_loss: 0.0032 - aux_output_loss: 0.0032 - val_loss: 1.0972 - val_main_output_loss: 0.7906 - val_aux_output_loss: 0.5511\n",
      "Epoch 70/500\n",
      "13733/13733 [==============================] - 40s 3ms/step - loss: 0.0052 - main_output_loss: 0.0033 - aux_output_loss: 0.0032 - val_loss: 1.0284 - val_main_output_loss: 0.7332 - val_aux_output_loss: 0.5264\n",
      "Epoch 71/500\n",
      "13733/13733 [==============================] - 41s 3ms/step - loss: 0.0052 - main_output_loss: 0.0033 - aux_output_loss: 0.0032 - val_loss: 1.0795 - val_main_output_loss: 0.7744 - val_aux_output_loss: 0.5465\n",
      "Epoch 72/500\n",
      "13733/13733 [==============================] - 41s 3ms/step - loss: 0.0050 - main_output_loss: 0.0031 - aux_output_loss: 0.0032 - val_loss: 1.0498 - val_main_output_loss: 0.7521 - val_aux_output_loss: 0.5328\n",
      "Epoch 73/500\n",
      "13733/13733 [==============================] - 40s 3ms/step - loss: 0.0051 - main_output_loss: 0.0032 - aux_output_loss: 0.0032 - val_loss: 1.0499 - val_main_output_loss: 0.7476 - val_aux_output_loss: 0.5387\n",
      "Epoch 74/500\n",
      "13733/13733 [==============================] - 40s 3ms/step - loss: 0.0050 - main_output_loss: 0.0031 - aux_output_loss: 0.0032 - val_loss: 1.0469 - val_main_output_loss: 0.7321 - val_aux_output_loss: 0.5543\n",
      "\n",
      "Epoch 00074: saving model to ../feature_extraction/data_files/1157354_checkpoints_hybrid_500e_64b_adam/model-74.hdf5\n",
      "Epoch 75/500\n",
      "13733/13733 [==============================] - 41s 3ms/step - loss: 0.0050 - main_output_loss: 0.0031 - aux_output_loss: 0.0032 - val_loss: 1.1119 - val_main_output_loss: 0.8024 - val_aux_output_loss: 0.5568\n",
      "Epoch 76/500\n",
      "13733/13733 [==============================] - 41s 3ms/step - loss: 0.0050 - main_output_loss: 0.0031 - aux_output_loss: 0.0032 - val_loss: 1.1027 - val_main_output_loss: 0.7790 - val_aux_output_loss: 0.5738\n",
      "Epoch 77/500\n",
      "13733/13733 [==============================] - 41s 3ms/step - loss: 0.0050 - main_output_loss: 0.0031 - aux_output_loss: 0.0031 - val_loss: 1.1399 - val_main_output_loss: 0.8251 - val_aux_output_loss: 0.5676\n",
      "Epoch 78/500\n",
      "13733/13733 [==============================] - 40s 3ms/step - loss: 0.0050 - main_output_loss: 0.0030 - aux_output_loss: 0.0032 - val_loss: 1.0755 - val_main_output_loss: 0.7539 - val_aux_output_loss: 0.5672\n",
      "Epoch 79/500\n",
      "13733/13733 [==============================] - 40s 3ms/step - loss: 0.0049 - main_output_loss: 0.0030 - aux_output_loss: 0.0032 - val_loss: 1.0430 - val_main_output_loss: 0.7179 - val_aux_output_loss: 0.5671\n",
      "Epoch 80/500\n",
      "13733/13733 [==============================] - 39s 3ms/step - loss: 0.0050 - main_output_loss: 0.0031 - aux_output_loss: 0.0031 - val_loss: 0.9626 - val_main_output_loss: 0.6589 - val_aux_output_loss: 0.5280\n",
      "Epoch 81/500\n",
      "13733/13733 [==============================] - 40s 3ms/step - loss: 0.0050 - main_output_loss: 0.0031 - aux_output_loss: 0.0032 - val_loss: 1.2536 - val_main_output_loss: 0.9652 - val_aux_output_loss: 0.5500\n",
      "Epoch 82/500\n",
      "13733/13733 [==============================] - 41s 3ms/step - loss: 0.0164 - main_output_loss: 0.0121 - aux_output_loss: 0.0079 - val_loss: 0.7344 - val_main_output_loss: 0.4604 - val_aux_output_loss: 0.4571\n",
      "Epoch 83/500\n",
      "13733/13733 [==============================] - 40s 3ms/step - loss: 0.0147 - main_output_loss: 0.0094 - aux_output_loss: 0.0089 - val_loss: 0.5526 - val_main_output_loss: 0.3138 - val_aux_output_loss: 0.3859\n",
      "Epoch 84/500\n",
      "13733/13733 [==============================] - 40s 3ms/step - loss: 0.0080 - main_output_loss: 0.0051 - aux_output_loss: 0.0049 - val_loss: 0.7057 - val_main_output_loss: 0.4586 - val_aux_output_loss: 0.4185\n",
      "\n",
      "Epoch 00084: saving model to ../feature_extraction/data_files/1157354_checkpoints_hybrid_500e_64b_adam/model-84.hdf5\n",
      "Epoch 85/500\n",
      "13733/13733 [==============================] - 40s 3ms/step - loss: 0.0056 - main_output_loss: 0.0035 - aux_output_loss: 0.0036 - val_loss: 0.7142 - val_main_output_loss: 0.4832 - val_aux_output_loss: 0.3989\n",
      "Epoch 86/500\n",
      "13733/13733 [==============================] - 41s 3ms/step - loss: 0.0050 - main_output_loss: 0.0030 - aux_output_loss: 0.0032 - val_loss: 0.7363 - val_main_output_loss: 0.5017 - val_aux_output_loss: 0.4068\n",
      "Epoch 87/500\n",
      "13733/13733 [==============================] - 41s 3ms/step - loss: 0.0049 - main_output_loss: 0.0030 - aux_output_loss: 0.0032 - val_loss: 0.7551 - val_main_output_loss: 0.5153 - val_aux_output_loss: 0.4162\n",
      "Epoch 88/500\n",
      "13733/13733 [==============================] - 40s 3ms/step - loss: 0.0048 - main_output_loss: 0.0029 - aux_output_loss: 0.0032 - val_loss: 0.7679 - val_main_output_loss: 0.5237 - val_aux_output_loss: 0.4236\n",
      "Epoch 89/500\n",
      "13733/13733 [==============================] - 39s 3ms/step - loss: 0.0049 - main_output_loss: 0.0030 - aux_output_loss: 0.0032 - val_loss: 0.7935 - val_main_output_loss: 0.5455 - val_aux_output_loss: 0.4322\n",
      "Epoch 90/500\n",
      "13733/13733 [==============================] - 41s 3ms/step - loss: 0.0049 - main_output_loss: 0.0029 - aux_output_loss: 0.0032 - val_loss: 0.8088 - val_main_output_loss: 0.5565 - val_aux_output_loss: 0.4399\n",
      "Epoch 91/500\n",
      "13733/13733 [==============================] - 41s 3ms/step - loss: 0.0048 - main_output_loss: 0.0029 - aux_output_loss: 0.0032 - val_loss: 0.8169 - val_main_output_loss: 0.5611 - val_aux_output_loss: 0.4456\n",
      "Epoch 92/500\n",
      "13733/13733 [==============================] - 41s 3ms/step - loss: 0.0049 - main_output_loss: 0.0030 - aux_output_loss: 0.0032 - val_loss: 0.8339 - val_main_output_loss: 0.5737 - val_aux_output_loss: 0.4537\n",
      "Epoch 93/500\n",
      "13733/13733 [==============================] - 40s 3ms/step - loss: 0.0048 - main_output_loss: 0.0029 - aux_output_loss: 0.0032 - val_loss: 0.8444 - val_main_output_loss: 0.5815 - val_aux_output_loss: 0.4585\n",
      "Epoch 94/500\n",
      "13733/13733 [==============================] - 40s 3ms/step - loss: 0.0048 - main_output_loss: 0.0029 - aux_output_loss: 0.0032 - val_loss: 0.8595 - val_main_output_loss: 0.5941 - val_aux_output_loss: 0.4641\n",
      "\n",
      "Epoch 00094: saving model to ../feature_extraction/data_files/1157354_checkpoints_hybrid_500e_64b_adam/model-94.hdf5\n",
      "Epoch 95/500\n",
      "13733/13733 [==============================] - 38s 3ms/step - loss: 0.0047 - main_output_loss: 0.0028 - aux_output_loss: 0.0031 - val_loss: 0.8621 - val_main_output_loss: 0.5927 - val_aux_output_loss: 0.4695\n",
      "Epoch 96/500\n",
      "13733/13733 [==============================] - 40s 3ms/step - loss: 0.0049 - main_output_loss: 0.0029 - aux_output_loss: 0.0032 - val_loss: 0.8845 - val_main_output_loss: 0.6116 - val_aux_output_loss: 0.4771\n",
      "Epoch 97/500\n",
      "13733/13733 [==============================] - 41s 3ms/step - loss: 0.0048 - main_output_loss: 0.0029 - aux_output_loss: 0.0032 - val_loss: 0.8896 - val_main_output_loss: 0.6142 - val_aux_output_loss: 0.4812\n",
      "Epoch 98/500\n",
      "13733/13733 [==============================] - 41s 3ms/step - loss: 0.0048 - main_output_loss: 0.0029 - aux_output_loss: 0.0031 - val_loss: 0.9001 - val_main_output_loss: 0.6215 - val_aux_output_loss: 0.4869\n",
      "Epoch 99/500\n",
      "13733/13733 [==============================] - 41s 3ms/step - loss: 0.0048 - main_output_loss: 0.0029 - aux_output_loss: 0.0032 - val_loss: 0.9108 - val_main_output_loss: 0.6322 - val_aux_output_loss: 0.4883\n",
      "Epoch 100/500\n",
      "13733/13733 [==============================] - 41s 3ms/step - loss: 0.0048 - main_output_loss: 0.0029 - aux_output_loss: 0.0032 - val_loss: 0.9128 - val_main_output_loss: 0.6313 - val_aux_output_loss: 0.4923\n",
      "Epoch 101/500\n",
      "13733/13733 [==============================] - 40s 3ms/step - loss: 0.0048 - main_output_loss: 0.0029 - aux_output_loss: 0.0031 - val_loss: 0.9282 - val_main_output_loss: 0.6439 - val_aux_output_loss: 0.4981\n",
      "Epoch 102/500\n",
      "13733/13733 [==============================] - 41s 3ms/step - loss: 0.0049 - main_output_loss: 0.0029 - aux_output_loss: 0.0032 - val_loss: 0.9400 - val_main_output_loss: 0.6485 - val_aux_output_loss: 0.5090\n",
      "Epoch 103/500\n",
      "13733/13733 [==============================] - 40s 3ms/step - loss: 0.0048 - main_output_loss: 0.0029 - aux_output_loss: 0.0031 - val_loss: 0.9430 - val_main_output_loss: 0.6505 - val_aux_output_loss: 0.5108\n",
      "Epoch 104/500\n",
      "13733/13733 [==============================] - 41s 3ms/step - loss: 0.0048 - main_output_loss: 0.0029 - aux_output_loss: 0.0032 - val_loss: 0.9670 - val_main_output_loss: 0.6701 - val_aux_output_loss: 0.5200\n",
      "\n",
      "Epoch 00104: saving model to ../feature_extraction/data_files/1157354_checkpoints_hybrid_500e_64b_adam/model-104.hdf5\n",
      "Epoch 105/500\n",
      "13733/13733 [==============================] - 41s 3ms/step - loss: 0.0048 - main_output_loss: 0.0029 - aux_output_loss: 0.0031 - val_loss: 0.9708 - val_main_output_loss: 0.6719 - val_aux_output_loss: 0.5230\n"
     ]
    },
    {
     "name": "stdout",
     "output_type": "stream",
     "text": [
      "Epoch 106/500\n",
      "13733/13733 [==============================] - 41s 3ms/step - loss: 0.0047 - main_output_loss: 0.0028 - aux_output_loss: 0.0031 - val_loss: 0.9755 - val_main_output_loss: 0.6733 - val_aux_output_loss: 0.5278\n",
      "Epoch 107/500\n",
      "13733/13733 [==============================] - 40s 3ms/step - loss: 0.0048 - main_output_loss: 0.0029 - aux_output_loss: 0.0031 - val_loss: 0.9810 - val_main_output_loss: 0.6802 - val_aux_output_loss: 0.5269\n",
      "Epoch 108/500\n",
      "13733/13733 [==============================] - 40s 3ms/step - loss: 0.0048 - main_output_loss: 0.0029 - aux_output_loss: 0.0032 - val_loss: 0.9974 - val_main_output_loss: 0.6954 - val_aux_output_loss: 0.5308\n",
      "Epoch 109/500\n",
      "13733/13733 [==============================] - 41s 3ms/step - loss: 0.0049 - main_output_loss: 0.0030 - aux_output_loss: 0.0032 - val_loss: 1.0264 - val_main_output_loss: 0.7147 - val_aux_output_loss: 0.5474\n",
      "Epoch 110/500\n",
      "13733/13733 [==============================] - 41s 3ms/step - loss: 0.0048 - main_output_loss: 0.0029 - aux_output_loss: 0.0032 - val_loss: 1.0275 - val_main_output_loss: 0.7190 - val_aux_output_loss: 0.5434\n",
      "Epoch 111/500\n",
      "13733/13733 [==============================] - 40s 3ms/step - loss: 0.0048 - main_output_loss: 0.0028 - aux_output_loss: 0.0031 - val_loss: 1.0453 - val_main_output_loss: 0.7355 - val_aux_output_loss: 0.5476\n",
      "Epoch 112/500\n",
      "13733/13733 [==============================] - 40s 3ms/step - loss: 0.0048 - main_output_loss: 0.0029 - aux_output_loss: 0.0031 - val_loss: 1.0390 - val_main_output_loss: 0.7272 - val_aux_output_loss: 0.5494\n",
      "Epoch 113/500\n",
      "13733/13733 [==============================] - 41s 3ms/step - loss: 0.0049 - main_output_loss: 0.0030 - aux_output_loss: 0.0032 - val_loss: 1.0608 - val_main_output_loss: 0.7445 - val_aux_output_loss: 0.5582\n",
      "Epoch 114/500\n",
      "13733/13733 [==============================] - 41s 3ms/step - loss: 0.0050 - main_output_loss: 0.0031 - aux_output_loss: 0.0031 - val_loss: 1.0483 - val_main_output_loss: 0.7259 - val_aux_output_loss: 0.5643\n",
      "\n",
      "Epoch 00114: saving model to ../feature_extraction/data_files/1157354_checkpoints_hybrid_500e_64b_adam/model-114.hdf5\n",
      "Epoch 115/500\n",
      "13733/13733 [==============================] - 41s 3ms/step - loss: 0.0050 - main_output_loss: 0.0030 - aux_output_loss: 0.0033 - val_loss: 1.0485 - val_main_output_loss: 0.7284 - val_aux_output_loss: 0.5613\n",
      "Epoch 116/500\n",
      "13733/13733 [==============================] - 40s 3ms/step - loss: 0.0048 - main_output_loss: 0.0029 - aux_output_loss: 0.0031 - val_loss: 1.0441 - val_main_output_loss: 0.7290 - val_aux_output_loss: 0.5544\n",
      "Epoch 117/500\n",
      "13733/13733 [==============================] - 40s 3ms/step - loss: 0.0048 - main_output_loss: 0.0029 - aux_output_loss: 0.0032 - val_loss: 1.0825 - val_main_output_loss: 0.7592 - val_aux_output_loss: 0.5704\n",
      "Epoch 118/500\n",
      "13733/13733 [==============================] - 40s 3ms/step - loss: 0.0048 - main_output_loss: 0.0029 - aux_output_loss: 0.0031 - val_loss: 1.1008 - val_main_output_loss: 0.7798 - val_aux_output_loss: 0.5700\n",
      "Epoch 119/500\n",
      "13733/13733 [==============================] - 40s 3ms/step - loss: 0.0048 - main_output_loss: 0.0029 - aux_output_loss: 0.0031 - val_loss: 1.0914 - val_main_output_loss: 0.7690 - val_aux_output_loss: 0.5704\n",
      "Epoch 120/500\n",
      "13733/13733 [==============================] - 41s 3ms/step - loss: 0.0048 - main_output_loss: 0.0029 - aux_output_loss: 0.0031 - val_loss: 1.1078 - val_main_output_loss: 0.7850 - val_aux_output_loss: 0.5732\n",
      "Epoch 121/500\n",
      "13733/13733 [==============================] - 41s 3ms/step - loss: 0.0049 - main_output_loss: 0.0030 - aux_output_loss: 0.0032 - val_loss: 1.1536 - val_main_output_loss: 0.8198 - val_aux_output_loss: 0.5939\n",
      "Epoch 122/500\n",
      "13733/13733 [==============================] - 41s 3ms/step - loss: 0.0048 - main_output_loss: 0.0029 - aux_output_loss: 0.0031 - val_loss: 1.1268 - val_main_output_loss: 0.7890 - val_aux_output_loss: 0.5953\n",
      "Epoch 123/500\n",
      "13733/13733 [==============================] - 41s 3ms/step - loss: 0.0048 - main_output_loss: 0.0029 - aux_output_loss: 0.0031 - val_loss: 1.1505 - val_main_output_loss: 0.7974 - val_aux_output_loss: 0.6185\n",
      "Epoch 124/500\n",
      "13733/13733 [==============================] - 40s 3ms/step - loss: 0.0048 - main_output_loss: 0.0028 - aux_output_loss: 0.0032 - val_loss: 1.0887 - val_main_output_loss: 0.7639 - val_aux_output_loss: 0.5732\n",
      "\n",
      "Epoch 00124: saving model to ../feature_extraction/data_files/1157354_checkpoints_hybrid_500e_64b_adam/model-124.hdf5\n",
      "Epoch 125/500\n",
      "13733/13733 [==============================] - 40s 3ms/step - loss: 0.0047 - main_output_loss: 0.0028 - aux_output_loss: 0.0031 - val_loss: 1.0983 - val_main_output_loss: 0.7720 - val_aux_output_loss: 0.5764\n",
      "Epoch 126/500\n",
      "13733/13733 [==============================] - 40s 3ms/step - loss: 0.0047 - main_output_loss: 0.0028 - aux_output_loss: 0.0031 - val_loss: 1.0563 - val_main_output_loss: 0.7271 - val_aux_output_loss: 0.5742\n",
      "Epoch 127/500\n",
      "13733/13733 [==============================] - 41s 3ms/step - loss: 0.0047 - main_output_loss: 0.0027 - aux_output_loss: 0.0031 - val_loss: 1.0667 - val_main_output_loss: 0.7322 - val_aux_output_loss: 0.5825\n",
      "Epoch 128/500\n",
      "13733/13733 [==============================] - 41s 3ms/step - loss: 0.0047 - main_output_loss: 0.0028 - aux_output_loss: 0.0031 - val_loss: 1.0586 - val_main_output_loss: 0.7227 - val_aux_output_loss: 0.5831\n",
      "Epoch 129/500\n",
      "13733/13733 [==============================] - 41s 3ms/step - loss: 0.0048 - main_output_loss: 0.0028 - aux_output_loss: 0.0032 - val_loss: 1.1330 - val_main_output_loss: 0.7955 - val_aux_output_loss: 0.5958\n",
      "Epoch 130/500\n",
      "13733/13733 [==============================] - 41s 3ms/step - loss: 0.0047 - main_output_loss: 0.0028 - aux_output_loss: 0.0031 - val_loss: 1.0917 - val_main_output_loss: 0.7535 - val_aux_output_loss: 0.5908\n",
      "Epoch 131/500\n",
      "13733/13733 [==============================] - 40s 3ms/step - loss: 0.0047 - main_output_loss: 0.0028 - aux_output_loss: 0.0031 - val_loss: 1.0954 - val_main_output_loss: 0.7488 - val_aux_output_loss: 0.6021\n",
      "Epoch 132/500\n",
      "13733/13733 [==============================] - 41s 3ms/step - loss: 0.0046 - main_output_loss: 0.0027 - aux_output_loss: 0.0031 - val_loss: 1.0748 - val_main_output_loss: 0.7219 - val_aux_output_loss: 0.6073\n",
      "Epoch 133/500\n",
      "13733/13733 [==============================] - 40s 3ms/step - loss: 0.0047 - main_output_loss: 0.0028 - aux_output_loss: 0.0031 - val_loss: 1.1118 - val_main_output_loss: 0.7582 - val_aux_output_loss: 0.6134\n",
      "Epoch 134/500\n",
      "13733/13733 [==============================] - 41s 3ms/step - loss: 0.0046 - main_output_loss: 0.0026 - aux_output_loss: 0.0031 - val_loss: 1.0827 - val_main_output_loss: 0.7231 - val_aux_output_loss: 0.6171\n",
      "\n",
      "Epoch 00134: saving model to ../feature_extraction/data_files/1157354_checkpoints_hybrid_500e_64b_adam/model-134.hdf5\n",
      "Epoch 135/500\n",
      "13733/13733 [==============================] - 40s 3ms/step - loss: 0.0047 - main_output_loss: 0.0028 - aux_output_loss: 0.0031 - val_loss: 1.2009 - val_main_output_loss: 0.8420 - val_aux_output_loss: 0.6330\n",
      "Epoch 136/500\n",
      "13733/13733 [==============================] - 40s 3ms/step - loss: 0.0047 - main_output_loss: 0.0027 - aux_output_loss: 0.0031 - val_loss: 1.2181 - val_main_output_loss: 0.8535 - val_aux_output_loss: 0.6427\n",
      "Epoch 137/500\n",
      "13733/13733 [==============================] - 40s 3ms/step - loss: 0.0045 - main_output_loss: 0.0026 - aux_output_loss: 0.0031 - val_loss: 1.1226 - val_main_output_loss: 0.7664 - val_aux_output_loss: 0.6184\n",
      "Epoch 138/500\n",
      "13733/13733 [==============================] - 40s 3ms/step - loss: 0.0047 - main_output_loss: 0.0028 - aux_output_loss: 0.0031 - val_loss: 1.1247 - val_main_output_loss: 0.7686 - val_aux_output_loss: 0.6186\n",
      "Epoch 139/500\n",
      "13733/13733 [==============================] - 41s 3ms/step - loss: 0.0046 - main_output_loss: 0.0027 - aux_output_loss: 0.0031 - val_loss: 1.1235 - val_main_output_loss: 0.7560 - val_aux_output_loss: 0.6330\n",
      "Epoch 140/500\n",
      "13733/13733 [==============================] - 41s 3ms/step - loss: 0.0046 - main_output_loss: 0.0027 - aux_output_loss: 0.0031 - val_loss: 1.0596 - val_main_output_loss: 0.7173 - val_aux_output_loss: 0.5915\n",
      "Epoch 141/500\n",
      "13733/13733 [==============================] - 41s 3ms/step - loss: 0.0048 - main_output_loss: 0.0029 - aux_output_loss: 0.0031 - val_loss: 1.1764 - val_main_output_loss: 0.8038 - val_aux_output_loss: 0.6471\n",
      "Epoch 142/500\n",
      "13733/13733 [==============================] - 41s 3ms/step - loss: 0.0047 - main_output_loss: 0.0028 - aux_output_loss: 0.0032 - val_loss: 1.0511 - val_main_output_loss: 0.6924 - val_aux_output_loss: 0.6114\n",
      "Epoch 143/500\n",
      "13733/13733 [==============================] - 40s 3ms/step - loss: 0.0085 - main_output_loss: 0.0066 - aux_output_loss: 0.0036 - val_loss: 0.7039 - val_main_output_loss: 0.4798 - val_aux_output_loss: 0.3886\n",
      "Epoch 144/500\n",
      "13733/13733 [==============================] - 40s 3ms/step - loss: 0.0180 - main_output_loss: 0.0115 - aux_output_loss: 0.0109 - val_loss: 0.8750 - val_main_output_loss: 0.5084 - val_aux_output_loss: 0.5964\n",
      "\n",
      "Epoch 00144: saving model to ../feature_extraction/data_files/1157354_checkpoints_hybrid_500e_64b_adam/model-144.hdf5\n",
      "Epoch 145/500\n",
      "13733/13733 [==============================] - 41s 3ms/step - loss: 0.0082 - main_output_loss: 0.0053 - aux_output_loss: 0.0049 - val_loss: 0.7721 - val_main_output_loss: 0.4508 - val_aux_output_loss: 0.5234\n",
      "Epoch 146/500\n",
      "13733/13733 [==============================] - 42s 3ms/step - loss: 0.0048 - main_output_loss: 0.0028 - aux_output_loss: 0.0032 - val_loss: 0.9268 - val_main_output_loss: 0.5934 - val_aux_output_loss: 0.5610\n",
      "Epoch 147/500\n",
      "13733/13733 [==============================] - 42s 3ms/step - loss: 0.0047 - main_output_loss: 0.0027 - aux_output_loss: 0.0032 - val_loss: 0.9370 - val_main_output_loss: 0.6122 - val_aux_output_loss: 0.5515\n",
      "Epoch 148/500\n",
      "13733/13733 [==============================] - 40s 3ms/step - loss: 0.0046 - main_output_loss: 0.0027 - aux_output_loss: 0.0031 - val_loss: 0.9549 - val_main_output_loss: 0.6350 - val_aux_output_loss: 0.5477\n",
      "Epoch 149/500\n",
      "13733/13733 [==============================] - 41s 3ms/step - loss: 0.0046 - main_output_loss: 0.0027 - aux_output_loss: 0.0031 - val_loss: 0.9670 - val_main_output_loss: 0.6489 - val_aux_output_loss: 0.5472\n",
      "Epoch 150/500\n",
      "13733/13733 [==============================] - 42s 3ms/step - loss: 0.0045 - main_output_loss: 0.0026 - aux_output_loss: 0.0031 - val_loss: 0.9786 - val_main_output_loss: 0.6635 - val_aux_output_loss: 0.5450\n",
      "Epoch 151/500\n",
      "13733/13733 [==============================] - 41s 3ms/step - loss: 0.0046 - main_output_loss: 0.0027 - aux_output_loss: 0.0031 - val_loss: 0.9901 - val_main_output_loss: 0.6755 - val_aux_output_loss: 0.5459\n",
      "Epoch 152/500\n",
      "13733/13733 [==============================] - 42s 3ms/step - loss: 0.0046 - main_output_loss: 0.0027 - aux_output_loss: 0.0031 - val_loss: 1.0025 - val_main_output_loss: 0.6884 - val_aux_output_loss: 0.5471\n",
      "Epoch 153/500\n",
      "13733/13733 [==============================] - 41s 3ms/step - loss: 0.0046 - main_output_loss: 0.0027 - aux_output_loss: 0.0031 - val_loss: 1.0140 - val_main_output_loss: 0.7015 - val_aux_output_loss: 0.5467\n",
      "Epoch 154/500\n",
      "13733/13733 [==============================] - 40s 3ms/step - loss: 0.0045 - main_output_loss: 0.0026 - aux_output_loss: 0.0031 - val_loss: 1.0228 - val_main_output_loss: 0.7116 - val_aux_output_loss: 0.5461\n",
      "\n",
      "Epoch 00154: saving model to ../feature_extraction/data_files/1157354_checkpoints_hybrid_500e_64b_adam/model-154.hdf5\n",
      "Epoch 155/500\n",
      "13733/13733 [==============================] - 41s 3ms/step - loss: 0.0047 - main_output_loss: 0.0027 - aux_output_loss: 0.0031 - val_loss: 1.0303 - val_main_output_loss: 0.7205 - val_aux_output_loss: 0.5455\n",
      "Epoch 156/500\n",
      "13733/13733 [==============================] - 42s 3ms/step - loss: 0.0046 - main_output_loss: 0.0026 - aux_output_loss: 0.0031 - val_loss: 1.0443 - val_main_output_loss: 0.7341 - val_aux_output_loss: 0.5480\n",
      "Epoch 157/500\n",
      "13733/13733 [==============================] - 42s 3ms/step - loss: 0.0045 - main_output_loss: 0.0026 - aux_output_loss: 0.0031 - val_loss: 1.0426 - val_main_output_loss: 0.7340 - val_aux_output_loss: 0.5457\n",
      "Epoch 158/500\n",
      "13733/13733 [==============================] - 42s 3ms/step - loss: 0.0046 - main_output_loss: 0.0027 - aux_output_loss: 0.0031 - val_loss: 1.0508 - val_main_output_loss: 0.7423 - val_aux_output_loss: 0.5467\n",
      "Epoch 159/500\n",
      "13733/13733 [==============================] - 40s 3ms/step - loss: 0.0046 - main_output_loss: 0.0027 - aux_output_loss: 0.0031 - val_loss: 1.0602 - val_main_output_loss: 0.7523 - val_aux_output_loss: 0.5473\n",
      "Epoch 160/500\n",
      "13733/13733 [==============================] - 41s 3ms/step - loss: 0.0045 - main_output_loss: 0.0026 - aux_output_loss: 0.0031 - val_loss: 1.0555 - val_main_output_loss: 0.7492 - val_aux_output_loss: 0.5447\n",
      "Epoch 161/500\n",
      "13733/13733 [==============================] - 41s 3ms/step - loss: 0.0046 - main_output_loss: 0.0027 - aux_output_loss: 0.0031 - val_loss: 1.0836 - val_main_output_loss: 0.7741 - val_aux_output_loss: 0.5528\n",
      "Epoch 162/500\n",
      "13733/13733 [==============================] - 42s 3ms/step - loss: 0.0046 - main_output_loss: 0.0027 - aux_output_loss: 0.0031 - val_loss: 1.0938 - val_main_output_loss: 0.7852 - val_aux_output_loss: 0.5531\n",
      "Epoch 163/500\n",
      "13733/13733 [==============================] - 42s 3ms/step - loss: 0.0046 - main_output_loss: 0.0027 - aux_output_loss: 0.0031 - val_loss: 1.0858 - val_main_output_loss: 0.7747 - val_aux_output_loss: 0.5550\n",
      "Epoch 164/500\n",
      "13733/13733 [==============================] - 41s 3ms/step - loss: 0.0045 - main_output_loss: 0.0026 - aux_output_loss: 0.0031 - val_loss: 1.0819 - val_main_output_loss: 0.7715 - val_aux_output_loss: 0.5536\n",
      "\n",
      "Epoch 00164: saving model to ../feature_extraction/data_files/1157354_checkpoints_hybrid_500e_64b_adam/model-164.hdf5\n",
      "Epoch 165/500\n",
      "13733/13733 [==============================] - 42s 3ms/step - loss: 0.0046 - main_output_loss: 0.0027 - aux_output_loss: 0.0031 - val_loss: 1.0907 - val_main_output_loss: 0.7794 - val_aux_output_loss: 0.5560\n",
      "Epoch 166/500\n",
      "13733/13733 [==============================] - 41s 3ms/step - loss: 0.0045 - main_output_loss: 0.0026 - aux_output_loss: 0.0031 - val_loss: 1.0870 - val_main_output_loss: 0.7757 - val_aux_output_loss: 0.5555\n",
      "Epoch 167/500\n",
      "13733/13733 [==============================] - 42s 3ms/step - loss: 0.0046 - main_output_loss: 0.0027 - aux_output_loss: 0.0031 - val_loss: 1.1007 - val_main_output_loss: 0.7904 - val_aux_output_loss: 0.5562\n",
      "Epoch 168/500\n",
      "13733/13733 [==============================] - 41s 3ms/step - loss: 0.0045 - main_output_loss: 0.0026 - aux_output_loss: 0.0031 - val_loss: 1.1322 - val_main_output_loss: 0.8222 - val_aux_output_loss: 0.5602\n",
      "Epoch 169/500\n",
      "13733/13733 [==============================] - 41s 3ms/step - loss: 0.0045 - main_output_loss: 0.0025 - aux_output_loss: 0.0031 - val_loss: 1.1126 - val_main_output_loss: 0.8006 - val_aux_output_loss: 0.5601\n",
      "Epoch 170/500\n",
      "13733/13733 [==============================] - 42s 3ms/step - loss: 0.0046 - main_output_loss: 0.0027 - aux_output_loss: 0.0031 - val_loss: 1.1360 - val_main_output_loss: 0.8187 - val_aux_output_loss: 0.5702\n",
      "Epoch 171/500\n",
      "13733/13733 [==============================] - 41s 3ms/step - loss: 0.0047 - main_output_loss: 0.0028 - aux_output_loss: 0.0032 - val_loss: 1.1332 - val_main_output_loss: 0.8205 - val_aux_output_loss: 0.5639\n",
      "Epoch 172/500\n",
      "13733/13733 [==============================] - 41s 3ms/step - loss: 0.0046 - main_output_loss: 0.0027 - aux_output_loss: 0.0031 - val_loss: 1.1345 - val_main_output_loss: 0.8223 - val_aux_output_loss: 0.5635\n",
      "Epoch 173/500\n",
      "13733/13733 [==============================] - 42s 3ms/step - loss: 0.0046 - main_output_loss: 0.0027 - aux_output_loss: 0.0031 - val_loss: 1.1252 - val_main_output_loss: 0.8150 - val_aux_output_loss: 0.5596\n",
      "Epoch 174/500\n",
      "13733/13733 [==============================] - 41s 3ms/step - loss: 0.0046 - main_output_loss: 0.0027 - aux_output_loss: 0.0031 - val_loss: 1.1384 - val_main_output_loss: 0.8272 - val_aux_output_loss: 0.5627\n",
      "\n",
      "Epoch 00174: saving model to ../feature_extraction/data_files/1157354_checkpoints_hybrid_500e_64b_adam/model-174.hdf5\n",
      "Epoch 175/500\n",
      "13733/13733 [==============================] - 42s 3ms/step - loss: 0.0045 - main_output_loss: 0.0025 - aux_output_loss: 0.0031 - val_loss: 1.1250 - val_main_output_loss: 0.8108 - val_aux_output_loss: 0.5647\n"
     ]
    },
    {
     "name": "stdout",
     "output_type": "stream",
     "text": [
      "Epoch 176/500\n",
      "13733/13733 [==============================] - 41s 3ms/step - loss: 0.0047 - main_output_loss: 0.0028 - aux_output_loss: 0.0031 - val_loss: 1.1750 - val_main_output_loss: 0.8651 - val_aux_output_loss: 0.5663\n",
      "Epoch 177/500\n",
      "13733/13733 [==============================] - 41s 3ms/step - loss: 0.0049 - main_output_loss: 0.0030 - aux_output_loss: 0.0032 - val_loss: 1.1381 - val_main_output_loss: 0.8369 - val_aux_output_loss: 0.5498\n",
      "Epoch 178/500\n",
      "13733/13733 [==============================] - 42s 3ms/step - loss: 0.0046 - main_output_loss: 0.0027 - aux_output_loss: 0.0032 - val_loss: 1.1419 - val_main_output_loss: 0.8374 - val_aux_output_loss: 0.5546\n",
      "Epoch 179/500\n",
      "13733/13733 [==============================] - 42s 3ms/step - loss: 0.0046 - main_output_loss: 0.0027 - aux_output_loss: 0.0032 - val_loss: 1.1564 - val_main_output_loss: 0.8501 - val_aux_output_loss: 0.5590\n",
      "Epoch 180/500\n",
      "13733/13733 [==============================] - 40s 3ms/step - loss: 0.0046 - main_output_loss: 0.0027 - aux_output_loss: 0.0032 - val_loss: 1.1796 - val_main_output_loss: 0.8652 - val_aux_output_loss: 0.5727\n",
      "Epoch 181/500\n",
      "13733/13733 [==============================] - 42s 3ms/step - loss: 0.0046 - main_output_loss: 0.0027 - aux_output_loss: 0.0031 - val_loss: 1.2090 - val_main_output_loss: 0.8993 - val_aux_output_loss: 0.5708\n",
      "Epoch 182/500\n",
      "13733/13733 [==============================] - 41s 3ms/step - loss: 0.0046 - main_output_loss: 0.0026 - aux_output_loss: 0.0032 - val_loss: 1.2052 - val_main_output_loss: 0.8911 - val_aux_output_loss: 0.5760\n",
      "Epoch 183/500\n",
      "13733/13733 [==============================] - 42s 3ms/step - loss: 0.0046 - main_output_loss: 0.0027 - aux_output_loss: 0.0031 - val_loss: 1.2021 - val_main_output_loss: 0.8869 - val_aux_output_loss: 0.5770\n",
      "Epoch 184/500\n",
      "13733/13733 [==============================] - 42s 3ms/step - loss: 0.0045 - main_output_loss: 0.0026 - aux_output_loss: 0.0031 - val_loss: 1.2339 - val_main_output_loss: 0.9141 - val_aux_output_loss: 0.5875\n",
      "\n",
      "Epoch 00184: saving model to ../feature_extraction/data_files/1157354_checkpoints_hybrid_500e_64b_adam/model-184.hdf5\n",
      "Epoch 185/500\n",
      "13733/13733 [==============================] - 41s 3ms/step - loss: 0.0046 - main_output_loss: 0.0026 - aux_output_loss: 0.0031 - val_loss: 1.2433 - val_main_output_loss: 0.9257 - val_aux_output_loss: 0.5858\n",
      "Epoch 186/500\n",
      "13733/13733 [==============================] - 42s 3ms/step - loss: 0.0046 - main_output_loss: 0.0026 - aux_output_loss: 0.0031 - val_loss: 1.2694 - val_main_output_loss: 0.9538 - val_aux_output_loss: 0.5872\n",
      "Epoch 187/500\n",
      "13733/13733 [==============================] - 41s 3ms/step - loss: 0.0046 - main_output_loss: 0.0027 - aux_output_loss: 0.0031 - val_loss: 1.2966 - val_main_output_loss: 0.9750 - val_aux_output_loss: 0.5987\n",
      "Epoch 188/500\n",
      "13733/13733 [==============================] - 42s 3ms/step - loss: 0.0046 - main_output_loss: 0.0027 - aux_output_loss: 0.0031 - val_loss: 1.2567 - val_main_output_loss: 0.9366 - val_aux_output_loss: 0.5911\n",
      "Epoch 189/500\n",
      "13733/13733 [==============================] - 41s 3ms/step - loss: 0.0047 - main_output_loss: 0.0027 - aux_output_loss: 0.0032 - val_loss: 1.2769 - val_main_output_loss: 0.9544 - val_aux_output_loss: 0.5970\n",
      "Epoch 190/500\n",
      "13733/13733 [==============================] - 41s 3ms/step - loss: 0.0047 - main_output_loss: 0.0028 - aux_output_loss: 0.0031 - val_loss: 1.2912 - val_main_output_loss: 0.9694 - val_aux_output_loss: 0.5981\n",
      "Epoch 191/500\n",
      "13733/13733 [==============================] - 41s 3ms/step - loss: 0.0049 - main_output_loss: 0.0029 - aux_output_loss: 0.0032 - val_loss: 1.3685 - val_main_output_loss: 1.0349 - val_aux_output_loss: 0.6245\n",
      "Epoch 192/500\n",
      "13733/13733 [==============================] - 41s 3ms/step - loss: 0.0045 - main_output_loss: 0.0026 - aux_output_loss: 0.0031 - val_loss: 1.3196 - val_main_output_loss: 0.9903 - val_aux_output_loss: 0.6118\n",
      "Epoch 193/500\n",
      "13733/13733 [==============================] - 42s 3ms/step - loss: 0.0046 - main_output_loss: 0.0027 - aux_output_loss: 0.0031 - val_loss: 1.3252 - val_main_output_loss: 0.9967 - val_aux_output_loss: 0.6117\n",
      "Epoch 194/500\n",
      "13733/13733 [==============================] - 42s 3ms/step - loss: 0.0046 - main_output_loss: 0.0027 - aux_output_loss: 0.0031 - val_loss: 1.3115 - val_main_output_loss: 0.9767 - val_aux_output_loss: 0.6179\n",
      "\n",
      "Epoch 00194: saving model to ../feature_extraction/data_files/1157354_checkpoints_hybrid_500e_64b_adam/model-194.hdf5\n",
      "Epoch 195/500\n",
      "13733/13733 [==============================] - 42s 3ms/step - loss: 0.0047 - main_output_loss: 0.0028 - aux_output_loss: 0.0031 - val_loss: 1.3064 - val_main_output_loss: 0.9761 - val_aux_output_loss: 0.6112\n",
      "Epoch 196/500\n",
      "13733/13733 [==============================] - 42s 3ms/step - loss: 0.0046 - main_output_loss: 0.0027 - aux_output_loss: 0.0032 - val_loss: 1.3317 - val_main_output_loss: 0.9905 - val_aux_output_loss: 0.6289\n",
      "Epoch 197/500\n",
      "13733/13733 [==============================] - 42s 3ms/step - loss: 0.0046 - main_output_loss: 0.0026 - aux_output_loss: 0.0031 - val_loss: 1.3330 - val_main_output_loss: 0.9887 - val_aux_output_loss: 0.6331\n",
      "Epoch 198/500\n",
      "13733/13733 [==============================] - 41s 3ms/step - loss: 0.0045 - main_output_loss: 0.0026 - aux_output_loss: 0.0031 - val_loss: 1.2622 - val_main_output_loss: 0.9211 - val_aux_output_loss: 0.6189\n",
      "Epoch 199/500\n",
      "13733/13733 [==============================] - 41s 3ms/step - loss: 0.0047 - main_output_loss: 0.0027 - aux_output_loss: 0.0032 - val_loss: 1.3445 - val_main_output_loss: 0.9906 - val_aux_output_loss: 0.6471\n",
      "Epoch 200/500\n",
      "13733/13733 [==============================] - 41s 3ms/step - loss: 0.0046 - main_output_loss: 0.0027 - aux_output_loss: 0.0031 - val_loss: 1.2541 - val_main_output_loss: 0.9038 - val_aux_output_loss: 0.6295\n",
      "Epoch 201/500\n",
      "13733/13733 [==============================] - 41s 3ms/step - loss: 0.0045 - main_output_loss: 0.0026 - aux_output_loss: 0.0031 - val_loss: 1.3033 - val_main_output_loss: 0.9468 - val_aux_output_loss: 0.6445\n",
      "Epoch 202/500\n",
      "13733/13733 [==============================] - 42s 3ms/step - loss: 0.0045 - main_output_loss: 0.0026 - aux_output_loss: 0.0031 - val_loss: 1.2528 - val_main_output_loss: 0.8990 - val_aux_output_loss: 0.6338\n",
      "Epoch 203/500\n",
      "13733/13733 [==============================] - 41s 3ms/step - loss: 0.0046 - main_output_loss: 0.0027 - aux_output_loss: 0.0031 - val_loss: 1.3028 - val_main_output_loss: 0.9390 - val_aux_output_loss: 0.6539\n",
      "Epoch 204/500\n",
      "13733/13733 [==============================] - 41s 3ms/step - loss: 0.0046 - main_output_loss: 0.0026 - aux_output_loss: 0.0031 - val_loss: 1.2810 - val_main_output_loss: 0.9209 - val_aux_output_loss: 0.6460\n",
      "\n",
      "Epoch 00204: saving model to ../feature_extraction/data_files/1157354_checkpoints_hybrid_500e_64b_adam/model-204.hdf5\n",
      "Epoch 205/500\n",
      "13733/13733 [==============================] - 41s 3ms/step - loss: 0.0046 - main_output_loss: 0.0026 - aux_output_loss: 0.0031 - val_loss: 1.3234 - val_main_output_loss: 0.9609 - val_aux_output_loss: 0.6551\n",
      "Epoch 206/500\n",
      "13733/13733 [==============================] - 40s 3ms/step - loss: 0.0045 - main_output_loss: 0.0026 - aux_output_loss: 0.0031 - val_loss: 1.2665 - val_main_output_loss: 0.9025 - val_aux_output_loss: 0.6489\n",
      "Epoch 207/500\n",
      "13733/13733 [==============================] - 42s 3ms/step - loss: 0.0046 - main_output_loss: 0.0027 - aux_output_loss: 0.0031 - val_loss: 1.2352 - val_main_output_loss: 0.8723 - val_aux_output_loss: 0.6431\n",
      "Epoch 208/500\n",
      "13733/13733 [==============================] - 42s 3ms/step - loss: 0.0052 - main_output_loss: 0.0034 - aux_output_loss: 0.0032 - val_loss: 1.2866 - val_main_output_loss: 0.9141 - val_aux_output_loss: 0.6626\n",
      "Epoch 209/500\n",
      "13733/13733 [==============================] - 41s 3ms/step - loss: 0.0052 - main_output_loss: 0.0032 - aux_output_loss: 0.0033 - val_loss: 1.3098 - val_main_output_loss: 0.9310 - val_aux_output_loss: 0.6741\n",
      "Epoch 210/500\n",
      "13733/13733 [==============================] - 41s 3ms/step - loss: 0.0047 - main_output_loss: 0.0027 - aux_output_loss: 0.0032 - val_loss: 1.2758 - val_main_output_loss: 0.8809 - val_aux_output_loss: 0.6900\n",
      "Epoch 211/500\n",
      "13733/13733 [==============================] - 41s 3ms/step - loss: 0.0047 - main_output_loss: 0.0027 - aux_output_loss: 0.0032 - val_loss: 1.2636 - val_main_output_loss: 0.8669 - val_aux_output_loss: 0.6906\n",
      "Epoch 212/500\n",
      "13733/13733 [==============================] - 40s 3ms/step - loss: 0.0046 - main_output_loss: 0.0027 - aux_output_loss: 0.0031 - val_loss: 1.2565 - val_main_output_loss: 0.8655 - val_aux_output_loss: 0.6823\n",
      "Epoch 213/500\n",
      "13733/13733 [==============================] - 42s 3ms/step - loss: 0.0051 - main_output_loss: 0.0032 - aux_output_loss: 0.0031 - val_loss: 1.2803 - val_main_output_loss: 0.8846 - val_aux_output_loss: 0.6917\n",
      "Epoch 214/500\n",
      "13733/13733 [==============================] - 41s 3ms/step - loss: 0.0049 - main_output_loss: 0.0030 - aux_output_loss: 0.0031 - val_loss: 1.2242 - val_main_output_loss: 0.8380 - val_aux_output_loss: 0.6715\n",
      "\n",
      "Epoch 00214: saving model to ../feature_extraction/data_files/1157354_checkpoints_hybrid_500e_64b_adam/model-214.hdf5\n",
      "Epoch 215/500\n",
      "13733/13733 [==============================] - 42s 3ms/step - loss: 0.0070 - main_output_loss: 0.0051 - aux_output_loss: 0.0034 - val_loss: 1.2304 - val_main_output_loss: 0.7344 - val_aux_output_loss: 0.8136\n",
      "Epoch 216/500\n",
      "13733/13733 [==============================] - 41s 3ms/step - loss: 0.0204 - main_output_loss: 0.0126 - aux_output_loss: 0.0129 - val_loss: 0.6934 - val_main_output_loss: 0.4076 - val_aux_output_loss: 0.4664\n",
      "Epoch 217/500\n",
      "13733/13733 [==============================] - 41s 3ms/step - loss: 0.0095 - main_output_loss: 0.0057 - aux_output_loss: 0.0062 - val_loss: 0.6431 - val_main_output_loss: 0.3938 - val_aux_output_loss: 0.4125\n",
      "Epoch 218/500\n",
      "13733/13733 [==============================] - 41s 3ms/step - loss: 0.0079 - main_output_loss: 0.0050 - aux_output_loss: 0.0049 - val_loss: 0.6678 - val_main_output_loss: 0.4230 - val_aux_output_loss: 0.4102\n",
      "Epoch 219/500\n",
      "13733/13733 [==============================] - 42s 3ms/step - loss: 0.0049 - main_output_loss: 0.0029 - aux_output_loss: 0.0032 - val_loss: 0.7785 - val_main_output_loss: 0.5269 - val_aux_output_loss: 0.4347\n",
      "Epoch 220/500\n",
      "13733/13733 [==============================] - 41s 3ms/step - loss: 0.0047 - main_output_loss: 0.0028 - aux_output_loss: 0.0032 - val_loss: 0.8084 - val_main_output_loss: 0.5576 - val_aux_output_loss: 0.4379\n",
      "Epoch 221/500\n",
      "13733/13733 [==============================] - 40s 3ms/step - loss: 0.0047 - main_output_loss: 0.0027 - aux_output_loss: 0.0032 - val_loss: 0.8332 - val_main_output_loss: 0.5833 - val_aux_output_loss: 0.4403\n",
      "Epoch 222/500\n",
      "13733/13733 [==============================] - 41s 3ms/step - loss: 0.0047 - main_output_loss: 0.0028 - aux_output_loss: 0.0032 - val_loss: 0.8510 - val_main_output_loss: 0.6014 - val_aux_output_loss: 0.4425\n",
      "Epoch 223/500\n",
      "13733/13733 [==============================] - 42s 3ms/step - loss: 0.0047 - main_output_loss: 0.0028 - aux_output_loss: 0.0031 - val_loss: 0.8300 - val_main_output_loss: 0.5780 - val_aux_output_loss: 0.4426\n",
      "Epoch 224/500\n",
      "13733/13733 [==============================] - 42s 3ms/step - loss: 0.0046 - main_output_loss: 0.0027 - aux_output_loss: 0.0031 - val_loss: 0.8567 - val_main_output_loss: 0.6055 - val_aux_output_loss: 0.4454\n",
      "\n",
      "Epoch 00224: saving model to ../feature_extraction/data_files/1157354_checkpoints_hybrid_500e_64b_adam/model-224.hdf5\n",
      "Epoch 225/500\n",
      "13733/13733 [==============================] - 41s 3ms/step - loss: 0.0047 - main_output_loss: 0.0028 - aux_output_loss: 0.0031 - val_loss: 0.8744 - val_main_output_loss: 0.6214 - val_aux_output_loss: 0.4502\n",
      "Epoch 226/500\n",
      "13733/13733 [==============================] - 41s 3ms/step - loss: 0.0046 - main_output_loss: 0.0027 - aux_output_loss: 0.0031 - val_loss: 0.8933 - val_main_output_loss: 0.6396 - val_aux_output_loss: 0.4538\n",
      "Epoch 227/500\n",
      "13733/13733 [==============================] - 41s 3ms/step - loss: 0.0046 - main_output_loss: 0.0027 - aux_output_loss: 0.0031 - val_loss: 0.9059 - val_main_output_loss: 0.6509 - val_aux_output_loss: 0.4572\n",
      "Epoch 228/500\n",
      "13733/13733 [==============================] - 41s 3ms/step - loss: 0.0046 - main_output_loss: 0.0027 - aux_output_loss: 0.0031 - val_loss: 0.9167 - val_main_output_loss: 0.6599 - val_aux_output_loss: 0.4611\n",
      "Epoch 229/500\n",
      "13733/13733 [==============================] - 42s 3ms/step - loss: 0.0046 - main_output_loss: 0.0027 - aux_output_loss: 0.0031 - val_loss: 0.9307 - val_main_output_loss: 0.6736 - val_aux_output_loss: 0.4635\n",
      "Epoch 230/500\n",
      "13733/13733 [==============================] - 42s 3ms/step - loss: 0.0046 - main_output_loss: 0.0027 - aux_output_loss: 0.0031 - val_loss: 0.9383 - val_main_output_loss: 0.6799 - val_aux_output_loss: 0.4663\n",
      "Epoch 231/500\n",
      "13733/13733 [==============================] - 41s 3ms/step - loss: 0.0046 - main_output_loss: 0.0027 - aux_output_loss: 0.0031 - val_loss: 0.9542 - val_main_output_loss: 0.6932 - val_aux_output_loss: 0.4719\n",
      "Epoch 232/500\n",
      "13733/13733 [==============================] - 42s 3ms/step - loss: 0.0046 - main_output_loss: 0.0027 - aux_output_loss: 0.0031 - val_loss: 0.9614 - val_main_output_loss: 0.6991 - val_aux_output_loss: 0.4746\n",
      "Epoch 233/500\n",
      "13733/13733 [==============================] - 42s 3ms/step - loss: 0.0046 - main_output_loss: 0.0027 - aux_output_loss: 0.0031 - val_loss: 0.9712 - val_main_output_loss: 0.7067 - val_aux_output_loss: 0.4788\n",
      "Epoch 234/500\n",
      "13733/13733 [==============================] - 42s 3ms/step - loss: 0.0046 - main_output_loss: 0.0027 - aux_output_loss: 0.0031 - val_loss: 0.9754 - val_main_output_loss: 0.7115 - val_aux_output_loss: 0.4787\n",
      "\n",
      "Epoch 00234: saving model to ../feature_extraction/data_files/1157354_checkpoints_hybrid_500e_64b_adam/model-234.hdf5\n",
      "Epoch 235/500\n",
      "13733/13733 [==============================] - 41s 3ms/step - loss: 0.0045 - main_output_loss: 0.0026 - aux_output_loss: 0.0031 - val_loss: 0.9889 - val_main_output_loss: 0.7241 - val_aux_output_loss: 0.4818\n",
      "Epoch 236/500\n",
      "13733/13733 [==============================] - 41s 3ms/step - loss: 0.0047 - main_output_loss: 0.0028 - aux_output_loss: 0.0031 - val_loss: 0.9941 - val_main_output_loss: 0.7262 - val_aux_output_loss: 0.4865\n",
      "Epoch 237/500\n",
      "13733/13733 [==============================] - 42s 3ms/step - loss: 0.0046 - main_output_loss: 0.0027 - aux_output_loss: 0.0031 - val_loss: 0.9998 - val_main_output_loss: 0.7307 - val_aux_output_loss: 0.4889\n",
      "Epoch 238/500\n",
      "13733/13733 [==============================] - 40s 3ms/step - loss: 0.0046 - main_output_loss: 0.0027 - aux_output_loss: 0.0031 - val_loss: 1.0078 - val_main_output_loss: 0.7383 - val_aux_output_loss: 0.4905\n",
      "Epoch 239/500\n",
      "13733/13733 [==============================] - 41s 3ms/step - loss: 0.0046 - main_output_loss: 0.0027 - aux_output_loss: 0.0031 - val_loss: 1.0175 - val_main_output_loss: 0.7455 - val_aux_output_loss: 0.4950\n",
      "Epoch 240/500\n",
      "13733/13733 [==============================] - 42s 3ms/step - loss: 0.0046 - main_output_loss: 0.0027 - aux_output_loss: 0.0031 - val_loss: 1.0272 - val_main_output_loss: 0.7530 - val_aux_output_loss: 0.4994\n",
      "Epoch 241/500\n",
      "13733/13733 [==============================] - 40s 3ms/step - loss: 0.0046 - main_output_loss: 0.0027 - aux_output_loss: 0.0031 - val_loss: 1.0346 - val_main_output_loss: 0.7594 - val_aux_output_loss: 0.5015\n",
      "Epoch 242/500\n",
      "13733/13733 [==============================] - 41s 3ms/step - loss: 0.0045 - main_output_loss: 0.0026 - aux_output_loss: 0.0031 - val_loss: 1.0297 - val_main_output_loss: 0.7525 - val_aux_output_loss: 0.5035\n",
      "Epoch 243/500\n",
      "13733/13733 [==============================] - 41s 3ms/step - loss: 0.0046 - main_output_loss: 0.0027 - aux_output_loss: 0.0031 - val_loss: 1.0504 - val_main_output_loss: 0.7717 - val_aux_output_loss: 0.5084\n",
      "Epoch 244/500\n",
      "13733/13733 [==============================] - 42s 3ms/step - loss: 0.0046 - main_output_loss: 0.0027 - aux_output_loss: 0.0031 - val_loss: 1.0613 - val_main_output_loss: 0.7810 - val_aux_output_loss: 0.5119\n",
      "\n",
      "Epoch 00244: saving model to ../feature_extraction/data_files/1157354_checkpoints_hybrid_500e_64b_adam/model-244.hdf5\n",
      "Epoch 245/500\n",
      "13733/13733 [==============================] - 41s 3ms/step - loss: 0.0046 - main_output_loss: 0.0027 - aux_output_loss: 0.0031 - val_loss: 1.0634 - val_main_output_loss: 0.7827 - val_aux_output_loss: 0.5129\n"
     ]
    },
    {
     "name": "stdout",
     "output_type": "stream",
     "text": [
      "Epoch 246/500\n",
      "13733/13733 [==============================] - 42s 3ms/step - loss: 0.0045 - main_output_loss: 0.0026 - aux_output_loss: 0.0031 - val_loss: 1.0684 - val_main_output_loss: 0.7852 - val_aux_output_loss: 0.5168\n",
      "Epoch 247/500\n",
      "13733/13733 [==============================] - 41s 3ms/step - loss: 0.0046 - main_output_loss: 0.0026 - aux_output_loss: 0.0031 - val_loss: 1.0909 - val_main_output_loss: 0.8062 - val_aux_output_loss: 0.5219\n",
      "Epoch 248/500\n",
      "13733/13733 [==============================] - 41s 3ms/step - loss: 0.0046 - main_output_loss: 0.0027 - aux_output_loss: 0.0031 - val_loss: 1.1015 - val_main_output_loss: 0.8139 - val_aux_output_loss: 0.5272\n",
      "Epoch 249/500\n",
      "13733/13733 [==============================] - 40s 3ms/step - loss: 0.0046 - main_output_loss: 0.0026 - aux_output_loss: 0.0031 - val_loss: 1.1053 - val_main_output_loss: 0.8168 - val_aux_output_loss: 0.5288\n",
      "Epoch 250/500\n",
      "13733/13733 [==============================] - 41s 3ms/step - loss: 0.0046 - main_output_loss: 0.0027 - aux_output_loss: 0.0031 - val_loss: 1.1225 - val_main_output_loss: 0.8324 - val_aux_output_loss: 0.5333\n",
      "Epoch 251/500\n",
      "13733/13733 [==============================] - 42s 3ms/step - loss: 0.0046 - main_output_loss: 0.0026 - aux_output_loss: 0.0031 - val_loss: 1.1251 - val_main_output_loss: 0.8323 - val_aux_output_loss: 0.5372\n",
      "Epoch 252/500\n",
      "13733/13733 [==============================] - 42s 3ms/step - loss: 0.0046 - main_output_loss: 0.0027 - aux_output_loss: 0.0031 - val_loss: 1.1255 - val_main_output_loss: 0.8303 - val_aux_output_loss: 0.5403\n",
      "Epoch 253/500\n",
      "13733/13733 [==============================] - 41s 3ms/step - loss: 0.0046 - main_output_loss: 0.0026 - aux_output_loss: 0.0031 - val_loss: 1.1736 - val_main_output_loss: 0.8788 - val_aux_output_loss: 0.5467\n",
      "Epoch 254/500\n",
      "13733/13733 [==============================] - 41s 3ms/step - loss: 0.0045 - main_output_loss: 0.0025 - aux_output_loss: 0.0031 - val_loss: 1.1804 - val_main_output_loss: 0.8830 - val_aux_output_loss: 0.5509\n",
      "\n",
      "Epoch 00254: saving model to ../feature_extraction/data_files/1157354_checkpoints_hybrid_500e_64b_adam/model-254.hdf5\n",
      "Epoch 255/500\n",
      "13733/13733 [==============================] - 42s 3ms/step - loss: 0.0046 - main_output_loss: 0.0027 - aux_output_loss: 0.0031 - val_loss: 1.1895 - val_main_output_loss: 0.8896 - val_aux_output_loss: 0.5556\n",
      "Epoch 256/500\n",
      "13733/13733 [==============================] - 42s 3ms/step - loss: 0.0047 - main_output_loss: 0.0028 - aux_output_loss: 0.0031 - val_loss: 1.1823 - val_main_output_loss: 0.8802 - val_aux_output_loss: 0.5574\n",
      "Epoch 257/500\n",
      "13733/13733 [==============================] - 41s 3ms/step - loss: 0.0045 - main_output_loss: 0.0026 - aux_output_loss: 0.0031 - val_loss: 1.1760 - val_main_output_loss: 0.8730 - val_aux_output_loss: 0.5576\n",
      "Epoch 258/500\n",
      "13733/13733 [==============================] - 42s 3ms/step - loss: 0.0045 - main_output_loss: 0.0026 - aux_output_loss: 0.0031 - val_loss: 1.1905 - val_main_output_loss: 0.8841 - val_aux_output_loss: 0.5640\n",
      "Epoch 259/500\n",
      "13733/13733 [==============================] - 41s 3ms/step - loss: 0.0044 - main_output_loss: 0.0025 - aux_output_loss: 0.0031 - val_loss: 1.1847 - val_main_output_loss: 0.8761 - val_aux_output_loss: 0.5660\n",
      "Epoch 260/500\n",
      "13733/13733 [==============================] - 42s 3ms/step - loss: 0.0045 - main_output_loss: 0.0026 - aux_output_loss: 0.0031 - val_loss: 1.2088 - val_main_output_loss: 0.8974 - val_aux_output_loss: 0.5730\n",
      "Epoch 261/500\n",
      "13733/13733 [==============================] - 42s 3ms/step - loss: 0.0045 - main_output_loss: 0.0026 - aux_output_loss: 0.0031 - val_loss: 1.2075 - val_main_output_loss: 0.8922 - val_aux_output_loss: 0.5779\n",
      "Epoch 262/500\n",
      "13733/13733 [==============================] - 42s 3ms/step - loss: 0.0046 - main_output_loss: 0.0027 - aux_output_loss: 0.0031 - val_loss: 1.2438 - val_main_output_loss: 0.9182 - val_aux_output_loss: 0.5963\n",
      "Epoch 263/500\n",
      "13733/13733 [==============================] - 42s 3ms/step - loss: 0.0046 - main_output_loss: 0.0027 - aux_output_loss: 0.0032 - val_loss: 1.2496 - val_main_output_loss: 0.9221 - val_aux_output_loss: 0.5996\n",
      "Epoch 264/500\n",
      "13733/13733 [==============================] - 42s 3ms/step - loss: 0.0049 - main_output_loss: 0.0031 - aux_output_loss: 0.0031 - val_loss: 1.1944 - val_main_output_loss: 0.8712 - val_aux_output_loss: 0.5861\n",
      "\n",
      "Epoch 00264: saving model to ../feature_extraction/data_files/1157354_checkpoints_hybrid_500e_64b_adam/model-264.hdf5\n",
      "Epoch 265/500\n",
      "13733/13733 [==============================] - 41s 3ms/step - loss: 0.0045 - main_output_loss: 0.0026 - aux_output_loss: 0.0031 - val_loss: 1.1984 - val_main_output_loss: 0.8768 - val_aux_output_loss: 0.5847\n",
      "Epoch 266/500\n",
      "13733/13733 [==============================] - 41s 3ms/step - loss: 0.0045 - main_output_loss: 0.0026 - aux_output_loss: 0.0031 - val_loss: 1.2017 - val_main_output_loss: 0.8760 - val_aux_output_loss: 0.5904\n",
      "Epoch 267/500\n",
      "13733/13733 [==============================] - 42s 3ms/step - loss: 0.0046 - main_output_loss: 0.0026 - aux_output_loss: 0.0031 - val_loss: 1.1922 - val_main_output_loss: 0.8617 - val_aux_output_loss: 0.5953\n",
      "Epoch 268/500\n",
      "13733/13733 [==============================] - 42s 3ms/step - loss: 0.0045 - main_output_loss: 0.0025 - aux_output_loss: 0.0031 - val_loss: 1.1865 - val_main_output_loss: 0.8537 - val_aux_output_loss: 0.5974\n",
      "Epoch 269/500\n",
      "13733/13733 [==============================] - 42s 3ms/step - loss: 0.0046 - main_output_loss: 0.0026 - aux_output_loss: 0.0031 - val_loss: 1.2163 - val_main_output_loss: 0.8794 - val_aux_output_loss: 0.6069\n",
      "Epoch 270/500\n",
      "13733/13733 [==============================] - 40s 3ms/step - loss: 0.0046 - main_output_loss: 0.0028 - aux_output_loss: 0.0031 - val_loss: 1.2237 - val_main_output_loss: 0.8869 - val_aux_output_loss: 0.6079\n",
      "Epoch 271/500\n",
      "13733/13733 [==============================] - 42s 3ms/step - loss: 0.0045 - main_output_loss: 0.0026 - aux_output_loss: 0.0031 - val_loss: 1.2126 - val_main_output_loss: 0.8708 - val_aux_output_loss: 0.6127\n",
      "Epoch 272/500\n",
      "13733/13733 [==============================] - 41s 3ms/step - loss: 0.0045 - main_output_loss: 0.0026 - aux_output_loss: 0.0031 - val_loss: 1.2077 - val_main_output_loss: 0.8625 - val_aux_output_loss: 0.6164\n",
      "Epoch 273/500\n",
      "13733/13733 [==============================] - 41s 3ms/step - loss: 0.0045 - main_output_loss: 0.0026 - aux_output_loss: 0.0031 - val_loss: 1.2300 - val_main_output_loss: 0.8811 - val_aux_output_loss: 0.6242\n",
      "Epoch 274/500\n",
      "13733/13733 [==============================] - 42s 3ms/step - loss: 0.0045 - main_output_loss: 0.0026 - aux_output_loss: 0.0031 - val_loss: 1.2557 - val_main_output_loss: 0.9060 - val_aux_output_loss: 0.6290\n",
      "\n",
      "Epoch 00274: saving model to ../feature_extraction/data_files/1157354_checkpoints_hybrid_500e_64b_adam/model-274.hdf5\n",
      "Epoch 275/500\n",
      "13733/13733 [==============================] - 41s 3ms/step - loss: 0.0045 - main_output_loss: 0.0027 - aux_output_loss: 0.0031 - val_loss: 1.2556 - val_main_output_loss: 0.9003 - val_aux_output_loss: 0.6361\n",
      "Epoch 276/500\n",
      "13733/13733 [==============================] - 41s 3ms/step - loss: 0.0048 - main_output_loss: 0.0029 - aux_output_loss: 0.0032 - val_loss: 1.2083 - val_main_output_loss: 0.8485 - val_aux_output_loss: 0.6353\n",
      "Epoch 277/500\n",
      "13733/13733 [==============================] - 41s 3ms/step - loss: 0.0049 - main_output_loss: 0.0028 - aux_output_loss: 0.0033 - val_loss: 2.2296 - val_main_output_loss: 1.7816 - val_aux_output_loss: 0.8945\n",
      "Epoch 278/500\n",
      "13733/13733 [==============================] - 41s 3ms/step - loss: 0.0095 - main_output_loss: 0.0061 - aux_output_loss: 0.0058 - val_loss: 0.9066 - val_main_output_loss: 0.5749 - val_aux_output_loss: 0.5560\n",
      "Epoch 279/500\n",
      "13733/13733 [==============================] - 41s 3ms/step - loss: 0.0064 - main_output_loss: 0.0039 - aux_output_loss: 0.0042 - val_loss: 1.0304 - val_main_output_loss: 0.7190 - val_aux_output_loss: 0.5475\n",
      "Epoch 280/500\n",
      "13733/13733 [==============================] - 42s 3ms/step - loss: 0.0052 - main_output_loss: 0.0029 - aux_output_loss: 0.0036 - val_loss: 1.1593 - val_main_output_loss: 0.8154 - val_aux_output_loss: 0.6077\n",
      "Epoch 281/500\n",
      "13733/13733 [==============================] - 42s 3ms/step - loss: 0.0048 - main_output_loss: 0.0028 - aux_output_loss: 0.0033 - val_loss: 1.1017 - val_main_output_loss: 0.8061 - val_aux_output_loss: 0.5374\n",
      "Epoch 282/500\n",
      "13733/13733 [==============================] - 41s 3ms/step - loss: 0.0045 - main_output_loss: 0.0026 - aux_output_loss: 0.0031 - val_loss: 1.1824 - val_main_output_loss: 0.8889 - val_aux_output_loss: 0.5462\n",
      "Epoch 283/500\n",
      "13733/13733 [==============================] - 41s 3ms/step - loss: 0.0045 - main_output_loss: 0.0026 - aux_output_loss: 0.0031 - val_loss: 1.1802 - val_main_output_loss: 0.8873 - val_aux_output_loss: 0.5452\n",
      "Epoch 284/500\n",
      "13733/13733 [==============================] - 42s 3ms/step - loss: 0.0045 - main_output_loss: 0.0026 - aux_output_loss: 0.0031 - val_loss: 1.1811 - val_main_output_loss: 0.8877 - val_aux_output_loss: 0.5460\n",
      "\n",
      "Epoch 00284: saving model to ../feature_extraction/data_files/1157354_checkpoints_hybrid_500e_64b_adam/model-284.hdf5\n",
      "Epoch 285/500\n",
      "13733/13733 [==============================] - 42s 3ms/step - loss: 0.0045 - main_output_loss: 0.0026 - aux_output_loss: 0.0031 - val_loss: 1.1829 - val_main_output_loss: 0.8887 - val_aux_output_loss: 0.5471\n",
      "Epoch 286/500\n",
      "13733/13733 [==============================] - 40s 3ms/step - loss: 0.0045 - main_output_loss: 0.0026 - aux_output_loss: 0.0031 - val_loss: 1.1855 - val_main_output_loss: 0.8905 - val_aux_output_loss: 0.5486\n",
      "Epoch 287/500\n",
      "13733/13733 [==============================] - 41s 3ms/step - loss: 0.0046 - main_output_loss: 0.0027 - aux_output_loss: 0.0031 - val_loss: 1.1786 - val_main_output_loss: 0.8848 - val_aux_output_loss: 0.5461\n",
      "Epoch 288/500\n",
      "13733/13733 [==============================] - 42s 3ms/step - loss: 0.0046 - main_output_loss: 0.0027 - aux_output_loss: 0.0031 - val_loss: 1.1811 - val_main_output_loss: 0.8861 - val_aux_output_loss: 0.5480\n",
      "Epoch 289/500\n",
      "13733/13733 [==============================] - 41s 3ms/step - loss: 0.0045 - main_output_loss: 0.0026 - aux_output_loss: 0.0031 - val_loss: 1.1834 - val_main_output_loss: 0.8873 - val_aux_output_loss: 0.5496\n",
      "Epoch 290/500\n",
      "13733/13733 [==============================] - 42s 3ms/step - loss: 0.0046 - main_output_loss: 0.0027 - aux_output_loss: 0.0032 - val_loss: 1.1938 - val_main_output_loss: 0.8950 - val_aux_output_loss: 0.5546\n",
      "Epoch 291/500\n",
      "13733/13733 [==============================] - 42s 3ms/step - loss: 0.0047 - main_output_loss: 0.0028 - aux_output_loss: 0.0031 - val_loss: 1.1709 - val_main_output_loss: 0.8745 - val_aux_output_loss: 0.5483\n",
      "Epoch 292/500\n",
      "13733/13733 [==============================] - 42s 3ms/step - loss: 0.0045 - main_output_loss: 0.0026 - aux_output_loss: 0.0031 - val_loss: 1.1765 - val_main_output_loss: 0.8798 - val_aux_output_loss: 0.5496\n",
      "Epoch 293/500\n",
      "13733/13733 [==============================] - 41s 3ms/step - loss: 0.0045 - main_output_loss: 0.0026 - aux_output_loss: 0.0031 - val_loss: 1.1847 - val_main_output_loss: 0.8874 - val_aux_output_loss: 0.5515\n",
      "Epoch 294/500\n",
      "13733/13733 [==============================] - 41s 3ms/step - loss: 0.0045 - main_output_loss: 0.0026 - aux_output_loss: 0.0031 - val_loss: 1.1886 - val_main_output_loss: 0.8910 - val_aux_output_loss: 0.5525\n",
      "\n",
      "Epoch 00294: saving model to ../feature_extraction/data_files/1157354_checkpoints_hybrid_500e_64b_adam/model-294.hdf5\n",
      "Epoch 295/500\n",
      "13733/13733 [==============================] - 41s 3ms/step - loss: 0.0045 - main_output_loss: 0.0025 - aux_output_loss: 0.0031 - val_loss: 1.1851 - val_main_output_loss: 0.8851 - val_aux_output_loss: 0.5550\n",
      "Epoch 296/500\n",
      "13733/13733 [==============================] - 41s 3ms/step - loss: 0.0046 - main_output_loss: 0.0026 - aux_output_loss: 0.0031 - val_loss: 1.1922 - val_main_output_loss: 0.8916 - val_aux_output_loss: 0.5569\n",
      "Epoch 297/500\n",
      "13733/13733 [==============================] - 42s 3ms/step - loss: 0.0045 - main_output_loss: 0.0025 - aux_output_loss: 0.0031 - val_loss: 1.1885 - val_main_output_loss: 0.8884 - val_aux_output_loss: 0.5556\n",
      "Epoch 298/500\n",
      "13733/13733 [==============================] - 42s 3ms/step - loss: 0.0047 - main_output_loss: 0.0027 - aux_output_loss: 0.0031 - val_loss: 1.1867 - val_main_output_loss: 0.8859 - val_aux_output_loss: 0.5564\n",
      "Epoch 299/500\n",
      "13733/13733 [==============================] - 41s 3ms/step - loss: 0.0046 - main_output_loss: 0.0027 - aux_output_loss: 0.0031 - val_loss: 1.2518 - val_main_output_loss: 0.9398 - val_aux_output_loss: 0.5800\n",
      "Epoch 300/500\n",
      "13733/13733 [==============================] - 41s 3ms/step - loss: 0.0045 - main_output_loss: 0.0025 - aux_output_loss: 0.0031 - val_loss: 1.2199 - val_main_output_loss: 0.9122 - val_aux_output_loss: 0.5699\n",
      "Epoch 301/500\n",
      "13733/13733 [==============================] - 41s 3ms/step - loss: 0.0045 - main_output_loss: 0.0025 - aux_output_loss: 0.0031 - val_loss: 1.2011 - val_main_output_loss: 0.8947 - val_aux_output_loss: 0.5656\n",
      "Epoch 302/500\n",
      "13733/13733 [==============================] - 41s 3ms/step - loss: 0.0045 - main_output_loss: 0.0026 - aux_output_loss: 0.0031 - val_loss: 1.2092 - val_main_output_loss: 0.9018 - val_aux_output_loss: 0.5681\n",
      "Epoch 303/500\n",
      "13733/13733 [==============================] - 42s 3ms/step - loss: 0.0046 - main_output_loss: 0.0027 - aux_output_loss: 0.0031 - val_loss: 1.1959 - val_main_output_loss: 0.8912 - val_aux_output_loss: 0.5627\n",
      "Epoch 304/500\n",
      "13733/13733 [==============================] - 42s 3ms/step - loss: 0.0045 - main_output_loss: 0.0026 - aux_output_loss: 0.0031 - val_loss: 1.1955 - val_main_output_loss: 0.8892 - val_aux_output_loss: 0.5647\n",
      "\n",
      "Epoch 00304: saving model to ../feature_extraction/data_files/1157354_checkpoints_hybrid_500e_64b_adam/model-304.hdf5\n",
      "Epoch 305/500\n",
      "13733/13733 [==============================] - 41s 3ms/step - loss: 0.0044 - main_output_loss: 0.0025 - aux_output_loss: 0.0031 - val_loss: 1.2095 - val_main_output_loss: 0.9029 - val_aux_output_loss: 0.5669\n",
      "Epoch 306/500\n",
      "13733/13733 [==============================] - 42s 3ms/step - loss: 0.0045 - main_output_loss: 0.0026 - aux_output_loss: 0.0031 - val_loss: 1.2092 - val_main_output_loss: 0.9014 - val_aux_output_loss: 0.5685\n",
      "Epoch 307/500\n",
      "13733/13733 [==============================] - 41s 3ms/step - loss: 0.0045 - main_output_loss: 0.0026 - aux_output_loss: 0.0031 - val_loss: 1.1985 - val_main_output_loss: 0.8921 - val_aux_output_loss: 0.5651\n",
      "Epoch 308/500\n",
      "13733/13733 [==============================] - 41s 3ms/step - loss: 0.0045 - main_output_loss: 0.0026 - aux_output_loss: 0.0031 - val_loss: 1.1984 - val_main_output_loss: 0.8880 - val_aux_output_loss: 0.5702\n",
      "Epoch 309/500\n",
      "13733/13733 [==============================] - 42s 3ms/step - loss: 0.0046 - main_output_loss: 0.0027 - aux_output_loss: 0.0031 - val_loss: 1.1971 - val_main_output_loss: 0.8853 - val_aux_output_loss: 0.5719\n",
      "Epoch 310/500\n",
      "13733/13733 [==============================] - 42s 3ms/step - loss: 0.0046 - main_output_loss: 0.0027 - aux_output_loss: 0.0031 - val_loss: 1.2143 - val_main_output_loss: 0.8990 - val_aux_output_loss: 0.5789\n",
      "Epoch 311/500\n",
      "13733/13733 [==============================] - 41s 3ms/step - loss: 0.0045 - main_output_loss: 0.0026 - aux_output_loss: 0.0031 - val_loss: 1.2048 - val_main_output_loss: 0.8898 - val_aux_output_loss: 0.5771\n",
      "Epoch 312/500\n",
      "13733/13733 [==============================] - 41s 3ms/step - loss: 0.0045 - main_output_loss: 0.0026 - aux_output_loss: 0.0031 - val_loss: 1.2221 - val_main_output_loss: 0.9065 - val_aux_output_loss: 0.5804\n",
      "Epoch 313/500\n",
      "13733/13733 [==============================] - 42s 3ms/step - loss: 0.0046 - main_output_loss: 0.0026 - aux_output_loss: 0.0031 - val_loss: 1.2543 - val_main_output_loss: 0.9306 - val_aux_output_loss: 0.5953\n",
      "Epoch 314/500\n",
      "13733/13733 [==============================] - 42s 3ms/step - loss: 0.0045 - main_output_loss: 0.0026 - aux_output_loss: 0.0031 - val_loss: 1.2311 - val_main_output_loss: 0.9111 - val_aux_output_loss: 0.5873\n",
      "\n",
      "Epoch 00314: saving model to ../feature_extraction/data_files/1157354_checkpoints_hybrid_500e_64b_adam/model-314.hdf5\n",
      "Epoch 315/500\n",
      "13733/13733 [==============================] - 42s 3ms/step - loss: 0.0045 - main_output_loss: 0.0026 - aux_output_loss: 0.0031 - val_loss: 1.2278 - val_main_output_loss: 0.9043 - val_aux_output_loss: 0.5913\n"
     ]
    },
    {
     "name": "stdout",
     "output_type": "stream",
     "text": [
      "Epoch 316/500\n",
      "13733/13733 [==============================] - 41s 3ms/step - loss: 0.0045 - main_output_loss: 0.0025 - aux_output_loss: 0.0031 - val_loss: 1.2439 - val_main_output_loss: 0.9186 - val_aux_output_loss: 0.5960\n",
      "Epoch 317/500\n",
      "13733/13733 [==============================] - 41s 3ms/step - loss: 0.0044 - main_output_loss: 0.0025 - aux_output_loss: 0.0031 - val_loss: 1.2449 - val_main_output_loss: 0.9183 - val_aux_output_loss: 0.5978\n",
      "Epoch 318/500\n",
      "13733/13733 [==============================] - 41s 3ms/step - loss: 0.0047 - main_output_loss: 0.0028 - aux_output_loss: 0.0031 - val_loss: 1.2352 - val_main_output_loss: 0.9068 - val_aux_output_loss: 0.5987\n",
      "Epoch 319/500\n",
      "13733/13733 [==============================] - 41s 3ms/step - loss: 0.0046 - main_output_loss: 0.0027 - aux_output_loss: 0.0031 - val_loss: 1.2410 - val_main_output_loss: 0.9112 - val_aux_output_loss: 0.6013\n",
      "Epoch 320/500\n",
      "13733/13733 [==============================] - 41s 3ms/step - loss: 0.0046 - main_output_loss: 0.0027 - aux_output_loss: 0.0031 - val_loss: 1.2437 - val_main_output_loss: 0.9112 - val_aux_output_loss: 0.6051\n",
      "Epoch 321/500\n",
      "13733/13733 [==============================] - 42s 3ms/step - loss: 0.0045 - main_output_loss: 0.0026 - aux_output_loss: 0.0031 - val_loss: 1.2493 - val_main_output_loss: 0.9136 - val_aux_output_loss: 0.6100\n",
      "Epoch 322/500\n",
      "13733/13733 [==============================] - 42s 3ms/step - loss: 0.0045 - main_output_loss: 0.0026 - aux_output_loss: 0.0031 - val_loss: 1.2623 - val_main_output_loss: 0.9258 - val_aux_output_loss: 0.6129\n",
      "Epoch 323/500\n",
      "13733/13733 [==============================] - 42s 3ms/step - loss: 0.0045 - main_output_loss: 0.0026 - aux_output_loss: 0.0031 - val_loss: 1.2467 - val_main_output_loss: 0.9065 - val_aux_output_loss: 0.6154\n",
      "Epoch 324/500\n",
      "13733/13733 [==============================] - 42s 3ms/step - loss: 0.0046 - main_output_loss: 0.0026 - aux_output_loss: 0.0031 - val_loss: 1.2695 - val_main_output_loss: 0.9279 - val_aux_output_loss: 0.6206\n",
      "\n",
      "Epoch 00324: saving model to ../feature_extraction/data_files/1157354_checkpoints_hybrid_500e_64b_adam/model-324.hdf5\n",
      "Epoch 325/500\n",
      "13733/13733 [==============================] - 40s 3ms/step - loss: 0.0045 - main_output_loss: 0.0026 - aux_output_loss: 0.0031 - val_loss: 1.2711 - val_main_output_loss: 0.9258 - val_aux_output_loss: 0.6255\n",
      "Epoch 326/500\n",
      "13733/13733 [==============================] - 42s 3ms/step - loss: 0.0045 - main_output_loss: 0.0026 - aux_output_loss: 0.0031 - val_loss: 1.2875 - val_main_output_loss: 0.9419 - val_aux_output_loss: 0.6282\n",
      "Epoch 327/500\n",
      "13733/13733 [==============================] - 42s 3ms/step - loss: 0.0045 - main_output_loss: 0.0026 - aux_output_loss: 0.0031 - val_loss: 1.2826 - val_main_output_loss: 0.9338 - val_aux_output_loss: 0.6318\n",
      "Epoch 328/500\n",
      "13733/13733 [==============================] - 40s 3ms/step - loss: 0.0044 - main_output_loss: 0.0025 - aux_output_loss: 0.0031 - val_loss: 1.2681 - val_main_output_loss: 0.9144 - val_aux_output_loss: 0.6359\n",
      "Epoch 329/500\n",
      "13733/13733 [==============================] - 41s 3ms/step - loss: 0.0046 - main_output_loss: 0.0027 - aux_output_loss: 0.0031 - val_loss: 1.2870 - val_main_output_loss: 0.9323 - val_aux_output_loss: 0.6400\n",
      "Epoch 330/500\n",
      "13733/13733 [==============================] - 41s 3ms/step - loss: 0.0046 - main_output_loss: 0.0027 - aux_output_loss: 0.0031 - val_loss: 1.2842 - val_main_output_loss: 0.9271 - val_aux_output_loss: 0.6425\n",
      "Epoch 331/500\n",
      "13733/13733 [==============================] - 42s 3ms/step - loss: 0.0045 - main_output_loss: 0.0026 - aux_output_loss: 0.0031 - val_loss: 1.3112 - val_main_output_loss: 0.9487 - val_aux_output_loss: 0.6534\n",
      "Epoch 332/500\n",
      "13733/13733 [==============================] - 42s 3ms/step - loss: 0.0045 - main_output_loss: 0.0026 - aux_output_loss: 0.0031 - val_loss: 1.2963 - val_main_output_loss: 0.9296 - val_aux_output_loss: 0.6568\n",
      "Epoch 333/500\n",
      "13733/13733 [==============================] - 41s 3ms/step - loss: 0.0045 - main_output_loss: 0.0026 - aux_output_loss: 0.0031 - val_loss: 1.3063 - val_main_output_loss: 0.9378 - val_aux_output_loss: 0.6604\n",
      "Epoch 334/500\n",
      "13733/13733 [==============================] - 41s 3ms/step - loss: 0.0044 - main_output_loss: 0.0025 - aux_output_loss: 0.0031 - val_loss: 1.3064 - val_main_output_loss: 0.9353 - val_aux_output_loss: 0.6636\n",
      "\n",
      "Epoch 00334: saving model to ../feature_extraction/data_files/1157354_checkpoints_hybrid_500e_64b_adam/model-334.hdf5\n",
      "Epoch 335/500\n",
      "13733/13733 [==============================] - 41s 3ms/step - loss: 0.0045 - main_output_loss: 0.0025 - aux_output_loss: 0.0031 - val_loss: 1.3088 - val_main_output_loss: 0.9353 - val_aux_output_loss: 0.6673\n",
      "Epoch 336/500\n",
      "13733/13733 [==============================] - 43s 3ms/step - loss: 0.0045 - main_output_loss: 0.0026 - aux_output_loss: 0.0031 - val_loss: 1.3112 - val_main_output_loss: 0.9356 - val_aux_output_loss: 0.6702\n",
      "Epoch 337/500\n",
      "13733/13733 [==============================] - 42s 3ms/step - loss: 0.0046 - main_output_loss: 0.0027 - aux_output_loss: 0.0031 - val_loss: 1.3304 - val_main_output_loss: 0.9545 - val_aux_output_loss: 0.6733\n",
      "Epoch 338/500\n",
      "13733/13733 [==============================] - 42s 3ms/step - loss: 0.0044 - main_output_loss: 0.0025 - aux_output_loss: 0.0031 - val_loss: 1.3216 - val_main_output_loss: 0.9429 - val_aux_output_loss: 0.6757\n",
      "Epoch 339/500\n",
      "13733/13733 [==============================] - 42s 3ms/step - loss: 0.0045 - main_output_loss: 0.0025 - aux_output_loss: 0.0031 - val_loss: 1.3385 - val_main_output_loss: 0.9586 - val_aux_output_loss: 0.6797\n",
      "Epoch 340/500\n",
      "13733/13733 [==============================] - 41s 3ms/step - loss: 0.0045 - main_output_loss: 0.0026 - aux_output_loss: 0.0031 - val_loss: 1.3520 - val_main_output_loss: 0.9701 - val_aux_output_loss: 0.6841\n",
      "Epoch 341/500\n",
      "13733/13733 [==============================] - 42s 3ms/step - loss: 0.0046 - main_output_loss: 0.0027 - aux_output_loss: 0.0031 - val_loss: 1.3577 - val_main_output_loss: 0.9742 - val_aux_output_loss: 0.6870\n",
      "Epoch 342/500\n",
      "13733/13733 [==============================] - 42s 3ms/step - loss: 0.0045 - main_output_loss: 0.0026 - aux_output_loss: 0.0031 - val_loss: 1.3529 - val_main_output_loss: 0.9649 - val_aux_output_loss: 0.6921\n",
      "Epoch 343/500\n",
      "13733/13733 [==============================] - 41s 3ms/step - loss: 0.0044 - main_output_loss: 0.0025 - aux_output_loss: 0.0031 - val_loss: 1.3725 - val_main_output_loss: 0.9840 - val_aux_output_loss: 0.6956\n",
      "Epoch 344/500\n",
      "13733/13733 [==============================] - 42s 3ms/step - loss: 0.0045 - main_output_loss: 0.0025 - aux_output_loss: 0.0031 - val_loss: 1.3477 - val_main_output_loss: 0.9567 - val_aux_output_loss: 0.6952\n",
      "\n",
      "Epoch 00344: saving model to ../feature_extraction/data_files/1157354_checkpoints_hybrid_500e_64b_adam/model-344.hdf5\n",
      "Epoch 345/500\n",
      "13733/13733 [==============================] - 40s 3ms/step - loss: 0.0046 - main_output_loss: 0.0026 - aux_output_loss: 0.0032 - val_loss: 1.3923 - val_main_output_loss: 0.9951 - val_aux_output_loss: 0.7096\n",
      "Epoch 346/500\n",
      "13733/13733 [==============================] - 42s 3ms/step - loss: 0.0065 - main_output_loss: 0.0041 - aux_output_loss: 0.0041 - val_loss: 1.5176 - val_main_output_loss: 1.2018 - val_aux_output_loss: 0.6228\n",
      "Epoch 347/500\n",
      "13733/13733 [==============================] - 42s 3ms/step - loss: 0.0135 - main_output_loss: 0.0093 - aux_output_loss: 0.0073 - val_loss: 0.9238 - val_main_output_loss: 0.6177 - val_aux_output_loss: 0.5254\n",
      "Epoch 348/500\n",
      "13733/13733 [==============================] - 42s 3ms/step - loss: 0.0075 - main_output_loss: 0.0051 - aux_output_loss: 0.0041 - val_loss: 0.8794 - val_main_output_loss: 0.5565 - val_aux_output_loss: 0.5408\n",
      "Epoch 349/500\n",
      "13733/13733 [==============================] - 43s 3ms/step - loss: 0.0065 - main_output_loss: 0.0041 - aux_output_loss: 0.0040 - val_loss: 0.7368 - val_main_output_loss: 0.4654 - val_aux_output_loss: 0.4542\n",
      "Epoch 350/500\n",
      "13733/13733 [==============================] - 42s 3ms/step - loss: 0.0054 - main_output_loss: 0.0032 - aux_output_loss: 0.0036 - val_loss: 0.6891 - val_main_output_loss: 0.4205 - val_aux_output_loss: 0.4437\n",
      "Epoch 351/500\n",
      "13733/13733 [==============================] - 41s 3ms/step - loss: 0.0047 - main_output_loss: 0.0027 - aux_output_loss: 0.0033 - val_loss: 0.7890 - val_main_output_loss: 0.4882 - val_aux_output_loss: 0.4994\n",
      "Epoch 352/500\n",
      "13733/13733 [==============================] - 42s 3ms/step - loss: 0.0045 - main_output_loss: 0.0026 - aux_output_loss: 0.0032 - val_loss: 0.7957 - val_main_output_loss: 0.4969 - val_aux_output_loss: 0.4979\n",
      "Epoch 353/500\n",
      "13733/13733 [==============================] - 42s 3ms/step - loss: 0.0045 - main_output_loss: 0.0026 - aux_output_loss: 0.0032 - val_loss: 0.8027 - val_main_output_loss: 0.5049 - val_aux_output_loss: 0.4977\n",
      "Epoch 354/500\n",
      "13733/13733 [==============================] - 42s 3ms/step - loss: 0.0045 - main_output_loss: 0.0025 - aux_output_loss: 0.0032 - val_loss: 0.8142 - val_main_output_loss: 0.5166 - val_aux_output_loss: 0.4989\n",
      "\n",
      "Epoch 00354: saving model to ../feature_extraction/data_files/1157354_checkpoints_hybrid_500e_64b_adam/model-354.hdf5\n",
      "Epoch 355/500\n",
      "13733/13733 [==============================] - 42s 3ms/step - loss: 0.0045 - main_output_loss: 0.0026 - aux_output_loss: 0.0032 - val_loss: 0.8194 - val_main_output_loss: 0.5218 - val_aux_output_loss: 0.4996\n",
      "Epoch 356/500\n",
      "13733/13733 [==============================] - 41s 3ms/step - loss: 0.0045 - main_output_loss: 0.0026 - aux_output_loss: 0.0032 - val_loss: 0.8232 - val_main_output_loss: 0.5255 - val_aux_output_loss: 0.5004\n",
      "Epoch 357/500\n",
      "13733/13733 [==============================] - 41s 3ms/step - loss: 0.0046 - main_output_loss: 0.0027 - aux_output_loss: 0.0032 - val_loss: 0.8322 - val_main_output_loss: 0.5349 - val_aux_output_loss: 0.5012\n",
      "Epoch 358/500\n",
      "13733/13733 [==============================] - 42s 3ms/step - loss: 0.0045 - main_output_loss: 0.0026 - aux_output_loss: 0.0032 - val_loss: 0.8346 - val_main_output_loss: 0.5376 - val_aux_output_loss: 0.5011\n",
      "Epoch 359/500\n",
      "13733/13733 [==============================] - 42s 3ms/step - loss: 0.0045 - main_output_loss: 0.0025 - aux_output_loss: 0.0032 - val_loss: 0.8390 - val_main_output_loss: 0.5415 - val_aux_output_loss: 0.5024\n",
      "Epoch 360/500\n",
      "13733/13733 [==============================] - 41s 3ms/step - loss: 0.0046 - main_output_loss: 0.0026 - aux_output_loss: 0.0031 - val_loss: 0.8445 - val_main_output_loss: 0.5472 - val_aux_output_loss: 0.5028\n",
      "Epoch 361/500\n",
      "13733/13733 [==============================] - 40s 3ms/step - loss: 0.0046 - main_output_loss: 0.0026 - aux_output_loss: 0.0032 - val_loss: 0.8477 - val_main_output_loss: 0.5491 - val_aux_output_loss: 0.5050\n",
      "Epoch 362/500\n",
      "13733/13733 [==============================] - 42s 3ms/step - loss: 0.0046 - main_output_loss: 0.0027 - aux_output_loss: 0.0031 - val_loss: 0.8597 - val_main_output_loss: 0.5619 - val_aux_output_loss: 0.5058\n",
      "Epoch 363/500\n",
      "13733/13733 [==============================] - 42s 3ms/step - loss: 0.0045 - main_output_loss: 0.0026 - aux_output_loss: 0.0031 - val_loss: 0.8685 - val_main_output_loss: 0.5701 - val_aux_output_loss: 0.5077\n",
      "Epoch 364/500\n",
      "13733/13733 [==============================] - 41s 3ms/step - loss: 0.0045 - main_output_loss: 0.0026 - aux_output_loss: 0.0031 - val_loss: 0.8670 - val_main_output_loss: 0.5673 - val_aux_output_loss: 0.5092\n",
      "\n",
      "Epoch 00364: saving model to ../feature_extraction/data_files/1157354_checkpoints_hybrid_500e_64b_adam/model-364.hdf5\n",
      "Epoch 365/500\n",
      "13733/13733 [==============================] - 41s 3ms/step - loss: 0.0045 - main_output_loss: 0.0025 - aux_output_loss: 0.0031 - val_loss: 0.8749 - val_main_output_loss: 0.5728 - val_aux_output_loss: 0.5133\n",
      "Epoch 366/500\n",
      "13733/13733 [==============================] - 40s 3ms/step - loss: 0.0046 - main_output_loss: 0.0027 - aux_output_loss: 0.0031 - val_loss: 0.8693 - val_main_output_loss: 0.5659 - val_aux_output_loss: 0.5142\n",
      "Epoch 367/500\n",
      "13733/13733 [==============================] - 41s 3ms/step - loss: 0.0045 - main_output_loss: 0.0026 - aux_output_loss: 0.0031 - val_loss: 0.8768 - val_main_output_loss: 0.5739 - val_aux_output_loss: 0.5148\n",
      "Epoch 368/500\n",
      "13733/13733 [==============================] - 42s 3ms/step - loss: 0.0044 - main_output_loss: 0.0025 - aux_output_loss: 0.0031 - val_loss: 0.8848 - val_main_output_loss: 0.5822 - val_aux_output_loss: 0.5153\n",
      "Epoch 369/500\n",
      "13733/13733 [==============================] - 41s 3ms/step - loss: 0.0044 - main_output_loss: 0.0025 - aux_output_loss: 0.0031 - val_loss: 0.8956 - val_main_output_loss: 0.5930 - val_aux_output_loss: 0.5169\n",
      "Epoch 370/500\n",
      "13733/13733 [==============================] - 41s 3ms/step - loss: 0.0044 - main_output_loss: 0.0025 - aux_output_loss: 0.0031 - val_loss: 0.9032 - val_main_output_loss: 0.6000 - val_aux_output_loss: 0.5188\n",
      "Epoch 371/500\n",
      "13733/13733 [==============================] - 42s 3ms/step - loss: 0.0044 - main_output_loss: 0.0025 - aux_output_loss: 0.0031 - val_loss: 0.9074 - val_main_output_loss: 0.6042 - val_aux_output_loss: 0.5195\n",
      "Epoch 372/500\n",
      "13733/13733 [==============================] - 40s 3ms/step - loss: 0.0045 - main_output_loss: 0.0026 - aux_output_loss: 0.0031 - val_loss: 0.9080 - val_main_output_loss: 0.6037 - val_aux_output_loss: 0.5209\n",
      "Epoch 373/500\n",
      "13733/13733 [==============================] - 41s 3ms/step - loss: 0.0046 - main_output_loss: 0.0027 - aux_output_loss: 0.0031 - val_loss: 0.9130 - val_main_output_loss: 0.6085 - val_aux_output_loss: 0.5220\n",
      "Epoch 374/500\n",
      "13733/13733 [==============================] - 42s 3ms/step - loss: 0.0044 - main_output_loss: 0.0025 - aux_output_loss: 0.0031 - val_loss: 0.9260 - val_main_output_loss: 0.6221 - val_aux_output_loss: 0.5230\n",
      "\n",
      "Epoch 00374: saving model to ../feature_extraction/data_files/1157354_checkpoints_hybrid_500e_64b_adam/model-374.hdf5\n",
      "Epoch 375/500\n",
      "13733/13733 [==============================] - 42s 3ms/step - loss: 0.0045 - main_output_loss: 0.0026 - aux_output_loss: 0.0031 - val_loss: 0.9173 - val_main_output_loss: 0.6112 - val_aux_output_loss: 0.5246\n",
      "Epoch 376/500\n",
      "13733/13733 [==============================] - 41s 3ms/step - loss: 0.0045 - main_output_loss: 0.0025 - aux_output_loss: 0.0031 - val_loss: 0.9196 - val_main_output_loss: 0.6130 - val_aux_output_loss: 0.5255\n",
      "Epoch 377/500\n",
      "13733/13733 [==============================] - 40s 3ms/step - loss: 0.0044 - main_output_loss: 0.0025 - aux_output_loss: 0.0031 - val_loss: 0.9416 - val_main_output_loss: 0.6360 - val_aux_output_loss: 0.5274\n",
      "Epoch 378/500\n",
      "13733/13733 [==============================] - 42s 3ms/step - loss: 0.0044 - main_output_loss: 0.0025 - aux_output_loss: 0.0031 - val_loss: 0.9410 - val_main_output_loss: 0.6339 - val_aux_output_loss: 0.5293\n",
      "Epoch 379/500\n",
      "13733/13733 [==============================] - 42s 3ms/step - loss: 0.0043 - main_output_loss: 0.0024 - aux_output_loss: 0.0031 - val_loss: 0.9566 - val_main_output_loss: 0.6500 - val_aux_output_loss: 0.5309\n",
      "Epoch 380/500\n",
      "13733/13733 [==============================] - 40s 3ms/step - loss: 0.0046 - main_output_loss: 0.0027 - aux_output_loss: 0.0031 - val_loss: 0.9696 - val_main_output_loss: 0.6625 - val_aux_output_loss: 0.5334\n",
      "Epoch 381/500\n",
      "13733/13733 [==============================] - 42s 3ms/step - loss: 0.0047 - main_output_loss: 0.0028 - aux_output_loss: 0.0031 - val_loss: 0.9369 - val_main_output_loss: 0.6317 - val_aux_output_loss: 0.5261\n",
      "Epoch 382/500\n",
      "13733/13733 [==============================] - 42s 3ms/step - loss: 0.0045 - main_output_loss: 0.0026 - aux_output_loss: 0.0031 - val_loss: 0.9415 - val_main_output_loss: 0.6364 - val_aux_output_loss: 0.5269\n",
      "Epoch 383/500\n",
      "13733/13733 [==============================] - 40s 3ms/step - loss: 0.0046 - main_output_loss: 0.0027 - aux_output_loss: 0.0031 - val_loss: 0.9403 - val_main_output_loss: 0.6327 - val_aux_output_loss: 0.5299\n",
      "Epoch 384/500\n",
      "13733/13733 [==============================] - 41s 3ms/step - loss: 0.0045 - main_output_loss: 0.0026 - aux_output_loss: 0.0031 - val_loss: 0.9570 - val_main_output_loss: 0.6499 - val_aux_output_loss: 0.5316\n",
      "\n",
      "Epoch 00384: saving model to ../feature_extraction/data_files/1157354_checkpoints_hybrid_500e_64b_adam/model-384.hdf5\n",
      "Epoch 385/500\n",
      "13733/13733 [==============================] - 42s 3ms/step - loss: 0.0044 - main_output_loss: 0.0025 - aux_output_loss: 0.0031 - val_loss: 0.9744 - val_main_output_loss: 0.6672 - val_aux_output_loss: 0.5342\n"
     ]
    },
    {
     "name": "stdout",
     "output_type": "stream",
     "text": [
      "Epoch 386/500\n",
      "13733/13733 [==============================] - 42s 3ms/step - loss: 0.0045 - main_output_loss: 0.0025 - aux_output_loss: 0.0031 - val_loss: 0.9836 - val_main_output_loss: 0.6754 - val_aux_output_loss: 0.5367\n",
      "Epoch 387/500\n",
      "13733/13733 [==============================] - 42s 3ms/step - loss: 0.0044 - main_output_loss: 0.0025 - aux_output_loss: 0.0031 - val_loss: 0.9864 - val_main_output_loss: 0.6766 - val_aux_output_loss: 0.5392\n",
      "Epoch 388/500\n",
      "13733/13733 [==============================] - 40s 3ms/step - loss: 0.0045 - main_output_loss: 0.0026 - aux_output_loss: 0.0031 - val_loss: 1.0006 - val_main_output_loss: 0.6904 - val_aux_output_loss: 0.5418\n",
      "Epoch 389/500\n",
      "13733/13733 [==============================] - 41s 3ms/step - loss: 0.0045 - main_output_loss: 0.0026 - aux_output_loss: 0.0031 - val_loss: 0.9837 - val_main_output_loss: 0.6696 - val_aux_output_loss: 0.5444\n",
      "Epoch 390/500\n",
      "13733/13733 [==============================] - 42s 3ms/step - loss: 0.0044 - main_output_loss: 0.0025 - aux_output_loss: 0.0031 - val_loss: 0.9960 - val_main_output_loss: 0.6822 - val_aux_output_loss: 0.5457\n",
      "Epoch 391/500\n",
      "13733/13733 [==============================] - 42s 3ms/step - loss: 0.0045 - main_output_loss: 0.0026 - aux_output_loss: 0.0031 - val_loss: 0.9994 - val_main_output_loss: 0.6859 - val_aux_output_loss: 0.5458\n",
      "Epoch 392/500\n",
      "13733/13733 [==============================] - 42s 3ms/step - loss: 0.0045 - main_output_loss: 0.0026 - aux_output_loss: 0.0031 - val_loss: 0.9987 - val_main_output_loss: 0.6827 - val_aux_output_loss: 0.5490\n",
      "Epoch 393/500\n",
      "13733/13733 [==============================] - 41s 3ms/step - loss: 0.0045 - main_output_loss: 0.0026 - aux_output_loss: 0.0031 - val_loss: 1.0064 - val_main_output_loss: 0.6888 - val_aux_output_loss: 0.5521\n",
      "Epoch 394/500\n",
      "13733/13733 [==============================] - 41s 3ms/step - loss: 0.0045 - main_output_loss: 0.0025 - aux_output_loss: 0.0032 - val_loss: 1.0251 - val_main_output_loss: 0.7080 - val_aux_output_loss: 0.5541\n",
      "\n",
      "Epoch 00394: saving model to ../feature_extraction/data_files/1157354_checkpoints_hybrid_500e_64b_adam/model-394.hdf5\n",
      "Epoch 395/500\n",
      "13733/13733 [==============================] - 41s 3ms/step - loss: 0.0045 - main_output_loss: 0.0025 - aux_output_loss: 0.0031 - val_loss: 1.0118 - val_main_output_loss: 0.6891 - val_aux_output_loss: 0.5594\n",
      "Epoch 396/500\n",
      "13733/13733 [==============================] - 42s 3ms/step - loss: 0.0045 - main_output_loss: 0.0025 - aux_output_loss: 0.0031 - val_loss: 1.0377 - val_main_output_loss: 0.7155 - val_aux_output_loss: 0.5625\n",
      "Epoch 397/500\n",
      "13733/13733 [==============================] - 42s 3ms/step - loss: 0.0045 - main_output_loss: 0.0025 - aux_output_loss: 0.0031 - val_loss: 1.0569 - val_main_output_loss: 0.7262 - val_aux_output_loss: 0.5762\n",
      "Epoch 398/500\n",
      "13733/13733 [==============================] - 42s 3ms/step - loss: 0.0045 - main_output_loss: 0.0026 - aux_output_loss: 0.0031 - val_loss: 1.0433 - val_main_output_loss: 0.7102 - val_aux_output_loss: 0.5774\n",
      "Epoch 399/500\n",
      "13733/13733 [==============================] - 42s 3ms/step - loss: 0.0045 - main_output_loss: 0.0025 - aux_output_loss: 0.0031 - val_loss: 1.0651 - val_main_output_loss: 0.7321 - val_aux_output_loss: 0.5802\n",
      "Epoch 400/500\n",
      "13733/13733 [==============================] - 41s 3ms/step - loss: 0.0044 - main_output_loss: 0.0025 - aux_output_loss: 0.0031 - val_loss: 1.0920 - val_main_output_loss: 0.7598 - val_aux_output_loss: 0.5831\n",
      "Epoch 401/500\n",
      "13733/13733 [==============================] - 40s 3ms/step - loss: 0.0044 - main_output_loss: 0.0025 - aux_output_loss: 0.0031 - val_loss: 1.1289 - val_main_output_loss: 0.7991 - val_aux_output_loss: 0.5853\n",
      "Epoch 402/500\n",
      "13733/13733 [==============================] - 42s 3ms/step - loss: 0.0044 - main_output_loss: 0.0025 - aux_output_loss: 0.0031 - val_loss: 1.0982 - val_main_output_loss: 0.7619 - val_aux_output_loss: 0.5892\n",
      "Epoch 403/500\n",
      "13733/13733 [==============================] - 41s 3ms/step - loss: 0.0045 - main_output_loss: 0.0026 - aux_output_loss: 0.0031 - val_loss: 1.1008 - val_main_output_loss: 0.7620 - val_aux_output_loss: 0.5929\n",
      "Epoch 404/500\n",
      "13733/13733 [==============================] - 42s 3ms/step - loss: 0.0044 - main_output_loss: 0.0025 - aux_output_loss: 0.0031 - val_loss: 1.1051 - val_main_output_loss: 0.7645 - val_aux_output_loss: 0.5957\n",
      "\n",
      "Epoch 00404: saving model to ../feature_extraction/data_files/1157354_checkpoints_hybrid_500e_64b_adam/model-404.hdf5\n",
      "Epoch 405/500\n",
      "13733/13733 [==============================] - 41s 3ms/step - loss: 0.0044 - main_output_loss: 0.0025 - aux_output_loss: 0.0031 - val_loss: 1.1104 - val_main_output_loss: 0.7691 - val_aux_output_loss: 0.5974\n",
      "Epoch 406/500\n",
      "13733/13733 [==============================] - 40s 3ms/step - loss: 0.0046 - main_output_loss: 0.0027 - aux_output_loss: 0.0031 - val_loss: 1.1465 - val_main_output_loss: 0.8062 - val_aux_output_loss: 0.6014\n",
      "Epoch 407/500\n",
      "13733/13733 [==============================] - 42s 3ms/step - loss: 0.0044 - main_output_loss: 0.0025 - aux_output_loss: 0.0031 - val_loss: 1.1572 - val_main_output_loss: 0.8180 - val_aux_output_loss: 0.6014\n",
      "Epoch 408/500\n",
      "13733/13733 [==============================] - 42s 3ms/step - loss: 0.0044 - main_output_loss: 0.0024 - aux_output_loss: 0.0031 - val_loss: 1.1245 - val_main_output_loss: 0.7840 - val_aux_output_loss: 0.5984\n",
      "Epoch 409/500\n",
      "13733/13733 [==============================] - 41s 3ms/step - loss: 0.0044 - main_output_loss: 0.0025 - aux_output_loss: 0.0031 - val_loss: 1.1325 - val_main_output_loss: 0.7939 - val_aux_output_loss: 0.5970\n",
      "Epoch 410/500\n",
      "13733/13733 [==============================] - 42s 3ms/step - loss: 0.0046 - main_output_loss: 0.0027 - aux_output_loss: 0.0032 - val_loss: 1.1304 - val_main_output_loss: 0.7845 - val_aux_output_loss: 0.6061\n",
      "Epoch 411/500\n",
      "13733/13733 [==============================] - 41s 3ms/step - loss: 0.0048 - main_output_loss: 0.0029 - aux_output_loss: 0.0031 - val_loss: 1.1726 - val_main_output_loss: 0.8264 - val_aux_output_loss: 0.6126\n",
      "Epoch 412/500\n",
      "13733/13733 [==============================] - 41s 3ms/step - loss: 0.0045 - main_output_loss: 0.0026 - aux_output_loss: 0.0031 - val_loss: 1.1509 - val_main_output_loss: 0.7991 - val_aux_output_loss: 0.6166\n",
      "Epoch 413/500\n",
      "13733/13733 [==============================] - 41s 3ms/step - loss: 0.0045 - main_output_loss: 0.0026 - aux_output_loss: 0.0031 - val_loss: 1.1582 - val_main_output_loss: 0.8041 - val_aux_output_loss: 0.6208\n",
      "Epoch 414/500\n",
      "13733/13733 [==============================] - 41s 3ms/step - loss: 0.0044 - main_output_loss: 0.0025 - aux_output_loss: 0.0031 - val_loss: 1.1535 - val_main_output_loss: 0.7969 - val_aux_output_loss: 0.6232\n",
      "\n",
      "Epoch 00414: saving model to ../feature_extraction/data_files/1157354_checkpoints_hybrid_500e_64b_adam/model-414.hdf5\n",
      "Epoch 415/500\n",
      "13733/13733 [==============================] - 41s 3ms/step - loss: 0.0044 - main_output_loss: 0.0025 - aux_output_loss: 0.0031 - val_loss: 1.1851 - val_main_output_loss: 0.8286 - val_aux_output_loss: 0.6277\n",
      "Epoch 416/500\n",
      "13733/13733 [==============================] - 41s 3ms/step - loss: 0.0044 - main_output_loss: 0.0025 - aux_output_loss: 0.0031 - val_loss: 1.1962 - val_main_output_loss: 0.8381 - val_aux_output_loss: 0.6313\n",
      "Epoch 417/500\n",
      "13733/13733 [==============================] - 42s 3ms/step - loss: 0.0043 - main_output_loss: 0.0024 - aux_output_loss: 0.0031 - val_loss: 1.2165 - val_main_output_loss: 0.8578 - val_aux_output_loss: 0.6349\n",
      "Epoch 418/500\n",
      "13733/13733 [==============================] - 42s 3ms/step - loss: 0.0047 - main_output_loss: 0.0028 - aux_output_loss: 0.0031 - val_loss: 1.1895 - val_main_output_loss: 0.8243 - val_aux_output_loss: 0.6395\n",
      "Epoch 419/500\n",
      "13733/13733 [==============================] - 41s 3ms/step - loss: 0.0046 - main_output_loss: 0.0027 - aux_output_loss: 0.0031 - val_loss: 1.1862 - val_main_output_loss: 0.8197 - val_aux_output_loss: 0.6406\n",
      "Epoch 420/500\n",
      "13733/13733 [==============================] - 42s 3ms/step - loss: 0.0045 - main_output_loss: 0.0026 - aux_output_loss: 0.0031 - val_loss: 1.1821 - val_main_output_loss: 0.8129 - val_aux_output_loss: 0.6436\n",
      "Epoch 421/500\n",
      "13733/13733 [==============================] - 40s 3ms/step - loss: 0.0044 - main_output_loss: 0.0025 - aux_output_loss: 0.0031 - val_loss: 1.1981 - val_main_output_loss: 0.8283 - val_aux_output_loss: 0.6466\n",
      "Epoch 422/500\n",
      "13733/13733 [==============================] - 42s 3ms/step - loss: 0.0044 - main_output_loss: 0.0025 - aux_output_loss: 0.0031 - val_loss: 1.2113 - val_main_output_loss: 0.8417 - val_aux_output_loss: 0.6483\n",
      "Epoch 423/500\n",
      "13733/13733 [==============================] - 42s 3ms/step - loss: 0.0044 - main_output_loss: 0.0025 - aux_output_loss: 0.0031 - val_loss: 1.2082 - val_main_output_loss: 0.8338 - val_aux_output_loss: 0.6541\n",
      "Epoch 424/500\n",
      "13733/13733 [==============================] - 42s 3ms/step - loss: 0.0045 - main_output_loss: 0.0026 - aux_output_loss: 0.0031 - val_loss: 1.2358 - val_main_output_loss: 0.8602 - val_aux_output_loss: 0.6594\n",
      "\n",
      "Epoch 00424: saving model to ../feature_extraction/data_files/1157354_checkpoints_hybrid_500e_64b_adam/model-424.hdf5\n",
      "Epoch 425/500\n",
      "13733/13733 [==============================] - 42s 3ms/step - loss: 0.0044 - main_output_loss: 0.0025 - aux_output_loss: 0.0031 - val_loss: 1.2364 - val_main_output_loss: 0.8590 - val_aux_output_loss: 0.6618\n",
      "Epoch 426/500\n",
      "13733/13733 [==============================] - 41s 3ms/step - loss: 0.0044 - main_output_loss: 0.0025 - aux_output_loss: 0.0031 - val_loss: 1.2551 - val_main_output_loss: 0.8767 - val_aux_output_loss: 0.6659\n",
      "Epoch 427/500\n",
      "13733/13733 [==============================] - 41s 3ms/step - loss: 0.0043 - main_output_loss: 0.0024 - aux_output_loss: 0.0031 - val_loss: 1.2609 - val_main_output_loss: 0.8816 - val_aux_output_loss: 0.6677\n",
      "Epoch 428/500\n",
      "13733/13733 [==============================] - 41s 3ms/step - loss: 0.0045 - main_output_loss: 0.0026 - aux_output_loss: 0.0031 - val_loss: 1.2355 - val_main_output_loss: 0.8510 - val_aux_output_loss: 0.6709\n",
      "Epoch 429/500\n",
      "13733/13733 [==============================] - 40s 3ms/step - loss: 0.0047 - main_output_loss: 0.0028 - aux_output_loss: 0.0031 - val_loss: 1.2465 - val_main_output_loss: 0.8604 - val_aux_output_loss: 0.6745\n",
      "Epoch 430/500\n",
      "13733/13733 [==============================] - 41s 3ms/step - loss: 0.0044 - main_output_loss: 0.0025 - aux_output_loss: 0.0031 - val_loss: 1.2591 - val_main_output_loss: 0.8716 - val_aux_output_loss: 0.6780\n",
      "Epoch 431/500\n",
      "13733/13733 [==============================] - 42s 3ms/step - loss: 0.0043 - main_output_loss: 0.0024 - aux_output_loss: 0.0031 - val_loss: 1.2639 - val_main_output_loss: 0.8762 - val_aux_output_loss: 0.6790\n",
      "Epoch 432/500\n",
      "13733/13733 [==============================] - 41s 3ms/step - loss: 0.0048 - main_output_loss: 0.0028 - aux_output_loss: 0.0032 - val_loss: 1.2898 - val_main_output_loss: 0.8961 - val_aux_output_loss: 0.6905\n",
      "Epoch 433/500\n",
      "13733/13733 [==============================] - 41s 3ms/step - loss: 0.0045 - main_output_loss: 0.0025 - aux_output_loss: 0.0032 - val_loss: 1.3176 - val_main_output_loss: 0.9214 - val_aux_output_loss: 0.6977\n",
      "Epoch 434/500\n",
      "13733/13733 [==============================] - 42s 3ms/step - loss: 0.0047 - main_output_loss: 0.0028 - aux_output_loss: 0.0031 - val_loss: 1.1693 - val_main_output_loss: 0.7868 - val_aux_output_loss: 0.6589\n",
      "\n",
      "Epoch 00434: saving model to ../feature_extraction/data_files/1157354_checkpoints_hybrid_500e_64b_adam/model-434.hdf5\n",
      "Epoch 435/500\n",
      "13733/13733 [==============================] - 39s 3ms/step - loss: 0.0049 - main_output_loss: 0.0029 - aux_output_loss: 0.0033 - val_loss: 1.1450 - val_main_output_loss: 0.7838 - val_aux_output_loss: 0.6280\n",
      "Epoch 436/500\n",
      "13733/13733 [==============================] - 41s 3ms/step - loss: 0.0046 - main_output_loss: 0.0027 - aux_output_loss: 0.0032 - val_loss: 1.1617 - val_main_output_loss: 0.7844 - val_aux_output_loss: 0.6511\n",
      "Epoch 437/500\n",
      "13733/13733 [==============================] - 42s 3ms/step - loss: 0.0045 - main_output_loss: 0.0025 - aux_output_loss: 0.0031 - val_loss: 1.0785 - val_main_output_loss: 0.7306 - val_aux_output_loss: 0.6014\n",
      "Epoch 438/500\n",
      "13733/13733 [==============================] - 41s 3ms/step - loss: 0.0062 - main_output_loss: 0.0038 - aux_output_loss: 0.0040 - val_loss: 1.1427 - val_main_output_loss: 0.8394 - val_aux_output_loss: 0.5532\n",
      "Epoch 439/500\n",
      "13733/13733 [==============================] - 41s 3ms/step - loss: 0.0072 - main_output_loss: 0.0051 - aux_output_loss: 0.0037 - val_loss: 1.3598 - val_main_output_loss: 0.9546 - val_aux_output_loss: 0.7152\n",
      "Epoch 440/500\n",
      "13733/13733 [==============================] - 41s 3ms/step - loss: 0.0050 - main_output_loss: 0.0029 - aux_output_loss: 0.0035 - val_loss: 0.9271 - val_main_output_loss: 0.6081 - val_aux_output_loss: 0.5427\n",
      "Epoch 441/500\n",
      "13733/13733 [==============================] - 41s 3ms/step - loss: 0.0055 - main_output_loss: 0.0033 - aux_output_loss: 0.0037 - val_loss: 1.1446 - val_main_output_loss: 0.7538 - val_aux_output_loss: 0.6659\n",
      "Epoch 442/500\n",
      "13733/13733 [==============================] - 42s 3ms/step - loss: 0.0045 - main_output_loss: 0.0026 - aux_output_loss: 0.0031 - val_loss: 1.1556 - val_main_output_loss: 0.7658 - val_aux_output_loss: 0.6663\n",
      "Epoch 443/500\n",
      "13733/13733 [==============================] - 41s 3ms/step - loss: 0.0045 - main_output_loss: 0.0025 - aux_output_loss: 0.0031 - val_loss: 1.1576 - val_main_output_loss: 0.7675 - val_aux_output_loss: 0.6670\n",
      "Epoch 444/500\n",
      "13733/13733 [==============================] - 41s 3ms/step - loss: 0.0045 - main_output_loss: 0.0025 - aux_output_loss: 0.0031 - val_loss: 1.1604 - val_main_output_loss: 0.7705 - val_aux_output_loss: 0.6671\n",
      "\n",
      "Epoch 00444: saving model to ../feature_extraction/data_files/1157354_checkpoints_hybrid_500e_64b_adam/model-444.hdf5\n",
      "Epoch 445/500\n",
      "13733/13733 [==============================] - 41s 3ms/step - loss: 0.0045 - main_output_loss: 0.0025 - aux_output_loss: 0.0031 - val_loss: 1.1617 - val_main_output_loss: 0.7721 - val_aux_output_loss: 0.6668\n",
      "Epoch 446/500\n",
      "13733/13733 [==============================] - 41s 3ms/step - loss: 0.0044 - main_output_loss: 0.0025 - aux_output_loss: 0.0031 - val_loss: 1.1608 - val_main_output_loss: 0.7712 - val_aux_output_loss: 0.6669\n",
      "Epoch 447/500\n",
      "13733/13733 [==============================] - 42s 3ms/step - loss: 0.0045 - main_output_loss: 0.0026 - aux_output_loss: 0.0031 - val_loss: 1.1629 - val_main_output_loss: 0.7730 - val_aux_output_loss: 0.6675\n",
      "Epoch 448/500\n",
      "13733/13733 [==============================] - 42s 3ms/step - loss: 0.0046 - main_output_loss: 0.0027 - aux_output_loss: 0.0031 - val_loss: 1.1697 - val_main_output_loss: 0.7796 - val_aux_output_loss: 0.6686\n",
      "Epoch 449/500\n",
      "13733/13733 [==============================] - 42s 3ms/step - loss: 0.0044 - main_output_loss: 0.0025 - aux_output_loss: 0.0031 - val_loss: 1.1699 - val_main_output_loss: 0.7799 - val_aux_output_loss: 0.6685\n",
      "Epoch 450/500\n",
      "13733/13733 [==============================] - 41s 3ms/step - loss: 0.0045 - main_output_loss: 0.0026 - aux_output_loss: 0.0031 - val_loss: 1.1728 - val_main_output_loss: 0.7826 - val_aux_output_loss: 0.6692\n",
      "Epoch 451/500\n",
      "13733/13733 [==============================] - 41s 3ms/step - loss: 0.0045 - main_output_loss: 0.0026 - aux_output_loss: 0.0031 - val_loss: 1.1730 - val_main_output_loss: 0.7825 - val_aux_output_loss: 0.6698\n",
      "Epoch 452/500\n",
      "13733/13733 [==============================] - 41s 3ms/step - loss: 0.0044 - main_output_loss: 0.0025 - aux_output_loss: 0.0031 - val_loss: 1.1719 - val_main_output_loss: 0.7809 - val_aux_output_loss: 0.6701\n",
      "Epoch 453/500\n",
      "13733/13733 [==============================] - 41s 3ms/step - loss: 0.0044 - main_output_loss: 0.0025 - aux_output_loss: 0.0031 - val_loss: 1.1722 - val_main_output_loss: 0.7809 - val_aux_output_loss: 0.6705\n",
      "Epoch 454/500\n",
      "13733/13733 [==============================] - 41s 3ms/step - loss: 0.0045 - main_output_loss: 0.0025 - aux_output_loss: 0.0031 - val_loss: 1.1576 - val_main_output_loss: 0.7645 - val_aux_output_loss: 0.6708\n",
      "\n",
      "Epoch 00454: saving model to ../feature_extraction/data_files/1157354_checkpoints_hybrid_500e_64b_adam/model-454.hdf5\n",
      "Epoch 455/500\n",
      "13733/13733 [==============================] - 42s 3ms/step - loss: 0.0046 - main_output_loss: 0.0027 - aux_output_loss: 0.0031 - val_loss: 1.1645 - val_main_output_loss: 0.7715 - val_aux_output_loss: 0.6716\n"
     ]
    },
    {
     "name": "stdout",
     "output_type": "stream",
     "text": [
      "Epoch 456/500\n",
      "13733/13733 [==============================] - 41s 3ms/step - loss: 0.0045 - main_output_loss: 0.0025 - aux_output_loss: 0.0031 - val_loss: 1.1684 - val_main_output_loss: 0.7753 - val_aux_output_loss: 0.6724\n",
      "Epoch 457/500\n",
      "13733/13733 [==============================] - 42s 3ms/step - loss: 0.0045 - main_output_loss: 0.0026 - aux_output_loss: 0.0031 - val_loss: 1.1775 - val_main_output_loss: 0.7848 - val_aux_output_loss: 0.6731\n",
      "Epoch 458/500\n",
      "13733/13733 [==============================] - 42s 3ms/step - loss: 0.0045 - main_output_loss: 0.0026 - aux_output_loss: 0.0031 - val_loss: 1.1877 - val_main_output_loss: 0.7958 - val_aux_output_loss: 0.6735\n",
      "Epoch 459/500\n",
      "13733/13733 [==============================] - 42s 3ms/step - loss: 0.0044 - main_output_loss: 0.0025 - aux_output_loss: 0.0031 - val_loss: 1.1872 - val_main_output_loss: 0.7942 - val_aux_output_loss: 0.6749\n",
      "Epoch 460/500\n",
      "13733/13733 [==============================] - 42s 3ms/step - loss: 0.0044 - main_output_loss: 0.0025 - aux_output_loss: 0.0031 - val_loss: 1.2025 - val_main_output_loss: 0.8107 - val_aux_output_loss: 0.6756\n",
      "Epoch 461/500\n",
      "13733/13733 [==============================] - 41s 3ms/step - loss: 0.0053 - main_output_loss: 0.0033 - aux_output_loss: 0.0033 - val_loss: 1.2059 - val_main_output_loss: 0.8146 - val_aux_output_loss: 0.6754\n",
      "Epoch 462/500\n",
      "13733/13733 [==============================] - 41s 3ms/step - loss: 0.0047 - main_output_loss: 0.0029 - aux_output_loss: 0.0031 - val_loss: 1.2083 - val_main_output_loss: 0.8134 - val_aux_output_loss: 0.6803\n",
      "Epoch 463/500\n",
      "13733/13733 [==============================] - 42s 3ms/step - loss: 0.0045 - main_output_loss: 0.0026 - aux_output_loss: 0.0031 - val_loss: 1.2140 - val_main_output_loss: 0.8191 - val_aux_output_loss: 0.6812\n",
      "Epoch 464/500\n",
      "13733/13733 [==============================] - 41s 3ms/step - loss: 0.0045 - main_output_loss: 0.0025 - aux_output_loss: 0.0031 - val_loss: 1.2249 - val_main_output_loss: 0.8300 - val_aux_output_loss: 0.6827\n",
      "\n",
      "Epoch 00464: saving model to ../feature_extraction/data_files/1157354_checkpoints_hybrid_500e_64b_adam/model-464.hdf5\n",
      "Epoch 465/500\n",
      "13733/13733 [==============================] - 41s 3ms/step - loss: 0.0044 - main_output_loss: 0.0025 - aux_output_loss: 0.0031 - val_loss: 1.2228 - val_main_output_loss: 0.8276 - val_aux_output_loss: 0.6828\n",
      "Epoch 466/500\n",
      "13733/13733 [==============================] - 41s 3ms/step - loss: 0.0044 - main_output_loss: 0.0025 - aux_output_loss: 0.0031 - val_loss: 1.2374 - val_main_output_loss: 0.8426 - val_aux_output_loss: 0.6844\n",
      "Epoch 467/500\n",
      "13733/13733 [==============================] - 40s 3ms/step - loss: 0.0045 - main_output_loss: 0.0026 - aux_output_loss: 0.0031 - val_loss: 1.2349 - val_main_output_loss: 0.8391 - val_aux_output_loss: 0.6853\n",
      "Epoch 468/500\n",
      "13733/13733 [==============================] - 42s 3ms/step - loss: 0.0046 - main_output_loss: 0.0026 - aux_output_loss: 0.0032 - val_loss: 1.2354 - val_main_output_loss: 0.8383 - val_aux_output_loss: 0.6870\n",
      "Epoch 469/500\n",
      "13733/13733 [==============================] - 42s 3ms/step - loss: 0.0047 - main_output_loss: 0.0028 - aux_output_loss: 0.0031 - val_loss: 1.2402 - val_main_output_loss: 0.8419 - val_aux_output_loss: 0.6893\n",
      "Epoch 470/500\n",
      "13733/13733 [==============================] - 41s 3ms/step - loss: 0.0044 - main_output_loss: 0.0025 - aux_output_loss: 0.0031 - val_loss: 1.2474 - val_main_output_loss: 0.8490 - val_aux_output_loss: 0.6904\n",
      "Epoch 471/500\n",
      "13733/13733 [==============================] - 41s 3ms/step - loss: 0.0045 - main_output_loss: 0.0026 - aux_output_loss: 0.0031 - val_loss: 1.2549 - val_main_output_loss: 0.8564 - val_aux_output_loss: 0.6917\n",
      "Epoch 472/500\n",
      "13733/13733 [==============================] - 41s 3ms/step - loss: 0.0045 - main_output_loss: 0.0025 - aux_output_loss: 0.0031 - val_loss: 1.2603 - val_main_output_loss: 0.8617 - val_aux_output_loss: 0.6926\n",
      "Epoch 473/500\n",
      "13733/13733 [==============================] - 40s 3ms/step - loss: 0.0045 - main_output_loss: 0.0025 - aux_output_loss: 0.0031 - val_loss: 1.2444 - val_main_output_loss: 0.8431 - val_aux_output_loss: 0.6938\n",
      "Epoch 474/500\n",
      "13733/13733 [==============================] - 41s 3ms/step - loss: 0.0044 - main_output_loss: 0.0025 - aux_output_loss: 0.0031 - val_loss: 1.2496 - val_main_output_loss: 0.8481 - val_aux_output_loss: 0.6947\n",
      "\n",
      "Epoch 00474: saving model to ../feature_extraction/data_files/1157354_checkpoints_hybrid_500e_64b_adam/model-474.hdf5\n",
      "Epoch 475/500\n",
      "13733/13733 [==============================] - 41s 3ms/step - loss: 0.0044 - main_output_loss: 0.0025 - aux_output_loss: 0.0031 - val_loss: 1.2545 - val_main_output_loss: 0.8525 - val_aux_output_loss: 0.6960\n",
      "Epoch 476/500\n",
      "13733/13733 [==============================] - 42s 3ms/step - loss: 0.0044 - main_output_loss: 0.0025 - aux_output_loss: 0.0031 - val_loss: 1.2715 - val_main_output_loss: 0.8702 - val_aux_output_loss: 0.6976\n",
      "Epoch 477/500\n",
      "13733/13733 [==============================] - 42s 3ms/step - loss: 0.0044 - main_output_loss: 0.0025 - aux_output_loss: 0.0031 - val_loss: 1.2743 - val_main_output_loss: 0.8717 - val_aux_output_loss: 0.6998\n",
      "Epoch 478/500\n",
      "13733/13733 [==============================] - 41s 3ms/step - loss: 0.0045 - main_output_loss: 0.0025 - aux_output_loss: 0.0031 - val_loss: 1.2766 - val_main_output_loss: 0.8731 - val_aux_output_loss: 0.7012\n",
      "Epoch 479/500\n",
      "13733/13733 [==============================] - 40s 3ms/step - loss: 0.0045 - main_output_loss: 0.0026 - aux_output_loss: 0.0031 - val_loss: 1.2721 - val_main_output_loss: 0.8671 - val_aux_output_loss: 0.7026\n",
      "Epoch 480/500\n",
      "13733/13733 [==============================] - 42s 3ms/step - loss: 0.0046 - main_output_loss: 0.0026 - aux_output_loss: 0.0031 - val_loss: 1.2840 - val_main_output_loss: 0.8790 - val_aux_output_loss: 0.7042\n",
      "Epoch 481/500\n",
      "13733/13733 [==============================] - 42s 3ms/step - loss: 0.0045 - main_output_loss: 0.0026 - aux_output_loss: 0.0031 - val_loss: 1.2863 - val_main_output_loss: 0.8795 - val_aux_output_loss: 0.7069\n",
      "Epoch 482/500\n",
      "13733/13733 [==============================] - 41s 3ms/step - loss: 0.0045 - main_output_loss: 0.0026 - aux_output_loss: 0.0031 - val_loss: 1.2664 - val_main_output_loss: 0.8576 - val_aux_output_loss: 0.7065\n",
      "Epoch 483/500\n",
      "13733/13733 [==============================] - 41s 3ms/step - loss: 0.0044 - main_output_loss: 0.0025 - aux_output_loss: 0.0031 - val_loss: 1.2856 - val_main_output_loss: 0.8777 - val_aux_output_loss: 0.7081\n",
      "Epoch 484/500\n",
      "13733/13733 [==============================] - 41s 3ms/step - loss: 0.0044 - main_output_loss: 0.0024 - aux_output_loss: 0.0031 - val_loss: 1.3028 - val_main_output_loss: 0.8957 - val_aux_output_loss: 0.7095\n",
      "\n",
      "Epoch 00484: saving model to ../feature_extraction/data_files/1157354_checkpoints_hybrid_500e_64b_adam/model-484.hdf5\n",
      "Epoch 485/500\n",
      "13733/13733 [==============================] - 41s 3ms/step - loss: 0.0043 - main_output_loss: 0.0024 - aux_output_loss: 0.0031 - val_loss: 1.3287 - val_main_output_loss: 0.9235 - val_aux_output_loss: 0.7108\n",
      "Epoch 486/500\n",
      "13733/13733 [==============================] - 41s 3ms/step - loss: 0.0043 - main_output_loss: 0.0024 - aux_output_loss: 0.0031 - val_loss: 1.3439 - val_main_output_loss: 0.9391 - val_aux_output_loss: 0.7125\n",
      "Epoch 487/500\n",
      "13733/13733 [==============================] - 42s 3ms/step - loss: 0.0045 - main_output_loss: 0.0026 - aux_output_loss: 0.0031 - val_loss: 1.3601 - val_main_output_loss: 0.9556 - val_aux_output_loss: 0.7144\n",
      "Epoch 488/500\n",
      "13733/13733 [==============================] - 42s 3ms/step - loss: 0.0047 - main_output_loss: 0.0028 - aux_output_loss: 0.0031 - val_loss: 1.3839 - val_main_output_loss: 0.9807 - val_aux_output_loss: 0.7161\n",
      "Epoch 489/500\n",
      "13733/13733 [==============================] - 42s 3ms/step - loss: 0.0042 - main_output_loss: 0.0023 - aux_output_loss: 0.0031 - val_loss: 1.3454 - val_main_output_loss: 0.9599 - val_aux_output_loss: 0.6878\n",
      "Epoch 490/500\n",
      "13733/13733 [==============================] - 42s 3ms/step - loss: 0.0048 - main_output_loss: 0.0029 - aux_output_loss: 0.0031 - val_loss: 1.3694 - val_main_output_loss: 0.9887 - val_aux_output_loss: 0.6850\n",
      "Epoch 491/500\n",
      "13733/13733 [==============================] - 41s 3ms/step - loss: 0.0046 - main_output_loss: 0.0026 - aux_output_loss: 0.0031 - val_loss: 1.3826 - val_main_output_loss: 0.9982 - val_aux_output_loss: 0.6918\n",
      "Epoch 492/500\n",
      "13733/13733 [==============================] - 41s 3ms/step - loss: 0.0044 - main_output_loss: 0.0025 - aux_output_loss: 0.0031 - val_loss: 1.4469 - val_main_output_loss: 1.0652 - val_aux_output_loss: 0.6975\n",
      "Epoch 493/500\n",
      "13733/13733 [==============================] - 42s 3ms/step - loss: 0.0051 - main_output_loss: 0.0033 - aux_output_loss: 0.0031 - val_loss: 1.3893 - val_main_output_loss: 1.0010 - val_aux_output_loss: 0.6977\n",
      "Epoch 494/500\n",
      "13733/13733 [==============================] - 42s 3ms/step - loss: 0.0044 - main_output_loss: 0.0025 - aux_output_loss: 0.0031 - val_loss: 1.3956 - val_main_output_loss: 1.0027 - val_aux_output_loss: 0.7046\n",
      "\n",
      "Epoch 00494: saving model to ../feature_extraction/data_files/1157354_checkpoints_hybrid_500e_64b_adam/model-494.hdf5\n",
      "Epoch 495/500\n",
      "13733/13733 [==============================] - 42s 3ms/step - loss: 0.0045 - main_output_loss: 0.0026 - aux_output_loss: 0.0031 - val_loss: 1.4005 - val_main_output_loss: 1.0085 - val_aux_output_loss: 0.7040\n",
      "Epoch 496/500\n",
      "13733/13733 [==============================] - 40s 3ms/step - loss: 0.0044 - main_output_loss: 0.0025 - aux_output_loss: 0.0031 - val_loss: 1.4197 - val_main_output_loss: 1.0282 - val_aux_output_loss: 0.7062\n",
      "Epoch 497/500\n",
      "13733/13733 [==============================] - 42s 3ms/step - loss: 0.0046 - main_output_loss: 0.0027 - aux_output_loss: 0.0031 - val_loss: 1.4041 - val_main_output_loss: 1.0084 - val_aux_output_loss: 0.7093\n",
      "Epoch 498/500\n",
      "13733/13733 [==============================] - 42s 3ms/step - loss: 0.0045 - main_output_loss: 0.0026 - aux_output_loss: 0.0031 - val_loss: 1.3907 - val_main_output_loss: 0.9921 - val_aux_output_loss: 0.7112\n",
      "Epoch 499/500\n",
      "13733/13733 [==============================] - 41s 3ms/step - loss: 0.0045 - main_output_loss: 0.0026 - aux_output_loss: 0.0031 - val_loss: 1.3939 - val_main_output_loss: 0.9948 - val_aux_output_loss: 0.7122\n",
      "Epoch 500/500\n",
      "13733/13733 [==============================] - 42s 3ms/step - loss: 0.0046 - main_output_loss: 0.0027 - aux_output_loss: 0.0031 - val_loss: 1.4165 - val_main_output_loss: 1.0174 - val_aux_output_loss: 0.7156\n",
      "20577.239824056625  seconds\n"
     ]
    }
   ],
   "source": [
    "# Train the model by passing it lists of input arrays and target arrays 19960.996418952942  seconds\n",
    "# 25183.798012971878  seconds Second time, with 30 minute break in between\n",
    "start = time.time()\n",
    "merged_model_history = merged_model.fit(\n",
    "    [train_sequences_X, train_features_X], \n",
    "    [train_y, train_y],\n",
    "    #validation_split=0.2,\n",
    "    validation_data=[\n",
    "        [validation_sequences_X, validation_features_X], \n",
    "        [validation_y, validation_y]\n",
    "    ],\n",
    "    epochs=EPOCHS, \n",
    "    batch_size=BATCH_SIZE,\n",
    "    callbacks=[checkpointer]\n",
    "    #class_weight=[class_weights, class_weights]\n",
    ")\n",
    "end = time.time()\n",
    "time_taken_in_minutes = (end-start)//60\n",
    "print(end - start, \" seconds\")"
   ]
  },
  {
   "cell_type": "code",
   "execution_count": 80,
   "metadata": {
    "pycharm": {}
   },
   "outputs": [
    {
     "data": {
      "image/png": "[encoded data removed]",
      "text/plain": [
       "<Figure size 432x288 with 1 Axes>"
      ]
     },
     "metadata": {
      "needs_background": "light"
     },
     "output_type": "display_data"
    }
   ],
   "source": [
    "merged_model_loss_values = merged_model_history.history['main_output_loss']\n",
    "validation_loss = merged_model_history.history['val_main_output_loss']\n",
    "merged_model_epochs = merged_model_history.epoch\n",
    "plt.plot(merged_model_epochs, merged_model_loss_values, label='Training Loss')\n",
    "# plt.plot(merged_model_epochs, validation_loss, label='Validation Loss')\n",
    "plt.xlabel('Epochs')\n",
    "plt.ylabel('Loss')\n",
    "plt.legend()\n",
    "\n",
    "plt.show()"
   ]
  },
  {
   "cell_type": "code",
   "execution_count": 36,
   "metadata": {},
   "outputs": [
    {
     "ename": "AttributeError",
     "evalue": "'str' object has no attribute '__dict__'",
     "output_type": "error",
     "traceback": [
      "\u001b[0;31m---------------------------------------------------------------------------\u001b[0m",
      "\u001b[0;31mAttributeError\u001b[0m                            Traceback (most recent call last)",
      "\u001b[0;32m<ipython-input-36-999c9de5d703>\u001b[0m in \u001b[0;36m<module>\u001b[0;34m\u001b[0m\n\u001b[1;32m      1\u001b[0m \u001b[0;31m# Reset validation data and model since they are not serializable\u001b[0m\u001b[0;34m\u001b[0m\u001b[0;34m\u001b[0m\u001b[0;34m\u001b[0m\u001b[0m\n\u001b[1;32m      2\u001b[0m \u001b[0mmerged_model_history\u001b[0m\u001b[0;34m.\u001b[0m\u001b[0mvalidation_data\u001b[0m \u001b[0;34m=\u001b[0m \u001b[0;34m[\u001b[0m\u001b[0;34m]\u001b[0m\u001b[0;34m\u001b[0m\u001b[0;34m\u001b[0m\u001b[0m\n\u001b[0;32m----> 3\u001b[0;31m \u001b[0mmerged_model_history\u001b[0m\u001b[0;34m.\u001b[0m\u001b[0mmodel\u001b[0m \u001b[0;34m=\u001b[0m \u001b[0mstr\u001b[0m\u001b[0;34m(\u001b[0m\u001b[0mmerged_model_history\u001b[0m\u001b[0;34m.\u001b[0m\u001b[0mmodel\u001b[0m\u001b[0;34m.\u001b[0m\u001b[0m__dict__\u001b[0m\u001b[0;34m)\u001b[0m\u001b[0;34m\u001b[0m\u001b[0;34m\u001b[0m\u001b[0m\n\u001b[0m",
      "\u001b[0;31mAttributeError\u001b[0m: 'str' object has no attribute '__dict__'"
     ]
    }
   ],
   "source": [
    "# Reset validation data and model since they are not serializable\n",
    "merged_model_history.validation_data = []\n",
    "merged_model_history.model = str(merged_model_history.model.__dict__)"
   ]
  },
  {
   "cell_type": "code",
   "execution_count": 73,
   "metadata": {},
   "outputs": [],
   "source": [
    "merged_model_history.params[\"steps\"] = \"\""
   ]
  },
  {
   "cell_type": "code",
   "execution_count": 59,
   "metadata": {},
   "outputs": [],
   "source": [
    "for k, v in merged_model_history.__dict__.items():\n",
    "    if v is None:\n",
    "        print(k, v)"
   ]
  },
  {
   "cell_type": "code",
   "execution_count": 63,
   "metadata": {},
   "outputs": [],
   "source": [
    "# Save model params and history\n",
    "model_helper.save_model_details(merged_model_history.__dict__)"
   ]
  },
  {
   "cell_type": "code",
   "execution_count": 42,
   "metadata": {},
   "outputs": [
    {
     "name": "stdout",
     "output_type": "stream",
     "text": [
      "../feature_extraction/data_files/1157354_checkpoints_hybrid_500e_64b_adam\n"
     ]
    }
   ],
   "source": [
    "print(checkpoints_dir)"
   ]
  },
  {
   "cell_type": "code",
   "execution_count": 43,
   "metadata": {
    "pycharm": {}
   },
   "outputs": [
    {
     "data": {
      "text/plain": [
       "'../feature_extraction/data_files/models/1157354df_500e_64bs_adam_342min_merged_hybrid_model.h5'"
      ]
     },
     "execution_count": 43,
     "metadata": {},
     "output_type": "execute_result"
    }
   ],
   "source": [
    "# current_time = time.strftime(\"%Y-%m-%d-(%H_%M_%S)\")\n",
    "merged_model_filename = \"{}df_{}e_{}bs_{}_{}min\".format(\n",
    "    model_helper.time_diff, \n",
    "    EPOCHS, \n",
    "    BATCH_SIZE, \n",
    "    OPTIMIZER,\n",
    "    int(time_taken_in_minutes)\n",
    ")\n",
    "MODELS_DIR = join(DATA_FILES_DIR, \"models\")\n",
    "merged_model_filename = join(MODELS_DIR,  merged_model_filename + '_merged_hybrid_model.h5')\n",
    "merged_model_filename"
   ]
  },
  {
   "cell_type": "code",
   "execution_count": 44,
   "metadata": {
    "pycharm": {}
   },
   "outputs": [],
   "source": [
    "merged_model.save(merged_model_filename)"
   ]
  },
  {
   "cell_type": "code",
   "execution_count": 14,
   "metadata": {},
   "outputs": [
    {
     "data": {
      "text/plain": [
       "'../app/services/chat_data_files/models/model-40-30ts_bidi.hdf5'"
      ]
     },
     "execution_count": 14,
     "metadata": {},
     "output_type": "execute_result"
    }
   ],
   "source": [
    "merged_model_filename = join(\"..\", \"app\", \"services\", \"chat_data_files\", \n",
    "                             \"models\", \"model-40-30ts_bidi.hdf5\")\n",
    "merged_model_filename"
   ]
  },
  {
   "cell_type": "code",
   "execution_count": 40,
   "metadata": {},
   "outputs": [
    {
     "ename": "AttributeError",
     "evalue": "module 'app.services.keras_lstm_features' has no attribute 'test_sequences'",
     "output_type": "error",
     "traceback": [
      "\u001b[0;31m---------------------------------------------------------------------------\u001b[0m",
      "\u001b[0;31mAttributeError\u001b[0m                            Traceback (most recent call last)",
      "\u001b[0;32m<ipython-input-40-e861a95c0857>\u001b[0m in \u001b[0;36m<module>\u001b[0;34m\u001b[0m\n\u001b[0;32m----> 1\u001b[0;31m \u001b[0mkeras_lstm_features\u001b[0m\u001b[0;34m.\u001b[0m\u001b[0mtest_sequences\u001b[0m\u001b[0;34m.\u001b[0m\u001b[0mshape\u001b[0m\u001b[0;34m\u001b[0m\u001b[0;34m\u001b[0m\u001b[0m\n\u001b[0m",
      "\u001b[0;31mAttributeError\u001b[0m: module 'app.services.keras_lstm_features' has no attribute 'test_sequences'"
     ]
    }
   ],
   "source": [
    "keras_lstm_features.test_sequences.shape"
   ]
  },
  {
   "cell_type": "code",
   "execution_count": 196,
   "metadata": {},
   "outputs": [],
   "source": [
    "models_folders = {\n",
    "    \"30_ts_0.5_dro_lstm\": {\n",
    "        \"inputs\": [keras_lstm_features.create_time_steps(test_sequences_X, 30)],\n",
    "        \"models\": []\n",
    "    },\n",
    "    \"30_ts_bidi_lstm_hybrid\": {\n",
    "        \"inputs\": [keras_lstm_features.create_time_steps(test_sequences_X, 30)],\n",
    "        \"models\": []\n",
    "    },\n",
    "    \"30_ts_lstm_hybrid\": {\n",
    "        \"inputs\": [keras_lstm_features.create_time_steps(test_sequences_X, 30), test_features_X],\n",
    "        \"models\": []\n",
    "    },\n",
    "    \"30_ts_lstm_sequences_features\": {\n",
    "        \"inputs\": [keras_lstm_features.test_sequences_features_concat],\n",
    "        \"models\": []\n",
    "    },\n",
    "    \"30ts_0.5dro_lstm2\": {\n",
    "        \"inputs\": [keras_lstm_features.test_sequences],\n",
    "        \"models\": []\n",
    "    },\n",
    "    \"50_ts_bidi_lstm_features\": {\n",
    "        \"inputs\": [keras_lstm_features.test_features_X],\n",
    "        \"models\": []\n",
    "    },\n",
    "    \"50_ts_lstm_features\": {\n",
    "        \"inputs\": [keras_lstm_features.test_features_X],\n",
    "        \"models\": []\n",
    "    },\n",
    "    \"100_ts_05_dro_32_hino_lstm2\": {\n",
    "        \"inputs\": [keras_lstm_features.test_sequences],\n",
    "        \"models\": []\n",
    "    },\n",
    "    \"100_ts_05_dro_lstm2\": {\n",
    "        \"inputs\": [keras_lstm_features.test_sequences],\n",
    "        \"models\": []\n",
    "    }\n",
    "}\n"
   ]
  },
  {
   "cell_type": "code",
   "execution_count": 188,
   "metadata": {},
   "outputs": [],
   "source": [
    "base_models_dir = join(\"..\", \"app\", \"services\", \"chat_data_files\", \"models\")\n",
    "def load_model_files(models_folders): \n",
    "    for model_folder in models_folders.keys():\n",
    "        model_dir = join(base_models_dir, model_folder)\n",
    "        print(\"\\nCurrent directory: \", model_dir)\n",
    "        for model_filename in sorted(os.listdir(model_dir)):\n",
    "            if model_filename.endswith(\".hdf5\"):\n",
    "                print(\"\\tModel: \", model_filename)\n",
    "                models_folders[model_folder][\"models\"].append(load_model(join(model_dir, model_filename)))"
   ]
  },
  {
   "cell_type": "code",
   "execution_count": null,
   "metadata": {},
   "outputs": [],
   "source": [
    "# load_model_files(models_folders)"
   ]
  },
  {
   "cell_type": "code",
   "execution_count": 15,
   "metadata": {},
   "outputs": [],
   "source": [
    "# models_folders"
   ]
  },
  {
   "cell_type": "code",
   "execution_count": 52,
   "metadata": {},
   "outputs": [],
   "source": [
    "# models_folders"
   ]
  },
  {
   "cell_type": "code",
   "execution_count": 66,
   "metadata": {},
   "outputs": [],
   "source": [
    "# merged_model_filename = join(DATA_FILES_DIR, \"models\", \"merged_hybrid_model.h5\")"
   ]
  },
  {
   "cell_type": "code",
   "execution_count": 15,
   "metadata": {
    "pycharm": {}
   },
   "outputs": [
    {
     "name": "stdout",
     "output_type": "stream",
     "text": [
      "WARNING:tensorflow:From /Users/wcyn/anaconda3/envs/gnue-irc/lib/python3.6/site-packages/tensorflow/python/framework/op_def_library.py:263: colocate_with (from tensorflow.python.framework.ops) is deprecated and will be removed in a future version.\n",
      "Instructions for updating:\n",
      "Colocations handled automatically by placer.\n",
      "WARNING:tensorflow:From /Users/wcyn/anaconda3/envs/gnue-irc/lib/python3.6/site-packages/keras/backend/tensorflow_backend.py:3445: calling dropout (from tensorflow.python.ops.nn_ops) with keep_prob is deprecated and will be removed in a future version.\n",
      "Instructions for updating:\n",
      "Please use `rate` instead of `keep_prob`. Rate should be set to `rate = 1 - keep_prob`.\n",
      "WARNING:tensorflow:From /Users/wcyn/anaconda3/envs/gnue-irc/lib/python3.6/site-packages/tensorflow/python/ops/math_ops.py:3066: to_int32 (from tensorflow.python.ops.math_ops) is deprecated and will be removed in a future version.\n",
      "Instructions for updating:\n",
      "Use tf.cast instead.\n"
     ]
    }
   ],
   "source": [
    "loaded_merged_model = load_model(merged_model_filename)"
   ]
  },
  {
   "cell_type": "code",
   "execution_count": 136,
   "metadata": {},
   "outputs": [
    {
     "data": {
      "text/plain": [
       "dict_keys(['val_loss', 'val_acc', 'loss', 'acc'])"
      ]
     },
     "execution_count": 136,
     "metadata": {},
     "output_type": "execute_result"
    }
   ],
   "source": [
    "cp_dir = join(\"..\", \"app\", \"services\", \"chat_data_files\", \"models\", \"100_ts_05_dro_32_hino_lstm2\")\n",
    "model_details = model_helper.load_model_details(\n",
    "    checkpoints_dir=cp_dir, \n",
    "    model_details_filename=\"model_details.json\"\n",
    ")\n",
    "model_details[\"history\"].keys()"
   ]
  },
  {
   "cell_type": "code",
   "execution_count": 137,
   "metadata": {},
   "outputs": [
    {
     "data": {
      "image/png": "[encoded data removed]",
      "text/plain": [
       "<Figure size 432x288 with 1 Axes>"
      ]
     },
     "metadata": {
      "needs_background": "light"
     },
     "output_type": "display_data"
    }
   ],
   "source": [
    "# merged_model_loss_values = model_details['history']['main_output_loss']\n",
    "# validation_loss = model_details['history']['val_main_output_loss']\n",
    "merged_model_loss_values = model_details['history']['loss']\n",
    "validation_loss = model_details['history']['val_loss']\n",
    "merged_model_epochs = model_details['epoch']\n",
    "plt.plot(merged_model_epochs, merged_model_loss_values, label='Training Loss')\n",
    "plt.plot(merged_model_epochs, validation_loss, label='Validation Loss')\n",
    "plt.xlabel('Epochs')\n",
    "plt.ylabel('Loss')\n",
    "plt.legend()\n",
    "\n",
    "plt.show()"
   ]
  },
  {
   "cell_type": "code",
   "execution_count": 16,
   "metadata": {},
   "outputs": [],
   "source": [
    "TIME_STEPS = 30"
   ]
  },
  {
   "cell_type": "code",
   "execution_count": 17,
   "metadata": {},
   "outputs": [],
   "source": [
    "test_vectors = np.array(keras_lstm_features.get_sentence_vectors(\"test\"))"
   ]
  },
  {
   "cell_type": "code",
   "execution_count": 18,
   "metadata": {},
   "outputs": [
    {
     "data": {
      "text/plain": [
       "array([[[-0.31162995,  1.7198551 , -0.26658484, ...,  0.26755935,\n",
       "         -0.25971437,  0.25458497],\n",
       "        [ 0.7395397 , -0.04442636,  0.01110798, ..., -0.33860877,\n",
       "          0.2671296 ,  1.0992235 ],\n",
       "        [ 0.06799658,  0.12074675, -1.2979059 , ...,  0.4600182 ,\n",
       "         -1.2451937 ,  0.1859076 ],\n",
       "        ...,\n",
       "        [-0.6919389 ,  2.9159625 , -1.628642  , ..., -0.8936053 ,\n",
       "          1.2516016 , -0.8342527 ],\n",
       "        [ 0.95484793, -0.20202481, -0.02437298, ..., -0.3512085 ,\n",
       "         -0.79204888, -0.02689505],\n",
       "        [ 0.25896859, -0.6449706 , -0.23375711, ...,  0.15994361,\n",
       "          0.01313286,  0.11158396]]])"
      ]
     },
     "execution_count": 18,
     "metadata": {},
     "output_type": "execute_result"
    }
   ],
   "source": [
    "test_vectors = keras_lstm_features.create_time_steps(np.array(test_vectors), TIME_STEPS)\n",
    "test_vectors[:1]"
   ]
  },
  {
   "cell_type": "code",
   "execution_count": 19,
   "metadata": {},
   "outputs": [],
   "source": [
    "validation_vectors = np.array(keras_lstm_features.get_sentence_vectors(\"validation\"))"
   ]
  },
  {
   "cell_type": "code",
   "execution_count": 20,
   "metadata": {},
   "outputs": [
    {
     "data": {
      "text/plain": [
       "array([[[ 0.43083695, -0.49769064,  0.1643314 , ..., -0.4650444 ,\n",
       "         -0.58196433,  0.02166187],\n",
       "        [ 1.15913795,  0.22453519,  0.33209156, ...,  0.01474681,\n",
       "         -0.91038723,  0.26871113],\n",
       "        [ 0.960371  , -0.21186292,  0.07468702, ..., -1.5586987 ,\n",
       "         -0.596789  , -0.91772795],\n",
       "        ...,\n",
       "        [ 0.53636575, -0.11782386,  0.00602838, ...,  0.22712874,\n",
       "          0.33111453, -0.38606647],\n",
       "        [-0.02151288,  1.2117786 , -0.42026448, ..., -0.66378164,\n",
       "         -0.99202967,  0.5660049 ],\n",
       "        [-0.23964867,  0.1461363 , -0.3329837 , ..., -0.34872812,\n",
       "         -0.11727129, -1.2159463 ]]])"
      ]
     },
     "execution_count": 20,
     "metadata": {},
     "output_type": "execute_result"
    }
   ],
   "source": [
    "validation_vectors = keras_lstm_features.create_time_steps(np.array(validation_vectors), TIME_STEPS)\n",
    "validation_vectors[:1]"
   ]
  },
  {
   "cell_type": "code",
   "execution_count": 20,
   "metadata": {},
   "outputs": [],
   "source": [
    "def get_y_predictions_from_models(model_dict):\n",
    "    \n",
    "    for model_dir, model_data in model_dict.items():\n",
    "        model_dir = join(base_models_dir, model_dir)\n",
    "        model_names = sorted(os.listdir(model_dir))\n",
    "        model_data[\"model_names\"] = model_names\n",
    "        print(model_dir)\n",
    "        model_data[\"y_predictions\"] = []\n",
    "        for model in model_data[\"models\"]:\n",
    "            model_data[\"y_predictions\"].append(model.predict(model_data[\"inputs\"]))\n",
    "        "
   ]
  },
  {
   "cell_type": "code",
   "execution_count": 197,
   "metadata": {},
   "outputs": [
    {
     "name": "stdout",
     "output_type": "stream",
     "text": [
      "../app/services/chat_data_files/models/30_ts_0.5_dro_lstm\n",
      "../app/services/chat_data_files/models/30_ts_bidi_lstm_hybrid\n",
      "../app/services/chat_data_files/models/30_ts_lstm_hybrid\n",
      "../app/services/chat_data_files/models/30_ts_lstm_sequences_features\n",
      "../app/services/chat_data_files/models/30ts_0.5dro_lstm2\n",
      "../app/services/chat_data_files/models/50_ts_bidi_lstm_features\n",
      "../app/services/chat_data_files/models/50_ts_lstm_features\n",
      "../app/services/chat_data_files/models/100_ts_05_dro_32_hino_lstm2\n",
      "../app/services/chat_data_files/models/100_ts_05_dro_lstm2\n"
     ]
    }
   ],
   "source": [
    "get_y_predictions_from_models(models_folders)"
   ]
  },
  {
   "cell_type": "code",
   "execution_count": 17,
   "metadata": {},
   "outputs": [],
   "source": [
    "# models_folders"
   ]
  },
  {
   "cell_type": "code",
   "execution_count": 21,
   "metadata": {
    "pycharm": {}
   },
   "outputs": [],
   "source": [
    "# test_y_predictions = loaded_merged_model.predict([test_vectors, test_features_X])\n",
    "# validation_y_predictions = loaded_merged_model.predict([validation_sequences_X, validation_features_X])\n",
    "\n",
    "test_y_predictions = loaded_merged_model.predict([test_vectors])\n",
    "# validation_y_predictions = loaded_merged_model.predict([validation_vectors])\n",
    "\n",
    "# test_y_predictions = loaded_merged_model.predict([keras_lstm_features.test_sequences])\n",
    "# validation_y_predictions = loaded_merged_model.predict([keras_lstm_features.validation_sequences])\n",
    "\n",
    "\n",
    "test_y_argmax = np.argmax(test_y, axis=1)\n",
    "# validation_y_argmax = np.argmax(validation_y,axis=1)"
   ]
  },
  {
   "cell_type": "code",
   "execution_count": 22,
   "metadata": {},
   "outputs": [
    {
     "data": {
      "text/plain": [
       "(3405, 2)"
      ]
     },
     "execution_count": 22,
     "metadata": {},
     "output_type": "execute_result"
    }
   ],
   "source": [
    "np.array(test_y_predictions).shape"
   ]
  },
  {
   "cell_type": "code",
   "execution_count": 23,
   "metadata": {},
   "outputs": [
    {
     "data": {
      "text/plain": [
       "array([0, 0, 0, ..., 0, 0, 0])"
      ]
     },
     "execution_count": 23,
     "metadata": {},
     "output_type": "execute_result"
    }
   ],
   "source": [
    "# threshold = .45\n",
    "# print(test_y_predictions)\n",
    "# print(test_y_predictions[:,1])\n",
    "# test_y_predictions_argmax = (test_y_predictions[1][:,1] > threshold).astype(int)      \n",
    "# validation_y_predictions_argmax = (validation_y_predictions[:,1] > threshold).astype(int)\n",
    "\n",
    "test_y_predictions_argmax = np.argmax(test_y_predictions, axis=1)\n",
    "# validation_y_predictions_argmax = np.argmax(validation_y_predictions, axis=1)\n",
    "\n",
    "# print(validation_y_predictions_argmax.shape)\n",
    "# print(type(validation_y_predictions_argmax))\n",
    "test_y_predictions_argmax"
   ]
  },
  {
   "cell_type": "code",
   "execution_count": 24,
   "metadata": {
    "pycharm": {}
   },
   "outputs": [
    {
     "data": {
      "text/plain": [
       "array([[1.0000000e+00, 3.5293286e-09],\n",
       "       [1.0000000e+00, 3.7725401e-09],\n",
       "       [1.0000000e+00, 3.8646704e-09],\n",
       "       [1.0000000e+00, 5.0865192e-09],\n",
       "       [1.0000000e+00, 3.3800771e-09],\n",
       "       [1.0000000e+00, 7.2508755e-09],\n",
       "       [1.0000000e+00, 3.5973597e-09],\n",
       "       [1.0000000e+00, 4.0525432e-09],\n",
       "       [1.0000000e+00, 4.3629544e-09],\n",
       "       [1.0000000e+00, 4.3824291e-09]], dtype=float32)"
      ]
     },
     "execution_count": 24,
     "metadata": {},
     "output_type": "execute_result"
    }
   ],
   "source": [
    "test_y_predictions[:10]"
   ]
  },
  {
   "cell_type": "code",
   "execution_count": 25,
   "metadata": {
    "pycharm": {}
   },
   "outputs": [
    {
     "data": {
      "text/plain": [
       "array([0, 0, 0, 0, 0, 0, 0, 0, 0, 0, 0, 0, 0, 0, 0, 0, 0, 0, 0, 0, 0, 0,\n",
       "       0, 0, 0, 0, 0, 0, 0, 0, 0, 0, 0, 0, 0, 0, 0, 0, 0, 0, 0, 0, 0, 0,\n",
       "       0, 0, 0, 0, 0, 0, 0, 0, 0, 0, 0, 0, 0, 0, 0, 0, 0, 0, 0, 0, 0, 0,\n",
       "       0, 0, 0, 0, 0, 0, 0, 0, 0, 0, 0, 0, 0, 0, 0, 0, 0, 0, 0, 0, 0, 0,\n",
       "       0, 0, 0, 0, 0, 0, 0, 0, 0, 0, 0, 0, 0, 0, 0, 0, 0, 0, 0, 0, 0, 0,\n",
       "       0, 0, 0, 1, 0, 0, 0, 0, 0, 0, 0, 0, 1, 1, 1, 1, 1, 1, 0, 0, 1, 1,\n",
       "       0, 0, 0, 0, 0, 0, 0, 0, 0, 0, 0, 0, 0, 0, 0, 0, 0, 0, 0, 0, 0, 0,\n",
       "       0, 0, 0, 0, 0, 0, 0, 0, 0, 0, 0, 0, 0, 0, 0, 0, 0, 0, 0, 0, 0, 0,\n",
       "       0, 0, 0, 0, 0, 0, 0, 0, 0, 0, 0, 0, 0, 0, 0, 0, 0, 0, 0, 0, 0, 0,\n",
       "       0, 0])"
      ]
     },
     "execution_count": 25,
     "metadata": {},
     "output_type": "execute_result"
    }
   ],
   "source": [
    "test_y_predictions_argmax[:200]"
   ]
  },
  {
   "cell_type": "code",
   "execution_count": 26,
   "metadata": {
    "pycharm": {}
   },
   "outputs": [
    {
     "data": {
      "text/plain": [
       "array([0, 0, 0, 0, 0, 0, 0, 0, 0, 0, 0, 0, 0, 0, 0, 0, 0, 0, 0, 0, 0, 0,\n",
       "       0, 0, 0, 0, 0, 0, 0, 0, 0, 0, 0, 0, 0, 0, 0, 0, 0, 0, 0, 0, 0, 0,\n",
       "       0, 0, 0, 0, 0, 0, 0, 0, 0, 0, 0, 0, 0, 0, 0, 0, 0, 0, 0, 0, 0, 0,\n",
       "       0, 0, 0, 0, 0, 0, 0, 0, 0, 0, 0, 0, 0, 0, 0, 0, 0, 0, 0, 0, 0, 0,\n",
       "       0, 0, 0, 0, 0, 1, 0, 0, 0, 0, 0, 0, 0, 0, 0, 0, 0, 0, 0, 0, 0, 0,\n",
       "       0, 0, 0, 0, 0, 0, 0, 0, 0, 0, 0, 0, 0, 0, 0, 0, 0, 1, 0, 0, 0, 0,\n",
       "       0, 0, 0, 0, 0, 0, 0, 0, 0, 0, 0, 0, 0, 0, 0, 0, 0, 0, 0, 0, 0, 0,\n",
       "       0, 0, 0, 0, 0, 0, 0, 0, 0, 0, 0, 0, 0, 0, 0, 0, 0, 0, 0, 0, 0, 0,\n",
       "       0, 0, 0, 0, 0, 0, 0, 0, 0, 0, 0, 0, 0, 0, 0, 0, 0, 0, 0, 0, 0, 0,\n",
       "       0, 0])"
      ]
     },
     "execution_count": 26,
     "metadata": {},
     "output_type": "execute_result"
    }
   ],
   "source": [
    "test_y_argmax[:200]"
   ]
  },
  {
   "cell_type": "code",
   "execution_count": null,
   "metadata": {},
   "outputs": [],
   "source": []
  },
  {
   "cell_type": "code",
   "execution_count": 27,
   "metadata": {
    "pycharm": {}
   },
   "outputs": [
    {
     "name": "stdout",
     "output_type": "stream",
     "text": [
      "              precision    recall  f1-score   support\n",
      "\n",
      "           0       0.97      0.96      0.96      3282\n",
      "           1       0.11      0.13      0.12       123\n",
      "\n",
      "   micro avg       0.93      0.93      0.93      3405\n",
      "   macro avg       0.54      0.55      0.54      3405\n",
      "weighted avg       0.94      0.93      0.93      3405\n",
      "\n",
      "[[3153  129]\n",
      " [ 107   16]]\n"
     ]
    }
   ],
   "source": [
    "print(classification_report(test_y_argmax, test_y_predictions_argmax))\n",
    "print(confusion_matrix(test_y_argmax, test_y_predictions_argmax))"
   ]
  },
  {
   "cell_type": "code",
   "execution_count": 28,
   "metadata": {},
   "outputs": [
    {
     "data": {
      "text/plain": [
       "{'0': {'precision': 0.9671779141104294,\n",
       "  'recall': 0.9606946983546618,\n",
       "  'f1-score': 0.9639254050749007,\n",
       "  'support': 3282},\n",
       " '1': {'precision': 0.1103448275862069,\n",
       "  'recall': 0.13008130081300814,\n",
       "  'f1-score': 0.11940298507462688,\n",
       "  'support': 123},\n",
       " 'micro avg': {'precision': 0.9306901615271659,\n",
       "  'recall': 0.9306901615271659,\n",
       "  'f1-score': 0.9306901615271659,\n",
       "  'support': 3405},\n",
       " 'macro avg': {'precision': 0.5387613708483181,\n",
       "  'recall': 0.545387999583835,\n",
       "  'f1-score': 0.5416641950747638,\n",
       "  'support': 3405},\n",
       " 'weighted avg': {'precision': 0.9362262343329024,\n",
       "  'recall': 0.9306901615271659,\n",
       "  'f1-score': 0.9334184277885471,\n",
       "  'support': 3405}}"
      ]
     },
     "execution_count": 28,
     "metadata": {},
     "output_type": "execute_result"
    }
   ],
   "source": [
    "classification_report(test_y_argmax, test_y_predictions_argmax, output_dict=True)"
   ]
  },
  {
   "cell_type": "code",
   "execution_count": 29,
   "metadata": {
    "pycharm": {},
    "scrolled": false
   },
   "outputs": [
    {
     "name": "stdout",
     "output_type": "stream",
     "text": [
      "SUMMARIES\n",
      "---------\n",
      " where you planning a single exception raised to the app level or should I make forms handle the various errors at the app level\n",
      "it's because the event system can't keep up with the movement\n",
      "I'm going to make the provider='odbc' and take all the special meaning out of it\n",
      "what's next big ticket in designer?\n",
      "need to clean up the UI system\n",
      "... add drag and drop support for automatically pulling fields/datasources\n",
      "... generalize the designer code so that it can be used w/reports/etc\n",
      "... use BOA (if installed) for code editing\n",
      "insert a duplicate key into table\n",
      "gnuef used to generate pop up dialogs and recover when a dberror was encountered\n",
      "say I query 10 records\n",
      "I have a resultset with 10 recordsets\n",
      "I change the first 3 \n",
      "which causes the _updateFlag's to be set on those records\n",
      "and I insert a new record at the end\n",
      "I go to commit the changes\n",
      "and it performs the updates on the first 3\n",
      "and resets the _updateFlag (since they've been updated)\n",
      "then inserts the last one\n",
      "but it generates an error\n",
      "so\n",
      "PREDICTIONS\n",
      "-----------\n",
      " gues what I was testing against?\n",
      "also\n",
      "it WON'T let go of some events\n",
      "on the labels\n",
      "the mouse slowly moves off the widget\n",
      "yeah, I know\n",
      "it's because the event system can't keep up with the movement\n",
      "but, but, but\n",
      "if you move slowly enough, it'll keep up\n",
      "there is some voodoo in UIwxpython\n",
      "Designer has quite a few\n",
      "gawd that was a nightmare\n",
      "... generalize the designer code so that it can be used w/reports/etc\n",
      "... use BOA (if installed) for code editing\n",
      "if we say mouse is done for now\n",
      "but it could be tested better :)\n",
      "which wasn't on our list\n",
      "but I thought might be important\n",
      "maybe we should just comment that out of setup.py and save it for later\n",
      "I'm trying to remember what we're currently using it for\n",
      "currently\n",
      "I was planning on it\n",
      "what's the standard for a dsn?\n",
      "how do they look normally?\n",
      "and to set them up I used odbc manager\n",
      "I've noticed recently that odbc has system, user, and IIRC file dsns\n",
      "put some wheels on that then\n",
      "I will NOT install lyx and make vrms unhappy\n",
      "cool.. this savannah softw\n",
      "ROUGE Scores\n",
      "------------\n",
      "Evaluation with Avg\n",
      "\trouge-1:\tP: 0.475728\tR: 0.466667\tF1: 0.471154\n",
      "\trouge-2:\tP: 0.303922\tR: 0.298077\tF1: 0.300971\n",
      "\trouge-3:\tP: 0.287129\tR: 0.281553\tF1: 0.284314\n",
      "\trouge-4:\tP: 0.270000\tR: 0.264706\tF1: 0.267327\n",
      "\trouge-l:\tP: 0.538434\tR: 0.529874\tF1: 0.534119\n",
      "\trouge-w:\tP: 0.329994\tR: 0.194082\tF1: 0.244414\n"
     ]
    }
   ],
   "source": [
    "from rouge_metrics import *\n",
    "from get_sentences_from_line_numbers import *\n",
    "\n",
    "predicted_chat_logs = [test_chat_logs[index] for index, value in enumerate(test_y_predictions_argmax) if value==1]\n",
    "summaries_chat_logs = [test_chat_logs[index] for index, value in enumerate(test_y_argmax) if value==1]\n",
    "\n",
    "predicted_chat_logs = \"\".join(log for log in predicted_chat_logs)\n",
    "summaries_chat_logs = \"\".join(log for log in summaries_chat_logs)\n",
    "print(\"SUMMARIES\\n---------\\n\", summaries_chat_logs[:1000])\n",
    "print(\"PREDICTIONS\\n-----------\\n\", predicted_chat_logs[:1000])\n",
    "\n",
    "hypotheses = [predicted_chat_logs]\n",
    "references = [summaries_chat_logs]\n",
    "print(\"ROUGE Scores\\n------------\")\n",
    "rouge_results, rouge_scores = get_rouge_results(hypotheses, references)\n",
    "print_rouge_results(rouge_results)"
   ]
  },
  {
   "cell_type": "code",
   "execution_count": 32,
   "metadata": {},
   "outputs": [
    {
     "data": {
      "text/plain": [
       "{'rouge-2': {'f': 0.08737864077669905,\n",
       "  'p': 0.08823529411764706,\n",
       "  'r': 0.08653846153846154},\n",
       " 'rouge-4': {'f': 0.0396039603960396, 'p': 0.04, 'r': 0.0392156862745098},\n",
       " 'rouge-3': {'f': 0.049019607843137254,\n",
       "  'p': 0.04950495049504951,\n",
       "  'r': 0.04854368932038835},\n",
       " 'rouge-1': {'f': 0.4230769230769231,\n",
       "  'p': 0.42718446601941745,\n",
       "  'r': 0.41904761904761906},\n",
       " 'rouge-l': {'f': 0.4697312075488635,\n",
       "  'p': 0.47352551826587125,\n",
       "  'r': 0.4659972203002852},\n",
       " 'rouge-w': {'f': 0.15363494644218895,\n",
       "  'p': 0.20742894629273093,\n",
       "  'r': 0.12199669104399652}}"
      ]
     },
     "execution_count": 32,
     "metadata": {},
     "output_type": "execute_result"
    }
   ],
   "source": [
    "rouge_scores"
   ]
  },
  {
   "cell_type": "code",
   "execution_count": 54,
   "metadata": {
    "pycharm": {}
   },
   "outputs": [
    {
     "ename": "NameError",
     "evalue": "name 'validation_y_argmax' is not defined",
     "output_type": "error",
     "traceback": [
      "\u001b[0;31m---------------------------------------------------------------------------\u001b[0m",
      "\u001b[0;31mNameError\u001b[0m                                 Traceback (most recent call last)",
      "\u001b[0;32m<ipython-input-54-836a9053bf37>\u001b[0m in \u001b[0;36m<module>\u001b[0;34m\u001b[0m\n\u001b[0;32m----> 1\u001b[0;31m \u001b[0mprint\u001b[0m\u001b[0;34m(\u001b[0m\u001b[0mclassification_report\u001b[0m\u001b[0;34m(\u001b[0m\u001b[0mvalidation_y_argmax\u001b[0m\u001b[0;34m,\u001b[0m \u001b[0mvalidation_y_predictions_argmax\u001b[0m\u001b[0;34m)\u001b[0m\u001b[0;34m)\u001b[0m\u001b[0;34m\u001b[0m\u001b[0;34m\u001b[0m\u001b[0m\n\u001b[0m\u001b[1;32m      2\u001b[0m \u001b[0mprint\u001b[0m\u001b[0;34m(\u001b[0m\u001b[0mconfusion_matrix\u001b[0m\u001b[0;34m(\u001b[0m\u001b[0mvalidation_y_argmax\u001b[0m\u001b[0;34m,\u001b[0m \u001b[0mvalidation_y_predictions_argmax\u001b[0m\u001b[0;34m)\u001b[0m\u001b[0;34m)\u001b[0m\u001b[0;34m\u001b[0m\u001b[0;34m\u001b[0m\u001b[0m\n",
      "\u001b[0;31mNameError\u001b[0m: name 'validation_y_argmax' is not defined"
     ]
    }
   ],
   "source": [
    "print(classification_report(validation_y_argmax, validation_y_predictions_argmax))\n",
    "print(confusion_matrix(validation_y_argmax, validation_y_predictions_argmax))"
   ]
  },
  {
   "cell_type": "code",
   "execution_count": null,
   "metadata": {},
   "outputs": [],
   "source": []
  }
 ],
 "metadata": {
  "kernelspec": {
   "display_name": "Python 3",
   "language": "python",
   "name": "python3"
  },
  "language_info": {
   "codemirror_mode": {
    "name": "ipython",
    "version": 3
   },
   "file_extension": ".py",
   "mimetype": "text/x-python",
   "name": "python",
   "nbconvert_exporter": "python",
   "pygments_lexer": "ipython3",
   "version": "3.6.8"
  }
 },
 "nbformat": 4,
 "nbformat_minor": 2
}
