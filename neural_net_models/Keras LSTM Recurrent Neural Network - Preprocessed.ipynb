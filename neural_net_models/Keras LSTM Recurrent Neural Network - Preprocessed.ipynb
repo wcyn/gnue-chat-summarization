{
 "cells": [
  {
   "cell_type": "markdown",
   "metadata": {
    "pycharm": {}
   },
   "source": [
    "## Using Keras for Word Embedding as well as the LSTM\n",
    "\n",
    "https://towardsdatascience.com/recurrent-neural-networks-by-example-in-python-ffd204f99470\n",
    "\n",
    "https://machinelearningmastery.com/sequence-classification-lstm-recurrent-neural-networks-python-keras/\n",
    "\n",
    "https://keras.io/getting-started/functional-api-guide/"
   ]
  },
  {
   "cell_type": "code",
   "execution_count": 1,
   "metadata": {
    "pycharm": {
     "is_executing": false
    }
   },
   "outputs": [
    {
     "name": "stderr",
     "output_type": "stream",
     "text": [
      "Using TensorFlow backend.\n"
     ]
    }
   ],
   "source": [
    "from numpy.random import seed\n",
    "seed(1)\n",
    "from tensorflow import set_random_seed\n",
    "set_random_seed(1)\n",
    "import keras\n",
    "import matplotlib.pyplot as plt\n",
    "import numpy as np\n",
    "import sys\n",
    "import time\n",
    "sys.path.append(\"..\")\n",
    "\n",
    "from app.services.data_preparation import get_processed_data_sets_for_model, DATA_FILES_DIR\n",
    "from app.services.sentence_tokenizer import get_chat_log_sequences, MAX_CHAT_LENGTH, TOP_WORDS\n",
    "from keras.layers import Bidirectional, Dense, Dropout, Input, LSTM, TimeDistributed\n",
    "from keras.layers.embeddings import Embedding\n",
    "from keras.models import Sequential, Model, load_model\n",
    "from sklearn.metrics import classification_report, confusion_matrix\n",
    "from os.path import join"
   ]
  },
  {
   "cell_type": "code",
   "execution_count": 2,
   "metadata": {
    "pycharm": {
     "is_executing": false
    }
   },
   "outputs": [],
   "source": [
    "processed_data, data_type_log_ids, train_validation_and_test_dates = get_processed_data_sets_for_model()"
   ]
  },
  {
   "cell_type": "code",
   "execution_count": 3,
   "metadata": {
    "pycharm": {
     "is_executing": false
    }
   },
   "outputs": [
    {
     "data": {
      "text/html": [
       "<div>\n",
       "<style scoped>\n",
       "    .dataframe tbody tr th:only-of-type {\n",
       "        vertical-align: middle;\n",
       "    }\n",
       "\n",
       "    .dataframe tbody tr th {\n",
       "        vertical-align: top;\n",
       "    }\n",
       "\n",
       "    .dataframe thead th {\n",
       "        text-align: right;\n",
       "    }\n",
       "</style>\n",
       "<table border=\"1\" class=\"dataframe\">\n",
       "  <thead>\n",
       "    <tr style=\"text-align: right;\">\n",
       "      <th></th>\n",
       "      <th>absolute_sentence_position</th>\n",
       "      <th>sentence_length</th>\n",
       "      <th>number_of_special_terms</th>\n",
       "      <th>sentiment_score</th>\n",
       "      <th>normalized_mean_tf_idf</th>\n",
       "      <th>normalized_mean_tf_isf</th>\n",
       "    </tr>\n",
       "  </thead>\n",
       "  <tbody>\n",
       "    <tr>\n",
       "      <th>3572</th>\n",
       "      <td>1.722665</td>\n",
       "      <td>0.667918</td>\n",
       "      <td>-0.449896</td>\n",
       "      <td>0.429990</td>\n",
       "      <td>0.794489</td>\n",
       "      <td>-0.660211</td>\n",
       "    </tr>\n",
       "    <tr>\n",
       "      <th>3573</th>\n",
       "      <td>1.724406</td>\n",
       "      <td>-0.964506</td>\n",
       "      <td>-0.449896</td>\n",
       "      <td>-0.267278</td>\n",
       "      <td>-0.029789</td>\n",
       "      <td>2.010323</td>\n",
       "    </tr>\n",
       "    <tr>\n",
       "      <th>3574</th>\n",
       "      <td>1.726147</td>\n",
       "      <td>-0.783125</td>\n",
       "      <td>-0.449896</td>\n",
       "      <td>0.512711</td>\n",
       "      <td>-0.101648</td>\n",
       "      <td>0.199086</td>\n",
       "    </tr>\n",
       "    <tr>\n",
       "      <th>3575</th>\n",
       "      <td>1.727888</td>\n",
       "      <td>-0.964506</td>\n",
       "      <td>-0.449896</td>\n",
       "      <td>1.927926</td>\n",
       "      <td>1.617833</td>\n",
       "      <td>1.230711</td>\n",
       "    </tr>\n",
       "    <tr>\n",
       "      <th>3576</th>\n",
       "      <td>1.729628</td>\n",
       "      <td>-0.057604</td>\n",
       "      <td>-0.449896</td>\n",
       "      <td>0.504783</td>\n",
       "      <td>1.211230</td>\n",
       "      <td>-0.576068</td>\n",
       "    </tr>\n",
       "  </tbody>\n",
       "</table>\n",
       "</div>"
      ],
      "text/plain": [
       "      absolute_sentence_position  sentence_length  number_of_special_terms  \\\n",
       "3572                    1.722665         0.667918                -0.449896   \n",
       "3573                    1.724406        -0.964506                -0.449896   \n",
       "3574                    1.726147        -0.783125                -0.449896   \n",
       "3575                    1.727888        -0.964506                -0.449896   \n",
       "3576                    1.729628        -0.057604                -0.449896   \n",
       "\n",
       "      sentiment_score  normalized_mean_tf_idf  normalized_mean_tf_isf  \n",
       "3572         0.429990                0.794489               -0.660211  \n",
       "3573        -0.267278               -0.029789                2.010323  \n",
       "3574         0.512711               -0.101648                0.199086  \n",
       "3575         1.927926                1.617833                1.230711  \n",
       "3576         0.504783                1.211230               -0.576068  "
      ]
     },
     "execution_count": 3,
     "metadata": {},
     "output_type": "execute_result"
    }
   ],
   "source": [
    "processed_data[\"validation_features_X\"].tail()"
   ]
  },
  {
   "cell_type": "code",
   "execution_count": 4,
   "metadata": {
    "pycharm": {
     "is_executing": false
    }
   },
   "outputs": [
    {
     "name": "stdout",
     "output_type": "stream",
     "text": [
      "       absolute_sentence_position  sentence_length  number_of_special_terms  \\\n",
      "13728                    1.704054        -0.033601                 0.674254   \n",
      "13729                    1.710517        -1.107969                -0.401435   \n",
      "13730                    1.716980         4.621994                 0.674254   \n",
      "13731                    1.723443        -0.749846                 0.674254   \n",
      "13732                    1.729906        -0.570785                -0.401435   \n",
      "\n",
      "       sentiment_score  normalized_mean_tf_idf  normalized_mean_tf_isf  \n",
      "13728        -2.698176               -0.776535               -0.509469  \n",
      "13729         1.441073               -1.308255               -0.917676  \n",
      "13730        -2.818533               -0.808004               -0.846012  \n",
      "13731         1.441073               -0.976807                0.385273  \n",
      "13732        -0.273833               -0.964630               -0.070990  \n",
      "(3405, 6)\n"
     ]
    },
    {
     "data": {
      "text/html": [
       "<div>\n",
       "<style scoped>\n",
       "    .dataframe tbody tr th:only-of-type {\n",
       "        vertical-align: middle;\n",
       "    }\n",
       "\n",
       "    .dataframe tbody tr th {\n",
       "        vertical-align: top;\n",
       "    }\n",
       "\n",
       "    .dataframe thead th {\n",
       "        text-align: right;\n",
       "    }\n",
       "</style>\n",
       "<table border=\"1\" class=\"dataframe\">\n",
       "  <thead>\n",
       "    <tr style=\"text-align: right;\">\n",
       "      <th></th>\n",
       "      <th>absolute_sentence_position</th>\n",
       "      <th>sentence_length</th>\n",
       "      <th>number_of_special_terms</th>\n",
       "      <th>sentiment_score</th>\n",
       "      <th>normalized_mean_tf_idf</th>\n",
       "      <th>normalized_mean_tf_isf</th>\n",
       "    </tr>\n",
       "  </thead>\n",
       "  <tbody>\n",
       "    <tr>\n",
       "      <th>0</th>\n",
       "      <td>-1.730500</td>\n",
       "      <td>-0.701164</td>\n",
       "      <td>0.965860</td>\n",
       "      <td>-0.217358</td>\n",
       "      <td>-0.729511</td>\n",
       "      <td>0.457932</td>\n",
       "    </tr>\n",
       "    <tr>\n",
       "      <th>1</th>\n",
       "      <td>-1.726405</td>\n",
       "      <td>0.090238</td>\n",
       "      <td>2.354106</td>\n",
       "      <td>-0.217358</td>\n",
       "      <td>-0.536776</td>\n",
       "      <td>-0.517849</td>\n",
       "    </tr>\n",
       "    <tr>\n",
       "      <th>2</th>\n",
       "      <td>-1.722310</td>\n",
       "      <td>-0.701164</td>\n",
       "      <td>-0.422385</td>\n",
       "      <td>-0.217358</td>\n",
       "      <td>-0.630341</td>\n",
       "      <td>0.043949</td>\n",
       "    </tr>\n",
       "    <tr>\n",
       "      <th>3</th>\n",
       "      <td>-1.718216</td>\n",
       "      <td>0.288089</td>\n",
       "      <td>-0.422385</td>\n",
       "      <td>-0.217358</td>\n",
       "      <td>-0.107571</td>\n",
       "      <td>-0.625060</td>\n",
       "    </tr>\n",
       "    <tr>\n",
       "      <th>4</th>\n",
       "      <td>-1.714121</td>\n",
       "      <td>-0.899014</td>\n",
       "      <td>-0.422385</td>\n",
       "      <td>-0.775119</td>\n",
       "      <td>-0.625652</td>\n",
       "      <td>1.596072</td>\n",
       "    </tr>\n",
       "  </tbody>\n",
       "</table>\n",
       "</div>"
      ],
      "text/plain": [
       "   absolute_sentence_position  sentence_length  number_of_special_terms  \\\n",
       "0                   -1.730500        -0.701164                 0.965860   \n",
       "1                   -1.726405         0.090238                 2.354106   \n",
       "2                   -1.722310        -0.701164                -0.422385   \n",
       "3                   -1.718216         0.288089                -0.422385   \n",
       "4                   -1.714121        -0.899014                -0.422385   \n",
       "\n",
       "   sentiment_score  normalized_mean_tf_idf  normalized_mean_tf_isf  \n",
       "0        -0.217358               -0.729511                0.457932  \n",
       "1        -0.217358               -0.536776               -0.517849  \n",
       "2        -0.217358               -0.630341                0.043949  \n",
       "3        -0.217358               -0.107571               -0.625060  \n",
       "4        -0.775119               -0.625652                1.596072  "
      ]
     },
     "execution_count": 4,
     "metadata": {},
     "output_type": "execute_result"
    }
   ],
   "source": [
    "train_features_X = processed_data[\"train_features_X\"]\n",
    "validation_features_X = processed_data[\"validation_features_X\"]\n",
    "test_features_X = processed_data[\"test_features_X\"]\n",
    "print(train_features_X.tail())\n",
    "\n",
    "assert train_features_X.shape[1] == test_features_X.shape[1] \n",
    "assert test_features_X.shape[1] == validation_features_X.shape[1] \n",
    "print(test_features_X.shape)\n",
    "test_features_X.head()"
   ]
  },
  {
   "cell_type": "code",
   "execution_count": 5,
   "metadata": {
    "pycharm": {
     "is_executing": false
    }
   },
   "outputs": [
    {
     "name": "stdout",
     "output_type": "stream",
     "text": [
      "(13733, 73)\n",
      "(3405, 73)\n",
      "[[   0    0    0    0    0    0    0    0    0    0    0    0    0    0\n",
      "     0    0    0    0    0    0    0    0    0    0    0    0    0    0\n",
      "     0    0    0    0    0    0    0    0    0    0    0    0    0    0\n",
      "     0    0    0    0    0    0    0    0    0    0    0    0    0    0\n",
      "     0    0    0    0    0    4 1359   18  108   15    3 4900  918   12\n",
      "   115  786   14]]\n",
      "3405\n"
     ]
    },
    {
     "data": {
      "text/plain": [
       "['hey reinhard\\n', 'did jonas ever hack on GNUe?\\n']"
      ]
     },
     "execution_count": 5,
     "metadata": {},
     "output_type": "execute_result"
    }
   ],
   "source": [
    "train_X, train_chat_logs = get_chat_log_sequences(data_type_log_ids[\"train\"])\n",
    "validation_X, validation_chat_logs = get_chat_log_sequences(data_type_log_ids[\"validation\"])\n",
    "test_X, test_chat_logs = get_chat_log_sequences(data_type_log_ids[\"test\"])\n",
    "print(train_X.shape)\n",
    "print(test_X.shape)\n",
    "print(train_X[:1])\n",
    "print(len(test_X))\n",
    "test_chat_logs[:2]\n"
   ]
  },
  {
   "cell_type": "code",
   "execution_count": 6,
   "metadata": {
    "pycharm": {
     "is_executing": false
    }
   },
   "outputs": [
    {
     "name": "stdout",
     "output_type": "stream",
     "text": [
      "(3405, 2)\n"
     ]
    },
    {
     "data": {
      "text/plain": [
       "array([[1., 0.],\n",
       "       [1., 0.],\n",
       "       [1., 0.],\n",
       "       ...,\n",
       "       [1., 0.],\n",
       "       [1., 0.],\n",
       "       [1., 0.]], dtype=float32)"
      ]
     },
     "execution_count": 6,
     "metadata": {},
     "output_type": "execute_result"
    }
   ],
   "source": [
    "train_y = processed_data[\"train_y\"]\n",
    "validation_y = processed_data[\"validation_y\"]\n",
    "test_y = processed_data[\"test_y\"]\n",
    "print(test_y.shape)\n",
    "test_y"
   ]
  },
  {
   "cell_type": "code",
   "execution_count": 7,
   "metadata": {
    "pycharm": {
     "is_executing": false
    }
   },
   "outputs": [
    {
     "data": {
      "text/plain": [
       "[144080, 144081, 144082, 144083, 144084]"
      ]
     },
     "execution_count": 7,
     "metadata": {},
     "output_type": "execute_result"
    }
   ],
   "source": [
    "data_type_log_ids[\"test\"][:5]"
   ]
  },
  {
   "cell_type": "code",
   "execution_count": 8,
   "metadata": {
    "pycharm": {
     "is_executing": false
    }
   },
   "outputs": [
    {
     "name": "stdout",
     "output_type": "stream",
     "text": [
      "WARNING:tensorflow:From /Users/wcyn/anaconda3/envs/gnue-irc/lib/python3.6/site-packages/tensorflow/python/framework/op_def_library.py:263: colocate_with (from tensorflow.python.framework.ops) is deprecated and will be removed in a future version.\n",
      "Instructions for updating:\n",
      "Colocations handled automatically by placer.\n"
     ]
    }
   ],
   "source": [
    "# Sentence input: meant to receive sequences of `max_chat_length` integers, between 1 and `top_words`.\n",
    "main_sentence_input = Input(shape=(MAX_CHAT_LENGTH,), dtype='int32', name='main_sentence_input')\n",
    "\n",
    "# This embedding layer will encode the input sequence\n",
    "# into a sequence of dense 512-dimensional vectors.\n",
    "x = Embedding(output_dim=512, input_dim=TOP_WORDS, input_length=MAX_CHAT_LENGTH)(main_sentence_input)\n",
    "\n",
    "# An LSTM will transform the vector sequence into a single vector,\n",
    "# containing information about the entire sequence\n",
    "lstm_out = LSTM(32)(x)"
   ]
  },
  {
   "cell_type": "code",
   "execution_count": 9,
   "metadata": {
    "pycharm": {
     "is_executing": false
    }
   },
   "outputs": [],
   "source": [
    "# Here we insert the auxiliary loss, allowing the LSTM and Embedding layer \n",
    "# to be trained smoothly even though the main loss will be much higher in the model.\n",
    "auxiliary_output = Dense(2, activation='sigmoid', name='aux_output')(lstm_out)\n",
    "\n",
    "# At this point, we feed into the model our auxiliary input data by \n",
    "# concatenating it with the LSTM output\n",
    "num_of_feature_columns = test_features_X.shape[1]\n",
    "sentence_features_input = Input(shape=(num_of_feature_columns,), name='sentence_features_input')\n",
    "merged_input_and_output = keras.layers.concatenate([lstm_out, sentence_features_input])\n",
    "\n",
    "# We stack a deep densely-connected network on top\n",
    "x = Dense(64, activation='relu')(merged_input_and_output)\n",
    "x = Dense(64, activation='relu')(x)\n",
    "x = Dense(64, activation='relu')(x)\n",
    "\n",
    "# And finally we add the main logistic regression layer\n",
    "main_output = Dense(2, activation='sigmoid', name='main_output')(x)"
   ]
  },
  {
   "cell_type": "code",
   "execution_count": 10,
   "metadata": {
    "pycharm": {
     "is_executing": false
    }
   },
   "outputs": [],
   "source": [
    "# Define a model with two inputs and two outputs\n",
    "merged_model = Model(\n",
    "    inputs=[main_sentence_input, sentence_features_input], \n",
    "    outputs=[main_output, auxiliary_output]\n",
    ")"
   ]
  },
  {
   "cell_type": "markdown",
   "metadata": {
    "pycharm": {}
   },
   "source": [
    "We compile the model and assign a weight of 0.2 to the auxiliary loss. To specify different loss_weights or loss for each different output, you can use a list or a dictionary. Here we pass a single loss as the loss argument, so the same loss will be used on all outputs."
   ]
  },
  {
   "cell_type": "code",
   "execution_count": 11,
   "metadata": {
    "pycharm": {
     "is_executing": false
    }
   },
   "outputs": [
    {
     "name": "stdout",
     "output_type": "stream",
     "text": [
      "__________________________________________________________________________________________________\n",
      "Layer (type)                    Output Shape         Param #     Connected to                     \n",
      "==================================================================================================\n",
      "main_sentence_input (InputLayer (None, 73)           0                                            \n",
      "__________________________________________________________________________________________________\n",
      "embedding_1 (Embedding)         (None, 73, 512)      51200000    main_sentence_input[0][0]        \n",
      "__________________________________________________________________________________________________\n",
      "lstm_1 (LSTM)                   (None, 32)           69760       embedding_1[0][0]                \n",
      "__________________________________________________________________________________________________\n",
      "sentence_features_input (InputL (None, 6)            0                                            \n",
      "__________________________________________________________________________________________________\n",
      "concatenate_1 (Concatenate)     (None, 38)           0           lstm_1[0][0]                     \n",
      "                                                                 sentence_features_input[0][0]    \n",
      "__________________________________________________________________________________________________\n",
      "dense_1 (Dense)                 (None, 64)           2496        concatenate_1[0][0]              \n",
      "__________________________________________________________________________________________________\n",
      "dense_2 (Dense)                 (None, 64)           4160        dense_1[0][0]                    \n",
      "__________________________________________________________________________________________________\n",
      "dense_3 (Dense)                 (None, 64)           4160        dense_2[0][0]                    \n",
      "__________________________________________________________________________________________________\n",
      "main_output (Dense)             (None, 2)            130         dense_3[0][0]                    \n",
      "__________________________________________________________________________________________________\n",
      "aux_output (Dense)              (None, 2)            66          lstm_1[0][0]                     \n",
      "==================================================================================================\n",
      "Total params: 51,280,772\n",
      "Trainable params: 51,280,772\n",
      "Non-trainable params: 0\n",
      "__________________________________________________________________________________________________\n"
     ]
    }
   ],
   "source": [
    "merged_model.compile(\n",
    "    optimizer='rmsprop', \n",
    "    #optimizer=\"adam\",\n",
    "    loss='categorical_crossentropy',\n",
    "    loss_weights=[1., 0.2]\n",
    ")\n",
    "merged_model.summary()"
   ]
  },
  {
   "cell_type": "code",
   "execution_count": 15,
   "metadata": {
    "pycharm": {}
   },
   "outputs": [
    {
     "name": "stdout",
     "output_type": "stream",
     "text": [
      "WARNING:tensorflow:From /Users/wcyn/anaconda3/envs/gnue-irc/lib/python3.6/site-packages/tensorflow/python/ops/math_ops.py:3066: to_int32 (from tensorflow.python.ops.math_ops) is deprecated and will be removed in a future version.\n",
      "Instructions for updating:\n",
      "Use tf.cast instead.\n",
      "Train on 13733 samples, validate on 3577 samples\n",
      "Epoch 1/2\n",
      "13733/13733 [==============================] - 155s 11ms/step - loss: 0.1870 - main_output_loss: 0.1539 - aux_output_loss: 0.1654 - val_loss: 0.1110 - val_main_output_loss: 0.0926 - val_aux_output_loss: 0.0916\n",
      "Epoch 2/2\n",
      "13733/13733 [==============================] - 154s 11ms/step - loss: 0.1576 - main_output_loss: 0.1312 - aux_output_loss: 0.1322 - val_loss: 0.1077 - val_main_output_loss: 0.0893 - val_aux_output_loss: 0.0917\n",
      "310.1371030807495  seconds\n"
     ]
    }
   ],
   "source": [
    "# Train the model by passing it lists of input arrays and target arrays 19960.996418952942  seconds\n",
    "# 25183.798012971878  seconds Second time, with 30 minute break in between\n",
    "start = time.time()\n",
    "merged_model_history = merged_model.fit(\n",
    "    [train_X, train_features_X], \n",
    "    [train_y, train_y],\n",
    "    #validation_split=0.2,\n",
    "    validation_data=[\n",
    "        [validation_X, validation_features_X], \n",
    "        [validation_y, validation_y]\n",
    "    ],\n",
    "    epochs=2, \n",
    "    batch_size=64\n",
    ")\n",
    "end = time.time()\n",
    "print(end - start, \" seconds\")"
   ]
  },
  {
   "cell_type": "code",
   "execution_count": 16,
   "metadata": {
    "pycharm": {}
   },
   "outputs": [
    {
     "data": {
      "image/png": "[encoded data removed]",
      "text/plain": [
       "<Figure size 432x288 with 1 Axes>"
      ]
     },
     "metadata": {
      "needs_background": "light"
     },
     "output_type": "display_data"
    }
   ],
   "source": [
    "merged_model_loss_values = merged_model_history.history['loss']\n",
    "merged_model_epochs = range(1, len(merged_model_loss_values)+1)\n",
    "\n",
    "plt.plot(merged_model_epochs, merged_model_loss_values, label='Training Loss')\n",
    "plt.xlabel('Epochs')\n",
    "plt.ylabel('Loss')\n",
    "plt.legend()\n",
    "\n",
    "plt.show()"
   ]
  },
  {
   "cell_type": "code",
   "execution_count": 27,
   "metadata": {
    "pycharm": {}
   },
   "outputs": [],
   "source": [
    "# current_time = time.strftime(\"%Y-%m-%d-(%H_%M_%S)\")\n",
    "current_time = \"2019-04-01-(23_21_23)\"\n",
    "merged_model_filename = join(DATA_FILES_DIR, current_time + ' merged_hybrid_model.h5')"
   ]
  },
  {
   "cell_type": "code",
   "execution_count": null,
   "metadata": {
    "pycharm": {}
   },
   "outputs": [],
   "source": [
    "merged_model.save(merged_model_filename)"
   ]
  },
  {
   "cell_type": "code",
   "execution_count": 28,
   "metadata": {
    "pycharm": {}
   },
   "outputs": [],
   "source": [
    "loaded_merged_model = load_model(merged_model_filename)"
   ]
  },
  {
   "cell_type": "code",
   "execution_count": 43,
   "metadata": {
    "pycharm": {}
   },
   "outputs": [],
   "source": [
    "test_y_predictions = loaded_merged_model.predict([test_X, test_features_X])\n",
    "validation_y_predictions = loaded_merged_model.predict([validation_X, validation_features_X])\n",
    "\n",
    "test_y_argmax = np.argmax(test_y,axis=1)\n",
    "validation_y_argmax = np.argmax(validation_y,axis=1)\n",
    "\n",
    "test_y_predictions_argmax = np.argmax(test_y_predictions[1], axis=1)\n",
    "validation_y_predictions_argmax = np.argmax(validation_y_predictions[1], axis=1)"
   ]
  },
  {
   "cell_type": "code",
   "execution_count": 44,
   "metadata": {
    "pycharm": {}
   },
   "outputs": [
    {
     "data": {
      "text/plain": [
       "[array([[0.48959595, 0.53163636],\n",
       "        [0.46452606, 0.5526056 ],\n",
       "        [0.46621254, 0.5680861 ],\n",
       "        ...,\n",
       "        [0.49086356, 0.5029545 ],\n",
       "        [0.47139436, 0.52602154],\n",
       "        [0.48237315, 0.51321286]], dtype=float32),\n",
       " array([[0.50069296, 0.50607383],\n",
       "        [0.49947158, 0.49398497],\n",
       "        [0.49699104, 0.5071288 ],\n",
       "        ...,\n",
       "        [0.5092425 , 0.49488187],\n",
       "        [0.5043269 , 0.5032281 ],\n",
       "        [0.50815344, 0.5015128 ]], dtype=float32)]"
      ]
     },
     "execution_count": 44,
     "metadata": {},
     "output_type": "execute_result"
    }
   ],
   "source": [
    "test_y_predictions[:10]"
   ]
  },
  {
   "cell_type": "code",
   "execution_count": 45,
   "metadata": {
    "pycharm": {}
   },
   "outputs": [
    {
     "data": {
      "text/plain": [
       "array([1, 0, 1, 1, 0, 0, 0, 0, 1, 1, 0, 0, 0, 0, 1, 1, 0, 1, 0, 0, 0, 1,\n",
       "       0, 0, 0, 1, 0, 0, 0, 0, 0, 1, 1, 0, 0, 0, 1, 0, 0, 0, 0, 1, 0, 1,\n",
       "       0, 0, 1, 0, 1, 1, 0, 1, 0, 0, 0, 1, 1, 0, 1, 1, 1, 0, 0, 0, 0, 0,\n",
       "       1, 1, 0, 0, 0, 0, 1, 1, 1, 0, 0, 0, 0, 1, 0, 1, 0, 1, 1, 1, 1, 0,\n",
       "       1, 0, 0, 1, 0, 1, 0, 0, 0, 0, 0, 1, 1, 1, 0, 0, 0, 0, 1, 1, 1, 0,\n",
       "       0, 0, 0, 1, 1, 1, 1, 0, 0, 1, 1, 0, 0, 1, 1, 0, 1, 1, 1, 0, 0, 0,\n",
       "       0, 1, 0, 0, 0, 1, 0, 1, 0, 0, 0, 0, 1, 1, 0, 0, 0, 1, 1, 1, 1, 0,\n",
       "       0, 0, 0, 0, 0, 0, 0, 0, 0, 0, 1, 0, 0, 0, 0, 1, 1, 1, 1, 0, 1, 0,\n",
       "       1, 0, 1, 0, 1, 0, 1, 0, 0, 0, 0, 1, 0, 0, 1, 0, 1, 0, 1, 1, 1, 1,\n",
       "       0, 0])"
      ]
     },
     "execution_count": 45,
     "metadata": {},
     "output_type": "execute_result"
    }
   ],
   "source": [
    "test_y_predictions_argmax[:200]"
   ]
  },
  {
   "cell_type": "code",
   "execution_count": 46,
   "metadata": {
    "pycharm": {}
   },
   "outputs": [
    {
     "data": {
      "text/plain": [
       "array([0, 0, 0, 0, 0, 0, 0, 0, 0, 0, 0, 0, 0, 0, 0, 0, 0, 0, 0, 0, 0, 0,\n",
       "       0, 0, 0, 0, 0, 0, 0, 0, 0, 0, 0, 0, 0, 0, 0, 0, 0, 0, 0, 0, 0, 0,\n",
       "       0, 0, 0, 0, 0, 0, 0, 0, 0, 0, 0, 0, 0, 0, 0, 0, 0, 0, 0, 0, 0, 0,\n",
       "       0, 0, 0, 0, 0, 0, 0, 0, 0, 0, 0, 0, 0, 0, 0, 0, 0, 0, 0, 0, 0, 0,\n",
       "       0, 0, 0, 0, 0, 1, 0, 0, 0, 0, 0, 0, 0, 0, 0, 0, 0, 0, 0, 0, 0, 0,\n",
       "       0, 0, 0, 0, 0, 0, 0, 0, 0, 0, 0, 0, 0, 0, 0, 0, 0, 1, 0, 0, 0, 0,\n",
       "       0, 0, 0, 0, 0, 0, 0, 0, 0, 0, 0, 0, 0, 0, 0, 0, 0, 0, 0, 0, 0, 0,\n",
       "       0, 0, 0, 0, 0, 0, 0, 0, 0, 0, 0, 0, 0, 0, 0, 0, 0, 0, 0, 0, 0, 0,\n",
       "       0, 0, 0, 0, 0, 0, 0, 0, 0, 0, 0, 0, 0, 0, 0, 0, 0, 0, 0, 0, 0, 0,\n",
       "       0, 0])"
      ]
     },
     "execution_count": 46,
     "metadata": {},
     "output_type": "execute_result"
    }
   ],
   "source": [
    "test_y_argmax[:200]"
   ]
  },
  {
   "cell_type": "code",
   "execution_count": 47,
   "metadata": {
    "pycharm": {}
   },
   "outputs": [
    {
     "name": "stdout",
     "output_type": "stream",
     "text": [
      "              precision    recall  f1-score   support\n",
      "\n",
      "           0       0.96      0.55      0.70      3282\n",
      "           1       0.03      0.38      0.06       123\n",
      "\n",
      "   micro avg       0.54      0.54      0.54      3405\n",
      "   macro avg       0.49      0.46      0.38      3405\n",
      "weighted avg       0.93      0.54      0.67      3405\n",
      "\n",
      "[[1790 1492]\n",
      " [  76   47]]\n"
     ]
    }
   ],
   "source": [
    "print(classification_report(test_y_argmax, test_y_predictions_argmax))\n",
    "print(confusion_matrix(test_y_argmax, test_y_predictions_argmax))"
   ]
  },
  {
   "cell_type": "code",
   "execution_count": 48,
   "metadata": {
    "pycharm": {},
    "scrolled": false
   },
   "outputs": [
    {
     "name": "stdout",
     "output_type": "stream",
     "text": [
      "SUMMARIES\n",
      "---------\n",
      " where you planning a single exception raised to the app level or should I make forms handle the various errors at the app level\n",
      "it's because the event system can't keep up with the movement\n",
      "I'm going to make the provider='odbc' and take all the special meaning out of it\n",
      "what's next big ticket in designer?\n",
      "need to clean up the UI system\n",
      "... add drag and drop support for automatically pulling fields/datasources\n",
      "... generalize the designer code so that it can be used w/reports/etc\n",
      "... use BOA (if installed) for code editing\n",
      "insert a duplicate key into table\n",
      "gnuef used to generate pop up dialogs and recover when a dberror was encountered\n",
      "say I query 10 records\n",
      "I have a resultset with 10 recordsets\n",
      "I change the first 3 \n",
      "which causes the _updateFlag's to be set on those records\n",
      "and I insert a new record at the end\n",
      "I go to commit the changes\n",
      "and it performs the updates on the first 3\n",
      "and resets the _updateFlag (since they've been updated)\n",
      "then inserts the last one\n",
      "but it generates an error\n",
      "so\n",
      "PREDICTIONS\n",
      "-----------\n",
      " hey reinhard\n",
      "not really\n",
      "he was maintainer in the pre-code days\n",
      "GCompris?\n",
      "morning\n",
      "but X axis is going nuts\n",
      "and I'm shifting positions based upon the grid sizing\n",
      "no\n",
      "sure\n",
      "cvs conflicts\n",
      "btw, I am making a change in Designer's TemplateParser.py.. I'm assuming this won't conflict w/you\n",
      "nope\n",
      "ok, it's commited\n",
      "that'd be nice for 0.1.0\n",
      "brb , need to raid the kitchen's caffeine \n",
      "back\n",
      "yip\n",
      "it's fscked up\n",
      "what's it doing?\n",
      "I don't think KDE likes xchat\n",
      "what are you seeing in the mouse?\n",
      "I think\n",
      "yip\n",
      "however I couldn't move up the widget tree and get valid coords\n",
      "sure\n",
      "where is a good place to start? xml? python? php?\n",
      "are you wanting to work on core gnue tools, work on gnue apps, or just use the product\n",
      "well - i took a course on powerbuilder and sybase enterprise but cannot afford the licences\n",
      "i am a planner by profession and doing things myself is kind of a last resort\n",
      "who does that?\n",
      "gotcha\n",
      "jcater: ok, new question\n",
      "jamest: I moved the OnMotion stuff to the panel, but kept the left_down s tuff at the wi\n",
      "ROUGE Scores\n",
      "------------\n",
      "Evaluation with Avg\n",
      "\trouge-1:\tP: 0.278261\tR: 0.304762\tF1: 0.290909\n",
      "\trouge-2:\tP: 0.052632\tR: 0.057692\tF1: 0.055046\n",
      "\trouge-3:\tP: 0.000000\tR: 0.000000\tF1: 0.000000\n",
      "\trouge-4:\tP: 0.000000\tR: 0.000000\tF1: 0.000000\n",
      "\trouge-l:\tP: 0.335392\tR: 0.361807\tF1: 0.348099\n",
      "\trouge-w:\tP: 0.155212\tR: 0.101921\tF1: 0.123045\n"
     ]
    }
   ],
   "source": [
    "from rouge_metrics import *\n",
    "from get_sentences_from_line_numbers import *\n",
    "\n",
    "predicted_chat_logs = [test_chat_logs[index] for index, value in enumerate(test_y_predictions_argmax) if value==1]\n",
    "summaries_chat_logs = [test_chat_logs[index] for index, value in enumerate(test_y_argmax) if value==1]\n",
    "\n",
    "predicted_chat_logs = \"\".join(log for log in predicted_chat_logs)\n",
    "summaries_chat_logs = \"\".join(log for log in summaries_chat_logs)\n",
    "print(\"SUMMARIES\\n---------\\n\", summaries_chat_logs[:1000])\n",
    "print(\"PREDICTIONS\\n-----------\\n\", predicted_chat_logs[:1000])\n",
    "\n",
    "hypotheses = [predicted_chat_logs]\n",
    "references = [summaries_chat_logs]\n",
    "print(\"ROUGE Scores\\n------------\")\n",
    "print_rouge_results(get_rouge_results(hypotheses, references))"
   ]
  },
  {
   "cell_type": "code",
   "execution_count": 52,
   "metadata": {
    "pycharm": {}
   },
   "outputs": [
    {
     "name": "stdout",
     "output_type": "stream",
     "text": [
      "              precision    recall  f1-score   support\n",
      "\n",
      "           0       0.98      0.55      0.71      3513\n",
      "           1       0.02      0.53      0.04        64\n",
      "\n",
      "   micro avg       0.55      0.55      0.55      3577\n",
      "   macro avg       0.50      0.54      0.37      3577\n",
      "weighted avg       0.97      0.55      0.70      3577\n",
      "\n",
      "[[1945 1568]\n",
      " [  30   34]]\n"
     ]
    }
   ],
   "source": [
    "print(classification_report(validation_y_argmax, validation_y_predictions_argmax))\n",
    "print(confusion_matrix(validation_y_argmax, validation_y_predictions_argmax))"
   ]
  }
 ],
 "metadata": {
  "kernelspec": {
   "display_name": "Python 3",
   "language": "python",
   "name": "python3"
  },
  "language_info": {
   "codemirror_mode": {
    "name": "ipython",
    "version": 3
   },
   "file_extension": ".py",
   "mimetype": "text/x-python",
   "name": "python",
   "nbconvert_exporter": "python",
   "pygments_lexer": "ipython3",
   "version": "3.6.8"
  }
 },
 "nbformat": 4,
 "nbformat_minor": 2
}
