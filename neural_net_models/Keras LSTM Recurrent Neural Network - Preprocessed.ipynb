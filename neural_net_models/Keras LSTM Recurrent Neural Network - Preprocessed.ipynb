{
 "cells": [
  {
   "cell_type": "markdown",
   "metadata": {
    "pycharm": {}
   },
   "source": [
    "## Using Keras for Word Embedding as well as the LSTM\n",
    "\n",
    "https://towardsdatascience.com/recurrent-neural-networks-by-example-in-python-ffd204f99470\n",
    "\n",
    "https://machinelearningmastery.com/sequence-classification-lstm-recurrent-neural-networks-python-keras/\n",
    "\n",
    "https://keras.io/getting-started/functional-api-guide/"
   ]
  },
  {
   "cell_type": "code",
   "execution_count": 12,
   "metadata": {
    "pycharm": {
     "is_executing": false
    }
   },
   "outputs": [],
   "source": [
    "from numpy.random import seed\n",
    "seed(1)\n",
    "from tensorflow import set_random_seed\n",
    "set_random_seed(1)\n",
    "import keras\n",
    "import matplotlib.pyplot as plt\n",
    "import numpy as np\n",
    "import sys\n",
    "import time\n",
    "sys.path.append(\"..\")\n",
    "\n",
    "from app.services.data_preparation import get_processed_data_sets_for_model, DATA_FILES_DIR, TIME_OFFSET\n",
    "from app.services.sentence_tokenizer import get_chat_log_sequences, MAX_CHAT_LENGTH, TOP_WORDS\n",
    "from keras.layers import Bidirectional, Dense, Dropout, Input, LSTM, TimeDistributed, LeakyReLU\n",
    "from keras.layers.embeddings import Embedding\n",
    "from keras.models import Sequential, Model, load_model\n",
    "from sklearn.metrics import classification_report, confusion_matrix\n",
    "from sklearn.utils import class_weight\n",
    "from os.path import join"
   ]
  },
  {
   "cell_type": "code",
   "execution_count": 2,
   "metadata": {
    "pycharm": {
     "is_executing": false
    }
   },
   "outputs": [],
   "source": [
    "processed_data, data_type_log_ids, train_validation_and_test_dates = get_processed_data_sets_for_model()"
   ]
  },
  {
   "cell_type": "code",
   "execution_count": 3,
   "metadata": {
    "pycharm": {
     "is_executing": false
    }
   },
   "outputs": [
    {
     "data": {
      "text/html": [
       "<div>\n",
       "<style scoped>\n",
       "    .dataframe tbody tr th:only-of-type {\n",
       "        vertical-align: middle;\n",
       "    }\n",
       "\n",
       "    .dataframe tbody tr th {\n",
       "        vertical-align: top;\n",
       "    }\n",
       "\n",
       "    .dataframe thead th {\n",
       "        text-align: right;\n",
       "    }\n",
       "</style>\n",
       "<table border=\"1\" class=\"dataframe\">\n",
       "  <thead>\n",
       "    <tr style=\"text-align: right;\">\n",
       "      <th></th>\n",
       "      <th>absolute_sentence_position</th>\n",
       "      <th>sentence_length</th>\n",
       "      <th>number_of_special_terms</th>\n",
       "      <th>sentiment_score</th>\n",
       "      <th>normalized_mean_tf_idf</th>\n",
       "      <th>normalized_mean_tf_isf</th>\n",
       "    </tr>\n",
       "  </thead>\n",
       "  <tbody>\n",
       "    <tr>\n",
       "      <th>3572</th>\n",
       "      <td>0.997990</td>\n",
       "      <td>0.158730</td>\n",
       "      <td>0.0</td>\n",
       "      <td>0.208406</td>\n",
       "      <td>0.025535</td>\n",
       "      <td>0.057232</td>\n",
       "    </tr>\n",
       "    <tr>\n",
       "      <th>3573</th>\n",
       "      <td>0.998492</td>\n",
       "      <td>0.015873</td>\n",
       "      <td>0.0</td>\n",
       "      <td>0.000000</td>\n",
       "      <td>0.016537</td>\n",
       "      <td>0.685186</td>\n",
       "    </tr>\n",
       "    <tr>\n",
       "      <th>3574</th>\n",
       "      <td>0.998995</td>\n",
       "      <td>0.031746</td>\n",
       "      <td>0.0</td>\n",
       "      <td>0.233131</td>\n",
       "      <td>0.015752</td>\n",
       "      <td>0.259289</td>\n",
       "    </tr>\n",
       "    <tr>\n",
       "      <th>3575</th>\n",
       "      <td>0.999497</td>\n",
       "      <td>0.015873</td>\n",
       "      <td>0.0</td>\n",
       "      <td>0.656124</td>\n",
       "      <td>0.034522</td>\n",
       "      <td>0.501867</td>\n",
       "    </tr>\n",
       "    <tr>\n",
       "      <th>3576</th>\n",
       "      <td>1.000000</td>\n",
       "      <td>0.095238</td>\n",
       "      <td>0.0</td>\n",
       "      <td>0.230761</td>\n",
       "      <td>0.030084</td>\n",
       "      <td>0.077018</td>\n",
       "    </tr>\n",
       "  </tbody>\n",
       "</table>\n",
       "</div>"
      ],
      "text/plain": [
       "      absolute_sentence_position  sentence_length  number_of_special_terms  \\\n",
       "3572                    0.997990         0.158730                      0.0   \n",
       "3573                    0.998492         0.015873                      0.0   \n",
       "3574                    0.998995         0.031746                      0.0   \n",
       "3575                    0.999497         0.015873                      0.0   \n",
       "3576                    1.000000         0.095238                      0.0   \n",
       "\n",
       "      sentiment_score  normalized_mean_tf_idf  normalized_mean_tf_isf  \n",
       "3572         0.208406                0.025535                0.057232  \n",
       "3573         0.000000                0.016537                0.685186  \n",
       "3574         0.233131                0.015752                0.259289  \n",
       "3575         0.656124                0.034522                0.501867  \n",
       "3576         0.230761                0.030084                0.077018  "
      ]
     },
     "execution_count": 3,
     "metadata": {},
     "output_type": "execute_result"
    }
   ],
   "source": [
    "processed_data[\"validation_features_X\"].tail()"
   ]
  },
  {
   "cell_type": "code",
   "execution_count": 4,
   "metadata": {
    "pycharm": {
     "is_executing": false
    }
   },
   "outputs": [
    {
     "name": "stdout",
     "output_type": "stream",
     "text": [
      "       absolute_sentence_position  sentence_length  number_of_special_terms  \\\n",
      "13728                    0.992537         0.082192                 0.027027   \n",
      "13729                    0.994403         0.000000                 0.000000   \n",
      "13730                    0.996269         0.438356                 0.027027   \n",
      "13731                    0.998134         0.027397                 0.027027   \n",
      "13732                    1.000000         0.041096                 0.000000   \n",
      "\n",
      "       sentiment_score  normalized_mean_tf_idf  normalized_mean_tf_isf  \n",
      "13728         0.680659                0.007117                0.100894  \n",
      "13729         0.481478                0.000000                0.000000  \n",
      "13730         0.714451                0.006696                0.017713  \n",
      "13731         0.481478                0.004437                0.322041  \n",
      "13732         0.000000                0.004600                0.209270  \n",
      "(3405, 6)\n"
     ]
    },
    {
     "data": {
      "text/html": [
       "<div>\n",
       "<style scoped>\n",
       "    .dataframe tbody tr th:only-of-type {\n",
       "        vertical-align: middle;\n",
       "    }\n",
       "\n",
       "    .dataframe tbody tr th {\n",
       "        vertical-align: top;\n",
       "    }\n",
       "\n",
       "    .dataframe thead th {\n",
       "        text-align: right;\n",
       "    }\n",
       "</style>\n",
       "<table border=\"1\" class=\"dataframe\">\n",
       "  <thead>\n",
       "    <tr style=\"text-align: right;\">\n",
       "      <th></th>\n",
       "      <th>absolute_sentence_position</th>\n",
       "      <th>sentence_length</th>\n",
       "      <th>number_of_special_terms</th>\n",
       "      <th>sentiment_score</th>\n",
       "      <th>normalized_mean_tf_idf</th>\n",
       "      <th>normalized_mean_tf_isf</th>\n",
       "    </tr>\n",
       "  </thead>\n",
       "  <tbody>\n",
       "    <tr>\n",
       "      <th>0</th>\n",
       "      <td>0.001182</td>\n",
       "      <td>0.028169</td>\n",
       "      <td>0.142857</td>\n",
       "      <td>0.000000</td>\n",
       "      <td>0.005692</td>\n",
       "      <td>0.368636</td>\n",
       "    </tr>\n",
       "    <tr>\n",
       "      <th>1</th>\n",
       "      <td>0.002364</td>\n",
       "      <td>0.084507</td>\n",
       "      <td>0.285714</td>\n",
       "      <td>0.000000</td>\n",
       "      <td>0.007438</td>\n",
       "      <td>0.114519</td>\n",
       "    </tr>\n",
       "    <tr>\n",
       "      <th>2</th>\n",
       "      <td>0.003546</td>\n",
       "      <td>0.028169</td>\n",
       "      <td>0.000000</td>\n",
       "      <td>0.000000</td>\n",
       "      <td>0.006591</td>\n",
       "      <td>0.260825</td>\n",
       "    </tr>\n",
       "    <tr>\n",
       "      <th>3</th>\n",
       "      <td>0.004728</td>\n",
       "      <td>0.098592</td>\n",
       "      <td>0.000000</td>\n",
       "      <td>0.000000</td>\n",
       "      <td>0.011325</td>\n",
       "      <td>0.086599</td>\n",
       "    </tr>\n",
       "    <tr>\n",
       "      <th>4</th>\n",
       "      <td>0.005910</td>\n",
       "      <td>0.014085</td>\n",
       "      <td>0.000000</td>\n",
       "      <td>0.160904</td>\n",
       "      <td>0.006633</td>\n",
       "      <td>0.665037</td>\n",
       "    </tr>\n",
       "  </tbody>\n",
       "</table>\n",
       "</div>"
      ],
      "text/plain": [
       "   absolute_sentence_position  sentence_length  number_of_special_terms  \\\n",
       "0                    0.001182         0.028169                 0.142857   \n",
       "1                    0.002364         0.084507                 0.285714   \n",
       "2                    0.003546         0.028169                 0.000000   \n",
       "3                    0.004728         0.098592                 0.000000   \n",
       "4                    0.005910         0.014085                 0.000000   \n",
       "\n",
       "   sentiment_score  normalized_mean_tf_idf  normalized_mean_tf_isf  \n",
       "0         0.000000                0.005692                0.368636  \n",
       "1         0.000000                0.007438                0.114519  \n",
       "2         0.000000                0.006591                0.260825  \n",
       "3         0.000000                0.011325                0.086599  \n",
       "4         0.160904                0.006633                0.665037  "
      ]
     },
     "execution_count": 4,
     "metadata": {},
     "output_type": "execute_result"
    }
   ],
   "source": [
    "train_features_X = processed_data[\"train_features_X\"]\n",
    "validation_features_X = processed_data[\"validation_features_X\"]\n",
    "test_features_X = processed_data[\"test_features_X\"]\n",
    "print(train_features_X.tail())\n",
    "\n",
    "assert train_features_X.shape[1] == test_features_X.shape[1] \n",
    "assert test_features_X.shape[1] == validation_features_X.shape[1] \n",
    "print(test_features_X.shape)\n",
    "test_features_X.head()"
   ]
  },
  {
   "cell_type": "code",
   "execution_count": 5,
   "metadata": {
    "pycharm": {
     "is_executing": false
    }
   },
   "outputs": [
    {
     "name": "stdout",
     "output_type": "stream",
     "text": [
      "(13733, 100)\n",
      "(3405, 100)\n",
      "[[   0    0    0    0    0    0    0    0    0    0    0    0    0    0\n",
      "     0    0    0    0    0    0    0    0    0    0    0    0    0    0\n",
      "     0    0    0    0    0    0    0    0    0    0    0    0    0    0\n",
      "     0    0    0    0    0    0    0    0    0    0    0    0    0    0\n",
      "     0    0    0    0    0    0    0    0    0    0    0    0    0    0\n",
      "     0    0    0    0    0    0    0    0    0    0    0    0    0    0\n",
      "     0    0    0    0    4 1359   18  108   15    3 4900  918   12  115\n",
      "   786   14]]\n",
      "3405\n"
     ]
    },
    {
     "data": {
      "text/plain": [
       "['hey reinhard\\n', 'did jonas ever hack on GNUe?\\n']"
      ]
     },
     "execution_count": 5,
     "metadata": {},
     "output_type": "execute_result"
    }
   ],
   "source": [
    "train_X, train_chat_logs = get_chat_log_sequences(data_type_log_ids[\"train\"])\n",
    "validation_X, validation_chat_logs = get_chat_log_sequences(data_type_log_ids[\"validation\"])\n",
    "test_X, test_chat_logs = get_chat_log_sequences(data_type_log_ids[\"test\"])\n",
    "print(train_X.shape)\n",
    "print(test_X.shape)\n",
    "print(train_X[:1])\n",
    "print(len(test_X))\n",
    "test_chat_logs[:2]\n"
   ]
  },
  {
   "cell_type": "code",
   "execution_count": 6,
   "metadata": {
    "pycharm": {
     "is_executing": false
    }
   },
   "outputs": [
    {
     "name": "stdout",
     "output_type": "stream",
     "text": [
      "(3405, 2)\n"
     ]
    },
    {
     "data": {
      "text/plain": [
       "array([[1., 0.],\n",
       "       [1., 0.],\n",
       "       [1., 0.],\n",
       "       ...,\n",
       "       [1., 0.],\n",
       "       [1., 0.],\n",
       "       [1., 0.]], dtype=float32)"
      ]
     },
     "execution_count": 6,
     "metadata": {},
     "output_type": "execute_result"
    }
   ],
   "source": [
    "train_y = processed_data[\"train_y\"]\n",
    "validation_y = processed_data[\"validation_y\"]\n",
    "test_y = processed_data[\"test_y\"]\n",
    "print(test_y.shape)\n",
    "test_y"
   ]
  },
  {
   "cell_type": "code",
   "execution_count": 7,
   "metadata": {
    "pycharm": {
     "is_executing": false
    }
   },
   "outputs": [
    {
     "data": {
      "text/plain": [
       "[144080, 144081, 144082, 144083, 144084]"
      ]
     },
     "execution_count": 7,
     "metadata": {},
     "output_type": "execute_result"
    }
   ],
   "source": [
    "data_type_log_ids[\"test\"][:5]"
   ]
  },
  {
   "cell_type": "code",
   "execution_count": 28,
   "metadata": {},
   "outputs": [
    {
     "data": {
      "text/plain": [
       "array([[1., 0.],\n",
       "       [1., 0.],\n",
       "       [1., 0.],\n",
       "       ...,\n",
       "       [1., 0.],\n",
       "       [1., 0.],\n",
       "       [1., 0.]], dtype=float32)"
      ]
     },
     "execution_count": 28,
     "metadata": {},
     "output_type": "execute_result"
    }
   ],
   "source": [
    "train_y"
   ]
  },
  {
   "cell_type": "code",
   "execution_count": 58,
   "metadata": {},
   "outputs": [
    {
     "data": {
      "text/plain": [
       "array([0, 1])"
      ]
     },
     "execution_count": 58,
     "metadata": {},
     "output_type": "execute_result"
    }
   ],
   "source": [
    "train_y_labels = [0 if list(label) == [1, 0] else 1 for label in train_y]\n",
    "train_y_labels[60: 80]\n",
    "np.unique(train_y_labels)\n",
    "# j = [1,0]\n",
    "# j == [1,0]\n",
    "# list(train_y[0])"
   ]
  },
  {
   "cell_type": "code",
   "execution_count": 8,
   "metadata": {
    "pycharm": {
     "is_executing": false
    }
   },
   "outputs": [
    {
     "name": "stdout",
     "output_type": "stream",
     "text": [
      "WARNING:tensorflow:From /Users/wcyn/anaconda3/envs/gnue-irc/lib/python3.6/site-packages/tensorflow/python/framework/op_def_library.py:263: colocate_with (from tensorflow.python.framework.ops) is deprecated and will be removed in a future version.\n",
      "Instructions for updating:\n",
      "Colocations handled automatically by placer.\n"
     ]
    }
   ],
   "source": [
    "# Sentence input: meant to receive sequences of `max_chat_length` integers, between 1 and `top_words`.\n",
    "main_sentence_input = Input(shape=(MAX_CHAT_LENGTH,), dtype='int32', name='main_sentence_input')\n",
    "\n",
    "# This embedding layer will encode the input sequence\n",
    "# into a sequence of dense 512-dimensional vectors.\n",
    "x = Embedding(output_dim=512, input_dim=TOP_WORDS, input_length=MAX_CHAT_LENGTH)(main_sentence_input)\n",
    "\n",
    "# An LSTM will transform the vector sequence into a single vector,\n",
    "# containing information about the entire sequence\n",
    "lstm_out = LSTM(32)(x)"
   ]
  },
  {
   "cell_type": "code",
   "execution_count": 60,
   "metadata": {},
   "outputs": [
    {
     "data": {
      "text/plain": [
       "array([ 0.51756237, 14.73497854])"
      ]
     },
     "execution_count": 60,
     "metadata": {},
     "output_type": "execute_result"
    }
   ],
   "source": [
    "class_weights = class_weight.compute_class_weight(\n",
    "    'balanced',\n",
    "    np.unique(train_y_labels),\n",
    "    train_y_labels\n",
    ")\n",
    "class_weights"
   ]
  },
  {
   "cell_type": "code",
   "execution_count": 81,
   "metadata": {
    "pycharm": {
     "is_executing": false
    }
   },
   "outputs": [],
   "source": [
    "EPOCHS = 70\n",
    "BATCH_SIZE = 128\n",
    "OPTIMIZER = \"rmsprop\"\n",
    "OUTPUT_ACTIVATION = \"sigmoid\"\n",
    "# Here we insert the auxiliary loss, allowing the LSTM and Embedding layer \n",
    "# to be trained smoothly even though the main loss will be much higher in the model.\n",
    "auxiliary_output = Dense(2, activation=OUTPUT_ACTIVATION, name='aux_output')(lstm_out)\n",
    "\n",
    "# At this point, we feed into the model our auxiliary input data by \n",
    "# concatenating it with the LSTM output\n",
    "num_of_feature_columns = test_features_X.shape[1]\n",
    "sentence_features_input = Input(shape=(num_of_feature_columns,), name='sentence_features_input')\n",
    "merged_input_and_output = keras.layers.concatenate([lstm_out, sentence_features_input])\n",
    "\n",
    "# We stack a deep densely-connected network on top\n",
    "x = Dense(64, activation='relu')(merged_input_and_output)\n",
    "x = Dense(64, activation='relu')(x)\n",
    "x = Dense(64, activation='relu')(x)\n",
    "\n",
    "# And finally we add the main logistic regression layer\n",
    "main_output = Dense(2, activation=OUTPUT_ACTIVATION, name='main_output')(x)"
   ]
  },
  {
   "cell_type": "code",
   "execution_count": 82,
   "metadata": {
    "pycharm": {
     "is_executing": false
    }
   },
   "outputs": [],
   "source": [
    "# Define a model with two inputs and two outputs\n",
    "merged_model = Model(\n",
    "    inputs=[main_sentence_input, sentence_features_input], \n",
    "    outputs=[main_output, auxiliary_output]\n",
    ")"
   ]
  },
  {
   "cell_type": "markdown",
   "metadata": {
    "pycharm": {}
   },
   "source": [
    "We compile the model and assign a weight of 0.2 to the auxiliary loss. To specify different loss_weights or loss for each different output, you can use a list or a dictionary. Here we pass a single loss as the loss argument, so the same loss will be used on all outputs."
   ]
  },
  {
   "cell_type": "code",
   "execution_count": 83,
   "metadata": {
    "pycharm": {
     "is_executing": false
    }
   },
   "outputs": [
    {
     "name": "stdout",
     "output_type": "stream",
     "text": [
      "__________________________________________________________________________________________________\n",
      "Layer (type)                    Output Shape         Param #     Connected to                     \n",
      "==================================================================================================\n",
      "main_sentence_input (InputLayer (None, 100)          0                                            \n",
      "__________________________________________________________________________________________________\n",
      "embedding_1 (Embedding)         (None, 100, 512)     51200000    main_sentence_input[0][0]        \n",
      "__________________________________________________________________________________________________\n",
      "lstm_1 (LSTM)                   (None, 32)           69760       embedding_1[0][0]                \n",
      "__________________________________________________________________________________________________\n",
      "sentence_features_input (InputL (None, 6)            0                                            \n",
      "__________________________________________________________________________________________________\n",
      "concatenate_4 (Concatenate)     (None, 38)           0           lstm_1[0][0]                     \n",
      "                                                                 sentence_features_input[0][0]    \n",
      "__________________________________________________________________________________________________\n",
      "dense_10 (Dense)                (None, 64)           2496        concatenate_4[0][0]              \n",
      "__________________________________________________________________________________________________\n",
      "dense_11 (Dense)                (None, 64)           4160        dense_10[0][0]                   \n",
      "__________________________________________________________________________________________________\n",
      "dense_12 (Dense)                (None, 64)           4160        dense_11[0][0]                   \n",
      "__________________________________________________________________________________________________\n",
      "main_output (Dense)             (None, 2)            130         dense_12[0][0]                   \n",
      "__________________________________________________________________________________________________\n",
      "aux_output (Dense)              (None, 2)            66          lstm_1[0][0]                     \n",
      "==================================================================================================\n",
      "Total params: 51,280,772\n",
      "Trainable params: 51,280,772\n",
      "Non-trainable params: 0\n",
      "__________________________________________________________________________________________________\n"
     ]
    }
   ],
   "source": [
    "merged_model.compile(\n",
    "    optimizer=OPTIMIZER, \n",
    "    #optimizer=\"adam\",\n",
    "    loss='categorical_crossentropy',\n",
    "    #loss_weights=[1., 0.2]\n",
    ")\n",
    "merged_model.summary()"
   ]
  },
  {
   "cell_type": "code",
   "execution_count": 97,
   "metadata": {
    "pycharm": {}
   },
   "outputs": [
    {
     "name": "stdout",
     "output_type": "stream",
     "text": [
      "Train on 13733 samples, validate on 3577 samples\n",
      "Epoch 1/70\n",
      "13733/13733 [==============================] - 78s 6ms/step - loss: 0.0178 - main_output_loss: 0.0117 - aux_output_loss: 0.0060 - val_loss: 3.7983 - val_main_output_loss: 2.6700 - val_aux_output_loss: 1.1284\n",
      "Epoch 2/70\n",
      "13733/13733 [==============================] - 78s 6ms/step - loss: 0.0075 - main_output_loss: 0.0041 - aux_output_loss: 0.0034 - val_loss: 3.3078 - val_main_output_loss: 2.2878 - val_aux_output_loss: 1.0200\n",
      "Epoch 3/70\n",
      "13733/13733 [==============================] - 77s 6ms/step - loss: 0.0065 - main_output_loss: 0.0034 - aux_output_loss: 0.0032 - val_loss: 4.0406 - val_main_output_loss: 2.8955 - val_aux_output_loss: 1.1452\n",
      "Epoch 4/70\n",
      "13733/13733 [==============================] - 77s 6ms/step - loss: 0.0059 - main_output_loss: 0.0028 - aux_output_loss: 0.0031 - val_loss: 3.5229 - val_main_output_loss: 2.4982 - val_aux_output_loss: 1.0247\n",
      "Epoch 5/70\n",
      "13733/13733 [==============================] - 80s 6ms/step - loss: 0.0087 - main_output_loss: 0.0051 - aux_output_loss: 0.0036 - val_loss: 3.6665 - val_main_output_loss: 2.4356 - val_aux_output_loss: 1.2309\n",
      "Epoch 6/70\n",
      "13733/13733 [==============================] - 79s 6ms/step - loss: 0.0065 - main_output_loss: 0.0034 - aux_output_loss: 0.0031 - val_loss: 2.7808 - val_main_output_loss: 1.8185 - val_aux_output_loss: 0.9623\n",
      "Epoch 7/70\n",
      "13733/13733 [==============================] - 78s 6ms/step - loss: 0.0060 - main_output_loss: 0.0030 - aux_output_loss: 0.0030 - val_loss: 3.7522 - val_main_output_loss: 2.6335 - val_aux_output_loss: 1.1188\n",
      "Epoch 8/70\n",
      "13733/13733 [==============================] - 79s 6ms/step - loss: 0.0061 - main_output_loss: 0.0030 - aux_output_loss: 0.0031 - val_loss: 4.1600 - val_main_output_loss: 2.9113 - val_aux_output_loss: 1.2487\n",
      "Epoch 9/70\n",
      "13733/13733 [==============================] - 78s 6ms/step - loss: 0.0061 - main_output_loss: 0.0031 - aux_output_loss: 0.0031 - val_loss: 3.4684 - val_main_output_loss: 2.4030 - val_aux_output_loss: 1.0655\n",
      "Epoch 10/70\n",
      "13733/13733 [==============================] - 80s 6ms/step - loss: 0.0057 - main_output_loss: 0.0028 - aux_output_loss: 0.0030 - val_loss: 4.0175 - val_main_output_loss: 2.8040 - val_aux_output_loss: 1.2135\n",
      "Epoch 11/70\n",
      "13733/13733 [==============================] - 80s 6ms/step - loss: 0.0067 - main_output_loss: 0.0035 - aux_output_loss: 0.0032 - val_loss: 3.2524 - val_main_output_loss: 2.1821 - val_aux_output_loss: 1.0703\n",
      "Epoch 12/70\n",
      "13733/13733 [==============================] - 79s 6ms/step - loss: 0.0086 - main_output_loss: 0.0048 - aux_output_loss: 0.0038 - val_loss: 2.9349 - val_main_output_loss: 1.7727 - val_aux_output_loss: 1.1621\n",
      "Epoch 13/70\n",
      "13733/13733 [==============================] - 80s 6ms/step - loss: 0.0088 - main_output_loss: 0.0051 - aux_output_loss: 0.0037 - val_loss: 2.9957 - val_main_output_loss: 1.9281 - val_aux_output_loss: 1.0676\n",
      "Epoch 14/70\n",
      "13733/13733 [==============================] - 80s 6ms/step - loss: 0.0058 - main_output_loss: 0.0029 - aux_output_loss: 0.0029 - val_loss: 3.3761 - val_main_output_loss: 2.2047 - val_aux_output_loss: 1.1714\n",
      "Epoch 15/70\n",
      "13733/13733 [==============================] - 79s 6ms/step - loss: 0.0074 - main_output_loss: 0.0041 - aux_output_loss: 0.0034 - val_loss: 3.2433 - val_main_output_loss: 2.1562 - val_aux_output_loss: 1.0871\n",
      "Epoch 16/70\n",
      "13733/13733 [==============================] - 81s 6ms/step - loss: 0.0062 - main_output_loss: 0.0031 - aux_output_loss: 0.0031 - val_loss: 2.6559 - val_main_output_loss: 1.6762 - val_aux_output_loss: 0.9797\n",
      "Epoch 17/70\n",
      "13733/13733 [==============================] - 80s 6ms/step - loss: 0.0059 - main_output_loss: 0.0029 - aux_output_loss: 0.0030 - val_loss: 2.9931 - val_main_output_loss: 1.8720 - val_aux_output_loss: 1.1211\n",
      "Epoch 18/70\n",
      "13733/13733 [==============================] - 80s 6ms/step - loss: 0.0067 - main_output_loss: 0.0035 - aux_output_loss: 0.0032 - val_loss: 3.0032 - val_main_output_loss: 1.8878 - val_aux_output_loss: 1.1154\n",
      "Epoch 19/70\n",
      "13733/13733 [==============================] - 80s 6ms/step - loss: 0.0061 - main_output_loss: 0.0030 - aux_output_loss: 0.0031 - val_loss: 3.3237 - val_main_output_loss: 2.1188 - val_aux_output_loss: 1.2049\n",
      "Epoch 20/70\n",
      "13733/13733 [==============================] - 80s 6ms/step - loss: 0.0065 - main_output_loss: 0.0033 - aux_output_loss: 0.0032 - val_loss: 3.0341 - val_main_output_loss: 1.9343 - val_aux_output_loss: 1.0999\n",
      "Epoch 21/70\n",
      "13733/13733 [==============================] - 79s 6ms/step - loss: 0.0078 - main_output_loss: 0.0042 - aux_output_loss: 0.0036 - val_loss: 2.7012 - val_main_output_loss: 1.7091 - val_aux_output_loss: 0.9921\n",
      "Epoch 22/70\n",
      "13733/13733 [==============================] - 80s 6ms/step - loss: 0.0059 - main_output_loss: 0.0029 - aux_output_loss: 0.0030 - val_loss: 2.9561 - val_main_output_loss: 1.9117 - val_aux_output_loss: 1.0444\n",
      "Epoch 23/70\n",
      "13733/13733 [==============================] - 81s 6ms/step - loss: 0.0059 - main_output_loss: 0.0028 - aux_output_loss: 0.0031 - val_loss: 3.1594 - val_main_output_loss: 2.0272 - val_aux_output_loss: 1.1322\n",
      "Epoch 24/70\n",
      "13733/13733 [==============================] - 81s 6ms/step - loss: 0.0061 - main_output_loss: 0.0030 - aux_output_loss: 0.0031 - val_loss: 2.8929 - val_main_output_loss: 1.8500 - val_aux_output_loss: 1.0429\n",
      "Epoch 25/70\n",
      "13733/13733 [==============================] - 80s 6ms/step - loss: 0.0061 - main_output_loss: 0.0032 - aux_output_loss: 0.0030 - val_loss: 2.8753 - val_main_output_loss: 1.8256 - val_aux_output_loss: 1.0497\n",
      "Epoch 26/70\n",
      "13733/13733 [==============================] - 80s 6ms/step - loss: 0.0062 - main_output_loss: 0.0031 - aux_output_loss: 0.0031 - val_loss: 3.0848 - val_main_output_loss: 1.9273 - val_aux_output_loss: 1.1575\n",
      "Epoch 27/70\n",
      "13733/13733 [==============================] - 80s 6ms/step - loss: 0.0060 - main_output_loss: 0.0031 - aux_output_loss: 0.0029 - val_loss: 2.8515 - val_main_output_loss: 1.7816 - val_aux_output_loss: 1.0699\n",
      "Epoch 28/70\n",
      "13733/13733 [==============================] - 80s 6ms/step - loss: 0.0084 - main_output_loss: 0.0045 - aux_output_loss: 0.0038 - val_loss: 2.8729 - val_main_output_loss: 1.7706 - val_aux_output_loss: 1.1023\n",
      "Epoch 29/70\n",
      "13733/13733 [==============================] - 79s 6ms/step - loss: 0.0060 - main_output_loss: 0.0030 - aux_output_loss: 0.0030 - val_loss: 2.9314 - val_main_output_loss: 1.8260 - val_aux_output_loss: 1.1053\n",
      "Epoch 30/70\n",
      "13733/13733 [==============================] - 79s 6ms/step - loss: 0.0059 - main_output_loss: 0.0029 - aux_output_loss: 0.0030 - val_loss: 3.0041 - val_main_output_loss: 1.8492 - val_aux_output_loss: 1.1548\n",
      "Epoch 31/70\n",
      "13733/13733 [==============================] - 80s 6ms/step - loss: 0.0061 - main_output_loss: 0.0030 - aux_output_loss: 0.0031 - val_loss: 3.2907 - val_main_output_loss: 2.1064 - val_aux_output_loss: 1.1844\n",
      "Epoch 32/70\n",
      "13733/13733 [==============================] - 79s 6ms/step - loss: 0.0057 - main_output_loss: 0.0027 - aux_output_loss: 0.0029 - val_loss: 3.2732 - val_main_output_loss: 2.1246 - val_aux_output_loss: 1.1486\n",
      "Epoch 33/70\n",
      "13733/13733 [==============================] - 79s 6ms/step - loss: 0.0084 - main_output_loss: 0.0048 - aux_output_loss: 0.0037 - val_loss: 2.8966 - val_main_output_loss: 1.7636 - val_aux_output_loss: 1.1330\n",
      "Epoch 34/70\n",
      "13733/13733 [==============================] - 77s 6ms/step - loss: 0.0060 - main_output_loss: 0.0030 - aux_output_loss: 0.0030 - val_loss: 2.7746 - val_main_output_loss: 1.6699 - val_aux_output_loss: 1.1047\n",
      "Epoch 35/70\n",
      "13733/13733 [==============================] - 80s 6ms/step - loss: 0.0061 - main_output_loss: 0.0031 - aux_output_loss: 0.0030 - val_loss: 3.2262 - val_main_output_loss: 2.0305 - val_aux_output_loss: 1.1958\n",
      "Epoch 36/70\n",
      "13733/13733 [==============================] - 81s 6ms/step - loss: 0.0065 - main_output_loss: 0.0033 - aux_output_loss: 0.0031 - val_loss: 3.0101 - val_main_output_loss: 1.8642 - val_aux_output_loss: 1.1458\n",
      "Epoch 37/70\n",
      "13733/13733 [==============================] - 79s 6ms/step - loss: 0.0068 - main_output_loss: 0.0038 - aux_output_loss: 0.0030 - val_loss: 2.5937 - val_main_output_loss: 1.6725 - val_aux_output_loss: 0.9212\n",
      "Epoch 38/70\n"
     ]
    },
    {
     "name": "stdout",
     "output_type": "stream",
     "text": [
      "13733/13733 [==============================] - 78s 6ms/step - loss: 0.0077 - main_output_loss: 0.0044 - aux_output_loss: 0.0033 - val_loss: 3.2461 - val_main_output_loss: 2.0373 - val_aux_output_loss: 1.2088\n",
      "Epoch 39/70\n",
      "13733/13733 [==============================] - 80s 6ms/step - loss: 0.0062 - main_output_loss: 0.0030 - aux_output_loss: 0.0032 - val_loss: 3.1328 - val_main_output_loss: 1.9963 - val_aux_output_loss: 1.1365\n",
      "Epoch 40/70\n",
      "13733/13733 [==============================] - 79s 6ms/step - loss: 0.0059 - main_output_loss: 0.0029 - aux_output_loss: 0.0030 - val_loss: 3.3764 - val_main_output_loss: 2.1102 - val_aux_output_loss: 1.2662\n",
      "Epoch 41/70\n",
      "13733/13733 [==============================] - 79s 6ms/step - loss: 0.0085 - main_output_loss: 0.0045 - aux_output_loss: 0.0040 - val_loss: 2.9905 - val_main_output_loss: 1.9274 - val_aux_output_loss: 1.0631\n",
      "Epoch 42/70\n",
      "13733/13733 [==============================] - 79s 6ms/step - loss: 0.0061 - main_output_loss: 0.0031 - aux_output_loss: 0.0031 - val_loss: 2.7005 - val_main_output_loss: 1.6783 - val_aux_output_loss: 1.0222\n",
      "Epoch 43/70\n",
      "13733/13733 [==============================] - 79s 6ms/step - loss: 0.0067 - main_output_loss: 0.0034 - aux_output_loss: 0.0032 - val_loss: 3.0070 - val_main_output_loss: 1.8404 - val_aux_output_loss: 1.1666\n",
      "Epoch 44/70\n",
      "13733/13733 [==============================] - 81s 6ms/step - loss: 0.0061 - main_output_loss: 0.0032 - aux_output_loss: 0.0030 - val_loss: 3.1750 - val_main_output_loss: 2.0319 - val_aux_output_loss: 1.1431\n",
      "Epoch 45/70\n",
      "13733/13733 [==============================] - 79s 6ms/step - loss: 0.0061 - main_output_loss: 0.0030 - aux_output_loss: 0.0030 - val_loss: 2.8816 - val_main_output_loss: 1.7541 - val_aux_output_loss: 1.1274\n",
      "Epoch 46/70\n",
      "13733/13733 [==============================] - 79s 6ms/step - loss: nan - main_output_loss: nan - aux_output_loss: nan - val_loss: nan - val_main_output_loss: nan - val_aux_output_loss: nan\n",
      "Epoch 47/70\n",
      "13733/13733 [==============================] - 79s 6ms/step - loss: nan - main_output_loss: nan - aux_output_loss: nan - val_loss: nan - val_main_output_loss: nan - val_aux_output_loss: nan\n",
      "Epoch 48/70\n",
      "13733/13733 [==============================] - 79s 6ms/step - loss: nan - main_output_loss: nan - aux_output_loss: nan - val_loss: nan - val_main_output_loss: nan - val_aux_output_loss: nan\n",
      "Epoch 49/70\n",
      "13733/13733 [==============================] - 80s 6ms/step - loss: nan - main_output_loss: nan - aux_output_loss: nan - val_loss: nan - val_main_output_loss: nan - val_aux_output_loss: nan\n",
      "Epoch 50/70\n",
      "13733/13733 [==============================] - 80s 6ms/step - loss: nan - main_output_loss: nan - aux_output_loss: nan - val_loss: nan - val_main_output_loss: nan - val_aux_output_loss: nan\n",
      "Epoch 51/70\n",
      "13733/13733 [==============================] - 80s 6ms/step - loss: nan - main_output_loss: nan - aux_output_loss: nan - val_loss: nan - val_main_output_loss: nan - val_aux_output_loss: nan\n",
      "Epoch 52/70\n",
      "13733/13733 [==============================] - 80s 6ms/step - loss: nan - main_output_loss: nan - aux_output_loss: nan - val_loss: nan - val_main_output_loss: nan - val_aux_output_loss: nan\n",
      "Epoch 53/70\n",
      "13733/13733 [==============================] - 81s 6ms/step - loss: nan - main_output_loss: nan - aux_output_loss: nan - val_loss: nan - val_main_output_loss: nan - val_aux_output_loss: nan\n",
      "Epoch 54/70\n",
      "13733/13733 [==============================] - 80s 6ms/step - loss: nan - main_output_loss: nan - aux_output_loss: nan - val_loss: nan - val_main_output_loss: nan - val_aux_output_loss: nan\n",
      "Epoch 55/70\n",
      "13733/13733 [==============================] - 80s 6ms/step - loss: nan - main_output_loss: nan - aux_output_loss: nan - val_loss: nan - val_main_output_loss: nan - val_aux_output_loss: nan\n",
      "Epoch 56/70\n",
      "13733/13733 [==============================] - 80s 6ms/step - loss: nan - main_output_loss: nan - aux_output_loss: nan - val_loss: nan - val_main_output_loss: nan - val_aux_output_loss: nan\n",
      "Epoch 57/70\n",
      "13733/13733 [==============================] - 80s 6ms/step - loss: nan - main_output_loss: nan - aux_output_loss: nan - val_loss: nan - val_main_output_loss: nan - val_aux_output_loss: nan\n",
      "Epoch 58/70\n",
      "13733/13733 [==============================] - 80s 6ms/step - loss: nan - main_output_loss: nan - aux_output_loss: nan - val_loss: nan - val_main_output_loss: nan - val_aux_output_loss: nan\n",
      "Epoch 59/70\n",
      "13733/13733 [==============================] - 80s 6ms/step - loss: nan - main_output_loss: nan - aux_output_loss: nan - val_loss: nan - val_main_output_loss: nan - val_aux_output_loss: nan\n",
      "Epoch 60/70\n",
      "13733/13733 [==============================] - 80s 6ms/step - loss: nan - main_output_loss: nan - aux_output_loss: nan - val_loss: nan - val_main_output_loss: nan - val_aux_output_loss: nan\n",
      "Epoch 61/70\n",
      "13733/13733 [==============================] - 80s 6ms/step - loss: nan - main_output_loss: nan - aux_output_loss: nan - val_loss: nan - val_main_output_loss: nan - val_aux_output_loss: nan\n",
      "Epoch 62/70\n",
      "13733/13733 [==============================] - 81s 6ms/step - loss: nan - main_output_loss: nan - aux_output_loss: nan - val_loss: nan - val_main_output_loss: nan - val_aux_output_loss: nan\n",
      "Epoch 63/70\n",
      "13733/13733 [==============================] - 80s 6ms/step - loss: nan - main_output_loss: nan - aux_output_loss: nan - val_loss: nan - val_main_output_loss: nan - val_aux_output_loss: nan\n",
      "Epoch 64/70\n",
      "13733/13733 [==============================] - 79s 6ms/step - loss: nan - main_output_loss: nan - aux_output_loss: nan - val_loss: nan - val_main_output_loss: nan - val_aux_output_loss: nan\n",
      "Epoch 65/70\n",
      "13733/13733 [==============================] - 79s 6ms/step - loss: nan - main_output_loss: nan - aux_output_loss: nan - val_loss: nan - val_main_output_loss: nan - val_aux_output_loss: nan\n",
      "Epoch 66/70\n",
      "13733/13733 [==============================] - 79s 6ms/step - loss: nan - main_output_loss: nan - aux_output_loss: nan - val_loss: nan - val_main_output_loss: nan - val_aux_output_loss: nan\n",
      "Epoch 67/70\n",
      "13733/13733 [==============================] - 80s 6ms/step - loss: nan - main_output_loss: nan - aux_output_loss: nan - val_loss: nan - val_main_output_loss: nan - val_aux_output_loss: nan\n",
      "Epoch 68/70\n",
      "13733/13733 [==============================] - 79s 6ms/step - loss: nan - main_output_loss: nan - aux_output_loss: nan - val_loss: nan - val_main_output_loss: nan - val_aux_output_loss: nan\n",
      "Epoch 69/70\n",
      "13733/13733 [==============================] - 80s 6ms/step - loss: nan - main_output_loss: nan - aux_output_loss: nan - val_loss: nan - val_main_output_loss: nan - val_aux_output_loss: nan\n",
      "Epoch 70/70\n",
      "13733/13733 [==============================] - 80s 6ms/step - loss: nan - main_output_loss: nan - aux_output_loss: nan - val_loss: nan - val_main_output_loss: nan - val_aux_output_loss: nan\n",
      "5569.044069051743  seconds\n"
     ]
    }
   ],
   "source": [
    "# Train the model by passing it lists of input arrays and target arrays 19960.996418952942  seconds\n",
    "# 25183.798012971878  seconds Second time, with 30 minute break in between\n",
    "start = time.time()\n",
    "merged_model_history = merged_model.fit(\n",
    "    [train_X, train_features_X], \n",
    "    [train_y, train_y],\n",
    "    #validation_split=0.2,\n",
    "    validation_data=[\n",
    "        [validation_X, validation_features_X], \n",
    "        [validation_y, validation_y]\n",
    "    ],\n",
    "    epochs=EPOCHS, \n",
    "    batch_size=BATCH_SIZE,\n",
    "    #class_weight=[class_weights, class_weights]\n",
    ")\n",
    "end = time.time()\n",
    "time_taken_in_minutes = (end-start)//60\n",
    "print(end - start, \" seconds\")"
   ]
  },
  {
   "cell_type": "code",
   "execution_count": 99,
   "metadata": {
    "pycharm": {}
   },
   "outputs": [
    {
     "data": {
      "image/png": "[encoded data removed]",
      "text/plain": [
       "<Figure size 432x288 with 1 Axes>"
      ]
     },
     "metadata": {
      "needs_background": "light"
     },
     "output_type": "display_data"
    }
   ],
   "source": [
    "merged_model_loss_values = merged_model_history.history['loss']\n",
    "merged_model_epochs = range(1, len(merged_model_loss_values)+1)\n",
    "\n",
    "plt.plot(merged_model_epochs, merged_model_loss_values, label='Training Loss')\n",
    "plt.xlabel('Epochs')\n",
    "plt.ylabel('Loss')\n",
    "plt.legend()\n",
    "\n",
    "plt.show()"
   ]
  },
  {
   "cell_type": "code",
   "execution_count": 100,
   "metadata": {},
   "outputs": [
    {
     "data": {
      "text/plain": [
       "524213"
      ]
     },
     "execution_count": 100,
     "metadata": {},
     "output_type": "execute_result"
    }
   ],
   "source": [
    "time_now = time.time()\n",
    "month_day =time.strftime(\"%m-%d\")\n",
    "time_diff = int(time_now-TIME_OFFSET)\n",
    "time_diff"
   ]
  },
  {
   "cell_type": "code",
   "execution_count": 101,
   "metadata": {
    "pycharm": {}
   },
   "outputs": [
    {
     "data": {
      "text/plain": [
       "'../feature_extraction/data_files/models/04-08d_524213df_70e_128bs_rmsprop_92min_merged_hybrid_model.h5'"
      ]
     },
     "execution_count": 101,
     "metadata": {},
     "output_type": "execute_result"
    }
   ],
   "source": [
    "# current_time = time.strftime(\"%Y-%m-%d-(%H_%M_%S)\")\n",
    "merged_model_filename = month_day + \"d_{}df_{}e_{}bs_{}_{}min\".format(\n",
    "    time_diff, \n",
    "    EPOCHS, \n",
    "    BATCH_SIZE, \n",
    "    OPTIMIZER,\n",
    "    int(time_taken_in_minutes)\n",
    ")\n",
    "MODELS_DIR = join(DATA_FILES_DIR, \"models\")\n",
    "merged_model_filename = join(MODELS_DIR,  merged_model_filename + '_merged_hybrid_model.h5')\n",
    "merged_model_filename"
   ]
  },
  {
   "cell_type": "code",
   "execution_count": 102,
   "metadata": {
    "pycharm": {}
   },
   "outputs": [],
   "source": [
    "merged_model.save(merged_model_filename)"
   ]
  },
  {
   "cell_type": "code",
   "execution_count": 103,
   "metadata": {
    "pycharm": {}
   },
   "outputs": [],
   "source": [
    "loaded_merged_model = load_model(merged_model_filename)"
   ]
  },
  {
   "cell_type": "code",
   "execution_count": 104,
   "metadata": {
    "pycharm": {}
   },
   "outputs": [],
   "source": [
    "test_y_predictions = loaded_merged_model.predict([test_X, test_features_X])\n",
    "validation_y_predictions = loaded_merged_model.predict([validation_X, validation_features_X])\n",
    "\n",
    "test_y_argmax = np.argmax(test_y,axis=1)\n",
    "validation_y_argmax = np.argmax(validation_y,axis=1)\n",
    "\n",
    "test_y_predictions_argmax = np.argmax(test_y_predictions[1], axis=1)\n",
    "validation_y_predictions_argmax = np.argmax(validation_y_predictions[1], axis=1)"
   ]
  },
  {
   "cell_type": "code",
   "execution_count": 106,
   "metadata": {
    "pycharm": {}
   },
   "outputs": [
    {
     "data": {
      "text/plain": [
       "[array([[nan, nan],\n",
       "        [nan, nan],\n",
       "        [nan, nan],\n",
       "        ...,\n",
       "        [nan, nan],\n",
       "        [nan, nan],\n",
       "        [nan, nan]], dtype=float32), array([[nan, nan],\n",
       "        [nan, nan],\n",
       "        [nan, nan],\n",
       "        ...,\n",
       "        [nan, nan],\n",
       "        [nan, nan],\n",
       "        [nan, nan]], dtype=float32)]"
      ]
     },
     "execution_count": 106,
     "metadata": {},
     "output_type": "execute_result"
    }
   ],
   "source": [
    "test_y_predictions[:10]"
   ]
  },
  {
   "cell_type": "code",
   "execution_count": 108,
   "metadata": {
    "pycharm": {}
   },
   "outputs": [
    {
     "data": {
      "text/plain": [
       "array([0, 0, 0, 0, 0, 0, 0, 0, 0, 0, 0, 0, 0, 0, 0, 0, 0, 0, 0, 0, 0, 0,\n",
       "       0, 0, 0, 0, 0, 0, 0, 0, 0, 0, 0, 0, 0, 0, 0, 0, 0, 0, 0, 0, 0, 0,\n",
       "       0, 0, 0, 0, 0, 0, 0, 0, 0, 0, 0, 0, 0, 0, 0, 0, 0, 0, 0, 0, 0, 0,\n",
       "       0, 0, 0, 0, 0, 0, 0, 0, 0, 0, 0, 0, 0, 0, 0, 0, 0, 0, 0, 0, 0, 0,\n",
       "       0, 0, 0, 0, 0, 0, 0, 0, 0, 0, 0, 0, 0, 0, 0, 0, 0, 0, 0, 0, 0, 0,\n",
       "       0, 0, 0, 0, 0, 0, 0, 0, 0, 0, 0, 0, 0, 0, 0, 0, 0, 0, 0, 0, 0, 0,\n",
       "       0, 0, 0, 0, 0, 0, 0, 0, 0, 0, 0, 0, 0, 0, 0, 0, 0, 0, 0, 0, 0, 0,\n",
       "       0, 0, 0, 0, 0, 0, 0, 0, 0, 0, 0, 0, 0, 0, 0, 0, 0, 0, 0, 0, 0, 0,\n",
       "       0, 0, 0, 0, 0, 0, 0, 0, 0, 0, 0, 0, 0, 0, 0, 0, 0, 0, 0, 0, 0, 0,\n",
       "       0, 0])"
      ]
     },
     "execution_count": 108,
     "metadata": {},
     "output_type": "execute_result"
    }
   ],
   "source": [
    "test_y_predictions_argmax[:200]"
   ]
  },
  {
   "cell_type": "code",
   "execution_count": 109,
   "metadata": {
    "pycharm": {}
   },
   "outputs": [
    {
     "data": {
      "text/plain": [
       "array([0, 0, 0, 0, 0, 0, 0, 0, 0, 0, 0, 0, 0, 0, 0, 0, 0, 0, 0, 0, 0, 0,\n",
       "       0, 0, 0, 0, 0, 0, 0, 0, 0, 0, 0, 0, 0, 0, 0, 0, 0, 0, 0, 0, 0, 0,\n",
       "       0, 0, 0, 0, 0, 0, 0, 0, 0, 0, 0, 0, 0, 0, 0, 0, 0, 0, 0, 0, 0, 0,\n",
       "       0, 0, 0, 0, 0, 0, 0, 0, 0, 0, 0, 0, 0, 0, 0, 0, 0, 0, 0, 0, 0, 0,\n",
       "       0, 0, 0, 0, 0, 1, 0, 0, 0, 0, 0, 0, 0, 0, 0, 0, 0, 0, 0, 0, 0, 0,\n",
       "       0, 0, 0, 0, 0, 0, 0, 0, 0, 0, 0, 0, 0, 0, 0, 0, 0, 1, 0, 0, 0, 0,\n",
       "       0, 0, 0, 0, 0, 0, 0, 0, 0, 0, 0, 0, 0, 0, 0, 0, 0, 0, 0, 0, 0, 0,\n",
       "       0, 0, 0, 0, 0, 0, 0, 0, 0, 0, 0, 0, 0, 0, 0, 0, 0, 0, 0, 0, 0, 0,\n",
       "       0, 0, 0, 0, 0, 0, 0, 0, 0, 0, 0, 0, 0, 0, 0, 0, 0, 0, 0, 0, 0, 0,\n",
       "       0, 0])"
      ]
     },
     "execution_count": 109,
     "metadata": {},
     "output_type": "execute_result"
    }
   ],
   "source": [
    "test_y_argmax[:200]"
   ]
  },
  {
   "cell_type": "code",
   "execution_count": 110,
   "metadata": {
    "pycharm": {}
   },
   "outputs": [
    {
     "name": "stdout",
     "output_type": "stream",
     "text": [
      "              precision    recall  f1-score   support\n",
      "\n",
      "           0       0.96      1.00      0.98      3282\n",
      "           1       0.00      0.00      0.00       123\n",
      "\n",
      "   micro avg       0.96      0.96      0.96      3405\n",
      "   macro avg       0.48      0.50      0.49      3405\n",
      "weighted avg       0.93      0.96      0.95      3405\n",
      "\n",
      "[[3282    0]\n",
      " [ 123    0]]\n"
     ]
    }
   ],
   "source": [
    "print(classification_report(test_y_argmax, test_y_predictions_argmax))\n",
    "print(confusion_matrix(test_y_argmax, test_y_predictions_argmax))"
   ]
  },
  {
   "cell_type": "code",
   "execution_count": 111,
   "metadata": {
    "pycharm": {},
    "scrolled": false
   },
   "outputs": [
    {
     "name": "stdout",
     "output_type": "stream",
     "text": [
      "SUMMARIES\n",
      "---------\n",
      " where you planning a single exception raised to the app level or should I make forms handle the various errors at the app level\n",
      "it's because the event system can't keep up with the movement\n",
      "I'm going to make the provider='odbc' and take all the special meaning out of it\n",
      "what's next big ticket in designer?\n",
      "need to clean up the UI system\n",
      "... add drag and drop support for automatically pulling fields/datasources\n",
      "... generalize the designer code so that it can be used w/reports/etc\n",
      "... use BOA (if installed) for code editing\n",
      "insert a duplicate key into table\n",
      "gnuef used to generate pop up dialogs and recover when a dberror was encountered\n",
      "say I query 10 records\n",
      "I have a resultset with 10 recordsets\n",
      "I change the first 3 \n",
      "which causes the _updateFlag's to be set on those records\n",
      "and I insert a new record at the end\n",
      "I go to commit the changes\n",
      "and it performs the updates on the first 3\n",
      "and resets the _updateFlag (since they've been updated)\n",
      "then inserts the last one\n",
      "but it generates an error\n",
      "so\n",
      "PREDICTIONS\n",
      "-----------\n",
      " \n",
      "ROUGE Scores\n",
      "------------\n",
      "Evaluation with Avg\n",
      "\trouge-1:\tP: 0.000000\tR: 0.000000\tF1: 0.000000\n",
      "\trouge-2:\tP: 0.000000\tR: 0.000000\tF1: 0.000000\n",
      "\trouge-3:\tP: 0.000000\tR: 0.000000\tF1: 0.000000\n",
      "\trouge-4:\tP: 0.000000\tR: 0.000000\tF1: 0.000000\n",
      "\trouge-l:\tP: 0.000000\tR: 0.000000\tF1: 0.000000\n",
      "\trouge-w:\tP: 0.000000\tR: 0.000000\tF1: 0.000000\n"
     ]
    }
   ],
   "source": [
    "from rouge_metrics import *\n",
    "from get_sentences_from_line_numbers import *\n",
    "\n",
    "predicted_chat_logs = [test_chat_logs[index] for index, value in enumerate(test_y_predictions_argmax) if value==1]\n",
    "summaries_chat_logs = [test_chat_logs[index] for index, value in enumerate(test_y_argmax) if value==1]\n",
    "\n",
    "predicted_chat_logs = \"\".join(log for log in predicted_chat_logs)\n",
    "summaries_chat_logs = \"\".join(log for log in summaries_chat_logs)\n",
    "print(\"SUMMARIES\\n---------\\n\", summaries_chat_logs[:1000])\n",
    "print(\"PREDICTIONS\\n-----------\\n\", predicted_chat_logs[:1000])\n",
    "\n",
    "hypotheses = [predicted_chat_logs]\n",
    "references = [summaries_chat_logs]\n",
    "print(\"ROUGE Scores\\n------------\")\n",
    "print_rouge_results(get_rouge_results(hypotheses, references))"
   ]
  },
  {
   "cell_type": "code",
   "execution_count": 112,
   "metadata": {
    "pycharm": {}
   },
   "outputs": [
    {
     "name": "stdout",
     "output_type": "stream",
     "text": [
      "              precision    recall  f1-score   support\n",
      "\n",
      "           0       0.98      1.00      0.99      3513\n",
      "           1       0.00      0.00      0.00        64\n",
      "\n",
      "   micro avg       0.98      0.98      0.98      3577\n",
      "   macro avg       0.49      0.50      0.50      3577\n",
      "weighted avg       0.96      0.98      0.97      3577\n",
      "\n",
      "[[3513    0]\n",
      " [  64    0]]\n"
     ]
    }
   ],
   "source": [
    "print(classification_report(validation_y_argmax, validation_y_predictions_argmax))\n",
    "print(confusion_matrix(validation_y_argmax, validation_y_predictions_argmax))"
   ]
  },
  {
   "cell_type": "code",
   "execution_count": null,
   "metadata": {},
   "outputs": [],
   "source": []
  }
 ],
 "metadata": {
  "kernelspec": {
   "display_name": "Python 3",
   "language": "python",
   "name": "python3"
  },
  "language_info": {
   "codemirror_mode": {
    "name": "ipython",
    "version": 3
   },
   "file_extension": ".py",
   "mimetype": "text/x-python",
   "name": "python",
   "nbconvert_exporter": "python",
   "pygments_lexer": "ipython3",
   "version": "3.6.8"
  }
 },
 "nbformat": 4,
 "nbformat_minor": 2
}
