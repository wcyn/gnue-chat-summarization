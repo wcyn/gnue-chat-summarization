{
 "cells": [
  {
   "cell_type": "markdown",
   "metadata": {},
   "source": [
    "## Keras Word Embedding and LSTM. Sentence as sequence\n",
    "\n",
    "https://towardsdatascience.com/recurrent-neural-networks-by-example-in-python-ffd204f99470\n",
    "https://machinelearningmastery.com/sequence-classification-lstm-recurrent-neural-networks-python-keras/"
   ]
  },
  {
   "cell_type": "code",
   "execution_count": 239,
   "metadata": {},
   "outputs": [],
   "source": [
    "import keras\n",
    "import numpy as np\n",
    "import pandas as pd\n",
    "import matplotlib.pyplot as plt\n",
    "import time\n",
    "\n",
    "from keras.layers import Bidirectional, Dense, Dropout, LSTM\n",
    "from keras.layers.embeddings import Embedding\n",
    "from keras.models import Sequential\n",
    "from keras.preprocessing.text import Tokenizer\n",
    "from keras.preprocessing import sequence\n",
    "from keras.utils import to_categorical\n",
    "from sklearn.metrics import classification_report, confusion_matrix\n",
    "from os.path import join"
   ]
  },
  {
   "cell_type": "code",
   "execution_count": 54,
   "metadata": {},
   "outputs": [],
   "source": [
    "FEATURES_DIR = join(\"..\", \"feature_extraction\", \"feature_outputs\")\n",
    "DATA_FILES_DIR = join(\"..\", \"feature_extraction\", \"data_files\")\n",
    "chat_logs_filename = join(DATA_FILES_DIR, \"gnue_irc_chat_logs_preprocessed.txt\")\n",
    "summarized_chat_date_partitions_filename = join(\n",
    "    DATA_FILES_DIR, \"summarized_chat_date_partitions_cumulative_count.csv\"\n",
    ")\n",
    "summarized_chat_log_ids_filename = join(DATA_FILES_DIR, \"summarized_chat_log_ids.csv\")"
   ]
  },
  {
   "cell_type": "code",
   "execution_count": 40,
   "metadata": {},
   "outputs": [],
   "source": [
    "summarized_chat_date_partitions = pd.read_csv(summarized_chat_date_partitions_filename)"
   ]
  },
  {
   "cell_type": "code",
   "execution_count": 42,
   "metadata": {},
   "outputs": [
    {
     "data": {
      "text/html": [
       "<div>\n",
       "<style scoped>\n",
       "    .dataframe tbody tr th:only-of-type {\n",
       "        vertical-align: middle;\n",
       "    }\n",
       "\n",
       "    .dataframe tbody tr th {\n",
       "        vertical-align: top;\n",
       "    }\n",
       "\n",
       "    .dataframe thead th {\n",
       "        text-align: right;\n",
       "    }\n",
       "</style>\n",
       "<table border=\"1\" class=\"dataframe\">\n",
       "  <thead>\n",
       "    <tr style=\"text-align: right;\">\n",
       "      <th></th>\n",
       "      <th>min_log_id</th>\n",
       "      <th>date_of_log</th>\n",
       "      <th>chat_line_count</th>\n",
       "      <th>cumulative_count</th>\n",
       "    </tr>\n",
       "  </thead>\n",
       "  <tbody>\n",
       "    <tr>\n",
       "      <th>19</th>\n",
       "      <td>473197</td>\n",
       "      <td>2001-11-07</td>\n",
       "      <td>1990</td>\n",
       "      <td>16079</td>\n",
       "    </tr>\n",
       "    <tr>\n",
       "      <th>20</th>\n",
       "      <td>495175</td>\n",
       "      <td>2001-11-13</td>\n",
       "      <td>1051</td>\n",
       "      <td>17130</td>\n",
       "    </tr>\n",
       "    <tr>\n",
       "      <th>21</th>\n",
       "      <td>497259</td>\n",
       "      <td>2001-11-14</td>\n",
       "      <td>536</td>\n",
       "      <td>17666</td>\n",
       "    </tr>\n",
       "    <tr>\n",
       "      <th>22</th>\n",
       "      <td>526307</td>\n",
       "      <td>2001-11-15</td>\n",
       "      <td>1053</td>\n",
       "      <td>18719</td>\n",
       "    </tr>\n",
       "    <tr>\n",
       "      <th>23</th>\n",
       "      <td>531627</td>\n",
       "      <td>2001-11-12</td>\n",
       "      <td>1348</td>\n",
       "      <td>20067</td>\n",
       "    </tr>\n",
       "    <tr>\n",
       "      <th>24</th>\n",
       "      <td>579591</td>\n",
       "      <td>2001-10-24</td>\n",
       "      <td>162</td>\n",
       "      <td>20229</td>\n",
       "    </tr>\n",
       "    <tr>\n",
       "      <th>25</th>\n",
       "      <td>586206</td>\n",
       "      <td>2001-10-23</td>\n",
       "      <td>165</td>\n",
       "      <td>20394</td>\n",
       "    </tr>\n",
       "    <tr>\n",
       "      <th>26</th>\n",
       "      <td>623684</td>\n",
       "      <td>2001-10-25</td>\n",
       "      <td>321</td>\n",
       "      <td>20715</td>\n",
       "    </tr>\n",
       "  </tbody>\n",
       "</table>\n",
       "</div>"
      ],
      "text/plain": [
       "    min_log_id date_of_log  chat_line_count  cumulative_count\n",
       "19      473197  2001-11-07             1990             16079\n",
       "20      495175  2001-11-13             1051             17130\n",
       "21      497259  2001-11-14              536             17666\n",
       "22      526307  2001-11-15             1053             18719\n",
       "23      531627  2001-11-12             1348             20067\n",
       "24      579591  2001-10-24              162             20229\n",
       "25      586206  2001-10-23              165             20394\n",
       "26      623684  2001-10-25              321             20715"
      ]
     },
     "execution_count": 42,
     "metadata": {},
     "output_type": "execute_result"
    }
   ],
   "source": [
    "summarized_chat_date_partitions.tail(8)"
   ]
  },
  {
   "cell_type": "code",
   "execution_count": 43,
   "metadata": {},
   "outputs": [
    {
     "name": "stdout",
     "output_type": "stream",
     "text": [
      "16079\n",
      "20067\n"
     ]
    }
   ],
   "source": [
    "index_for_validation_test_split = summarized_chat_date_partitions.tail(4)[\"cumulative_count\"]\n",
    "index_for_validation_test_split = index_for_validation_test_split.values[0]\n",
    "index_for_train_validation_split = summarized_chat_date_partitions.tail(8)[\"cumulative_count\"]\n",
    "index_for_train_validation_split = index_for_train_validation_split.values[0]\n",
    "print(index_for_train_validation_split)\n",
    "print(index_for_validation_test_split)"
   ]
  },
  {
   "cell_type": "code",
   "execution_count": 62,
   "metadata": {},
   "outputs": [],
   "source": [
    "summarized_chat_log_ids = pd.read_csv(\n",
    "    summarized_chat_log_ids_filename,\n",
    "    names=[\"log_id\", \"is_summary\"]\n",
    ")"
   ]
  },
  {
   "cell_type": "code",
   "execution_count": 63,
   "metadata": {},
   "outputs": [
    {
     "data": {
      "text/html": [
       "<div>\n",
       "<style scoped>\n",
       "    .dataframe tbody tr th:only-of-type {\n",
       "        vertical-align: middle;\n",
       "    }\n",
       "\n",
       "    .dataframe tbody tr th {\n",
       "        vertical-align: top;\n",
       "    }\n",
       "\n",
       "    .dataframe thead th {\n",
       "        text-align: right;\n",
       "    }\n",
       "</style>\n",
       "<table border=\"1\" class=\"dataframe\">\n",
       "  <thead>\n",
       "    <tr style=\"text-align: right;\">\n",
       "      <th></th>\n",
       "      <th>log_id</th>\n",
       "      <th>is_summary</th>\n",
       "    </tr>\n",
       "  </thead>\n",
       "  <tbody>\n",
       "    <tr>\n",
       "      <th>0</th>\n",
       "      <td>85350</td>\n",
       "      <td>0</td>\n",
       "    </tr>\n",
       "    <tr>\n",
       "      <th>1</th>\n",
       "      <td>85351</td>\n",
       "      <td>0</td>\n",
       "    </tr>\n",
       "    <tr>\n",
       "      <th>2</th>\n",
       "      <td>85352</td>\n",
       "      <td>0</td>\n",
       "    </tr>\n",
       "    <tr>\n",
       "      <th>3</th>\n",
       "      <td>85353</td>\n",
       "      <td>0</td>\n",
       "    </tr>\n",
       "    <tr>\n",
       "      <th>4</th>\n",
       "      <td>85354</td>\n",
       "      <td>0</td>\n",
       "    </tr>\n",
       "  </tbody>\n",
       "</table>\n",
       "</div>"
      ],
      "text/plain": [
       "   log_id  is_summary\n",
       "0   85350           0\n",
       "1   85351           0\n",
       "2   85352           0\n",
       "3   85353           0\n",
       "4   85354           0"
      ]
     },
     "execution_count": 63,
     "metadata": {},
     "output_type": "execute_result"
    }
   ],
   "source": [
    "summarized_chat_log_ids.head()"
   ]
  },
  {
   "cell_type": "code",
   "execution_count": 69,
   "metadata": {},
   "outputs": [],
   "source": [
    "def get_summarized_chat_logs(chat_logs_filename, summarized_chat_log_ids):\n",
    "    summarized_chat_log_ids = set(summarized_chat_log_ids)\n",
    "    chats = []\n",
    "    with open(chat_logs_filename) as chat_logs:\n",
    "        line_number = 1\n",
    "        for chat_log in chat_logs:\n",
    "            if line_number in summarized_chat_log_ids:\n",
    "                chats.append(chat_log)\n",
    "            line_number += 1\n",
    "    return chats"
   ]
  },
  {
   "cell_type": "code",
   "execution_count": 70,
   "metadata": {},
   "outputs": [
    {
     "data": {
      "text/plain": [
       "['great\\n',\n",
       " 'i dont recall you ever telling me what you do at your job\\n',\n",
       " \"and you probably can't be persuaded to tell me now.\\n\",\n",
       " 'due to your persistant funkitude\\n',\n",
       " 'umm, he sits around on irc all day ;)\\n']"
      ]
     },
     "execution_count": 70,
     "metadata": {},
     "output_type": "execute_result"
    }
   ],
   "source": [
    "chat_logs = get_summarized_chat_logs(chat_logs_filename, summarized_chat_log_ids.log_id.values)\n",
    "chat_logs[:5]"
   ]
  },
  {
   "cell_type": "code",
   "execution_count": 71,
   "metadata": {},
   "outputs": [],
   "source": [
    "# Create a Tokenizer Object\n",
    "tokenizer = Tokenizer(\n",
    "    num_words=None,\n",
    "    filters=\"\\n\",\n",
    "    lower = False, \n",
    "    split = ' '\n",
    ")\n",
    "tokenizer.fit_on_texts(chat_logs)"
   ]
  },
  {
   "cell_type": "code",
   "execution_count": 72,
   "metadata": {},
   "outputs": [],
   "source": [
    "sequences = tokenizer.texts_to_sequences(chat_logs)"
   ]
  },
  {
   "cell_type": "code",
   "execution_count": 73,
   "metadata": {},
   "outputs": [
    {
     "data": {
      "text/plain": [
       "[3099, 72, 4137, 300, 16, 584, 34, 309, 54]"
      ]
     },
     "execution_count": 73,
     "metadata": {},
     "output_type": "execute_result"
    }
   ],
   "source": [
    "sequences[4]"
   ]
  },
  {
   "cell_type": "code",
   "execution_count": 184,
   "metadata": {},
   "outputs": [],
   "source": [
    "word_indexes = tokenizer.index_word\n",
    "def get_words_at_line_number(word_indexes, line_number):\n",
    "    return \" \".join(word_indexes[word] for word in sequences[line_number])"
   ]
  },
  {
   "cell_type": "code",
   "execution_count": 186,
   "metadata": {},
   "outputs": [
    {
     "data": {
      "text/plain": [
       "\"and you probably can't be persuaded to tell me now.\""
      ]
     },
     "execution_count": 186,
     "metadata": {},
     "output_type": "execute_result"
    }
   ],
   "source": [
    "get_words_at_line_number(word_indexes, 2)"
   ]
  },
  {
   "cell_type": "code",
   "execution_count": 75,
   "metadata": {},
   "outputs": [
    {
     "data": {
      "text/plain": [
       "'language'"
      ]
     },
     "execution_count": 75,
     "metadata": {},
     "output_type": "execute_result"
    }
   ],
   "source": [
    "tokenizer.index_word[356]"
   ]
  },
  {
   "cell_type": "code",
   "execution_count": 221,
   "metadata": {},
   "outputs": [
    {
     "name": "stdout",
     "output_type": "stream",
     "text": [
      "(16079,)\n",
      "(648,)\n",
      "20085\n",
      "[list([547])]\n",
      "648\n"
     ]
    },
    {
     "data": {
      "text/plain": [
       "array([list([107, 18365]), list([128, 9, 31, 1456]),\n",
       "       list([18366, 342, 36, 3591, 515, 29, 18367, 14]), list([14]),\n",
       "       list([1454])], dtype=object)"
      ]
     },
     "execution_count": 221,
     "metadata": {},
     "output_type": "execute_result"
    }
   ],
   "source": [
    "train_X = np.array(sequences[:index_for_train_validation_split])\n",
    "validation_X = np.array(sequences[index_for_train_validation_split:index_for_validation_test_split])\n",
    "test_X = np.array(sequences[index_for_validation_test_split:])\n",
    "print(train_X.shape)\n",
    "print(test_X.shape)\n",
    "print(train_X[:1])\n",
    "print(len(test_X))\n",
    "test_X[-5:]"
   ]
  },
  {
   "cell_type": "code",
   "execution_count": 147,
   "metadata": {},
   "outputs": [],
   "source": [
    "# create a one hot encoding for the target column\n",
    "chat_log_labels = to_categorical(summarized_chat_log_ids.is_summary)\n",
    "# train_y_nums = train_df.is_summary.values\n",
    "# validation_y = to_categorical(validation_df.is_summary)\n",
    "# validation_y_nums = validation_df.is_summary.values\n",
    "# test_y = to_categorical(test_df.is_summary)\n",
    "# test_y_nums = test_df.is_summary.values\n",
    "\n",
    "# chat_log_labels = np.array(summarized_chat_log_ids.is_summary)\n",
    "train_y = chat_log_labels[:index_for_train_validation_split]\n",
    "validation_y = chat_log_labels[index_for_train_validation_split:index_for_validation_test_split]\n",
    "test_y = chat_log_labels[index_for_validation_test_split:]"
   ]
  },
  {
   "cell_type": "code",
   "execution_count": 148,
   "metadata": {},
   "outputs": [
    {
     "data": {
      "text/plain": [
       "array([[1., 0.],\n",
       "       [1., 0.],\n",
       "       [1., 0.],\n",
       "       [1., 0.],\n",
       "       [1., 0.],\n",
       "       [1., 0.],\n",
       "       [1., 0.],\n",
       "       [1., 0.],\n",
       "       [0., 1.],\n",
       "       [0., 1.],\n",
       "       [0., 1.],\n",
       "       [1., 0.],\n",
       "       [1., 0.],\n",
       "       [1., 0.],\n",
       "       [1., 0.],\n",
       "       [1., 0.],\n",
       "       [1., 0.],\n",
       "       [1., 0.],\n",
       "       [0., 1.],\n",
       "       [1., 0.]], dtype=float32)"
      ]
     },
     "execution_count": 148,
     "metadata": {},
     "output_type": "execute_result"
    }
   ],
   "source": [
    "test_y[80:100]"
   ]
  },
  {
   "cell_type": "code",
   "execution_count": 234,
   "metadata": {},
   "outputs": [],
   "source": [
    "# pad input sequences\n",
    "max_chat_length = max(len(seq) for seq in sequences)\n",
    "train_X = sequence.pad_sequences(train_X, maxlen=max_chat_length)\n",
    "validation_X = sequence.pad_sequences(validation_X, maxlen=max_chat_length)\n",
    "test_X = sequence.pad_sequences(test_X, maxlen=max_chat_length)"
   ]
  },
  {
   "cell_type": "code",
   "execution_count": 235,
   "metadata": {},
   "outputs": [
    {
     "name": "stdout",
     "output_type": "stream",
     "text": [
      "(16079, 73)\n",
      "(648, 73)\n",
      "(3988, 73)\n",
      "[    0     0     0     0     0     0     0     0     0     0     0     0\n",
      "     0     0     0     0     0     0     0     0     0     0     0     0\n",
      "     0     0     0     0     0     0     0     0     0     0     0     0\n",
      "     0     0     0     0     0     0     0     0     0     0     0     0\n",
      "     0     0     0     0     0     0     0     0     0     0     0     0\n",
      "     0     4  1575    20   103    15     3 15875   908    12   125  1051\n",
      "    14]\n"
     ]
    }
   ],
   "source": [
    "print(train_X.shape)\n",
    "print(test_X.shape)\n",
    "print(validation_X.shape)\n",
    "print(validation_X[0])"
   ]
  },
  {
   "cell_type": "code",
   "execution_count": 240,
   "metadata": {},
   "outputs": [],
   "source": [
    "# create the model\n",
    "top_words = 100000\n",
    "embedding_vecor_length = 32\n",
    "model = Sequential()\n",
    "model.add(Embedding(top_words, embedding_vecor_length, input_length=max_chat_length))\n",
    "model.add(Bidirectional(LSTM(100), input_shape=(max_chat_length, 1)))\n",
    "model.add(Dense(2, activation='sigmoid'))"
   ]
  },
  {
   "cell_type": "code",
   "execution_count": 241,
   "metadata": {},
   "outputs": [
    {
     "name": "stdout",
     "output_type": "stream",
     "text": [
      "_________________________________________________________________\n",
      "Layer (type)                 Output Shape              Param #   \n",
      "=================================================================\n",
      "embedding_11 (Embedding)     (None, 73, 32)            3200000   \n",
      "_________________________________________________________________\n",
      "bidirectional_1 (Bidirection (None, 200)               106400    \n",
      "_________________________________________________________________\n",
      "dense_10 (Dense)             (None, 2)                 402       \n",
      "=================================================================\n",
      "Total params: 3,306,802\n",
      "Trainable params: 3,306,802\n",
      "Non-trainable params: 0\n",
      "_________________________________________________________________\n"
     ]
    }
   ],
   "source": [
    "model.compile(\n",
    "    loss='categorical_crossentropy', \n",
    "    optimizer='adam', \n",
    "    metrics=['accuracy']\n",
    ")\n",
    "model.summary()"
   ]
  },
  {
   "cell_type": "code",
   "execution_count": null,
   "metadata": {},
   "outputs": [
    {
     "name": "stdout",
     "output_type": "stream",
     "text": [
      "Train on 16079 samples, validate on 3988 samples\n",
      "Epoch 1/100\n",
      "16079/16079 [==============================] - 30s 2ms/step - loss: 0.0165 - acc: 0.9940 - val_loss: 0.2794 - val_acc: 0.9431\n",
      "Epoch 2/100\n",
      "16079/16079 [==============================] - 32s 2ms/step - loss: 0.0153 - acc: 0.9947 - val_loss: 0.3203 - val_acc: 0.9361\n",
      "Epoch 3/100\n",
      "  640/16079 [>.............................] - ETA: 30s - loss: 0.0092 - acc: 0.9984"
     ]
    }
   ],
   "source": [
    "start = time.time()\n",
    "history = model.fit(\n",
    "    train_X, \n",
    "    train_y, \n",
    "    validation_data=(validation_X, validation_y), \n",
    "    epochs=100, \n",
    "    batch_size=64\n",
    ")\n",
    "end = time.time()\n",
    "print(end-start)"
   ]
  },
  {
   "cell_type": "code",
   "execution_count": 243,
   "metadata": {},
   "outputs": [
    {
     "data": {
      "image/png": "[encoded data removed]",
      "text/plain": [
       "<Figure size 432x288 with 1 Axes>"
      ]
     },
     "metadata": {
      "needs_background": "light"
     },
     "output_type": "display_data"
    }
   ],
   "source": [
    "loss_values = history.history['loss']\n",
    "epochs = range(1, len(loss_values)+1)\n",
    "\n",
    "plt.plot(epochs, loss_values, label='Training Loss')\n",
    "plt.xlabel('Epochs')\n",
    "plt.ylabel('Loss')\n",
    "plt.legend()\n",
    "\n",
    "plt.show()"
   ]
  },
  {
   "cell_type": "code",
   "execution_count": 244,
   "metadata": {},
   "outputs": [],
   "source": [
    "test_y_predictions = model.predict(test_X)\n",
    "validation_y_predictions = model.predict(validation_X)\n",
    "\n",
    "test_y_argmax = np.argmax(test_y,axis=1)\n",
    "validation_y_argmax = np.argmax(validation_y,axis=1)\n",
    "\n",
    "test_y_predictions_argmax = np.argmax(test_y_predictions, axis=1)\n",
    "validation_y_predictions_argmax = np.argmax(validation_y_predictions, axis=1)"
   ]
  },
  {
   "cell_type": "code",
   "execution_count": 245,
   "metadata": {},
   "outputs": [
    {
     "data": {
      "text/plain": [
       "array([[9.3932223e-01, 5.1349401e-05],\n",
       "       [9.4361091e-01, 5.9992075e-05],\n",
       "       [9.7584641e-01, 1.4901161e-05],\n",
       "       [9.8614192e-01, 6.4969063e-06],\n",
       "       [9.8476815e-01, 7.1525574e-06],\n",
       "       [9.8419207e-01, 7.8976154e-06],\n",
       "       [2.6250041e-01, 5.6813359e-03],\n",
       "       [6.1580455e-01, 1.2086034e-03],\n",
       "       [6.5217966e-01, 1.3580620e-03],\n",
       "       [6.6993403e-01, 7.0789456e-04]], dtype=float32)"
      ]
     },
     "execution_count": 245,
     "metadata": {},
     "output_type": "execute_result"
    }
   ],
   "source": [
    "test_y_predictions[:10]"
   ]
  },
  {
   "cell_type": "code",
   "execution_count": 246,
   "metadata": {},
   "outputs": [
    {
     "data": {
      "text/plain": [
       "array([0, 0, 0, 0, 0, 0, 0, 0, 0, 0, 0, 0, 0, 0, 0, 0, 0, 0, 1, 0, 0, 0,\n",
       "       0, 0, 0, 0, 0, 0, 0, 0, 0, 0, 0, 0, 0, 0, 0, 0, 0, 1, 0, 0, 1, 0,\n",
       "       0, 0, 0, 0, 0, 0, 0, 0, 0, 0, 0, 0, 0, 0, 0, 0, 0, 0, 0, 0, 0, 0,\n",
       "       0, 0, 0, 0, 0, 0, 0, 0, 0, 0, 0, 0, 0, 0, 0, 0, 0, 0, 0, 0, 0, 0,\n",
       "       1, 0, 1, 0, 0, 0, 0, 0, 0, 0, 0, 1])"
      ]
     },
     "execution_count": 246,
     "metadata": {},
     "output_type": "execute_result"
    }
   ],
   "source": [
    "test_y_predictions_argmax[:100]"
   ]
  },
  {
   "cell_type": "code",
   "execution_count": 247,
   "metadata": {},
   "outputs": [
    {
     "data": {
      "text/plain": [
       "array([0, 0, 0, 0, 0, 0, 0, 1, 1, 1, 0, 0, 0, 0, 0, 0, 0, 0, 0, 0, 0, 0,\n",
       "       0, 0, 0, 0, 0, 0, 0, 0, 0, 0, 0, 0, 0, 0, 0, 0, 0, 0, 0, 0, 0, 0,\n",
       "       0, 0, 0, 0, 0, 0, 0, 0, 0, 0, 0, 0, 0, 0, 0, 0, 0, 0, 0, 0, 0, 0,\n",
       "       0, 0, 0, 0, 0, 0, 0, 0, 0, 0, 0, 0, 0, 0, 0, 0, 0, 0, 0, 0, 0, 0,\n",
       "       1, 1, 1, 0, 0, 0, 0, 0, 0, 0, 1, 0])"
      ]
     },
     "execution_count": 247,
     "metadata": {},
     "output_type": "execute_result"
    }
   ],
   "source": [
    "test_y_argmax[:100]"
   ]
  },
  {
   "cell_type": "code",
   "execution_count": 248,
   "metadata": {},
   "outputs": [
    {
     "name": "stdout",
     "output_type": "stream",
     "text": [
      "              precision    recall  f1-score   support\n",
      "\n",
      "           0       0.96      0.96      0.96       619\n",
      "           1       0.08      0.07      0.07        29\n",
      "\n",
      "   micro avg       0.92      0.92      0.92       648\n",
      "   macro avg       0.52      0.52      0.52       648\n",
      "weighted avg       0.92      0.92      0.92       648\n",
      "\n",
      "[[595  24]\n",
      " [ 27   2]]\n"
     ]
    }
   ],
   "source": [
    "print(classification_report(test_y_argmax, test_y_predictions_argmax))\n",
    "print(confusion_matrix(test_y_argmax, test_y_predictions_argmax))"
   ]
  },
  {
   "cell_type": "code",
   "execution_count": 249,
   "metadata": {},
   "outputs": [
    {
     "name": "stdout",
     "output_type": "stream",
     "text": [
      "              precision    recall  f1-score   support\n",
      "\n",
      "           0       0.97      0.96      0.96      3872\n",
      "           1       0.04      0.06      0.05       116\n",
      "\n",
      "   micro avg       0.93      0.93      0.93      3988\n",
      "   macro avg       0.51      0.51      0.51      3988\n",
      "weighted avg       0.94      0.93      0.94      3988\n",
      "\n",
      "[[3710  162]\n",
      " [ 109    7]]\n"
     ]
    }
   ],
   "source": [
    "print(classification_report(validation_y_argmax, validation_y_predictions_argmax))\n",
    "print(confusion_matrix(validation_y_argmax, validation_y_predictions_argmax))"
   ]
  },
  {
   "cell_type": "code",
   "execution_count": 208,
   "metadata": {},
   "outputs": [
    {
     "data": {
      "text/plain": [
       "[(0, 0),\n",
       " (0, 0),\n",
       " (0, 0),\n",
       " (0, 0),\n",
       " (0, 0),\n",
       " (0, 0),\n",
       " (0, 0),\n",
       " (0, 0),\n",
       " (1, 1),\n",
       " (1, 0),\n",
       " (1, 1),\n",
       " (0, 0),\n",
       " (0, 0),\n",
       " (0, 0),\n",
       " (0, 0),\n",
       " (0, 0),\n",
       " (0, 0),\n",
       " (0, 0),\n",
       " (1, 0),\n",
       " (0, 1)]"
      ]
     },
     "execution_count": 208,
     "metadata": {},
     "output_type": "execute_result"
    }
   ],
   "source": [
    "y_actual_and_prediction = list(zip(test_y_argmax, test_y_predictions_argmax))\n",
    "[y for i, y in enumerate(y_actual_and_prediction)][80:100]"
   ]
  },
  {
   "cell_type": "code",
   "execution_count": 225,
   "metadata": {},
   "outputs": [
    {
     "name": "stdout",
     "output_type": "stream",
     "text": [
      "32\n",
      "25\n",
      "4\n"
     ]
    },
    {
     "data": {
      "text/plain": [
       "[20085, 20105, 20106, 20109, 20136, 20138, 20166, 20202, 20211, 20248]"
      ]
     },
     "execution_count": 225,
     "metadata": {},
     "output_type": "execute_result"
    }
   ],
   "source": [
    "log_ids_for_false_positives = []\n",
    "log_ids_for_false_negatives = []\n",
    "log_ids_for_true_positives = []\n",
    "offset = index_for_validation_test_split\n",
    "for index, value in enumerate(y_actual_and_prediction):\n",
    "    if value == (0, 1):\n",
    "        log_ids_for_false_positives.append(offset + index)\n",
    "    elif value == (1, 0):\n",
    "        log_ids_for_false_negatives.append(offset + index)\n",
    "    elif value == (1,1):\n",
    "        log_ids_for_true_positives.append(offset + index)\n",
    "    \n",
    "log_ids_for_false_positives = [index_for_validation_test_split + index for index, value in enumerate(y_actual_and_prediction) if value==(0, 1)]\n",
    "log_ids_for_false_positives = [index_for_validation_test_split + index for index, value in enumerate(y_actual_and_prediction) if value==(0, 1)]\n",
    "print(len(log_ids_for_false_positives))\n",
    "print(len(log_ids_for_false_negatives))\n",
    "print(len(log_ids_for_true_positives))\n",
    "log_ids_for_false_positives[:10]"
   ]
  },
  {
   "cell_type": "code",
   "execution_count": 224,
   "metadata": {},
   "outputs": [
    {
     "name": "stdout",
     "output_type": "stream",
     "text": [
      "or, for simplicity, print md5.new(string).digest() :)\n",
      "BUT from geas/DBdriver.py:\n",
      "def _make_passkey(self, user, passwd, random):\n",
      "def _hexstr(self, s):\n",
      "but when I update or co, it comes back\n",
      "doesn't jamest have access to the cvs server?\n",
      "either that or I customize interchange\n",
      "(basically Python-based web application services\n",
      "webware and GNUe might be interesting\n",
      "real or imagined\n",
      "any suggestions/comments?\n",
      "doesn't it still have a usenet gateway?\n",
      "and windows isnt a 'monitorless' operating system\n",
      "there is an option to open as access as 97\n",
      "i will get 97 up here pretty quick\n",
      "and be much more 'official' than informal help\n",
      "more official?\n",
      "i.e. accountable\n",
      "any non ie 5.0 or greater browser in fact\n",
      "F*** YOU! No MSN for you.\n",
      "this is really really incredible\n",
      "I always wondered if gnuebot and bigbrother secretly fought in the background\n",
      "either with win2k or kde&linux\n",
      "the major hangup is of course.....drumroll....Office\n",
      "what's it running per seat?\n",
      "I strongly dislike cygwin's setup\n",
      "if exists (select 1 from mdean) print 'hello'\n",
      "BUT we are hitting a wall on something (small wall for now)\n",
      "we are updating 'accounts' 'contacts' to be much more robust and FLEXIBLE\n",
      "bar with products a and b\n",
      "i want foo to only see stuff for x and y and bar with a and b\n",
      "i.e. the customer would never see dcl\n"
     ]
    }
   ],
   "source": [
    "for log_id in log_ids_for_false_positives:\n",
    "    print(get_words_at_line_number(word_indexes, log_id))"
   ]
  },
  {
   "cell_type": "code",
   "execution_count": 226,
   "metadata": {},
   "outputs": [
    {
     "name": "stdout",
     "output_type": "stream",
     "text": [
      "pyro is an object system like what gcomm will be\n",
      "the python email client\n",
      "you should be able to access it via geas\n",
      "and todo tool\n"
     ]
    }
   ],
   "source": [
    "for log_id in log_ids_for_true_positives:\n",
    "    print(get_words_at_line_number(word_indexes, log_id))"
   ]
  },
  {
   "cell_type": "code",
   "execution_count": 227,
   "metadata": {},
   "outputs": [
    {
     "name": "stdout",
     "output_type": "stream",
     "text": [
      "btw, why are ou guys calling this abstraction thingy GComm when Dave has a project called GNU Comm (GComm fr short)?\n",
      "as far as I'm concerned, GComm is our internal package name... to the external world, it's GNUe Common\n",
      "but that is a good point\n",
      "by same guys that wrote pygmy\n",
      "I need a production quality GNUe web shopping cart ;-)\n",
      "anything is possible I know, but ideally we need to get ideas on some sort of php and GEAS interface\n",
      "guess I'll just customize interchange.. hopefully actually have it done in a few days\n",
      "our inventory package isn't completed\n",
      "but if you have an inventory package\n",
      "I know a web interface for GNUe Forms is in the works, but I'm sure you need something relatively quickly\n",
      "madlocke was working on that, but as you probably know, he's been out of commission (sick) lately\n",
      "a new release (feature wise) is probably about 3 or 4 weeks away since the db upgrade is going to be huge\n",
      "I may make an interim bug fix/small feature release to get some of the email support down\n",
      "but we are seeing a GREAT value in DCL as a communication tool to customers\n",
      "as well as a billing tool\n",
      "the todo tool works fine\n",
      "but the communication tool is flawed\n",
      "if the accounts dont have same products\n",
      "it should be fairly easy to implement who can view what\n",
      "by product\n",
      "but then the next step becomes billing (or services)\n",
      "at which point products and services need to be 'separate'\n",
      "but that was because i didnt see dcl as a communications tool\n",
      "your use of services sounds like it could be an action\n",
      "as I said, I am going to be working on this stuff (minus billing) for work, so it will come\n"
     ]
    }
   ],
   "source": [
    "for log_id in log_ids_for_false_negatives:\n",
    "    print(get_words_at_line_number(word_indexes, log_id))"
   ]
  },
  {
   "cell_type": "code",
   "execution_count": null,
   "metadata": {},
   "outputs": [],
   "source": []
  }
 ],
 "metadata": {
  "kernelspec": {
   "display_name": "Python 3",
   "language": "python",
   "name": "python3"
  },
  "language_info": {
   "codemirror_mode": {
    "name": "ipython",
    "version": 3
   },
   "file_extension": ".py",
   "mimetype": "text/x-python",
   "name": "python",
   "nbconvert_exporter": "python",
   "pygments_lexer": "ipython3",
   "version": "3.6.8"
  }
 },
 "nbformat": 4,
 "nbformat_minor": 2
}
